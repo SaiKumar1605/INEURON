{
 "cells": [
  {
   "cell_type": "markdown",
   "metadata": {},
   "source": [
    "<b>Author/User:</b> <b style=\"color:#6666ff\">Sai Kumar Ramagiri</b><br>\n",
    "<b>Date of Submission:</b> <b style=\"color:#e69900\">17/08/2023</b><br>"
   ]
  },
  {
   "cell_type": "markdown",
   "metadata": {},
   "source": [
    "<u><h1 style=\"color:#006699; text-align:center\">PYTHON ADVANCED</h1></u>"
   ]
  },
  {
   "cell_type": "markdown",
   "metadata": {},
   "source": [
    "<u><h2 style=\"color:#24478f; text-align:center\">ASSIGNMENT 18</h2></u>"
   ]
  },
  {
   "cell_type": "markdown",
   "metadata": {},
   "source": [
    "\n",
    "<h4 style=\" color: #ff3300\">Q1. Describe the differences between text and binary files in a single paragraph.</h4>\n",
    "\n",
    "<b style =\"color: #00b386\">Answer:</b> \n",
    "\n",
    "<p>Text files and binary files differ in how they store and represent data.</p>\n",
    "\n",
    "- Text files contain human-readable characters encoded using character encodings like ASCII or UTF-8, and are used for storing textual data such as plain text documents, source code, and configuration files.\n",
    "- Binary files, on the other hand, store data in a format that isn't meant to be directly human-readable, such as images, audio, video, executables, and compressed files. Binary files can contain any sequence of bytes, including non-textual data, and they often require specific applications or programs to interpret their content correctly. "
   ]
  },
  {
   "cell_type": "markdown",
   "metadata": {},
   "source": [
    "\n",
    "<h4 style=\" color: #ff3300\">Q2. What are some scenarios where using text files will be the better option? When would you like to\n",
    "use binary files instead of text files?</h4>\n",
    "\n",
    "<b style =\"color: #00b386\">Answer:</b> \n",
    "\n",
    "<p>Using text files will be better option when we are working following type of data: </p>\n",
    "\n",
    "- Configuration Files\n",
    "- Source code\n",
    "- Logs and Reports\n",
    "- Documenation.\n",
    "\n",
    "<p>Using binary files will be better option when we are working following type of data: </p>\n",
    "\n",
    "- Media and graphics storage\n",
    "- Database storage\n",
    "- Executable files"
   ]
  },
  {
   "cell_type": "markdown",
   "metadata": {},
   "source": [
    "\n",
    "<h4 style=\" color: #ff3300\">Q3. What are some of the issues with using binary operations to read and write a Python integer\n",
    "directly to disc?</h4>\n",
    "\n",
    "<b style =\"color: #00b386\">Answer:</b> \n",
    "\n",
    "<p>The following problems might occur when using binary operations to read and write: </p>\n",
    "\n",
    "- Portability\n",
    "- Compatibilty\n",
    "- Maintainability\n",
    "- Data Corruption"
   ]
  },
  {
   "cell_type": "markdown",
   "metadata": {},
   "source": [
    "\n",
    "<h4 style=\" color: #ff3300\">Q4. Describe a benefit of using the with keyword instead of explicitly opening a file.</h4>\n",
    "\n",
    "<b style =\"color: #00b386\">Answer:</b>\n",
    "\n",
    "<p>Using the with keyword in Python to open and work with files offers the benefit of automatic resource management, specifically for file handling. When you use the with statement, you create a context in which the file is automatically opened and properly closed when you're done with it. This can prevent resource leaks, improve code readability, and reduce the chances of errors.</p>"
   ]
  },
  {
   "cell_type": "markdown",
   "metadata": {},
   "source": [
    "<h4 style=\" color: #ff3300\">Q5. Does Python have the trailing newline while reading a line of text? Does Python append a\n",
    "newline when you write a line of text?</h4>\n",
    "\n",
    "<b style =\"color: #00b386\">Answer:</b> \n",
    "\n",
    "<p>When reading a line of text using Python's built-in file reading methods (readline() or iterating over the file object), the trailing newline character (usually '\\n') is included in the returned string, except for the last line of the file if it doesn't end with a newline. </p>\n",
    "\n",
    "<p>When writing a line of text using Python's file writing methods (write() or writelines()), you have control over whether you want to include a newline character at the end of the line. By default, when you write a string using these methods, Python does not append a newline character automatically. It's up to you to include it if desired.</p>"
   ]
  },
  {
   "cell_type": "markdown",
   "metadata": {},
   "source": [
    "<h4 style=\" color: #ff3300\">Q6. What file operations enable for random-access operation?</h4>\n",
    "\n",
    "<b style =\"color: #00b386\">Answer:</b> \n",
    "<p> primarily, binary file handling operations enable random access due to their nature of dealing with fixed-size data structures. In Python, these operations are facilitated using the seek() and tell() methods in combination with binary file modes (like \"rb\" for reading in binary mode or \"wb\" for writing in binary mode).</p>"
   ]
  },
  {
   "cell_type": "markdown",
   "metadata": {},
   "source": [
    "<h4 style=\" color: #ff3300\">Q7. When do you think you&#39;ll use the struct package the most?</h4>\n",
    "\n",
    "<b style =\"color: #00b386\">Answer:</b> \n",
    "\n",
    "<p>The struct package in Python is most commonly used when dealing with binary data that needs to be packed or unpacked into specific formats. It's particularly useful in scenarios where you're working with data structures that have a fixed layout and need to be exchanged between different systems, languages, or hardware</p>\n"
   ]
  },
  {
   "cell_type": "markdown",
   "metadata": {},
   "source": [
    "<h4 style=\" color: #ff3300\">Q8. When is pickling the best option?</h4>\n",
    "\n",
    "<b style =\"color: #00b386\">Answer:</b> \n",
    "\n",
    "<p> Pickling is an excellent option when you need a quick and easy way to serialize and deserialize Python objects, making it particularly useful for many data manipulation, persistence, and inter-process communication tasks.</p>"
   ]
  },
  {
   "cell_type": "markdown",
   "metadata": {},
   "source": [
    "<h4 style=\" color: #ff3300\">Q9. When will it be best to use the shelve package?</h4>\n",
    "\n",
    "<b style =\"color: #00b386\">Answer:</b> \n",
    "\n",
    "<p>The shelve module is a good choice when you need a simple, persistent storage solution for small to medium-sized datasets, where automatic serialization and deserialization of Python objects are important, and you don't require advanced querying or relational features.</p>"
   ]
  },
  {
   "cell_type": "markdown",
   "metadata": {},
   "source": [
    "<h4 style=\" color: #ff3300\">Q10. What is a special restriction when using the shelve package, as opposed to using other data\n",
    "dictionaries?</h4>\n",
    "\n",
    "<b style =\"color: #00b386\">Answer:</b> \n",
    "\n",
    "<p>One special restriction when using the shelve package, as opposed to using other data dictionaries, is related to the keys used to access the stored data. Specifically, when using shelve, the keys must be strings. This is different from other dictionary-like data structures in Python, like the built-in dict or other key-value stores, where keys can be of various types including strings, numbers, tuples, and more.</p>"
   ]
  }
 ],
 "metadata": {
  "kernelspec": {
   "display_name": "Python 3",
   "language": "python",
   "name": "python3"
  },
  "language_info": {
   "codemirror_mode": {
    "name": "ipython",
    "version": 3
   },
   "file_extension": ".py",
   "mimetype": "text/x-python",
   "name": "python",
   "nbconvert_exporter": "python",
   "pygments_lexer": "ipython3",
   "version": "3.7.6"
  }
 },
 "nbformat": 4,
 "nbformat_minor": 4
}
