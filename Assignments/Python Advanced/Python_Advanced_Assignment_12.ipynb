{
 "cells": [
  {
   "cell_type": "markdown",
   "metadata": {},
   "source": [
    "<b>Author/User:</b> <b style=\"color:#6666ff\">Sai Kumar Ramagiri</b><br>\n",
    "<b>Date of Submission:</b> <b style=\"color:#e69900\">14/08/2023</b><br>"
   ]
  },
  {
   "cell_type": "markdown",
   "metadata": {},
   "source": [
    "<u><h1 style=\"color:#006699; text-align:center\">PYTHON ADVANCED</h1></u>"
   ]
  },
  {
   "cell_type": "markdown",
   "metadata": {},
   "source": [
    "<u><h2 style=\"color:#24478f; text-align:center\">ASSIGNMENT 12</h2></u>"
   ]
  },
  {
   "cell_type": "markdown",
   "metadata": {},
   "source": [
    "\n",
    "<h4 style=\" color: #ff3300\">Q1. Does assigning a value to a string&#39;s indexed character violate Python&#39;s string immutability?</h4>\n",
    "\n",
    "<b style =\"color: #00b386\">Answer:</b> \n",
    "<p>Yes, assigning a value to string's indexex character violate python's string immutabiity and results in error.</p>\n"
   ]
  },
  {
   "cell_type": "markdown",
   "metadata": {},
   "source": [
    "\n",
    "<h4 style=\" color: #ff3300\">Q2. Does using the += operator to concatenate strings violate Python&#39;s string immutability? Why or\n",
    "why not?</h4>\n",
    "\n",
    "<b style =\"color: #00b386\">Answer:</b> \n",
    "\n",
    "<p>Using the <b>+=</b> operator to concatenate string doesnot vioate Python's string immutabiity, Becuase the value will be a new string assigned freshly.</p>"
   ]
  },
  {
   "cell_type": "markdown",
   "metadata": {},
   "source": [
    "\n",
    "<h4 style=\" color: #ff3300\">Q3. In Python, how many different ways are there to index a character?</h4>\n",
    "\n",
    "<b style =\"color: #00b386\">Answer:</b> \n",
    "<p>The different ways to index a characater in string are as follows: </p>\n",
    "\n",
    "- Positive indexing\n",
    "- Negative indexing\n",
    "- Slicing\n",
    "- Skipping"
   ]
  },
  {
   "cell_type": "markdown",
   "metadata": {},
   "source": [
    "\n",
    "<h4 style=\" color: #ff3300\">Q4. What is the relationship between indexing and slicing?</h4>\n",
    "\n",
    "<b style =\"color: #00b386\">Answer:</b> \n",
    "<p>Indexing retrived singe item from a sequence, where as slicing returns a new sequence containing specified range of items.</p>\n"
   ]
  },
  {
   "cell_type": "markdown",
   "metadata": {},
   "source": [
    "\n",
    "<h4 style=\" color: #ff3300\">Q5. What is an indexed character&#39;s exact data type? What is the data form of a slicing-generated\n",
    "substring?</h4>\n",
    "\n",
    "<b style =\"color: #00b386\">Answer:</b> \n",
    "<p>Indexed character exact datatype is single character string, where as slicing generated substring is sub portion of string which might be single or more number of characters depending upon range of slice.</p>\n"
   ]
  },
  {
   "cell_type": "markdown",
   "metadata": {},
   "source": [
    "\n",
    "<h4 style=\" color: #ff3300\">Q6. What is the relationship between string and character &quot;types&quot; in Python?</h4>\n",
    "\n",
    "<b style =\"color: #00b386\">Answer:</b> \n",
    "<p>In python <b>Strings</b> are sequences of characters and are used to represent text, words, sentences, and more.\n",
    "    <b>Characters</b> are not represented by a separate data type; instead, they are represented as single-character strings.</p>\n"
   ]
  },
  {
   "cell_type": "markdown",
   "metadata": {},
   "source": [
    "\n",
    "<h4 style=\" color: #ff3300\">Q7. Identify at least two operators and one method that allow you to combine one or more smaller\n",
    "strings to create a larger string.</h4>\n",
    "\n",
    "<b style =\"color: #00b386\">Answer:</b> \n",
    "<p><b>\"+\"</b> and <b>\"*\"</b> are two identifiers which are used to concatinate strings and duplicate strings.</p>\n",
    "<p><b>join()</b> methos concatinates several strings into single string given the character to fill between different strings.</p>"
   ]
  },
  {
   "cell_type": "markdown",
   "metadata": {},
   "source": [
    "\n",
    "<h4 style=\" color: #ff3300\">Q8. What is the benefit of first checking the target string with in or not in before using the index\n",
    "method to find a substring?</h4>\n",
    "\n",
    "<b style =\"color: #00b386\">Answer:</b> \n",
    "<p>The benefit of checking the target string using with <b>in</b> or <b>not in</b> is that, a programmer can know where target substring is present in target string or not.</p>\n"
   ]
  },
  {
   "cell_type": "markdown",
   "metadata": {},
   "source": [
    "\n",
    "<h4 style=\" color: #ff3300\">Q9. Which operators and built-in string methods produce simple Boolean (true/false) results?</h4>\n",
    "\n",
    "<b style =\"color: #00b386\">Answer:</b> \n",
    "<p><b>(==)</b> and <b>(!=)</b> are the operators which produce simple boolean results</p>\n",
    "<p><b>str.isdigit(),str.islower() and str.isupper()</b> are few of the built-in string methods which produce simpe Boolean results. </p>"
   ]
  }
 ],
 "metadata": {
  "kernelspec": {
   "display_name": "Python 3",
   "language": "python",
   "name": "python3"
  },
  "language_info": {
   "codemirror_mode": {
    "name": "ipython",
    "version": 3
   },
   "file_extension": ".py",
   "mimetype": "text/x-python",
   "name": "python",
   "nbconvert_exporter": "python",
   "pygments_lexer": "ipython3",
   "version": "3.7.6"
  }
 },
 "nbformat": 4,
 "nbformat_minor": 4
}
