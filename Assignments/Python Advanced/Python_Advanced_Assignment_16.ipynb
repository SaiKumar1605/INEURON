{
 "cells": [
  {
   "cell_type": "markdown",
   "metadata": {},
   "source": [
    "<b>Author/User:</b> <b style=\"color:#6666ff\">Sai Kumar Ramagiri</b><br>\n",
    "<b>Date of Submission:</b> <b style=\"color:#e69900\">15/08/2023</b><br>"
   ]
  },
  {
   "cell_type": "markdown",
   "metadata": {},
   "source": [
    "<u><h1 style=\"color:#006699; text-align:center\">PYTHON ADVANCED</h1></u>"
   ]
  },
  {
   "cell_type": "markdown",
   "metadata": {},
   "source": [
    "<u><h2 style=\"color:#24478f; text-align:center\">ASSIGNMENT 16</h2></u>"
   ]
  },
  {
   "cell_type": "markdown",
   "metadata": {},
   "source": [
    "\n",
    "<h4 style=\" color: #ff3300\">Q1. What is the benefit of regular expressions?</h4>\n",
    "\n",
    "<b style =\"color: #00b386\">Answer:</b> \n",
    "\n",
    "<p>Regular expressions in Python offer concise, powerful syntax for complex pattern matching and string manipulation tasks, enhancing code efficiency, readability, and compactness. They excel in searching, extracting, and transforming text, making tasks like validation, data extraction, and parsing more efficient and expressive.</p>"
   ]
  },
  {
   "cell_type": "markdown",
   "metadata": {},
   "source": [
    "\n",
    "<h4 style=\" color: #ff3300\">Q2. Describe the difference between the effects of &quot;(ab)c+&quot; and &quot;a(bc)+.&quot; Which of these, if any, is the unqualified pattern &quot;abc+&quot;?</h4>\n",
    "\n",
    "<b style =\"color: #00b386\">Answer:</b> \n",
    "- \"(ab)c+\" matches \"ab\" followed by one or more \"c\"s.\n",
    "- \"a(bc)+\" matches \"a\" followed by one or more occurrences of \"bc\".\n",
    "- \"abc+\" matches \"ab\" followed by one or more \"c\"s."
   ]
  },
  {
   "cell_type": "markdown",
   "metadata": {},
   "source": [
    "\n",
    "<h4 style=\" color: #ff3300\">Q3. How much do you need to use the following sentence while using regular expressions?\n",
    "\n",
    "- import re</h4>\n",
    "\n",
    "<b style =\"color: #00b386\">Answer:</b> \n",
    "\n",
    "<p>A programmer would need to use the sentence \"import re\" whenever a programmer want to use the capabilities of the re module to work with regular expressions in Python.</p>"
   ]
  },
  {
   "cell_type": "markdown",
   "metadata": {},
   "source": [
    "\n",
    "<h4 style=\" color: #ff3300\">Q4. Which characters have special significance in square brackets when expressing a range, and\n",
    "under what circumstances?</h4>\n",
    "\n",
    "<b style =\"color: #00b386\">Answer:</b>\n",
    "\n",
    "<p>Dash(-),Caret(^) and Backslash(\\) have special significance in square brackers.</p>"
   ]
  },
  {
   "cell_type": "markdown",
   "metadata": {},
   "source": [
    "<h4 style=\" color: #ff3300\">Q5. How does compiling a regular-expression object benefit you?</h4>\n",
    "\n",
    "<b style =\"color: #00b386\">Answer:</b> \n",
    "\n",
    "<p>Compiling a regular expression object in Python improves performance, encourages code reusability, enhances code readability, and helps with error handling and consistent flag management.</p>"
   ]
  },
  {
   "cell_type": "markdown",
   "metadata": {},
   "source": [
    "<h4 style=\" color: #ff3300\">Q6. What are some examples of how to use the match object returned by re.match and re.search?</h4>\n",
    "\n",
    "<b style =\"color: #00b386\">Answer:</b> \n"
   ]
  },
  {
   "cell_type": "code",
   "execution_count": 1,
   "metadata": {},
   "outputs": [
    {
     "name": "stdout",
     "output_type": "stream",
     "text": [
      "First name: John\n",
      "Last name: Doe\n"
     ]
    }
   ],
   "source": [
    "import re\n",
    "\n",
    "text = \"John Doe\"\n",
    "pattern = r'(\\w+)\\s(\\w+)'\n",
    "match = re.match(pattern, text)\n",
    "\n",
    "if match:\n",
    "    first_name = match.group(1)\n",
    "    last_name = match.group(2)\n",
    "    print(\"First name:\", first_name)  # Output: First name: John\n",
    "    print(\"Last name:\", last_name)    # Output: Last name: Doe\n"
   ]
  },
  {
   "cell_type": "code",
   "execution_count": 2,
   "metadata": {},
   "outputs": [
    {
     "name": "stdout",
     "output_type": "stream",
     "text": [
      "Matched: Hello\n"
     ]
    }
   ],
   "source": [
    "import re\n",
    "\n",
    "text = \"Hello, World!\"\n",
    "pattern = r'Hello'\n",
    "match = re.search(pattern, text)\n",
    "\n",
    "if match:\n",
    "    matched_text = match.group()\n",
    "    print(\"Matched:\", matched_text)  # Output: Matched: Hello\n"
   ]
  },
  {
   "cell_type": "markdown",
   "metadata": {},
   "source": [
    "<h4 style=\" color: #ff3300\">Q7. What is the difference between using a vertical bar (|) as an alteration and using square brackets as a character set?</h4>\n",
    "\n",
    "<b style =\"color: #00b386\">Answer:</b> \n",
    "\n",
    "- The vertical bar | is used for alternation, allowing you to specify multiple alternative patterns.\n",
    "- Square brackets [ ] are used for defining character sets, allowing you to specify a range of acceptable characters at a specific position."
   ]
  },
  {
   "cell_type": "markdown",
   "metadata": {},
   "source": [
    "<h4 style=\" color: #ff3300\">Q8. In regular-expression search patterns, why is it necessary to use the raw-string indicator (r) In replacement strings?</h4>\n",
    "\n",
    "<b style =\"color: #00b386\">Answer:</b> \n",
    "\n",
    "<p>The r prefix indicates a raw string literal in Python, which treats backslashes \\ as literal characters and prevents them from being interpreted as escape characters.</p>"
   ]
  }
 ],
 "metadata": {
  "kernelspec": {
   "display_name": "Python 3",
   "language": "python",
   "name": "python3"
  },
  "language_info": {
   "codemirror_mode": {
    "name": "ipython",
    "version": 3
   },
   "file_extension": ".py",
   "mimetype": "text/x-python",
   "name": "python",
   "nbconvert_exporter": "python",
   "pygments_lexer": "ipython3",
   "version": "3.7.6"
  }
 },
 "nbformat": 4,
 "nbformat_minor": 4
}
