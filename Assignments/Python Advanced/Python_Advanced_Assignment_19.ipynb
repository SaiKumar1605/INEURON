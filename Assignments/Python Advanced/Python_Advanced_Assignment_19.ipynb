{
 "cells": [
  {
   "cell_type": "markdown",
   "metadata": {},
   "source": [
    "<b>Author/User:</b> <b style=\"color:#6666ff\">Sai Kumar Ramagiri</b><br>\n",
    "<b>Date of Submission:</b> <b style=\"color:#e69900\">17/08/2023</b><br>"
   ]
  },
  {
   "cell_type": "markdown",
   "metadata": {},
   "source": [
    "<u><h1 style=\"color:#006699; text-align:center\">PYTHON ADVANCED</h1></u>"
   ]
  },
  {
   "cell_type": "markdown",
   "metadata": {},
   "source": [
    "<u><h2 style=\"color:#24478f; text-align:center\">ASSIGNMENT 19</h2></u>"
   ]
  },
  {
   "cell_type": "markdown",
   "metadata": {},
   "source": [
    "\n",
    "<h4 style=\" color: #ff3300\">Q1. Define the relationship between a class and its instances. Is it a one-to-one or a one-to-many\n",
    "partnership, for example?</h4>\n",
    "\n",
    "<b style =\"color: #00b386\">Answer:</b> \n",
    "\n",
    "<p>The relationship between a class and its instances in object-oriented programming can be described as a \"one-to-many\" relationship. In other words, a single class can be used to create multiple instances, each representing a distinct object with its own set of attributes and behaviors. This relationship is sometimes also referred to as a \"class-instance\" relationship.</p>\n",
    "\n",
    "<p><b>Example:</b> For example, consider a class named \"Car\" that has attributes like \"make,\" \"model,\" and \"color,\" as well as methods like \"start_engine\" and \"drive.\" You can create multiple instances of the \"Car\" class, each representing a different car with its own make, model, and color. The class \"Car\" is the blueprint, and each car instance is a separate object created based on that blueprint. </p>"
   ]
  },
  {
   "cell_type": "markdown",
   "metadata": {},
   "source": [
    "\n",
    "<h4 style=\" color: #ff3300\">Q2. What kind of data is held only in an instance?</h4>\n",
    "\n",
    "<b style =\"color: #00b386\">Answer:</b> \n",
    "\n",
    "<p>Data held only in an instance of a class is referred to as instance-specific or instance-level data. This data is unique to each individual instance of the class and is not shared among different instances. It is defined and stored in instance variables, which are attributes that belong to an instance rather than to the class itself. Instance-specific data includes information that varies from instance to instance, even if they are of the same class.</p>\n"
   ]
  },
  {
   "cell_type": "markdown",
   "metadata": {},
   "source": [
    "\n",
    "<h4 style=\" color: #ff3300\">Q3. What kind of knowledge is stored in a class?</h4>\n",
    "\n",
    "<b style =\"color: #00b386\">Answer:</b> \n",
    "\n",
    "<p>In object-oriented programming, a class serves as a blueprint or template for creating objects. It encapsulates two main types of knowledge: attributes and methods.</p>"
   ]
  },
  {
   "cell_type": "markdown",
   "metadata": {},
   "source": [
    "\n",
    "<h4 style=\" color: #ff3300\">Q4. What exactly is a method, and how is it different from a regular function?</h4>\n",
    "\n",
    "<b style =\"color: #00b386\">Answer:</b>\n",
    "\n",
    "<p>Methods are functions that are defined within classes and are associated with instances of those classes. They encapsulate behaviors and actions related to the class, taking advantage of the principles of object-oriented programming.</p>"
   ]
  },
  {
   "cell_type": "markdown",
   "metadata": {},
   "source": [
    "<h4 style=\" color: #ff3300\">Q5. Is inheritance supported in Python, and if so, what is the syntax?</h4>\n",
    "\n",
    "<b style =\"color: #00b386\">Answer:</b> \n",
    "\n",
    "<pYes, inheritance is supported in python:</p>\n",
    "\n",
    "<b>Example:</b>\n",
    "\n",
    "class Superclass:\n",
    "    # Superclass attributes and methods\n",
    "\n",
    "class Subclass(Superclass):\n",
    "    # Subclass attributes and methods\n"
   ]
  },
  {
   "cell_type": "markdown",
   "metadata": {},
   "source": [
    "<h4 style=\" color: #ff3300\">Q6. How much encapsulation (making instance or class variables private) does Python support?</h4>\n",
    "\n",
    "<b style =\"color: #00b386\">Answer:</b> \n",
    "<p>Python supports a level of encapsulation through naming conventions and access modifiers, but it does not enforce strict access control like some other programming languages. In Python, encapsulation is achieved using naming conventions and some access control mechanisms.</p>"
   ]
  },
  {
   "cell_type": "markdown",
   "metadata": {},
   "source": [
    "<h4 style=\" color: #ff3300\">Q7. How do you distinguish between a class variable and an instance variable?</h4>\n",
    "\n",
    "<b style =\"color: #00b386\">Answer:</b> \n",
    "\n",
    "<p> Class variables are shared among all instances of a class, while instance variables are specific to each instance. Class variables are defined outside instance methods and accessed through the class or instances, whereas instance variables are defined within instance methods using the self keyword and are accessible only through instances.</p>\n"
   ]
  },
  {
   "cell_type": "markdown",
   "metadata": {},
   "source": [
    "<h4 style=\" color: #ff3300\">Q8. When, if ever, can self be included in a class&#39;s method definitions?</h4>\n",
    "\n",
    "<b style =\"color: #00b386\">Answer:</b> \n",
    "\n",
    "<p>A programmer should include the self parameter in a class's instance methods whenever you want to access or modify instance-specific attributes or methods. </p>"
   ]
  },
  {
   "cell_type": "markdown",
   "metadata": {},
   "source": [
    "<h4 style=\" color: #ff3300\">Q9. What is the difference between the _ _add_ _ and the _ _radd_ _ methods?</h4>\n",
    "\n",
    "<b style =\"color: #00b386\">Answer:</b> \n",
    "\n",
    "<p>The __add__ method defines addition when your object is the left operand, while the __radd__ method defines addition when your object is the right operand.</p>"
   ]
  },
  {
   "cell_type": "markdown",
   "metadata": {},
   "source": [
    "<h4 style=\" color: #ff3300\">Q10. When is it necessary to use a reflection method? When do you not need it, even though you\n",
    "support the operation in question?</h4>\n",
    "\n",
    "<b style =\"color: #00b386\">Answer:</b> \n",
    "\n",
    "<p> Reflection methods are necessary when you want to customize or override the default behavior of specific operations for objects of your class. However, if the default behavior provided by Python suits your needs, you might not need to define these methods explicitly.</p>"
   ]
  },
  {
   "cell_type": "markdown",
   "metadata": {},
   "source": [
    "<h4 style=\" color: #ff3300\">Q11. What is the _ _iadd_ _ method called?</h4>\n",
    "\n",
    "<b style =\"color: #00b386\">Answer:</b> \n",
    "\n",
    "<p>The __iadd__ method is called when the in-place addition operation (+=) is applied to an object. It allows you to define how instances of your class behave when they are used with the += operator. The purpose of this method is to modify the object in place rather than creating a new object.</p>"
   ]
  },
  {
   "cell_type": "markdown",
   "metadata": {},
   "source": [
    "<h4 style=\" color: #ff3300\">Q12. Is the _ _init_ _ method inherited by subclasses? What do you do if you need to customize its\n",
    "behavior within a subclass?</h4>\n",
    "\n",
    "<b style =\"color: #00b386\">Answer:</b> \n",
    "\n",
    "<p>Yes, the __init__ method is inherited by subclasses in Python. When a subclass is created, it inherits all the methods, including the __init__ method, from its parent class. However, if the subclass defines its own __init__ method, it will override the inherited method.</p>"
   ]
  }
 ],
 "metadata": {
  "kernelspec": {
   "display_name": "Python 3",
   "language": "python",
   "name": "python3"
  },
  "language_info": {
   "codemirror_mode": {
    "name": "ipython",
    "version": 3
   },
   "file_extension": ".py",
   "mimetype": "text/x-python",
   "name": "python",
   "nbconvert_exporter": "python",
   "pygments_lexer": "ipython3",
   "version": "3.7.6"
  }
 },
 "nbformat": 4,
 "nbformat_minor": 4
}
