{
 "cells": [
  {
   "cell_type": "markdown",
   "metadata": {},
   "source": [
    "<b>Author/User:</b> <b style=\"color:#6666ff\">Sai Kumar Ramagiri</b><br>\n",
    "<b>Date of Submission:</b> <b style=\"color:#e69900\">18/08/2023</b><br>"
   ]
  },
  {
   "cell_type": "markdown",
   "metadata": {},
   "source": [
    "<u><h1 style=\"color:#006699; text-align:center\">PYTHON ADVANCED</h1></u>"
   ]
  },
  {
   "cell_type": "markdown",
   "metadata": {},
   "source": [
    "<u><h2 style=\"color:#24478f; text-align:center\">ASSIGNMENT 22</h2></u>"
   ]
  },
  {
   "cell_type": "markdown",
   "metadata": {},
   "source": [
    "\n",
    "<h4 style=\" color: #ff3300\">Q1. What are the benefits of the built-in array package, if any?</h4>\n",
    "\n",
    "<b style =\"color: #00b386\">Answer:</b> \n",
    "\n",
    "<p>The benefits of built-in array package are: </p>\n",
    "\n",
    "- Memory Efficiency\n",
    "- Performance\n",
    "- Type Restrictions\n",
    "- Integration with C libraries\n",
    "- Size and type information"
   ]
  },
  {
   "cell_type": "markdown",
   "metadata": {},
   "source": [
    "\n",
    "<h4 style=\" color: #ff3300\">Q2. What are some of the array package&#39;s limitations?</h4>\n",
    "\n",
    "<b style =\"color: #00b386\">Answer:</b> \n",
    "\n",
    "<p>Limitation of arrays: </p>\n",
    "\n",
    "- Arrays are less versatile than lists because they are restricted to a single data type.\n",
    "- Lists have a richer set of built-in methods and features compared to arrays.\n",
    "- If you need to work with complex data structures or dynamic data types, lists might be more suitable."
   ]
  },
  {
   "cell_type": "markdown",
   "metadata": {},
   "source": [
    "\n",
    "<h4 style=\" color: #ff3300\">Q3. Describe the main differences between the array and numpy packages.</h4>\n",
    "\n",
    "<b style =\"color: #00b386\">Answer:</b> \n",
    "\n",
    "<p>both the array module and numpy are used for working with arrays, numpy offers a more powerful and comprehensive array manipulation framework with better performance and a wider range of functionalities. If you're working extensively with numerical data and require advanced mathematical operations, numpy is the more suitable choice.</p>"
   ]
  },
  {
   "cell_type": "markdown",
   "metadata": {},
   "source": [
    "\n",
    "<h4 style=\" color: #ff3300\">Q4. Explain the distinctions between the empty, ones, and zeros functions.</h4>\n",
    "\n",
    "<b style =\"color: #00b386\">Answer:</b>\n",
    "\n",
    "- numpy.empty creates an uninitialized array, often used when you need a placeholder array and plan to populate it with values later.\n",
    "- numpy.ones creates an array filled with ones, useful for initializing arrays with a specific initial value.\n",
    "- numpy.zeros creates an array filled with zeros, commonly used to initialize arrays with zero values."
   ]
  },
  {
   "cell_type": "markdown",
   "metadata": {},
   "source": [
    "<h4 style=\" color: #ff3300\">Q5. In the fromfunction function, which is used to construct new arrays, what is the role of the callable argument?</h4>\n",
    "\n",
    "<b style =\"color: #00b386\">Answer:</b> \n",
    "\n",
    "<p>In the numpy.fromfunction function, which is used to construct new arrays, the callable argument is a function or a callable object that defines the values of the array elements based on their indices. The fromfunction function generates an array by applying the provided callable to each combination of indices in the specified shape.</p>\n"
   ]
  },
  {
   "cell_type": "markdown",
   "metadata": {},
   "source": [
    "<h4 style=\" color: #ff3300\">Q6. What happens when a numpy array is combined with a single-value operand (a scalar, such as\n",
    "an int or a floating-point value) through addition, as in the expression A + n?</h4>\n",
    "\n",
    "<b style =\"color: #00b386\">Answer:</b> \n",
    "\n",
    "<p>When a NumPy array is combined with a single-value operand (a scalar) through addition (using the + operator), the scalar value is broadcast to each element of the array, and element-wise addition is performed. This operation is a form of broadcasting, a powerful feature of NumPy that allows for element-wise operations between arrays of different shapes.</p>\n"
   ]
  },
  {
   "cell_type": "markdown",
   "metadata": {},
   "source": [
    "<h4 style=\" color: #ff3300\">Q7. Can array-to-scalar operations use combined operation-assign operators (such as += or *=)?\n",
    "What is the outcome?</h4>\n",
    "\n",
    "<b style =\"color: #00b386\">Answer:</b> \n",
    "\n",
    "<p>\n",
    "Yes, array-to-scalar operations can use combined operation-assign operators such as += or *=. These operators modify the elements of the array in place by performing the specified operation with the scalar value and then assigning the result back to the array.</p>\n"
   ]
  },
  {
   "cell_type": "markdown",
   "metadata": {},
   "source": [
    "<h4 style=\" color: #ff3300\">Q8. Does a numpy array contain fixed-length strings? What happens if you allocate a longer string to\n",
    "one of these arrays?</h4>\n",
    "\n",
    "<b style =\"color: #00b386\">Answer:</b> \n",
    "<p>Yes, a NumPy array can contain fixed-length strings. In NumPy, arrays of strings are created using the numpy.array function with a specified dtype that represents the string type and its length.</p>\n",
    "<p>If you allocate a longer string to an element of the array than its specified length, NumPy will truncate the string to fit the specified length without raising an error. No error will be thrown, but the string will be truncated.</p>\n"
   ]
  },
  {
   "cell_type": "markdown",
   "metadata": {},
   "source": [
    "<h4 style=\" color: #ff3300\">Q9. What happens when you combine two numpy arrays using an operation like addition (+) or\n",
    "multiplication (*)? What are the conditions for combining two numpy arrays?</h4>\n",
    "\n",
    "<b style =\"color: #00b386\">Answer:</b> \n",
    "\n",
    "<p>When you combine two NumPy arrays using binary operations like addition (+) or multiplication (*), the arrays are combined element-wise based on the operation. This means that the corresponding elements of the arrays are operated upon, resulting in a new array with the same shape as the input arrays</p>"
   ]
  },
  {
   "cell_type": "markdown",
   "metadata": {},
   "source": [
    "<h4 style=\" color: #ff3300\">Q10. What is the best way to use a Boolean array to mask another array?</h4>\n",
    "\n",
    "<b style =\"color: #00b386\">Answer:</b> \n",
    "\n",
    "<p>Using a Boolean array to mask another array is a powerful technique in NumPy that allows you to selectively access and modify elements of an array based on the values of a Boolean mask. The mask array consists of Boolean values (True or False), and the operations are performed element-wise, keeping or modifying elements based on the mask.</p>"
   ]
  },
  {
   "cell_type": "code",
   "execution_count": 1,
   "metadata": {},
   "outputs": [
    {
     "name": "stdout",
     "output_type": "stream",
     "text": [
      "Selected Elements: [10 30 50]\n",
      "Modified Array: [110  20 130  40 150]\n"
     ]
    }
   ],
   "source": [
    "import numpy as np\n",
    "\n",
    "# Create an array\n",
    "arr = np.array([10, 20, 30, 40, 50])\n",
    "\n",
    "# Create a Boolean mask\n",
    "mask = np.array([True, False, True, False, True])\n",
    "\n",
    "# Use the mask to access elements\n",
    "selected_elements = arr[mask]\n",
    "print(\"Selected Elements:\", selected_elements)  # Output: [10 30 50]\n",
    "\n",
    "# Use the mask to modify elements\n",
    "arr[mask] += 100\n",
    "print(\"Modified Array:\", arr)  # Output: [110  20 130  40 150]"
   ]
  },
  {
   "cell_type": "markdown",
   "metadata": {},
   "source": [
    "<h4 style=\" color: #ff3300\">Q11. What are three different ways to get the standard deviation of a wide collection of data using\n",
    "both standard Python and its packages? Sort the three of them by how quickly they execute.</h4>\n",
    "\n",
    "<b style =\"color: #00b386\">Answer:</b> "
   ]
  },
  {
   "cell_type": "code",
   "execution_count": 3,
   "metadata": {},
   "outputs": [],
   "source": [
    "#USING NUMPY\n",
    "import numpy as np\n",
    "\n",
    "data = [1000, 2000, 3000]  # Large collection of data\n",
    "std_dev = np.std(data)\n",
    "\n",
    "################################################\n",
    "\n",
    "#USING statistics Module\n",
    "import statistics\n",
    "\n",
    "data = [1000, 2000, 3000]  # Large collection of data\n",
    "std_dev = statistics.stdev(data)\n",
    "\n",
    "##################################################\n",
    "\n",
    "#USING  FOR LOOPS\n",
    "data = [1000, 2000, 3000]  # Large collection of data\n",
    "\n",
    "mean = sum(data) / len(data)\n",
    "squared_diff_sum = sum((x - mean) ** 2 for x in data)\n",
    "std_dev = (squared_diff_sum / len(data)) ** 0.5\n"
   ]
  },
  {
   "cell_type": "markdown",
   "metadata": {},
   "source": [
    "<h4 style=\" color: #ff3300\">12. What is the dimensionality of a Boolean mask-generated array?</h4>\n",
    "\n",
    "<b style =\"color: #00b386\">Answer:</b> \n",
    "\n",
    "<p>The dimensionality of the Boolean mask-generated array is influenced by both the original array's dimensionality and the shape of the mask. The result can vary from the same dimensionality as the original array to a \"squeezed\" or a completely different dimensionality depending on these factors.</p>"
   ]
  }
 ],
 "metadata": {
  "kernelspec": {
   "display_name": "Python 3",
   "language": "python",
   "name": "python3"
  },
  "language_info": {
   "codemirror_mode": {
    "name": "ipython",
    "version": 3
   },
   "file_extension": ".py",
   "mimetype": "text/x-python",
   "name": "python",
   "nbconvert_exporter": "python",
   "pygments_lexer": "ipython3",
   "version": "3.7.6"
  }
 },
 "nbformat": 4,
 "nbformat_minor": 4
}
