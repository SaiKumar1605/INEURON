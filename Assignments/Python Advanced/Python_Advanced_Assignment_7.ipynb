{
 "cells": [
  {
   "cell_type": "markdown",
   "metadata": {},
   "source": [
    "<b>Author/User:</b> <b style=\"color:#6666ff\">Sai Kumar Ramagiri</b><br>\n",
    "<b>Date of Submission:</b> <b style=\"color:#e69900\">13/08/2023</b><br>"
   ]
  },
  {
   "cell_type": "markdown",
   "metadata": {},
   "source": [
    "<u><h1 style=\"color:#006699; text-align:center\">PYTHON ADVANCED</h1></u>"
   ]
  },
  {
   "cell_type": "markdown",
   "metadata": {},
   "source": [
    "<u><h2 style=\"color:#24478f; text-align:center\">ASSIGNMENT 7</h2></u>"
   ]
  },
  {
   "cell_type": "markdown",
   "metadata": {},
   "source": [
    "\n",
    "<h4 style=\" color: #ff3300\">Q1. What is the purpose of the try statement?</h4>\n",
    "\n",
    "<b style =\"color: #00b386\">Answer:</b> \n",
    "<p>The <b>try</b> statement is used to implement error handling and exception handling mechanisms. </p>\n",
    "<p><b>try</b> is the keyword that starts the block of code where you anticipate an exception might occur. You place the code that might raise an exception within this block.</p>"
   ]
  },
  {
   "cell_type": "markdown",
   "metadata": {},
   "source": [
    "\n",
    "<h4 style=\" color: #ff3300\">Q2. What are the two most popular try statement variations?</h4>\n",
    "\n",
    "<b style =\"color: #00b386\">Answer:</b> \n",
    "<p><b>try - except</b> and <b>try - except - else</b> blocks are most popular try statement variations.</p>\n"
   ]
  },
  {
   "cell_type": "markdown",
   "metadata": {},
   "source": [
    "\n",
    "<h4 style=\" color: #ff3300\">Q3. What is the purpose of the raise statement?</h4>\n",
    "\n",
    "<b style =\"color: #00b386\">Answer:</b> \n",
    "<p>In Python, the raise statement is used to explicitly raise an exception. A programmer can use the raise statement to trigger a specific exception at a particular point in your code.</p>\n"
   ]
  },
  {
   "cell_type": "markdown",
   "metadata": {},
   "source": [
    "\n",
    "<h4 style=\" color: #ff3300\">Q4. What does the assert statement do, and what other statement is it like?</h4>\n",
    "\n",
    "<b style =\"color: #00b386\">Answer:</b> \n",
    "<p>In Python, the assert statement is used as a debugging aid to check whether a given expression is True. It's commonly used to verify assumptions and catch logical errors during development and testing.</p>\n",
    "\n",
    "<p>A similar statement to the assert statement in Python is the if statement combined with manual error handling. While the assert statement is primarily used for debugging and catching logical errors during development, the if statement with manual error handling provides more control and flexibility for handling various conditions and exceptions in your code.</p>"
   ]
  },
  {
   "cell_type": "markdown",
   "metadata": {},
   "source": [
    "\n",
    "<h4 style=\" color: #ff3300\">Q5. What is the purpose of the with/as argument, and what other statement is it like?</h4>\n",
    "\n",
    "<b style =\"color: #00b386\">Answer:</b> \n",
    "<p> The <b>with</b> statement in Python is used in conjunction with context managers to ensure proper setup and cleanup actions are performed when working with resources that need to be managed, such as files, network connections, or databases. The <b>as</b> keyword is used within the with statement to capture the result of the context manager, allowing you to interact with the managed resource in a controlled and structured manner.</p>\n"
   ]
  }
 ],
 "metadata": {
  "kernelspec": {
   "display_name": "Python 3",
   "language": "python",
   "name": "python3"
  },
  "language_info": {
   "codemirror_mode": {
    "name": "ipython",
    "version": 3
   },
   "file_extension": ".py",
   "mimetype": "text/x-python",
   "name": "python",
   "nbconvert_exporter": "python",
   "pygments_lexer": "ipython3",
   "version": "3.7.6"
  }
 },
 "nbformat": 4,
 "nbformat_minor": 4
}
