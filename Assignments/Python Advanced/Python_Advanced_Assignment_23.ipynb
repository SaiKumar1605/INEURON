{
 "cells": [
  {
   "cell_type": "markdown",
   "metadata": {},
   "source": [
    "<b>Author/User:</b> <b style=\"color:#6666ff\">Sai Kumar Ramagiri</b><br>\n",
    "<b>Date of Submission:</b> <b style=\"color:#e69900\">18/08/2023</b><br>"
   ]
  },
  {
   "cell_type": "markdown",
   "metadata": {},
   "source": [
    "<u><h1 style=\"color:#006699; text-align:center\">PYTHON ADVANCED</h1></u>"
   ]
  },
  {
   "cell_type": "markdown",
   "metadata": {},
   "source": [
    "<u><h2 style=\"color:#24478f; text-align:center\">ASSIGNMENT 23</h2></u>"
   ]
  },
  {
   "cell_type": "markdown",
   "metadata": {},
   "source": [
    "<h4 style=\" color: #ff3300\">Q1. If you have any, what are your choices for increasing the comparison between different figures on the same graph?</h4>\n",
    "\n",
    "<b style =\"color: #00b386\">Answer:</b> \n",
    "\n",
    "<p>providing different colors and labels to each diagram, so that it can differentiated.</p>"
   ]
  },
  {
   "cell_type": "markdown",
   "metadata": {},
   "source": [
    "\n",
    "<h4 style=\" color: #ff3300\">Q2. Can you explain the benefit of compound interest over a higher rate of interest that does not\n",
    "compound after reading this chapter?</h4>\n",
    "\n",
    "<b style =\"color: #00b386\">Answer:</b> \n",
    "<p>Assuming an initial investment (principal) of $1,000, let's compare how these options would perform over a period of 5  years</p>\n",
    "\n",
    "- Total After Compound interest at 10% anual interest(5 years) = <b>1610.51</b>\n",
    "- Total Simple interest at 12% annual interest (5 years) = <b>1600</b>\n",
    "\n",
    "The key benefit of compound interest is that it allows your money to grow exponentially over time, enabling you to earn interest not only on your initial investment but also on the interest that accumulates. This can lead to substantial growth and is a fundamental principle in personal finance and investing."
   ]
  },
  {
   "cell_type": "markdown",
   "metadata": {},
   "source": [
    "\n",
    "<h4 style=\" color: #ff3300\">Q3. What is a histogram, exactly? Name a numpy method for creating such a graph.</h4>\n",
    "\n",
    "<b style =\"color: #00b386\">Answer:</b> \n",
    "\n",
    "<p>A histogram is a graphical representation of the distribution of a dataset. It displays the frequency of data points falling into different intervals or \"bins.\" Histograms are commonly used to visualize the underlying frequency distribution of continuous or discrete data.</p>\n",
    "\n",
    "<p><b>numpy.histogram()</b> is a numpy method used for creating histogram graph.</p>"
   ]
  },
  {
   "cell_type": "markdown",
   "metadata": {},
   "source": [
    "\n",
    "<h4 style=\" color: #ff3300\">Q4. If necessary, how do you change the aspect ratios between the X and Y axes?</h4>\n",
    "\n",
    "<b style =\"color: #00b386\">Answer:</b>\n",
    "\n",
    "<p>In many visualization libraries, you can adjust the aspect ratio using the appropriate parameters or functions.</p>\n",
    "<p>In matplotlib library in python, aspect ratios can be set manually using the method <b>\"plt.axis()\"</b></p>"
   ]
  },
  {
   "cell_type": "markdown",
   "metadata": {},
   "source": [
    "<h4 style=\" color: #ff3300\">Q5. Compare and contrast the three types of array multiplication between two numpy arrays: dot\n",
    "product, outer product, and regular multiplication of two numpy arrays.</h4>\n",
    "\n",
    "<b style =\"color: #00b386\">Answer:</b> \n",
    "\n",
    "- <b>Regular Multiplication (Element-wise):</b> Simple element-wise multiplication between arrays.\n",
    "- <b>Dot Product (Matrix multiplication):</b> Used for capturing relationships between arrays, particularly in linear algebra and projections.\n",
    "- <b>Outer Product:</b> Computes the cross product between arrays, yielding a new array of pairwise products.\n"
   ]
  },
  {
   "cell_type": "code",
   "execution_count": 3,
   "metadata": {},
   "outputs": [
    {
     "data": {
      "text/plain": [
       "array([ 4, 10, 18])"
      ]
     },
     "execution_count": 3,
     "metadata": {},
     "output_type": "execute_result"
    }
   ],
   "source": [
    "#Regular Multipication\n",
    "import numpy as np\n",
    "\n",
    "array1 = np.array([1, 2, 3])\n",
    "array2 = np.array([4, 5, 6])\n",
    "\n",
    "result = array1 * array2  # Element-wise multiplication\n",
    "result"
   ]
  },
  {
   "cell_type": "code",
   "execution_count": 5,
   "metadata": {},
   "outputs": [
    {
     "data": {
      "text/plain": [
       "32"
      ]
     },
     "execution_count": 5,
     "metadata": {},
     "output_type": "execute_result"
    }
   ],
   "source": [
    "#Dot product\n",
    "result = np.dot(array1, array2)  # Dot product\n",
    "# Alternatively:\n",
    "result = array1 @ array2\n",
    "result"
   ]
  },
  {
   "cell_type": "code",
   "execution_count": 7,
   "metadata": {},
   "outputs": [
    {
     "data": {
      "text/plain": [
       "array([[ 4,  5,  6],\n",
       "       [ 8, 10, 12],\n",
       "       [12, 15, 18]])"
      ]
     },
     "execution_count": 7,
     "metadata": {},
     "output_type": "execute_result"
    }
   ],
   "source": [
    "#Outer product\n",
    "outer_result = np.outer(array1, array2)  # Outer product\n",
    "outer_result"
   ]
  },
  {
   "cell_type": "markdown",
   "metadata": {},
   "source": [
    "<h4 style=\" color: #ff3300\">Q6. Before you buy a home, which numpy function will you use to measure your monthly mortgage\n",
    "payment?</h4>\n",
    "\n",
    "<b style =\"color: #00b386\">Answer:</b> \n",
    "\n",
    "<p> <b>numpy.pmt()</b>function helps in calculating the monthly payment for a loan, such as a mortgage, based on the loan amount, interest rate, and loan term.</p>"
   ]
  },
  {
   "cell_type": "markdown",
   "metadata": {},
   "source": [
    "<h4 style=\" color: #ff3300\">Q7. Can string data be stored in numpy arrays? If so, list at least one restriction that applies to this data.</h4>\n",
    "\n",
    "<b style =\"color: #00b386\">Answer:</b> \n",
    "\n",
    "<p>Yes, string data can be stored in numpy arrays. Numpy arrays are versatile and can handle various data types, including strings.</p>\n",
    "<p><b>One of Restriction: </b>When storing strings, numpy arrays use a fixed length for the strings based on the maximum length of any string in the array. This can lead to inefficient memory usage if you have strings of varying lengths. For example, if you have an array of strings with a maximum length of 20 characters, all strings in the array will be padded to that length, even if they are shorter.</p>"
   ]
  }
 ],
 "metadata": {
  "kernelspec": {
   "display_name": "Python 3",
   "language": "python",
   "name": "python3"
  },
  "language_info": {
   "codemirror_mode": {
    "name": "ipython",
    "version": 3
   },
   "file_extension": ".py",
   "mimetype": "text/x-python",
   "name": "python",
   "nbconvert_exporter": "python",
   "pygments_lexer": "ipython3",
   "version": "3.7.6"
  }
 },
 "nbformat": 4,
 "nbformat_minor": 4
}
