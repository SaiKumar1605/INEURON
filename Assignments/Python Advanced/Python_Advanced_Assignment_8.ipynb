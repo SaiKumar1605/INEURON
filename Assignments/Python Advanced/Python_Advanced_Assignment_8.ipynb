{
 "cells": [
  {
   "cell_type": "markdown",
   "metadata": {},
   "source": [
    "<b>Author/User:</b> <b style=\"color:#6666ff\">Sai Kumar Ramagiri</b><br>\n",
    "<b>Date of Submission:</b> <b style=\"color:#e69900\">13/08/2023</b><br>"
   ]
  },
  {
   "cell_type": "markdown",
   "metadata": {},
   "source": [
    "<u><h1 style=\"color:#006699; text-align:center\">PYTHON ADVANCED</h1></u>"
   ]
  },
  {
   "cell_type": "markdown",
   "metadata": {},
   "source": [
    "<u><h2 style=\"color:#24478f; text-align:center\">ASSIGNMENT 8</h2></u>"
   ]
  },
  {
   "cell_type": "markdown",
   "metadata": {},
   "source": [
    "\n",
    "<h4 style=\" color: #ff3300\">Q1. What are the two latest user-defined exception constraints in Python 3.X?</h4>\n",
    "\n",
    "<b style =\"color: #00b386\">Answer:</b> \n",
    "<p><b>raise</b> and <b>assert</b> are the two latest user-defined exception constraints in Python 3.X</p>"
   ]
  },
  {
   "cell_type": "markdown",
   "metadata": {},
   "source": [
    "\n",
    "<h4 style=\" color: #ff3300\">Q2. How are class-based exceptions that have been raised matched to handlers?</h4>\n",
    "\n",
    "<b style =\"color: #00b386\">Answer:</b> \n",
    "<p>When class-based exceptions are raised in Python, they are matched to handlers using the concept of exception hierarchy and inheritance. This means that an exception handler can catch not only the exact class of the exception but also its base classes in the inheritance hierarchy</p>\n"
   ]
  },
  {
   "cell_type": "markdown",
   "metadata": {},
   "source": [
    "\n",
    "<h4 style=\" color: #ff3300\">Q3. Describe two methods for attaching context information to exception artefacts.</h4>\n",
    "\n",
    "<b style =\"color: #00b386\">Answer:</b> \n",
    "<p>Attaching context information to exception artifacts can be done with few ways as following: </p>\n",
    "\n",
    "- <b>Custom Exception Classes with Additional Attributes:</b> One effective way to attach context information to exceptions is by creating custom exception classes that include additional attributes to hold relevant information.\n",
    "\n",
    "- <b>Context Managers and contextlib.ExitStack:</b> Another way to attach context information to exception artifacts is by using context managers and the contextlib.ExitStack class. Context managers allow you to manage resources and actions within a controlled scope, and ExitStack can help you manage multiple context managers simultaneously.\n"
   ]
  },
  {
   "cell_type": "markdown",
   "metadata": {},
   "source": [
    "\n",
    "<h4 style=\" color: #ff3300\">Q4. Describe two methods for specifying the text of an exception object&#39;s error message.</h4>\n",
    "\n",
    "<b style =\"color: #00b386\">Answer:</b> \n",
    "- <p>One of the most straightforward methods is to pass a string as an argument to the constructor of the exception class. The string a programmer provide becomes the error message associated with the exception.</p>\n",
    "- <p>Another approach is to create a subclass of an existing exception and override its __init__ method to set a custom error message. This allows programmer to create custom exceptions with consistent behaviors and messages across your codebase.</p>\n",
    "<p><b>Example:</b> </p>"
   ]
  },
  {
   "cell_type": "code",
   "execution_count": 3,
   "metadata": {},
   "outputs": [
    {
     "ename": "ValueError",
     "evalue": "Conversion failed: Custome text message",
     "output_type": "error",
     "traceback": [
      "\u001b[1;31m---------------------------------------------------------------------------\u001b[0m",
      "\u001b[1;31mValueError\u001b[0m                                Traceback (most recent call last)",
      "\u001b[1;32m<ipython-input-3-a957bd1dc470>\u001b[0m in \u001b[0;36m<module>\u001b[1;34m\u001b[0m\n\u001b[0;32m      1\u001b[0m \u001b[1;32mtry\u001b[0m\u001b[1;33m:\u001b[0m\u001b[1;33m\u001b[0m\u001b[1;33m\u001b[0m\u001b[0m\n\u001b[1;32m----> 2\u001b[1;33m     \u001b[0mnum\u001b[0m \u001b[1;33m=\u001b[0m \u001b[0mint\u001b[0m\u001b[1;33m(\u001b[0m\u001b[1;34m\"invalid\"\u001b[0m\u001b[1;33m)\u001b[0m\u001b[1;33m\u001b[0m\u001b[1;33m\u001b[0m\u001b[0m\n\u001b[0m\u001b[0;32m      3\u001b[0m \u001b[1;32mexcept\u001b[0m \u001b[0mValueError\u001b[0m \u001b[1;32mas\u001b[0m \u001b[0me\u001b[0m\u001b[1;33m:\u001b[0m\u001b[1;33m\u001b[0m\u001b[1;33m\u001b[0m\u001b[0m\n",
      "\u001b[1;31mValueError\u001b[0m: invalid literal for int() with base 10: 'invalid'",
      "\nThe above exception was the direct cause of the following exception:\n",
      "\u001b[1;31mValueError\u001b[0m                                Traceback (most recent call last)",
      "\u001b[1;32m<ipython-input-3-a957bd1dc470>\u001b[0m in \u001b[0;36m<module>\u001b[1;34m\u001b[0m\n\u001b[0;32m      2\u001b[0m     \u001b[0mnum\u001b[0m \u001b[1;33m=\u001b[0m \u001b[0mint\u001b[0m\u001b[1;33m(\u001b[0m\u001b[1;34m\"invalid\"\u001b[0m\u001b[1;33m)\u001b[0m\u001b[1;33m\u001b[0m\u001b[1;33m\u001b[0m\u001b[0m\n\u001b[0;32m      3\u001b[0m \u001b[1;32mexcept\u001b[0m \u001b[0mValueError\u001b[0m \u001b[1;32mas\u001b[0m \u001b[0me\u001b[0m\u001b[1;33m:\u001b[0m\u001b[1;33m\u001b[0m\u001b[1;33m\u001b[0m\u001b[0m\n\u001b[1;32m----> 4\u001b[1;33m     \u001b[1;32mraise\u001b[0m \u001b[0mValueError\u001b[0m\u001b[1;33m(\u001b[0m\u001b[1;34m\"Conversion failed: Custome text message\"\u001b[0m\u001b[1;33m)\u001b[0m \u001b[1;32mfrom\u001b[0m \u001b[0me\u001b[0m\u001b[1;33m\u001b[0m\u001b[1;33m\u001b[0m\u001b[0m\n\u001b[0m",
      "\u001b[1;31mValueError\u001b[0m: Conversion failed: Custome text message"
     ]
    }
   ],
   "source": [
    "try:\n",
    "    num = int(\"invalid\")\n",
    "except ValueError as e:\n",
    "    raise ValueError(\"Conversion failed: Custome text message\") from e"
   ]
  },
  {
   "cell_type": "markdown",
   "metadata": {},
   "source": [
    "\n",
    "<h4 style=\" color: #ff3300\">Q5. Why do you no longer use string-based exceptions?</h4>\n",
    "\n",
    "<b style =\"color: #00b386\">Answer:</b> \n",
    "<p>Most of the peope no longer use string-based exceptions due to following reasons:</p>\n",
    "\n",
    "- Carity And readability\n",
    "- Inability to catch specific exceptions\n",
    "- Debugging\n",
    "- Customization and Extensions\n"
   ]
  }
 ],
 "metadata": {
  "kernelspec": {
   "display_name": "Python 3",
   "language": "python",
   "name": "python3"
  },
  "language_info": {
   "codemirror_mode": {
    "name": "ipython",
    "version": 3
   },
   "file_extension": ".py",
   "mimetype": "text/x-python",
   "name": "python",
   "nbconvert_exporter": "python",
   "pygments_lexer": "ipython3",
   "version": "3.7.6"
  }
 },
 "nbformat": 4,
 "nbformat_minor": 4
}
