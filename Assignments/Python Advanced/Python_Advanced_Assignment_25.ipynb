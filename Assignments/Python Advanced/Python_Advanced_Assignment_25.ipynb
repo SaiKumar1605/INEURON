{
 "cells": [
  {
   "cell_type": "markdown",
   "metadata": {},
   "source": [
    "<b>Author/User:</b> <b style=\"color:#6666ff\">Sai Kumar Ramagiri</b><br>\n",
    "<b>Date of Submission:</b> <b style=\"color:#e69900\">18/08/2023</b><br>"
   ]
  },
  {
   "cell_type": "markdown",
   "metadata": {},
   "source": [
    "<u><h1 style=\"color:#006699; text-align:center\">PYTHON ADVANCED</h1></u>"
   ]
  },
  {
   "cell_type": "markdown",
   "metadata": {},
   "source": [
    "<u><h2 style=\"color:#24478f; text-align:center\">ASSIGNMENT 25</h2></u>"
   ]
  },
  {
   "cell_type": "markdown",
   "metadata": {},
   "source": [
    "<h4 style=\" color: #ff3300\">Q1. What is the distinction between a numpy array and a pandas data frame? Is there a way to convert between the two if there is?</h4>\n",
    "\n",
    "<b style =\"color: #00b386\">Answer:</b> \n",
    "\n",
    "<p>Pandas DataFrames provide additional functionality for data manipulation and analysis beyond what NumPy arrays offer. If you are working with tabular data and require data analysis capabilities, pandas DataFrames are usually a more suitable choice. If you are primarily concerned with numerical computations and mathematical operations, NumPy arrays are often the preferred option.</p>"
   ]
  },
  {
   "cell_type": "markdown",
   "metadata": {},
   "source": [
    "\n",
    "<h4 style=\" color: #ff3300\">Q2. What can go wrong when an user enters in a stock-ticker symbol, and how do you handle it?</h4>\n",
    "\n",
    "<b style =\"color: #00b386\">Answer:</b> \n",
    "<p>When a user enters a stock ticker symbol, several things can potentially go wrong due to various reasons, such as incorrect input, unavailable data, or technical issues. The following isues needed to be handled well inroder to handle these issues: </p>\n",
    "\n",
    "- Incorrect ticker symbols\n",
    "- Data unavailabiity\n",
    "- Network or API issues and many more"
   ]
  },
  {
   "cell_type": "markdown",
   "metadata": {},
   "source": [
    "\n",
    "<h4 style=\" color: #ff3300\">Q3. Identify some of the plotting techniques that are used to produce a stock-market chart.</h4>\n",
    "\n",
    "<b style =\"color: #00b386\">Answer:</b> \n",
    "\n",
    "<p>Few plotting techniques that are used to produce stock-market char are:</p>\n",
    "\n",
    "- Line charts\n",
    "- Candlestick charts\n",
    "- Bar charts\n",
    "- Volume charts and many more"
   ]
  },
  {
   "cell_type": "markdown",
   "metadata": {},
   "source": [
    "\n",
    "<h4 style=\" color: #ff3300\">Q4. Why is it essential to print a legend on a stock market chart?</h4>\n",
    "\n",
    "<b style =\"color: #00b386\">Answer:</b>\n",
    "<p>Printing a legend on a stock market chart is essential because it provides context and clarity to the chart's visual representation. A legend helps viewers understand the data being presented, the meaning of different elements on the chart, and the relationships between various data series.</p>"
   ]
  },
  {
   "cell_type": "markdown",
   "metadata": {},
   "source": [
    "<h4 style=\" color: #ff3300\">Q5. What is the best way to limit the length of a pandas data frame to less than a year?</h4>\n",
    "\n",
    "<b style =\"color: #00b386\">Answer:</b> \n",
    "<p>If you want to limit the length of a pandas DataFrame to data within a specific time frame of less than a year, you can achieve this by filtering the DataFrame based on date/time values. </p>\n",
    "\n"
   ]
  },
  {
   "cell_type": "markdown",
   "metadata": {},
   "source": [
    "<h4 style=\" color: #ff3300\">Q6. What is the definition of a 180-day moving average?</h4>\n",
    "\n",
    "<b style =\"color: #00b386\">Answer:</b> \n",
    "\n",
    "<p>A 180-day moving average is a type of technical indicator used in financial analysis to smooth out fluctuations in a time series data set, such as stock prices or other financial metrics, over a period of 180 days. The moving average helps identify trends and patterns by calculating the average value of the data points within a sliding window of 180 days.</p>"
   ]
  },
  {
   "cell_type": "markdown",
   "metadata": {},
   "source": [
    "<h4 style=\" color: #ff3300\">Q7. Did the chapter&#39;s final example use &quot;indirect&quot; importing? If so, how exactly do you do it?</h4>\n",
    "\n",
    "<b style =\"color: #00b386\">Answer:</b> \n",
    "\n",
    "<p>NO appropriate information regarding question.</p>\n"
   ]
  }
 ],
 "metadata": {
  "kernelspec": {
   "display_name": "Python 3",
   "language": "python",
   "name": "python3"
  },
  "language_info": {
   "codemirror_mode": {
    "name": "ipython",
    "version": 3
   },
   "file_extension": ".py",
   "mimetype": "text/x-python",
   "name": "python",
   "nbconvert_exporter": "python",
   "pygments_lexer": "ipython3",
   "version": "3.7.6"
  }
 },
 "nbformat": 4,
 "nbformat_minor": 4
}
