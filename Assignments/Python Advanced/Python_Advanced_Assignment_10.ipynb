{
 "cells": [
  {
   "cell_type": "markdown",
   "metadata": {},
   "source": [
    "<b>Author/User:</b> <b style=\"color:#6666ff\">Sai Kumar Ramagiri</b><br>\n",
    "<b>Date of Submission:</b> <b style=\"color:#e69900\">14/08/2023</b><br>"
   ]
  },
  {
   "cell_type": "markdown",
   "metadata": {},
   "source": [
    "<u><h1 style=\"color:#006699; text-align:center\">PYTHON ADVANCED</h1></u>"
   ]
  },
  {
   "cell_type": "markdown",
   "metadata": {},
   "source": [
    "<u><h2 style=\"color:#24478f; text-align:center\">ASSIGNMENT 10</h2></u>"
   ]
  },
  {
   "cell_type": "markdown",
   "metadata": {},
   "source": [
    "\n",
    "<h4 style=\" color: #ff3300\">Q1. What is the difference between __getattr__ and __getattribute__?</h4>\n",
    "\n",
    "<b style =\"color: #00b386\">Answer:</b> \n",
    "<p><b>__getattr__</b> is only called when an attribute is not found through regular means, while <b>__getattribute__</b> is called for every attribute access.</p>\n"
   ]
  },
  {
   "cell_type": "markdown",
   "metadata": {},
   "source": [
    "\n",
    "<h4 style=\" color: #ff3300\">Q2. What is the difference between properties and descriptors?</h4>\n",
    "\n",
    "<b style =\"color: #00b386\">Answer:</b> \n",
    "\n",
    "<p>A property is a built-in Python feature that allows you to define special methods for attribute access, assignment, and deletion by using the builtin function <b>'property'</b>.</p>\n",
    "<p>A descriptor is a more general mechanism that allows you to customize attribute access, assignment, and deletion for any class attribute. A descriptor is an object that defines the <b>__get__, __set__, and/or __delete__</b> methods.</p>\n",
    "<p>properties are a specific kind of descriptor, providing a more streamlined syntax for encapsulating attribute access, while descriptors offer more flexibility and customization options for attribute handling.</p>"
   ]
  },
  {
   "cell_type": "markdown",
   "metadata": {},
   "source": [
    "\n",
    "<h4 style=\" color: #ff3300\">Q3. What are the key differences in functionality between __getattr__ and __getattribute__, as well as\n",
    "properties and descriptors?</h4>\n",
    "\n",
    "<b style =\"color: #00b386\">Answer:</b> \n",
    "<p><b>__getattr__</b> is only called when an attribute is not found through regular means, while <b>__getattribute__</b> is called for every attribute access.</p>\n",
    "\n",
    "<p><b>Properties</b> are a more high-level and straightforward way to customize attribute access and modification, usually applied to individual attributes.<b>Descriptors</b> provide more fine-grained control and can be applied to multiple attributes within a class, allowing you to share behavior between attributes.</p>"
   ]
  }
 ],
 "metadata": {
  "kernelspec": {
   "display_name": "Python 3",
   "language": "python",
   "name": "python3"
  },
  "language_info": {
   "codemirror_mode": {
    "name": "ipython",
    "version": 3
   },
   "file_extension": ".py",
   "mimetype": "text/x-python",
   "name": "python",
   "nbconvert_exporter": "python",
   "pygments_lexer": "ipython3",
   "version": "3.7.6"
  }
 },
 "nbformat": 4,
 "nbformat_minor": 4
}
