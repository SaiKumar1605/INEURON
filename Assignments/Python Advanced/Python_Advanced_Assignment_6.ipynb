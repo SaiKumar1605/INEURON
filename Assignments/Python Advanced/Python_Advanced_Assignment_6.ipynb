{
 "cells": [
  {
   "cell_type": "markdown",
   "metadata": {},
   "source": [
    "<b>Author/User:</b> <b style=\"color:#6666ff\">Sai Kumar Ramagiri</b><br>\n",
    "<b>Date of Submission:</b> <b style=\"color:#e69900\">13/08/2023</b><br>"
   ]
  },
  {
   "cell_type": "markdown",
   "metadata": {},
   "source": [
    "<u><h1 style=\"color:#006699; text-align:center\">PYTHON ADVANCED</h1></u>"
   ]
  },
  {
   "cell_type": "markdown",
   "metadata": {},
   "source": [
    "<u><h2 style=\"color:#24478f; text-align:center\">ASSIGNMENT 6</h2></u>"
   ]
  },
  {
   "cell_type": "markdown",
   "metadata": {},
   "source": [
    "\n",
    "<h4 style=\" color: #ff3300\">Q1. Describe three applications for exception processing.</h4>\n",
    "\n",
    "<b style =\"color: #00b386\">Answer:</b> \n",
    "<p>Few applications of exception processing are: </p>\n",
    "\n",
    "- <b>File I/O:</b> When working with files, there are various exceptions that can occur, such as FileNotFoundError, PermissionError, and IOError\n",
    "\n",
    "- <b>Division by Zero:</b> Division by zero is a common runtime error. Exception handling can prevent the program from crashing when such an error occurs.\n",
    "\n",
    "- <b>Data Validation:</b> Exception processing can be used to handle validation errors when processing user input or data from external sources."
   ]
  },
  {
   "cell_type": "markdown",
   "metadata": {},
   "source": [
    "\n",
    "<h4 style=\" color: #ff3300\">Q2. What happens if you don&#39;t do something extra to treat an exception?</h4>\n",
    "\n",
    "<b style =\"color: #00b386\">Answer:</b> \n",
    "<p>If exceptions are not handled properly, the following problems might occur: </p>\n",
    "\n",
    "- Crash or  Termination\n",
    "- Unpredictable Behaviour\n",
    "- Resource Leaks\n",
    "- Security risks\n",
    "- Lack of error information"
   ]
  },
  {
   "cell_type": "markdown",
   "metadata": {},
   "source": [
    "\n",
    "<h4 style=\" color: #ff3300\">Q3. What are your options for recovering from an exception in your script?</h4>\n",
    "\n",
    "<b style =\"color: #00b386\">Answer:</b> \n",
    "<p>Some of the strategies for recovering from the exception are: </p>\n",
    "\n",
    "- Logging and reporing info\n",
    "- Fallback values\n",
    "- Writing user friendly messages\n",
    "- User input validation\n",
    "- Exception transformations"
   ]
  },
  {
   "cell_type": "markdown",
   "metadata": {},
   "source": [
    "\n",
    "<h4 style=\" color: #ff3300\">Q4. Describe two methods for triggering exceptions in your script.</h4>\n",
    "\n",
    "<b style =\"color: #00b386\">Answer:</b> \n",
    "<p> Here are some ways to trigger exceptions in Python programming:</p>\n",
    "\n",
    "- The raise statement is used to raise an exception explicitly. You can raise built-in exceptions or create your own custom exceptions.\n",
    "-  Python provides a wide range of built-in exception classes that you can raise to indicate specific error conditions. Some common ones include ValueError, TypeError, NameError, and more."
   ]
  },
  {
   "cell_type": "markdown",
   "metadata": {},
   "source": [
    "\n",
    "<h4 style=\" color: #ff3300\">Q5. Identify two methods for specifying actions to be executed at termination time, regardless of\n",
    "whether or not an exception exists.</h4>\n",
    "\n",
    "<b style =\"color: #00b386\">Answer:</b> \n",
    "<p>\n",
    "In Python, you can specify actions to be executed at termination time, regardless of whether or not an exception exists, by using the <b>finally block</b> and the <b>atexit</b> module.</p>\n"
   ]
  }
 ],
 "metadata": {
  "kernelspec": {
   "display_name": "Python 3",
   "language": "python",
   "name": "python3"
  },
  "language_info": {
   "codemirror_mode": {
    "name": "ipython",
    "version": 3
   },
   "file_extension": ".py",
   "mimetype": "text/x-python",
   "name": "python",
   "nbconvert_exporter": "python",
   "pygments_lexer": "ipython3",
   "version": "3.7.6"
  }
 },
 "nbformat": 4,
 "nbformat_minor": 4
}
