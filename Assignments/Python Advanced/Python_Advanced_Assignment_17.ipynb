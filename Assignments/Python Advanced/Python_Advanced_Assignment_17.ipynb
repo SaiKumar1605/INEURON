{
 "cells": [
  {
   "cell_type": "markdown",
   "metadata": {},
   "source": [
    "<b>Author/User:</b> <b style=\"color:#6666ff\">Sai Kumar Ramagiri</b><br>\n",
    "<b>Date of Submission:</b> <b style=\"color:#e69900\">17/08/2023</b><br>"
   ]
  },
  {
   "cell_type": "markdown",
   "metadata": {},
   "source": [
    "<u><h1 style=\"color:#006699; text-align:center\">PYTHON ADVANCED</h1></u>"
   ]
  },
  {
   "cell_type": "markdown",
   "metadata": {},
   "source": [
    "<u><h2 style=\"color:#24478f; text-align:center\">ASSIGNMENT 17</h2></u>"
   ]
  },
  {
   "cell_type": "markdown",
   "metadata": {},
   "source": [
    "\n",
    "<h4 style=\" color: #ff3300\">Q1. Explain the difference between greedy and non-greedy syntax with visual terms in as few words\n",
    "as possible. What is the bare minimum effort required to transform a greedy pattern a greedy pattern into a non-greedy\n",
    "one? What characters or characters can you introduce or change?</h4>\n",
    "\n",
    "<b style =\"color: #00b386\">Answer:</b> \n",
    "\n",
    "- **Greedy vs. Non-Greedy Syntax:**\n",
    "Greedy: Matches longest possible string.\n",
    "Non-Greedy: Matches shortest possible string.\n",
    "\n",
    "- **Transformation Effort:**\n",
    "Change * or + to *? or +?.\n",
    "\n",
    "Example:\n",
    "- Greedy: `<.*>`\n",
    "- Non-Greedy: `<.*?>`\n",
    "\n",
    "Adding ? after * or + makes them non-greedy."
   ]
  },
  {
   "cell_type": "markdown",
   "metadata": {},
   "source": [
    "\n",
    "<h4 style=\" color: #ff3300\">Q2. When exactly does greedy versus non-greedy make a difference?  What if you&#39;re looking for a\n",
    "non-greedy match but the only one available is greedy?</h4>\n",
    "\n",
    "<b style =\"color: #00b386\">Answer:</b> \n",
    "\n",
    "- Greedy versus non-greedy makes a difference when you're working with patterns that can potentially match multiple occurrences in a single search. For example, consider the string: `<div>content1</div><div>content2</div>`\n",
    "\n",
    "- Greedy: `<.*>` would match the entire string from the first `<div>` to the last `</div>` in a single match.\n",
    "- Non-Greedy: `<.*?>` would match each individual `<div>` content separately.\n",
    "\n",
    "- If only a greedy match is available but you want a non-greedy match, you might need to adjust your pattern or use other methods like manipulating the input or post-processing the matched results to achieve the desired outcome."
   ]
  },
  {
   "cell_type": "markdown",
   "metadata": {},
   "source": [
    "\n",
    "<h4 style=\" color: #ff3300\">Q3. In a simple match of a string, which looks only for one match and does not do any replacement, is the use of a nontagged group likely to make any practical difference?</h4>\n",
    "\n",
    "<b style =\"color: #00b386\">Answer:</b> \n",
    "\n",
    "<p>In a simple match of a string where you're only looking for one match and not doing any replacement, the use of a non-capturing group (also known as a non-tagged group) typically doesn't make a practical difference. Non-capturing groups are used to group parts of a pattern together for the purpose of applying quantifiers or alternations, but without capturing the matched content as a separate group.</p>"
   ]
  },
  {
   "cell_type": "markdown",
   "metadata": {},
   "source": [
    "\n",
    "<h4 style=\" color: #ff3300\">Q4. Describe a scenario in which using a nontagged category would have a significant impact on the\n",
    "program&#39;s outcomes.</h4>\n",
    "\n",
    "<b style =\"color: #00b386\">Answer:</b>\n",
    "\n",
    "- [INFO] Timestamp: 2023-08-17 15:30:00 Message: This is an informational message.\n",
    "\n",
    "In this scenario, you want to extract the timestamp and message from each log entry. The log entries are well-structured and follow a predictable pattern.\n",
    "\n",
    "- \\[INFO\\] Timestamp: (\\d{4}-\\d{2}-\\d{2} \\d{2}:\\d{2}:\\d{2}) Message: (.*)\n",
    "- Here, you're capturing the timestamp and the message separately using capturing groups.\n",
    "\n",
    "\n",
    "- \\[INFO\\] Timestamp: (?:\\d{4}-\\d{2}-\\d{2} \\d{2}:\\d{2}:\\d{2}) Message: (?:.*)\n",
    "- In this case, using non-capturing groups can help in conserving memory by avoiding the allocation of memory for capturing groups when you're not going to use them."
   ]
  },
  {
   "cell_type": "markdown",
   "metadata": {},
   "source": [
    "<h4 style=\" color: #ff3300\">Q5. Unlike a normal regex pattern, a look-ahead condition does not consume the characters it\n",
    "examines. Describe a situation in which this could make a difference in the results of your programme.</h4>\n",
    "\n",
    "<b style =\"color: #00b386\">Answer:</b> \n",
    "\n",
    "<p>When a programmer wants to extract only the email addresses that belong to people with the last name \"Smith\". You could use a positive look-ahead assertion for this purpose.</p>\n",
    "\n",
    "- Example:  .*Smith: (.+) (Regular Expression without look-ahead)\n",
    "- Example: .*Smith:(.+)(?=\\n|$) (Regulat Expression with look-ahead)\n",
    "\n",
    "Using the positive look-ahead (?=\\n|$) ensures that the regular expression only captures the email address that follows \"Smith:\" on the same line, without including the email addresses of other people. The look-ahead condition doesn't consume the characters it examines, so it doesn't affect the matching position, but it guides the regex engine to consider only the desired portion of the text."
   ]
  },
  {
   "cell_type": "markdown",
   "metadata": {},
   "source": [
    "<h4 style=\" color: #ff3300\">Q6. In standard expressions, what is the difference between positive look-ahead and negative look-\n",
    "ahead?</h4>\n",
    "\n",
    "<b style =\"color: #00b386\">Answer:</b> \n",
    "<p>In regular expressions, both positive look-ahead and negative look-ahead are zero-width assertions, meaning they don't consume characters while matching. They are used to specify conditions that must (positive) or must not (negative) be true at a specific point in the input string, without actually including those characters in the match.</p>"
   ]
  },
  {
   "cell_type": "markdown",
   "metadata": {},
   "source": [
    "<h4 style=\" color: #ff3300\">Q7. What is the benefit of referring to groups by name rather than by number in a standard\n",
    "expression?</h4>\n",
    "\n",
    "<b style =\"color: #00b386\">Answer:</b> \n",
    "\n",
    "<p>Referring to groups by name rather than by number in a standard expression offers several benefits such as:</p>\n",
    "\n",
    "- Readability & Maintainability\n",
    "- Clartiy\n",
    "- Flexibility in reordering\n",
    "- Resuability\n",
    "- Many more"
   ]
  },
  {
   "cell_type": "markdown",
   "metadata": {},
   "source": [
    "<h4 style=\" color: #ff3300\">Q8. Can you identify repeated items within a target string using named groups, as in &quot;The cow\n",
    "jumped over the moon&quot;?</h4>\n",
    "\n",
    "<b style =\"color: #00b386\">Answer:</b> \n",
    "\n",
    "<p>No. Because string does not contain repeated items.</p>"
   ]
  },
  {
   "cell_type": "markdown",
   "metadata": {},
   "source": [
    "<h4 style=\" color: #ff3300\">Q9. When parsing a string, what is at least one thing that the Scanner interface does for you that the re.findall feature does not?</h4>\n",
    "\n",
    "<b style =\"color: #00b386\">Answer:</b> \n",
    "\n",
    "<p>The re.findall function in Python is primarily designed for extracting all occurrences of a specific pattern from a string. It returns a list of all matches, but it doesn't inherently handle more complex tokenization or provide features for working with structured data.</p>"
   ]
  },
  {
   "cell_type": "markdown",
   "metadata": {},
   "source": [
    "<h4 style=\" color: #ff3300\">Q10. Does a scanner object have to be named scanner?</h4>\n",
    "\n",
    "<b style =\"color: #00b386\">Answer:</b> \n",
    "\n",
    "<p>Since there is no specific \"Scanner\" class in Python's standard library, you are not required to name any object \"scanner.\" In fact, you can name your variables, objects, functions, and classes whatever you like, as long as the names follow Python's naming conventions.</p>"
   ]
  }
 ],
 "metadata": {
  "kernelspec": {
   "display_name": "Python 3",
   "language": "python",
   "name": "python3"
  },
  "language_info": {
   "codemirror_mode": {
    "name": "ipython",
    "version": 3
   },
   "file_extension": ".py",
   "mimetype": "text/x-python",
   "name": "python",
   "nbconvert_exporter": "python",
   "pygments_lexer": "ipython3",
   "version": "3.7.6"
  }
 },
 "nbformat": 4,
 "nbformat_minor": 4
}
