{
 "cells": [
  {
   "cell_type": "markdown",
   "metadata": {},
   "source": [
    "<b>Author/User:</b> <b style=\"color:#6666ff\">Sai Kumar Ramagiri</b><br>\n",
    "<b>Date of Submission:</b> <b style=\"color:#e69900\">18/08/2023</b><br>"
   ]
  },
  {
   "cell_type": "markdown",
   "metadata": {},
   "source": [
    "<u><h1 style=\"color:#006699; text-align:center\">PYTHON ADVANCED</h1></u>"
   ]
  },
  {
   "cell_type": "markdown",
   "metadata": {},
   "source": [
    "<u><h2 style=\"color:#24478f; text-align:center\">ASSIGNMENT 24</h2></u>"
   ]
  },
  {
   "cell_type": "markdown",
   "metadata": {},
   "source": [
    "<h4 style=\" color: #ff3300\">Q1. Is it permissible to use several import statements to import the same module? What would the\n",
    "goal be? Can you think of a situation where it would be beneficial?</h4>\n",
    "\n",
    "<b style =\"color: #00b386\">Answer:</b> \n",
    "\n",
    "<p>Yes, it is permissible to use several import statements to import the same module in Python. Python's import system is designed to handle multiple import statements for the same module, and it won't cause any issues. However, the goals and benefits of using multiple import statements for the same module might vary based on the context.</p>"
   ]
  },
  {
   "cell_type": "markdown",
   "metadata": {},
   "source": [
    "\n",
    "<h4 style=\" color: #ff3300\">Q2. What are some of a module&#39;s characteristics? (Name at least one.)</h4>\n",
    "\n",
    "<b style =\"color: #00b386\">Answer:</b> \n",
    "<p>A module in programming refers to a file containing Python code that defines variables, functions, and classes that can be used in other Python programs. Modules help organize code into separate files, making it easier to manage and maintain large projects.</p>\n",
    "\n",
    "<b>One of characteristics of module:</b>\n",
    "- <p>Encapsulation: Modules provide a way to encapsulate related code and data together. This encapsulation promotes modularity and separation of concerns, allowing you to group related functionalities and data into distinct files. By doing so, you can control the visibility and accessibility of different components within your program.</p>"
   ]
  },
  {
   "cell_type": "markdown",
   "metadata": {},
   "source": [
    "\n",
    "<h4 style=\" color: #ff3300\">Q3. Circular importing, such as when two modules import each other, can lead to dependencies and\n",
    "bugs that aren&#39;t visible. How can you go about creating a program that avoids mutual importing?</h4>\n",
    "\n",
    "<b style =\"color: #00b386\">Answer:</b> \n",
    "\n",
    "<p>I am not familiar with this concept. I tried understanding with help of google. Please share links through if possible.</p>\n"
   ]
  },
  {
   "cell_type": "markdown",
   "metadata": {},
   "source": [
    "\n",
    "<h4 style=\" color: #ff3300\">Q4. Why is _ _all_ _ in Python?</h4>\n",
    "\n",
    "<b style =\"color: #00b386\">Answer:</b>\n",
    "<p>\n",
    "In Python, the __all__ variable is a special variable that is used to define the public interface of a module. When you import a module using the from module_name import * syntax, the names listed in the __all__ variable are the names that will be imported into the importing module's namespace.</p>"
   ]
  },
  {
   "cell_type": "markdown",
   "metadata": {},
   "source": [
    "<h4 style=\" color: #ff3300\">Q5. In what situation is it useful to refer to the _ _name_ _ attribute or the string &#39;_ _main_ _&#39;?</h4>\n",
    "\n",
    "<b style =\"color: #00b386\">Answer:</b> \n",
    "<p>The __name__ attribute and the string __main__ are used to distinguish between a script being run as the main program or being imported as a module. This distinction enables programmer to write more versatile and reusable code that behaves differently based on how it is being executed.</p>"
   ]
  },
  {
   "cell_type": "markdown",
   "metadata": {},
   "source": [
    "<h4 style=\" color: #ff3300\">Q6. What are some of the benefits of attaching a program counter to the RPN interpreter application, which interprets an RPN script line by line?</h4>\n",
    "\n",
    "<b style =\"color: #00b386\">Answer:</b> \n",
    "\n",
    "<p>Attaching a program counter to an RPN interpreter enhances its capabilities and control over script execution. It empowers you to manage the flow of the script, implement advanced features, and provide a more interactive and user-friendly experience.</p>"
   ]
  },
  {
   "cell_type": "markdown",
   "metadata": {},
   "source": [
    "<h4 style=\" color: #ff3300\">Q7. What are the minimum expressions or statements (or both) that you&#39;d need to render a basic\n",
    "programming language like RPN primitive but complete— that is, capable of carrying out any computerised task theoretically possible?</h4>\n",
    "\n",
    "<b style =\"color: #00b386\">Answer:</b> \n",
    "\n",
    "<p>The following statements are minimum required to render a basic programming language like RPN primitive:</p>\n",
    "\n",
    "- Basic Arithmetic operations\n",
    "- Stack manipulations\n",
    "- Control flow\n",
    "- Input/output\n",
    "- Variable and Assignments"
   ]
  }
 ],
 "metadata": {
  "kernelspec": {
   "display_name": "Python 3",
   "language": "python",
   "name": "python3"
  },
  "language_info": {
   "codemirror_mode": {
    "name": "ipython",
    "version": 3
   },
   "file_extension": ".py",
   "mimetype": "text/x-python",
   "name": "python",
   "nbconvert_exporter": "python",
   "pygments_lexer": "ipython3",
   "version": "3.7.6"
  }
 },
 "nbformat": 4,
 "nbformat_minor": 4
}
