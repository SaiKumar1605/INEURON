{
 "cells": [
  {
   "cell_type": "markdown",
   "metadata": {},
   "source": [
    "<b>Author/User:</b> <b style=\"color:#6666ff\">Sai Kumar Ramagiri</b><br>\n",
    "<b>Date of Submission:</b> <b style=\"color:#e69900\">14/08/2023</b><br>"
   ]
  },
  {
   "cell_type": "markdown",
   "metadata": {},
   "source": [
    "<u><h1 style=\"color:#006699; text-align:center\">PYTHON ADVANCED</h1></u>"
   ]
  },
  {
   "cell_type": "markdown",
   "metadata": {},
   "source": [
    "<u><h2 style=\"color:#24478f; text-align:center\">ASSIGNMENT 11</h2></u>"
   ]
  },
  {
   "cell_type": "markdown",
   "metadata": {},
   "source": [
    "\n",
    "<h4 style=\" color: #ff3300\">Q1. What is the concept of a metaclass?</h4>\n",
    "\n",
    "<b style =\"color: #00b386\">Answer:</b> \n",
    "<p>In Python programming, a metaclass is a class that defines the behavior and structure of other classes, known as its instances or subclasses. In simpler terms, you can think of a metaclass as a class for classes. Just as classes define the properties and methods of objects, metaclasses define the properties and methods of classes themselves.</p>\n"
   ]
  },
  {
   "cell_type": "markdown",
   "metadata": {},
   "source": [
    "\n",
    "<h4 style=\" color: #ff3300\">Q2. What is the best way to declare a class&#39;s metaclass?</h4>\n",
    "\n",
    "<b style =\"color: #00b386\">Answer:</b> \n",
    "\n",
    "<p>the most recommended and widely used approach is to set the <b>metaclass</b> argument in the class definition or to directly inherit from a metaclass.</p>"
   ]
  },
  {
   "cell_type": "markdown",
   "metadata": {},
   "source": [
    "\n",
    "<h4 style=\" color: #ff3300\">Q3. How do class decorators overlap with metaclasses for handling classes?</h4>\n",
    "\n",
    "<b style =\"color: #00b386\">Answer:</b> \n",
    "<p>Class decorators and metaclasses are both advanced techniques in Python used for modifying and customizing classes. While they serve similar purposes, they operate at different levels of the class creation process and offer distinct ways to achieve class customization.</p>\n",
    "\n",
    "<p><b>Class decorators</b> are applied after a class is defined but before it is created. They act on the class object itself, often by modifying its attributes, methods, or adding new functionality.<b>Metaclasses</b> are involved at the time of class creation. They define the rules and behavior for creating new classes. They can influence class attributes, inheritance, method resolution order, and more.</p>\n",
    "\n"
   ]
  }
 ],
 "metadata": {
  "kernelspec": {
   "display_name": "Python 3",
   "language": "python",
   "name": "python3"
  },
  "language_info": {
   "codemirror_mode": {
    "name": "ipython",
    "version": 3
   },
   "file_extension": ".py",
   "mimetype": "text/x-python",
   "name": "python",
   "nbconvert_exporter": "python",
   "pygments_lexer": "ipython3",
   "version": "3.7.6"
  }
 },
 "nbformat": 4,
 "nbformat_minor": 4
}
