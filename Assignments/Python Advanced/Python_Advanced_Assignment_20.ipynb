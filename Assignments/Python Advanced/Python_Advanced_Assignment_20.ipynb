{
 "cells": [
  {
   "cell_type": "markdown",
   "metadata": {},
   "source": [
    "<b>Author/User:</b> <b style=\"color:#6666ff\">Sai Kumar Ramagiri</b><br>\n",
    "<b>Date of Submission:</b> <b style=\"color:#e69900\">17/08/2023</b><br>"
   ]
  },
  {
   "cell_type": "markdown",
   "metadata": {},
   "source": [
    "<u><h1 style=\"color:#006699; text-align:center\">PYTHON ADVANCED</h1></u>"
   ]
  },
  {
   "cell_type": "markdown",
   "metadata": {},
   "source": [
    "<u><h2 style=\"color:#24478f; text-align:center\">ASSIGNMENT 20</h2></u>"
   ]
  },
  {
   "cell_type": "markdown",
   "metadata": {},
   "source": [
    "\n",
    "<h4 style=\" color: #ff3300\">1. Compare and contrast the float and Decimal classes&#39; benefits and drawbacks.</h4>\n",
    "\n",
    "<b style =\"color: #00b386\">Answer:</b> \n",
    "\n",
    "The `float` and `Decimal` classes in Python are used to represent and perform operations on floating-point numbers. However, they have distinct characteristics, benefits, and drawbacks that make them suitable for different scenarios. Here's a comparison between the two:\n",
    "\n",
    "**`float` Class:**\n",
    "- **Benefits:**\n",
    "  - Native Data Type: `float` is a built-in data type in Python and is used to represent floating-point numbers using the IEEE 754 standard.\n",
    "  - Memory Efficiency: `float` uses fixed memory and is efficient for most common arithmetic operations.\n",
    "  - Faster Operations: Built-in arithmetic operations on `float` are generally faster due to hardware support for floating-point arithmetic.\n",
    "  - Widely Supported: The `float` type is widely supported in libraries and frameworks.\n",
    "\n",
    "- **Drawbacks:**\n",
    "  - Limited Precision: `float` has limited precision, which can lead to rounding errors in calculations involving very small or very large numbers.\n",
    "  - Inexact Representation: Some decimal numbers cannot be exactly represented in binary format, leading to precision loss and inaccuracies.\n",
    "  - Issues with Equality Comparison: Due to rounding errors, direct equality comparisons between `float` numbers can be problematic.\n",
    "\n",
    "**`Decimal` Class:**\n",
    "- **Benefits:**\n",
    "  - Arbitrary Precision: `Decimal` offers arbitrary precision arithmetic, allowing you to perform calculations with a high level of accuracy.\n",
    "  - Exact Representation: `Decimal` precisely represents decimal numbers as entered, reducing the risk of rounding errors.\n",
    "  - Decimal Arithmetic: `Decimal` follows decimal arithmetic rules, making it suitable for financial and exact calculations.\n",
    "  - Control over Precision: You can set the desired level of precision, which can be useful in scenarios requiring specific decimal accuracy.\n",
    "\n",
    "- **Drawbacks:**\n",
    "  - Slower Operations: `Decimal` operations are generally slower compared to `float` operations due to the additional computations required for arbitrary precision.\n",
    "  - Higher Memory Usage: `Decimal` objects consume more memory compared to `float` objects because of the need to store extra information for precision.\n",
    "  - Limited Hardware Support: Not all hardware platforms have built-in support for `Decimal` arithmetic, which might affect performance.\n",
    "\n",
    "**Choosing Between `float` and `Decimal`:**\n",
    "- Use `float` when performance is critical and precision loss is acceptable for your application.\n",
    "- Use `Decimal` when you require high precision, accurate decimal representation, and need to avoid rounding errors, especially in financial calculations.\n",
    "\n",
    "In summary, the choice between `float` and `Decimal` depends on the specific requirements of your application. If you prioritize performance and are willing to tolerate some precision loss, `float` is suitable. If precision and exact representation are essential, especially for financial or exact calculations, `Decimal` is a better choice despite its slightly slower performance and higher memory usage."
   ]
  },
  {
   "cell_type": "markdown",
   "metadata": {},
   "source": [
    "\n",
    "<h4 style=\" color: #ff3300\">2. Decimal(&#39;1.200&#39;) and Decimal(&#39;1.2&#39;) are two objects to consider. In what sense are these the same object? Are these just two ways of representing the exact same value, or do they correspond to different internal states?</h4>\n",
    "\n",
    "<b style =\"color: #00b386\">Answer:</b> \n",
    "\n",
    "<p>In Python's Decimal class, Decimal('1.200') and Decimal('1.2') represent the same value mathematically but may have different internal states due to the way decimal numbers are stored.</p>\n"
   ]
  },
  {
   "cell_type": "markdown",
   "metadata": {},
   "source": [
    "\n",
    "<h4 style=\" color: #ff3300\">3. What happens if the equality of Decimal(&#39;1.200&#39;) and Decimal(&#39;1.2&#39;) is checked?</h4>\n",
    "\n",
    "<b style =\"color: #00b386\">Answer:</b> \n",
    "\n",
    "<p>If you check the equality of Decimal('1.200') and Decimal('1.2') using the equality operator (==), the result will be True. This is because the Decimal class is designed to compare values rather than internal representations, and mathematically, both '1.200' and '1.2' represent the same value.</p>"
   ]
  },
  {
   "cell_type": "markdown",
   "metadata": {},
   "source": [
    "\n",
    "<h4 style=\" color: #ff3300\">4. Why is it preferable to start a Decimal object with a string rather than a floating-point value?</h4>\n",
    "\n",
    "<b style =\"color: #00b386\">Answer:</b>\n",
    "\n",
    "<p>Starting a Decimal object with a string is preferable because it ensures that you're working with the exact decimal valSe you intend, without encountering precision and representation issues that can arise from binary floating-point arithmetic.</p>"
   ]
  },
  {
   "cell_type": "markdown",
   "metadata": {},
   "source": [
    "<h4 style=\" color: #ff3300\">5. In an arithmetic phrase, how simple is it to combine Decimal objects with integers?</h4>\n",
    "\n",
    "<b style =\"color: #00b386\">Answer:</b> \n",
    "<p>Python's Decimal class automatically handles the conversion and arithmetic operations between Decimal objects and integers, ensuring that the results maintain the expected precision and avoid the rounding errors associated with binary floating-point arithmetic.</p>"
   ]
  },
  {
   "cell_type": "markdown",
   "metadata": {},
   "source": [
    "<h4 style=\" color: #ff3300\">6. Can Decimal objects and floating-point values be combined easily?</h4>\n",
    "\n",
    "<b style =\"color: #00b386\">Answer:</b> \n",
    "\n",
    "<p>When you combine a Decimal object with a floating-point value in an arithmetic operation, the result will typically be a Decimal object. This is because the Decimal class is designed to provide accurate and precise arithmetic operations, even when working with numbers of different types.</p>\n"
   ]
  },
  {
   "cell_type": "markdown",
   "metadata": {},
   "source": [
    "<h4 style=\" color: #ff3300\">7. Using the Fraction class but not the Decimal class, give an example of a quantity that can be\n",
    "expressed with absolute precision.</h4>\n",
    "\n",
    "<b style =\"color: #00b386\">Answer:</b> "
   ]
  },
  {
   "cell_type": "code",
   "execution_count": 1,
   "metadata": {},
   "outputs": [
    {
     "name": "stdout",
     "output_type": "stream",
     "text": [
      "1/3\n"
     ]
    }
   ],
   "source": [
    "from fractions import Fraction\n",
    "\n",
    "fraction_value = Fraction(1, 3)  # 1/3\n",
    "\n",
    "print(fraction_value)  # Output: 1/3\n"
   ]
  },
  {
   "cell_type": "markdown",
   "metadata": {},
   "source": [
    "<h4 style=\" color: #ff3300\">8. Describe a quantity that can be accurately expressed by the Decimal or Fraction classes but not by a floating-point value.</h4>\n",
    "\n",
    "<b style =\"color: #00b386\">Answer:</b> \n",
    "\n",
    "<p>A quantity that can be accurately expressed by the Decimal or Fraction classes but not by a floating-point value is a repeating decimal or a non-terminating rational number. These are numbers that have an infinite number of digits after the decimal point and cannot be precisely represented using the finite binary representation of floating-point numbers.</p>"
   ]
  },
  {
   "cell_type": "code",
   "execution_count": 2,
   "metadata": {},
   "outputs": [
    {
     "name": "stdout",
     "output_type": "stream",
     "text": [
      "0.333\n",
      "1/3\n",
      "0.333\n"
     ]
    }
   ],
   "source": [
    "from decimal import Decimal\n",
    "from fractions import Fraction\n",
    "\n",
    "# Using the Decimal class\n",
    "decimal_value = Decimal('0.333')\n",
    "print(decimal_value)  # Output: 0.333\n",
    "\n",
    "# Using the Fraction class\n",
    "fraction_value = Fraction(1, 3)\n",
    "print(fraction_value)  # Output: 1/3\n",
    "\n",
    "# Using a floating-point value\n",
    "float_value = 0.333\n",
    "print(float_value)  # Output: 0.333 (approximation)\n"
   ]
  },
  {
   "cell_type": "markdown",
   "metadata": {},
   "source": [
    "<h4 style=\" color: #ff3300\">Q9.Consider the following two fraction objects: Fraction(1, 2) and Fraction(1, 2). (5, 10). Is the internal state of these two objects the same? Why do you think that is?</h4>\n",
    "\n",
    "<b style =\"color: #00b386\">Answer:</b> \n",
    "\n",
    "<p>The internal state of the two Fraction objects Fraction(1, 2) and Fraction(5, 10) is indeed the same. This is because the Fraction class internally normalizes fractions to their simplest form before storing them.</p>"
   ]
  },
  {
   "cell_type": "markdown",
   "metadata": {},
   "source": [
    "<h4 style=\" color: #ff3300\">Q10. How do the Fraction class and the integer type (int) relate to each other? Containment or inheritance?</h4>\n",
    "\n",
    "<b style =\"color: #00b386\">Answer:</b> \n",
    "\n",
    "<p> The Fraction class and the int type are related through containment, as Fraction objects use instances of the int type to represent their numerator and denominator components, but the two types do not have an inheritance relationship.</p>"
   ]
  }
 ],
 "metadata": {
  "kernelspec": {
   "display_name": "Python 3",
   "language": "python",
   "name": "python3"
  },
  "language_info": {
   "codemirror_mode": {
    "name": "ipython",
    "version": 3
   },
   "file_extension": ".py",
   "mimetype": "text/x-python",
   "name": "python",
   "nbconvert_exporter": "python",
   "pygments_lexer": "ipython3",
   "version": "3.7.6"
  }
 },
 "nbformat": 4,
 "nbformat_minor": 4
}
