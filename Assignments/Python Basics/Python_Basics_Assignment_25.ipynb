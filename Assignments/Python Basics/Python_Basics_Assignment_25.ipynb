{
 "cells": [
  {
   "cell_type": "markdown",
   "id": "dfdabeb0",
   "metadata": {},
   "source": [
    "<b>Author/User:</b> <b style=\"color:#6666ff\">Sai Kumar Ramagiri</b><br>\n",
    "<b>Author/User:</b> <b style=\"color:#e69900\">24/07/2023</b><br>"
   ]
  },
  {
   "cell_type": "markdown",
   "id": "260a4bdd",
   "metadata": {},
   "source": [
    "<u><h1 style=\"color:#006699; text-align:center\">PYTHON BASICS</h1></u>"
   ]
  },
  {
   "cell_type": "markdown",
   "id": "9b7866ea",
   "metadata": {},
   "source": [
    "<u><h2 style=\"color:#24478f; text-align:center\">ASSIGNMENT 25</h2></u>"
   ]
  },
  {
   "cell_type": "markdown",
   "id": "4c7e3716",
   "metadata": {},
   "source": [
    "\n",
    "<h4 style=\" color: #ff3300\">Q1 . What is the difference between enclosing a list comprehension in square brackets and\n",
    "parentheses?</h4>\n",
    "\n",
    "\n",
    "<b style =\"color: #00b386\">Answer:</b> <p> Enclosing a list comprehension in square brackets returns a list.but where as enclosing a list comprehension in parentheses returns a generator object.</p>"
   ]
  },
  {
   "cell_type": "code",
   "execution_count": 2,
   "id": "1d30142e",
   "metadata": {},
   "outputs": [
    {
     "data": {
      "text/plain": [
       "<generator object <genexpr> at 0x000001B9719FF580>"
      ]
     },
     "execution_count": 2,
     "metadata": {},
     "output_type": "execute_result"
    }
   ],
   "source": [
    "(i for i in range(0,10) )"
   ]
  },
  {
   "cell_type": "markdown",
   "id": "e36c0728",
   "metadata": {},
   "source": [
    "\n",
    "<h4 style=\" color: #ff3300\">Q2. What is the relationship between generators and iterators?</h4>\n",
    "\n",
    "<b style =\"color: #00b386\">Answer:</b>\n",
    "<p> <b>Iterator</b> is an object which contains a countable number of values and it is used to iterate over iterable objects like list, tuples, sets, etc. Iterators are implemented using a class. iter() keyword is used to create an iterator containing an iterable object.next() keyword is used to call the next element in the iterable object.</p>\n",
    "<p> <b>Generator</b> are an another way of creating iterators in a simple way where it uses the keyword yield statement instead of return statement in a defined function.Generators are implemented using a function. </p>"
   ]
  },
  {
   "cell_type": "markdown",
   "id": "d7c0834a",
   "metadata": {},
   "source": [
    "\n",
    "<h4 style=\" color: #ff3300\">Q3. What are the signs that a function is a generator function?</h4>\n",
    "\n",
    "<b style =\"color: #00b386\">Answer:</b>\n",
    "<p><b>Generator function</b> always uses a Yield instead of return. </p>\n",
    "<p>It outputs or returns a generaor object instead of regular data structures. </p>"
   ]
  },
  {
   "cell_type": "markdown",
   "id": "dde2f0d1",
   "metadata": {},
   "source": [
    "\n",
    "<h4 style=\" color: #ff3300\">Q4. What is the purpose of a yield statement?</h4>\n",
    "\n",
    "<b style =\"color: #00b386\">Answer:</b>\n",
    "<p> The yield statement produces a generator object and can return multiple values to the caller without terminating the program, whereas a return statement is used to return a value to the caller from within a function and it terminates the program..</p>"
   ]
  },
  {
   "cell_type": "markdown",
   "id": "a83370b7",
   "metadata": {},
   "source": [
    "\n",
    "<h4 style=\" color: #ff3300\">Q5. What is the relationship between map calls and list comprehensions? Make a comparison and\n",
    "contrast between the two.</h4>\n",
    "\n",
    "<b style =\"color: #00b386\">Answer:</b>\n",
    "- List comprehension has a simpler configuration than the map function.  \n",
    "- List comprehension can be used together with if condition as replacement of filter method. Map function has no such functionality. However, we can feed the map function output to the filter function.  \n",
    "- List comprehension returns a list, whereas the map function returns an object of Iterable.  \n",
    "- List comprehension execution is faster than that of map function when the formula expression is huge and complex. \n",
    "- Map function is faster than list comprehension when the formula is already defined as a function earlier. So, that map function is used without lambda expression."
   ]
  }
 ],
 "metadata": {
  "kernelspec": {
   "display_name": "Python 3 (ipykernel)",
   "language": "python",
   "name": "python3"
  },
  "language_info": {
   "codemirror_mode": {
    "name": "ipython",
    "version": 3
   },
   "file_extension": ".py",
   "mimetype": "text/x-python",
   "name": "python",
   "nbconvert_exporter": "python",
   "pygments_lexer": "ipython3",
   "version": "3.9.13"
  }
 },
 "nbformat": 4,
 "nbformat_minor": 5
}
