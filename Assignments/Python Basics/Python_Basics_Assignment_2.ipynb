{
 "cells": [
  {
   "cell_type": "markdown",
   "metadata": {},
   "source": [
    "<b>Author/User:</b> <b style=\"color:#6666ff\">Sai Kumar Ramagiri</b><br>\n",
    "<b>Author/User:</b> <b style=\"color:#e69900\">09/3/2023</b><br>"
   ]
  },
  {
   "cell_type": "markdown",
   "metadata": {},
   "source": [
    "<u><h1 style=\"color:#006699; text-align:center\">PYTHON BASICS</h1></u>"
   ]
  },
  {
   "cell_type": "markdown",
   "metadata": {},
   "source": [
    "<u><h2 style=\"color:#24478f; text-align:center\">ASSIGNMENT 2</h2></u>"
   ]
  },
  {
   "cell_type": "markdown",
   "metadata": {},
   "source": [
    "\n",
    "<h4 style=\" color: #ff3300\">Q1.What are the two values of the Boolean data type? How do you write them?</h4>\n",
    "\n",
    "<b style =\"color: #00b386\">Answer:</b> <p> <b>True</b> and <b>False</b> are two values of Boolean data type. </p>\n",
    "<p>Boolean Data types can be assigned to varibales in below format</p>\n",
    "<p>Example:  var1  = True, Var2 = False </p>\n",
    "<p>In python any number except 0 can be considered True (Example: if 1: condition) and 0 can considered False</p>"
   ]
  },
  {
   "cell_type": "markdown",
   "metadata": {},
   "source": [
    "<h4 style=\" color: #ff3300\">Q2. What are the three different types of Boolean operators?</h4>\n",
    "\n",
    "<b style =\"color: #00b386\">Answer:</b> <p> <b>and</b>, <b>or</b>  &  <b> not </b>are three Boolean operators. </p>"
   ]
  },
  {
   "cell_type": "markdown",
   "metadata": {},
   "source": [
    "<h4 style=\" color: #ff3300\">Q3. Make a list of each Boolean operator&#39;s truth tables (i.e. every possible combination of Boolean\n",
    "values for the operator and what it evaluate ).</h4>\n",
    "\n",
    "<b style =\"color: #00b386\">Answer:</b>\n",
    "\n",
    "<u><b>AND operator table</b></u>\n",
    "<p> True and True   =   True </p>\n",
    "<p> True and False  =   Flase </p>\n",
    "<p> False and True  =   False </p>\n",
    "<p> False and False =   False </p>\n",
    "\n",
    "<u><b>OR operator table</b></u>\n",
    "<p> True and True   =   True </p>\n",
    "<p> True and False  =   True </p>\n",
    "<p> False and True  =   True </p>\n",
    "<p> False and False =   False </p>\n",
    "\n",
    "<u><b>NOT operator table</b></u>\n",
    "<p> not True   =   False </p>\n",
    "<p> not False  =   True </p>\n",
    "\n"
   ]
  },
  {
   "cell_type": "markdown",
   "metadata": {},
   "source": [
    "<h4 style=\" color: #ff3300\">Q4. What are the values of the following expressions?</h4>\n",
    "\n",
    "-  (5 &gt; 4) and (3 == 5)\n",
    "-  not (5 &gt; 4)\n",
    "- (5 &gt; 4) or (3 == 5)\n",
    "- not ((5 &gt; 4) or (3 == 5))\n",
    "- (True and True) and (True == False)\n",
    "- (not False) or (not True)\n",
    "\n",
    "<b style =\"color: #00b386\">Answer:</b> \n",
    "\n",
    "-  (5 &gt; 4) and (3 == 5)  = <b>False</b>\n",
    "-  not (5 &gt; 4) = <b>False</b>\n",
    "- (5 &gt; 4) or (3 == 5) = <b>True</b>\n",
    "- not ((5 &gt; 4) or (3 == 5)) = <b>False</b>\n",
    "- (True and True) and (True == False) = <b>False</b>\n",
    "- (not False) or (not True) = <b>True</b>"
   ]
  },
  {
   "cell_type": "markdown",
   "metadata": {},
   "source": [
    "<h4 style=\" color: #ff3300\">Q5. What are the six comparison operators?</h4>\n",
    "\n",
    "<b style =\"color: #00b386\">Answer:</b> \n",
    "<p>The six comparission operators are:</p>\n",
    "<p> <b>==</b> Checks whether two values are equal. </p>\n",
    "<p> <b>!=</b> Checks whether two values are not equal. </p>\n",
    "<p> <b>></b>  Checks whether a value is greater than other value. </p>\n",
    "<p> <b> &gt; </b>  Checks whether a value is lesser than other value. </p>\n",
    "<p> <b> &gt;= </b>  Checks whether a value is lesser than or equal to other value. </p>\n",
    "<p> <b> >= </b>  Checks whether a value is lesser than or equal to other value. </p>"
   ]
  },
  {
   "cell_type": "markdown",
   "metadata": {},
   "source": [
    "<h4 style=\" color: #ff3300\">Q6. How do you tell the difference between the equal to and assignment operators?Describe a\n",
    "condition and when you would use one.</h4>\n",
    "\n",
    "<b style =\"color: #00b386\">Answer:</b> \n",
    "<p>Assignment operator is indicated by <b>=</b> symbol, where as equal operator is indicted/represented by <b>==</b></p>\n",
    "<p>Example 1: <b>number_1 = 9</b></p>\n",
    "<p>Example 2: <b>number_1 == 10</b></p>\n",
    "<p>In example 1, integer 9 is assigned to variable number_1 using assingment operaotr <b>=</b></p>\n",
    "<p>In example 2, Using equal operator <b>==</b> , we can check whether a variable number_1 value is equal to 10 or not. It returns True if values are same, else it returns False.</p>"
   ]
  },
  {
   "cell_type": "markdown",
   "metadata": {},
   "source": [
    "<h4 style=\" color: #ff3300\">Q7. Identify the three blocks in this code:<br>\n",
    "<br>spam = 0\n",
    "<br>if spam == 10:\n",
    "<br>print(&#39;eggs&#39;)\n",
    "<br>if spam &gt; 5:\n",
    "<br>print(&#39;bacon&#39;)\n",
    "<br>else:\n",
    "<br>print(&#39;ham&#39;)\n",
    "<br>print(&#39;spam&#39;)\n",
    "<br>print(&#39;spam&#39;)</h4>\n",
    "\n",
    "<b style =\"color: #00b386\">Answer:</b> \n",
    "\n",
    "<b>First Block of code</b>\n",
    "<br>spam = 0 \n",
    "<br>if spam == 10: \n",
    "<br>print(&#39;eggs&#39;)\n",
    "\n",
    "<br><b>First Block of code</b>\n",
    "<br>if spam &gt; 5:\n",
    "<br>print(&#39;bacon&#39;)\n",
    "\n",
    "<br><b>First Block of code</b>\n",
    "<br>else:\n",
    "<br>print(&#39;ham&#39;)\n",
    "<br>print(&#39;spam&#39;)\n",
    "<br>print(&#39;spam&#39;)</h4>\n",
    "\n"
   ]
  },
  {
   "cell_type": "markdown",
   "metadata": {},
   "source": [
    "<h4 style=\" color: #ff3300\">Q8. Write code that prints Hello if 1 is stored in spam, prints Howdy if 2 is stored in spam, and prints\n",
    "Greetings! if anything else is stored in spam.</h4>\n",
    "\n",
    "<b style =\"color: #00b386\">Answer:</b> "
   ]
  },
  {
   "cell_type": "code",
   "execution_count": 1,
   "metadata": {},
   "outputs": [
    {
     "name": "stdout",
     "output_type": "stream",
     "text": [
      "Enter any number between 1 and 10:9\n",
      "Greetings!\n"
     ]
    }
   ],
   "source": [
    "spam = int(input('Enter any number between 1 and 10:'))\n",
    "if spam == 1:\n",
    "    print('Hello')\n",
    "elif spam == 2:\n",
    "    print('Howdy')\n",
    "else:\n",
    "    print('Greetings!')"
   ]
  },
  {
   "cell_type": "markdown",
   "metadata": {},
   "source": [
    "<h4 style=\" color: #ff3300\">Q9.If your programme is stuck in an endless loop, what keys you’ll press?</h4>\n",
    "\n",
    "<b style =\"color: #00b386\">Answer:</b>\n",
    "<p> <b>Ctrl + C</b> is used to interrupt. </p>"
   ]
  },
  {
   "cell_type": "markdown",
   "metadata": {},
   "source": [
    "<h4 style=\" color: #ff3300\">Q10. How can you tell the difference between break and continue?</h4>\n",
    "\n",
    "<b style =\"color: #00b386\">Answer:</b>\n",
    "<p> <b>break</b> is used to come out of the loop, whereas <b>continue</b> is used to end current iteration and continues to next iteration of a loop.  </p>"
   ]
  },
  {
   "cell_type": "markdown",
   "metadata": {},
   "source": [
    "<h4 style=\" color: #ff3300\">Q11. In a for loop, what is the difference between range(10), range(0, 10), and range(0, 10, 1)?</h4>\n",
    "\n",
    "<b style =\"color: #00b386\">Answer:</b>\n",
    "<p>Three of them return the same results.</p>"
   ]
  },
  {
   "cell_type": "markdown",
   "metadata": {},
   "source": [
    "<h4 style=\" color: #ff3300\">Q12. Write a short program that prints the numbers 1 to 10 using a for loop. Then write an equivalent\n",
    "program that prints the numbers 1 to 10 using a while loop.</h4>\n",
    "\n",
    "<b style =\"color: #00b386\">Answer:</b>"
   ]
  },
  {
   "cell_type": "code",
   "execution_count": 9,
   "metadata": {},
   "outputs": [
    {
     "name": "stdout",
     "output_type": "stream",
     "text": [
      "1\n",
      "2\n",
      "3\n",
      "4\n",
      "5\n",
      "6\n",
      "7\n",
      "8\n",
      "9\n",
      "10\n"
     ]
    }
   ],
   "source": [
    "#print 1 to 10 numbers using FOR LOOP\n",
    "for i in range(1,11):\n",
    "    print(i)"
   ]
  },
  {
   "cell_type": "code",
   "execution_count": 11,
   "metadata": {
    "scrolled": false
   },
   "outputs": [
    {
     "name": "stdout",
     "output_type": "stream",
     "text": [
      "1\n",
      "2\n",
      "3\n",
      "4\n",
      "5\n",
      "6\n",
      "7\n",
      "8\n",
      "9\n",
      "10\n"
     ]
    }
   ],
   "source": [
    "#print 1 to 10 using WHILE LOOP\n",
    "i = 1\n",
    "while(i<11):\n",
    "    print(i)\n",
    "    i = i + 1"
   ]
  },
  {
   "cell_type": "markdown",
   "metadata": {},
   "source": [
    "<h4 style=\" color: #ff3300\">Q13. If you had a function named bacon() inside a module named spam, how would you call it after\n",
    "importing spam?</h4>\n",
    "\n",
    "<b style =\"color: #00b386\">Answer:</b>\n",
    "<p>A function named bacon(), which is inside a module named spam can accessed using below line of code:</p><br>\n",
    "\n",
    "<b>spam.bacon()</b>"
   ]
  },
  {
   "cell_type": "code",
   "execution_count": null,
   "metadata": {},
   "outputs": [],
   "source": []
  }
 ],
 "metadata": {
  "kernelspec": {
   "display_name": "Python 3",
   "language": "python",
   "name": "python3"
  },
  "language_info": {
   "codemirror_mode": {
    "name": "ipython",
    "version": 3
   },
   "file_extension": ".py",
   "mimetype": "text/x-python",
   "name": "python",
   "nbconvert_exporter": "python",
   "pygments_lexer": "ipython3",
   "version": "3.7.6"
  }
 },
 "nbformat": 4,
 "nbformat_minor": 5
}
