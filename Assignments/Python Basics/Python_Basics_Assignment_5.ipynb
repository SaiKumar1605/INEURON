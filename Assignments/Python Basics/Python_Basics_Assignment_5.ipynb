{
 "cells": [
  {
   "cell_type": "markdown",
   "metadata": {},
   "source": [
    "<b>Author/User:</b> <b style=\"color:#6666ff\">Sai Kumar Ramagiri</b><br>\n",
    "<b>Date:</b> <b style=\"color:#e69900\">17/3/2023</b><br>"
   ]
  },
  {
   "cell_type": "markdown",
   "metadata": {},
   "source": [
    "<u><h1 style=\"color:#006699; text-align:center\">PYTHON BASICS</h1></u>"
   ]
  },
  {
   "cell_type": "markdown",
   "metadata": {},
   "source": [
    "<u><h2 style=\"color:#24478f; text-align:center\">ASSIGNMENT 5</h2></u>"
   ]
  },
  {
   "cell_type": "markdown",
   "metadata": {},
   "source": [
    "<h4 style=\" color: #ff3300\">Q1. What does an empty dictionary&#39;s code look like?</h4>\n",
    "\n",
    "<b style =\"color: #00b386\">Answer:</b> <p> \n",
    "<p>{ } is an empty dictionary. Code looks as below: </p>\n",
    "<p>code: <b>d = {}</b></p>\n",
    "<p><b>type(d)</b> gives <b>dict</b></p>"
   ]
  },
  {
   "cell_type": "markdown",
   "metadata": {},
   "source": [
    "<h4 style=\" color: #ff3300\">Q2. What is the value of a dictionary value with the key &#39;foo&#39; and the value 42?</h4>\n",
    "\n",
    "<b style =\"color: #00b386\">Answer:</b> <p> \n",
    "<p>The dictionary with key 'foo' and value '42' upon on printing dictionary looks like:</p>\n",
    "<p>code: <b>d = {'foo':42}</b></p>\n",
    "<p><b>print(d)</b> gives <b>{'foo':42}</b></p>"
   ]
  },
  {
   "cell_type": "markdown",
   "metadata": {},
   "source": [
    "<h4 style=\" color: #ff3300\">Q3. What is the most significant distinction between a dictionary and a list?</h4>\n",
    "\n",
    "<b style =\"color: #00b386\">Answer:</b> <p> \n",
    "<p>A <b>list</b> can contains elements of any data type. Where as <b>Dictonary</b> can contain elements in the structure of <b>'KEY-VALUE'</b> pairs. </p>\n",
    "<p>Also elements of list are covered by <b>[ ]</b>, where as key-value pairs of dictionary are covered/stored inside <b>{ }</b></p>\n",
    "<p>The format of storing and representing is the main difference between dictionary and list.</p>\n"
   ]
  },
  {
   "cell_type": "markdown",
   "metadata": {},
   "source": [
    "<h4 style=\" color: #ff3300\">Q4. What happens if you try to access spam[&#39;foo&#39;] if spam is {&#39;bar&#39;: 100}?</h4>\n",
    "\n",
    "<b style =\"color: #00b386\">Answer:</b> <p> \n",
    "<p>spam['foo] gives <b>keyError</b> as there is no key-value pair with key-'foo' in dictionary spam. </p>"
   ]
  },
  {
   "cell_type": "markdown",
   "metadata": {},
   "source": [
    "<h4 style=\" color: #ff3300\">Q5. If a dictionary is stored in spam, what is the difference between the expressions &#39;cat&#39; in spam and\n",
    "&#39;cat&#39; in spam.keys()?</h4>\n",
    "\n",
    "<b  style =\"color: #00b386\">Answer:</b> <p> \n",
    "<p>Expressions <b>'cat' in spam</b> and <b>'cat' in spam.keys()</b> both check if there is any <b>key with name 'cat'</b> present in dictionary <b>spam</b>.</p>"
   ]
  },
  {
   "cell_type": "markdown",
   "metadata": {},
   "source": [
    "<h4 style=\" color: #ff3300\">Q6. If a dictionary is stored in spam, what is the difference between the expressions &#39;cat&#39; in spam and\n",
    "&#39;cat&#39; in spam.values()?</h4>\n",
    "\n",
    "<b  style =\"color: #00b386\">Answer:</b> <p> \n",
    "<p>Expressions <b>'cat' in spam</b> checks whether key with name 'cat' present in dictionary and Expression <b>'cat' in spam.values()</b> check if there is any <b>value with name 'cat'</b> present in values of dictionary <b>spam</b>.</p>"
   ]
  },
  {
   "cell_type": "markdown",
   "metadata": {},
   "source": [
    "<h4 style=\" color: #ff3300\">Q7. What is a shortcut for the following code?\n",
    "\n",
    "<br> if &#39;color&#39; not in spam:\n",
    "<br>spam[&#39;color&#39;] = &#39;black&#39;\n",
    "    \n",
    "</h4>\n",
    "\n",
    "<b  style =\"color: #00b386\">Answer:</b> <p> \n",
    "<p>The short cut is:</p>\n",
    "<p><b>spam.setdefault('color','black')</b></p>"
   ]
  },
  {
   "cell_type": "markdown",
   "metadata": {},
   "source": [
    "<h4 style=\" color: #ff3300\">Q8. How do you &quot;pretty print&quot; dictionary values using which module and function?</h4>\n",
    "\n",
    "<b  style =\"color: #00b386\">Answer:</b> <p> \n",
    "<p><b>pprint</b> is the module used to 'pretty print' dictionary using <b>pprint()</b> function, Which sort dictionary key-values pairs accordingly based on keys.</p>"
   ]
  }
 ],
 "metadata": {
  "kernelspec": {
   "display_name": "Python 3",
   "language": "python",
   "name": "python3"
  },
  "language_info": {
   "codemirror_mode": {
    "name": "ipython",
    "version": 3
   },
   "file_extension": ".py",
   "mimetype": "text/x-python",
   "name": "python",
   "nbconvert_exporter": "python",
   "pygments_lexer": "ipython3",
   "version": "3.7.6"
  }
 },
 "nbformat": 4,
 "nbformat_minor": 4
}
