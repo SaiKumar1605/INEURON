{
 "cells": [
  {
   "cell_type": "markdown",
   "id": "dfdabeb0",
   "metadata": {},
   "source": [
    "<b>Author/User:</b> <b style=\"color:#6666ff\">Sai Kumar Ramagiri</b><br>\n",
    "<b>Author/User:</b> <b style=\"color:#e69900\">20/07/2023</b><br>"
   ]
  },
  {
   "cell_type": "markdown",
   "id": "260a4bdd",
   "metadata": {},
   "source": [
    "<u><h1 style=\"color:#006699; text-align:center\">PYTHON BASICS</h1></u>"
   ]
  },
  {
   "cell_type": "markdown",
   "id": "9b7866ea",
   "metadata": {},
   "source": [
    "<u><h2 style=\"color:#24478f; text-align:center\">ASSIGNMENT 24</h2></u>"
   ]
  },
  {
   "cell_type": "markdown",
   "id": "4c7e3716",
   "metadata": {},
   "source": [
    "\n",
    "<h4 style=\" color: #ff3300\">Q1. What is the relationship between def statements and lambda expressions ?</h4>\n",
    "\n",
    "<b style =\"color: #00b386\">Answer:</b> <p> The <b>def</b> keyword is used to define normal functions, while the <b>lambda</b> keyword is used to define anonymous functions, which can be written in one line. </p>"
   ]
  },
  {
   "cell_type": "markdown",
   "id": "e36c0728",
   "metadata": {},
   "source": [
    "\n",
    "<h4 style=\" color: #ff3300\">Q2. What is the benefit of lambda?</h4>\n",
    "\n",
    "<b style =\"color: #00b386\">Answer:</b>\n",
    "<p>The benefits of lambda function is that it can be written in single line of code and can be easily used inside any function.</p>\n",
    "<p>They can also be assigned to variable and can used using the variable name , whenever the function is required.</p>"
   ]
  },
  {
   "cell_type": "markdown",
   "id": "d7c0834a",
   "metadata": {},
   "source": [
    "\n",
    "<h4 style=\" color: #ff3300\">Q3. Compare and contrast map, filter, and reduce.</h4>\n",
    "\n",
    "<b style =\"color: #00b386\">Answer:</b>\n",
    "<p><b>MAP:</b>This function takes another function as a parameter\n",
    "along with a sequence of iterables and returns an output after applying the function to each iterable present in the sequence.</p>\n",
    "<p><b>FILTER:</b> The filter() function is used to create an output list consisting of values for which the function returns true.</p>\n",
    "<p><b>REDUCE:</b> The reduce() function takes all of the elements in an array and reduces them into a single value</p>"
   ]
  },
  {
   "cell_type": "markdown",
   "id": "dde2f0d1",
   "metadata": {},
   "source": [
    "\n",
    "<h4 style=\" color: #ff3300\">Q4. What are function annotations, and how are they used?</h4>\n",
    "\n",
    "<b style =\"color: #00b386\">Answer:</b>\n",
    "<p> E Function annotations are arbitrary python expressions that are associated with various part of functions. These expressions are evaluated at compile time and have no life in python's runtime environment. Python does not attach any meaning to these annotations.</p>\n",
    "<p>Example: <b>def foobar(a: expression, b: expression = 5):)</b></p>"
   ]
  },
  {
   "cell_type": "markdown",
   "id": "a83370b7",
   "metadata": {},
   "source": [
    "\n",
    "<h4 style=\" color: #ff3300\">Q5. What are recursive functions, and how are they used?</h4>\n",
    "\n",
    "<b style =\"color: #00b386\">Answer:</b>\n",
    "<p>  A <b>recursive function</b> is a function that calls itself during its execution. The process may repeat several times, outputting the result and the end of each iteration. There should be a condition  written to stop recursion , if required, else it may lead to infinite loop.</p>"
   ]
  },
  {
   "cell_type": "markdown",
   "id": "a27ebc30",
   "metadata": {},
   "source": [
    "\n",
    "<h4 style=\" color: #ff3300\">Q6. What are some general design guidelines for coding functions?</h4>\n",
    "\n",
    "<b style =\"color: #00b386\">Answer:</b>\n",
    "<p>Some of the general design guidelines for coding functions are:</p><br>\n",
    "\n",
    "- <b>Doc_sting</b>: It is always a good way to write a docstring to explain the functionality of the function\n",
    "- avoid using or limited use of global variables\n",
    "- <b>Indentation:</b> Proper Identation to increase the code readability\n",
    "- Always try to follow a naming convention for function names (pascalCase or camelCase) and stick with the same convention throughout the application.\n",
    "- Always try to use a name for the function which conveys the purpose of the function\n",
    "- Local variables should be named using camelCase format (ex: localVariable) whereas Global variables names should be using PascalCase (ex:GlobalVariable).\n",
    "- Constant should be represented in allcaps (ex:CONSTANT)."
   ]
  },
  {
   "cell_type": "markdown",
   "id": "f57dc1fe",
   "metadata": {},
   "source": [
    "\n",
    "<h4 style=\" color: #ff3300\">Q7. Name three or more ways that functions can communicate results to a caller.<br></h4>\n",
    "\n",
    "\n",
    "<b style =\"color: #00b386\">Answer:</b>\n",
    "<p>Using builting functions like <b>print()</b>,<b>return</b> and <b>yield</b> are few ways to communicate results to a function calller.</p>"
   ]
  }
 ],
 "metadata": {
  "kernelspec": {
   "display_name": "Python 3 (ipykernel)",
   "language": "python",
   "name": "python3"
  },
  "language_info": {
   "codemirror_mode": {
    "name": "ipython",
    "version": 3
   },
   "file_extension": ".py",
   "mimetype": "text/x-python",
   "name": "python",
   "nbconvert_exporter": "python",
   "pygments_lexer": "ipython3",
   "version": "3.9.13"
  }
 },
 "nbformat": 4,
 "nbformat_minor": 5
}
