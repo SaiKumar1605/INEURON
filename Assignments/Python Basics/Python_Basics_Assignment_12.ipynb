{
 "cells": [
  {
   "cell_type": "markdown",
   "metadata": {},
   "source": [
    "<b>Author/User:</b> <b style=\"color:#6666ff\">Sai Kumar Ramagiri</b><br>\n",
    "<b>Date of Submission:</b> <b style=\"color:#e69900\">03/4/2023</b><br>"
   ]
  },
  {
   "cell_type": "markdown",
   "metadata": {},
   "source": [
    "\n",
    "<u><h1 style=\"color:#006699; text-align:center\">PYTHON BASICS</h1></u>\n"
   ]
  },
  {
   "cell_type": "markdown",
   "metadata": {},
   "source": [
    "\n",
    "<u><h2 style=\"color:#24478f; text-align:center\">ASSIGNMENT 12</h2></u>\n"
   ]
  },
  {
   "cell_type": "markdown",
   "metadata": {},
   "source": [
    "\n",
    "<h4 style=\" color: #ff3300\">Q1. In what modes should the PdfFileReader() and PdfFileWriter() File objects will be opened?</h4>\n",
    "\n",
    "<b style =\"color: #00b386\">Answer:</b> \n",
    "<p>PdfFileReader() file object should be opened in <b>rb(read binary)</b> mode.</p>\n",
    "<p>PdfFileRWriter() file object should be opened in <b>wb(write binary)</b> mode.</p>"
   ]
  },
  {
   "cell_type": "markdown",
   "metadata": {},
   "source": [
    "\n",
    "<h4 style=\" color: #ff3300\">Q2. From a PdfFileReader object, how do you get a Page object for page 5?</h4>\n",
    "\n",
    "<b style =\"color: #00b386\">Answer:</b> \n",
    "<p>PdfFileReader() file object provides a method as <b>getDestinationPageNumber()</b> which gives inoformation about a PDF file in python on a specific page.</p>"
   ]
  },
  {
   "cell_type": "markdown",
   "metadata": {},
   "source": [
    "\n",
    "<h4 style=\" color: #ff3300\">Q3. What PdfFileReader variable stores the number of pages in the PDF document?</h4>\n",
    "\n",
    "<b style =\"color: #00b386\">Answer:</b> \n",
    "<p>PdfFileReader() file object provides a method as <b>getNumPages()</b> which returns the total pages in the PDF file in python.</p>"
   ]
  },
  {
   "cell_type": "markdown",
   "metadata": {},
   "source": [
    "\n",
    "<h4 style=\" color: #ff3300\">Q4. If a PdfFileReader object’s PDF is encrypted with the password swordfish, what must you do\n",
    "before you can obtain Page objects from it?</h4>\n",
    "\n",
    "<b style =\"color: #00b386\">Answer:</b> \n",
    "<p>PdfFileReader() file object provides a method as <b>decrypt()</b> which decrypts PDF file in python.</p>\n",
    "<p>So, if the password is swordfish, it should be given as input og decrypt() method before accessing pages.</p>\n",
    "\n",
    "<p>Example: <b>file.decrypt('swordfish')</b></p>"
   ]
  },
  {
   "cell_type": "markdown",
   "metadata": {},
   "source": [
    "\n",
    "<h4 style=\" color: #ff3300\">Q5. What methods do you use to rotate a page?</h4>\n",
    "\n",
    "<b style =\"color: #00b386\">Answer:</b> \n",
    "<p><b>rotateClockwise()</b> method can be used to rotate a pdf page in python.</p>"
   ]
  },
  {
   "cell_type": "markdown",
   "metadata": {},
   "source": [
    "\n",
    "<h4 style=\" color: #ff3300\">Q6. What is the difference between a Run object and a Paragraph object?</h4>\n",
    "\n",
    "<b style =\"color: #00b386\">Answer:</b> \n",
    "<p> A Run object is a contiguous run of text with the same style. A new Run object is needed whenever the text style changes.</p>\n",
    "<p>Each Paragraph object also has a runs attribute that is a list of Run objects.</p>"
   ]
  },
  {
   "cell_type": "markdown",
   "metadata": {},
   "source": [
    "\n",
    "<h4 style=\" color: #ff3300\">Q7. How do you obtain a list of Paragraph objects for a Document object that’s stored in a variable\n",
    "named doc?</h4>\n",
    "\n",
    "<b style =\"color: #00b386\">Answer:</b> \n",
    "<p><b>doc.paragraphs</b> method can be used to obtain a list of paragraph objects for a document object that's stored in a variable name <b>doc</b>.</p>"
   ]
  },
  {
   "cell_type": "markdown",
   "metadata": {},
   "source": [
    "\n",
    "<h4 style=\" color: #ff3300\">Q8. What type of object has bold, underline, italic, strike, and outline variables?</h4>\n",
    "\n",
    "<b style =\"color: #00b386\">Answer:</b> \n",
    "<p><b>runs()</b> object has bold, underline, italic, strike and outline variables.</p>"
   ]
  },
  {
   "cell_type": "markdown",
   "metadata": {},
   "source": [
    "\n",
    "<h4 style=\" color: #ff3300\">Q9. What is the difference between False, True, and None for the bold variable?</h4>\n",
    "\n",
    "<b style =\"color: #00b386\">Answer:</b> \n",
    "<p>Runs can be further styled using text attributes. Each attribute can be set to one of three values: </p>\n",
    "<p><b>True : </b> The attribute is always enabled, no matter what other styles are applied to the run.</p>\n",
    "<p><b>False :</b> The attribute is always disabled.</p>\n",
    "<p><b>None :</b> Defaults to whatever the run’s style is set to.</p>"
   ]
  },
  {
   "cell_type": "markdown",
   "metadata": {},
   "source": [
    "\n",
    "<h4 style=\" color: #ff3300\">Q10. How do you create a Document object for a new Word document?</h4>\n",
    "\n",
    "<b style =\"color: #00b386\">Answer:</b> \n",
    "<p>Using <b>Docx</b> package/modue,A programmer can create a document object for new document object.</p>\n",
    "<p>Example: </p>\n",
    "<p><b>import docx</b></p>\n",
    "<p><b>doc = docx.Document(filename)</b></p>"
   ]
  },
  {
   "cell_type": "markdown",
   "metadata": {},
   "source": [
    "\n",
    "<h4 style=\" color: #ff3300\">Q11. How do you add a paragraph with the text &#39;Hello, there!&#39; to a Document object stored in a\n",
    "variable named doc?</h4>\n",
    "\n",
    "<b style =\"color: #00b386\">Answer:</b> \n",
    "<p><b>doc.add_paragraph('Hello, there!')</b> is the way to add a paragraph with specific text  to a document object 'doc'.</p>"
   ]
  }
 ],
 "metadata": {
  "kernelspec": {
   "display_name": "Python 3",
   "language": "python",
   "name": "python3"
  },
  "language_info": {
   "codemirror_mode": {
    "name": "ipython",
    "version": 3
   },
   "file_extension": ".py",
   "mimetype": "text/x-python",
   "name": "python",
   "nbconvert_exporter": "python",
   "pygments_lexer": "ipython3",
   "version": "3.7.6"
  }
 },
 "nbformat": 4,
 "nbformat_minor": 4
}
