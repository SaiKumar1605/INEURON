{
 "cells": [
  {
   "cell_type": "markdown",
   "metadata": {},
   "source": [
    "<b>Author/User:</b> <b style=\"color:#6666ff\">Sai Kumar Ramagiri</b><br>\n",
    "<b>Date of Submission:</b> <b style=\"color:#e69900\">22/4/2023</b><br>"
   ]
  },
  {
   "cell_type": "markdown",
   "metadata": {},
   "source": [
    "<u><h1 style=\"color:#006699; text-align:center\">PYTHON BASICS</h1></u>"
   ]
  },
  {
   "cell_type": "markdown",
   "metadata": {},
   "source": [
    "<u><h2 style=\"color:#24478f; text-align:center\">ASSIGNMENT 21</h2></u>"
   ]
  },
  {
   "cell_type": "markdown",
   "metadata": {},
   "source": [
    "\n",
    "<h4 style=\" color: #ff3300\">Q1. Add the current date to the text file today.txt as a string.</h4>\n",
    "\n",
    "<b style =\"color: #00b386\">Answer:</b> "
   ]
  },
  {
   "cell_type": "code",
   "execution_count": 1,
   "metadata": {},
   "outputs": [],
   "source": [
    "import datetime\n",
    "import os\n",
    "import sys"
   ]
  },
  {
   "cell_type": "code",
   "execution_count": 2,
   "metadata": {},
   "outputs": [],
   "source": [
    "datetime.datetime.today().strftime(\"%d-%m-%Y\")\n",
    "\n",
    "with open('today.txt','w') as file_obj:\n",
    "    \n",
    "    file_obj.write(datetime.datetime.today().strftime(\"%d-%m-%Y\"))\n",
    "    file_obj.close()"
   ]
  },
  {
   "cell_type": "markdown",
   "metadata": {},
   "source": [
    "\n",
    "<h4 style=\" color: #ff3300\">Q2. Read the text file today.txt into the string today_string</h4>\n",
    "\n",
    "<b style =\"color: #00b386\">Answer:</b> "
   ]
  },
  {
   "cell_type": "code",
   "execution_count": 3,
   "metadata": {},
   "outputs": [
    {
     "data": {
      "text/plain": [
       "'22-04-2023'"
      ]
     },
     "execution_count": 3,
     "metadata": {},
     "output_type": "execute_result"
    }
   ],
   "source": [
    "with open('today.txt','r') as file_obj:\n",
    "    \n",
    "    today_string = file_obj.read()\n",
    "    file_obj.close()\n",
    "\n",
    "today_string"
   ]
  },
  {
   "cell_type": "markdown",
   "metadata": {},
   "source": [
    "\n",
    "<h4 style=\" color: #ff3300\">Q3. Parse the date from today_string.</h4>\n",
    "\n",
    "<b style =\"color: #00b386\">Answer:</b> "
   ]
  },
  {
   "cell_type": "code",
   "execution_count": 4,
   "metadata": {},
   "outputs": [
    {
     "data": {
      "text/plain": [
       "datetime.datetime(2023, 4, 22, 0, 0)"
      ]
     },
     "execution_count": 4,
     "metadata": {},
     "output_type": "execute_result"
    }
   ],
   "source": [
    "datetime.datetime.strptime(today_string,\"%d-%m-%Y\")"
   ]
  },
  {
   "cell_type": "code",
   "execution_count": 5,
   "metadata": {},
   "outputs": [
    {
     "data": {
      "text/plain": [
       "['.ipynb_checkpoints',\n",
       " 'Assignment_Template.ipynb',\n",
       " 'book.csv',\n",
       " 'books.db',\n",
       " 'New_F',\n",
       " 'pithre.txt',\n",
       " 'pop.ipynb',\n",
       " 'Python_Basics_Assignment_1.ipynb',\n",
       " 'Python_Basics_Assignment_10.ipynb',\n",
       " 'Python_Basics_Assignment_11.ipynb',\n",
       " 'Python_Basics_Assignment_12.ipynb',\n",
       " 'Python_Basics_Assignment_13.ipynb',\n",
       " 'Python_Basics_Assignment_14.ipynb',\n",
       " 'Python_Basics_Assignment_15.ipynb',\n",
       " 'Python_Basics_Assignment_16.ipynb',\n",
       " 'Python_Basics_Assignment_17.ipynb',\n",
       " 'Python_Basics_Assignment_18.ipynb',\n",
       " 'Python_Basics_Assignment_19.ipynb',\n",
       " 'Python_Basics_Assignment_2.ipynb',\n",
       " 'Python_Basics_Assignment_20.ipynb',\n",
       " 'Python_Basics_Assignment_21.ipynb',\n",
       " 'Python_Basics_Assignment_3.ipynb',\n",
       " 'Python_Basics_Assignment_4.ipynb',\n",
       " 'Python_Basics_Assignment_5.ipynb',\n",
       " 'Python_Basics_Assignment_6.ipynb',\n",
       " 'Python_Basics_Assignment_7.ipynb',\n",
       " 'Python_Basics_Assignment_8.ipynb',\n",
       " 'Python_Basics_Assignment_9.ipynb',\n",
       " 'sai',\n",
       " 'save_img.jpg',\n",
       " 'save_img.png',\n",
       " 'test.db',\n",
       " 'test.png',\n",
       " 'test.txt',\n",
       " 'test1.txt',\n",
       " 'today.txt',\n",
       " 'zoo.py',\n",
       " 'zoo.txt',\n",
       " '__pycache__']"
      ]
     },
     "execution_count": 5,
     "metadata": {},
     "output_type": "execute_result"
    }
   ],
   "source": [
    "os.listdir()"
   ]
  },
  {
   "cell_type": "markdown",
   "metadata": {},
   "source": [
    "\n",
    "<h4 style=\" color: #ff3300\">Q5. Create a list of all of the files in your parent directory (minimum five files should be available).</h4>\n",
    "\n",
    "<b style =\"color: #00b386\">Answer:</b> "
   ]
  },
  {
   "cell_type": "code",
   "execution_count": 12,
   "metadata": {},
   "outputs": [
    {
     "data": {
      "text/plain": [
       "['.ipynb_checkpoints',\n",
       " 'Assignment_Template.ipynb',\n",
       " 'book.csv',\n",
       " 'books.db',\n",
       " 'New_F',\n",
       " 'pithre.txt',\n",
       " 'pop.ipynb',\n",
       " 'Python_Basics_Assignment_1.ipynb',\n",
       " 'Python_Basics_Assignment_10.ipynb',\n",
       " 'Python_Basics_Assignment_11.ipynb',\n",
       " 'Python_Basics_Assignment_12.ipynb',\n",
       " 'Python_Basics_Assignment_13.ipynb',\n",
       " 'Python_Basics_Assignment_14.ipynb',\n",
       " 'Python_Basics_Assignment_15.ipynb',\n",
       " 'Python_Basics_Assignment_16.ipynb',\n",
       " 'Python_Basics_Assignment_17.ipynb',\n",
       " 'Python_Basics_Assignment_18.ipynb',\n",
       " 'Python_Basics_Assignment_19.ipynb',\n",
       " 'Python_Basics_Assignment_2.ipynb',\n",
       " 'Python_Basics_Assignment_20.ipynb',\n",
       " 'Python_Basics_Assignment_21.ipynb',\n",
       " 'Python_Basics_Assignment_3.ipynb',\n",
       " 'Python_Basics_Assignment_4.ipynb',\n",
       " 'Python_Basics_Assignment_5.ipynb',\n",
       " 'Python_Basics_Assignment_6.ipynb',\n",
       " 'Python_Basics_Assignment_7.ipynb',\n",
       " 'Python_Basics_Assignment_8.ipynb',\n",
       " 'Python_Basics_Assignment_9.ipynb',\n",
       " 'sai',\n",
       " 'save_img.jpg',\n",
       " 'save_img.png',\n",
       " 'test.db',\n",
       " 'test.png',\n",
       " 'test.txt',\n",
       " 'test1.txt',\n",
       " 'today.txt',\n",
       " 'zoo.py',\n",
       " 'zoo.txt',\n",
       " '__pycache__']"
      ]
     },
     "execution_count": 12,
     "metadata": {},
     "output_type": "execute_result"
    }
   ],
   "source": [
    "files = os.listdir()\n",
    "files"
   ]
  },
  {
   "cell_type": "markdown",
   "metadata": {},
   "source": [
    "\n",
    "<h4 style=\" color: #ff3300\">Q6. Use multiprocessing to create three separate processes. Make each one wait a random number of\n",
    "seconds between one and five, print the current time, and then exit.</h4>\n",
    "\n",
    "<b style =\"color: #00b386\">Answer:</b> "
   ]
  },
  {
   "cell_type": "code",
   "execution_count": 13,
   "metadata": {},
   "outputs": [],
   "source": [
    "import multiprocessing\n",
    "import time\n",
    "import random"
   ]
  },
  {
   "cell_type": "code",
   "execution_count": 23,
   "metadata": {},
   "outputs": [
    {
     "name": "stdout",
     "output_type": "stream",
     "text": [
      "1682186374.929538\n",
      "1682186374.9395342\n",
      "1682186374.955523\n",
      "Done in 0.2730 seconds\n"
     ]
    }
   ],
   "source": [
    "def sleepy_man():\n",
    "    print('Starting to sleep')\n",
    "    time.sleep(random.randint(1,5))\n",
    "    print('Done sleeping')\n",
    "\n",
    "tic = time.time()\n",
    "\n",
    "process_list = []\n",
    "for i in range(3):\n",
    "    p =  multiprocessing.Process(target= sleepy_man)\n",
    "    p.start()\n",
    "    process_list.append(p)\n",
    "    print(time.time())\n",
    "\n",
    "for process in process_list:\n",
    "    process.join()\n",
    "\n",
    "toc = time.time()\n",
    "\n",
    "print('Done in {:.4f} seconds'.format(toc-tic))"
   ]
  },
  {
   "cell_type": "markdown",
   "metadata": {},
   "source": [
    "\n",
    "<h4 style=\" color: #ff3300\">Q7. Create a date object of your day of birth.</h4>\n",
    "\n",
    "<b style =\"color: #00b386\">Answer:</b> "
   ]
  },
  {
   "cell_type": "code",
   "execution_count": 28,
   "metadata": {},
   "outputs": [],
   "source": [
    "birthday = datetime.date(1964,5,16)"
   ]
  },
  {
   "cell_type": "markdown",
   "metadata": {},
   "source": [
    "\n",
    "<h4 style=\" color: #ff3300\">Q8. What day of the week was your day of birth?</h4>\n",
    "\n",
    "<b style =\"color: #00b386\">Answer:</b> "
   ]
  },
  {
   "cell_type": "code",
   "execution_count": 30,
   "metadata": {},
   "outputs": [
    {
     "data": {
      "text/plain": [
       "5"
      ]
     },
     "execution_count": 30,
     "metadata": {},
     "output_type": "execute_result"
    }
   ],
   "source": [
    "birthday.weekday()"
   ]
  },
  {
   "cell_type": "markdown",
   "metadata": {},
   "source": [
    "\n",
    "<h4 style=\" color: #ff3300\">Q9. When will you be (or when were you) 10,000 days old?</h4>\n",
    "\n",
    "<b style =\"color: #00b386\">Answer:</b> "
   ]
  },
  {
   "cell_type": "code",
   "execution_count": 34,
   "metadata": {},
   "outputs": [
    {
     "data": {
      "text/plain": [
       "datetime.date(1991, 10, 2)"
      ]
     },
     "execution_count": 34,
     "metadata": {},
     "output_type": "execute_result"
    }
   ],
   "source": [
    "birthday +datetime.timedelta(days=10000)"
   ]
  }
 ],
 "metadata": {
  "kernelspec": {
   "display_name": "Python 3",
   "language": "python",
   "name": "python3"
  },
  "language_info": {
   "codemirror_mode": {
    "name": "ipython",
    "version": 3
   },
   "file_extension": ".py",
   "mimetype": "text/x-python",
   "name": "python",
   "nbconvert_exporter": "python",
   "pygments_lexer": "ipython3",
   "version": "3.7.6"
  }
 },
 "nbformat": 4,
 "nbformat_minor": 4
}
