{
 "cells": [
  {
   "cell_type": "markdown",
   "metadata": {},
   "source": [
    "<b>Author/User:</b> <b style=\"color:#6666ff\">Sai Kumar Ramagiri</b><br>\n",
    "<b>Date:</b> <b style=\"color:#e69900\">2/3/2023</b><br>"
   ]
  },
  {
   "cell_type": "markdown",
   "metadata": {},
   "source": [
    "<u><h1 style=\"color:#006699; text-align:center\">PYTHON BASICS</h1></u>"
   ]
  },
  {
   "cell_type": "markdown",
   "metadata": {},
   "source": [
    "<u><h2 style=\"color:#24478f; text-align:center\">ASSIGNMENT 7</h2></u>"
   ]
  },
  {
   "cell_type": "markdown",
   "metadata": {},
   "source": [
    "<h4 style=\" color: #ff3300\">Q1. What is the name of the feature responsible for generating Regex objects?</h4>\n",
    "\n",
    "<b style =\"color: #00b386\">Answer:</b> <p> \n",
    "<p>From module <b>re</b>(Regualar Expression), <b>compile()</b> method can be used to generate or create Regex Objects. </p>\n"
   ]
  },
  {
   "cell_type": "markdown",
   "metadata": {},
   "source": [
    "<h4 style=\" color: #ff3300\">Q2. Why do raw strings often appear in Regex objects?</h4>\n",
    "\n",
    "<b style =\"color: #00b386\">Answer:</b> <p> \n",
    "<p> Raw strings are used and appeared much , while dealing which regex objects because,Normal string use escape characters. In regex it is easier to find right pattern with help of raw strings, as escape characters cannot be escaped. </p>\n",
    "\n",
    "<p>Example: </p>\n",
    "<p>Go through the code below</p>"
   ]
  },
  {
   "cell_type": "code",
   "execution_count": 24,
   "metadata": {},
   "outputs": [
    {
     "name": "stdout",
     "output_type": "stream",
     "text": [
      " \\ \\n sai\n"
     ]
    }
   ],
   "source": [
    "import re\n",
    "\n",
    "#using normal string\n",
    "s = ' \\\\ \\\\n sai'\n",
    "print(s)"
   ]
  },
  {
   "cell_type": "code",
   "execution_count": 23,
   "metadata": {},
   "outputs": [
    {
     "name": "stdout",
     "output_type": "stream",
     "text": [
      "\\ \\n sai\n"
     ]
    }
   ],
   "source": [
    "#using raw strings without using escape character\n",
    "s = r'\\ \\n sai'\n",
    "print(s)"
   ]
  },
  {
   "cell_type": "markdown",
   "metadata": {},
   "source": [
    "<h4 style=\" color: #ff3300\">Q3. What is the return value of the search() method?</h4>\n",
    "\n",
    "<b style =\"color: #00b386\">Answer:</b> <p> \n",
    "<p><b>search()</b>method searches for the string which suits the regex pattern.</p>\n",
    "<p>Example:</p>"
   ]
  },
  {
   "cell_type": "code",
   "execution_count": 44,
   "metadata": {
    "scrolled": true
   },
   "outputs": [
    {
     "data": {
      "text/plain": [
       "<re.Match object; span=(1, 4), match='ana'>"
      ]
     },
     "execution_count": 44,
     "metadata": {},
     "output_type": "execute_result"
    }
   ],
   "source": [
    "s = 'Rana Naidu'\n",
    "re.search('ana',s)"
   ]
  },
  {
   "cell_type": "markdown",
   "metadata": {},
   "source": [
    "<h4 style=\" color: #ff3300\">Q4. From a Match item, how do you get the actual strings that match the pattern?</h4>\n",
    "\n",
    "<b style =\"color: #00b386\">Answer:</b> <p> \n",
    "<p>We can get the actual strings, which are matched by regex pattern by using <b>group()</b></p>"
   ]
  },
  {
   "cell_type": "code",
   "execution_count": 51,
   "metadata": {},
   "outputs": [
    {
     "data": {
      "text/plain": [
       "'ana'"
      ]
     },
     "execution_count": 51,
     "metadata": {},
     "output_type": "execute_result"
    }
   ],
   "source": [
    "s = 'Rana Naidu'\n",
    "p = re.search('ana',s)\n",
    "p.group()"
   ]
  },
  {
   "cell_type": "markdown",
   "metadata": {},
   "source": [
    "<h4 style=\" color: #ff3300\">Q5. In the regex which created from the r&#39;(\\d\\d\\d)-(\\d\\d\\d-\\d\\d\\d\\d)&#39;, what does group zero cover?\n",
    "Group 2? Group 1?</h4>\n",
    "\n",
    "<b style =\"color: #00b386\">Answer:</b> <p> \n",
    "<p>group 0 covers entire match.</p>\n",
    "<p>group 1 covers match from first parenthesis set pattern.</p>\n",
    "<p>group 2 covers match from second parenthesis set pattern.</p>"
   ]
  },
  {
   "cell_type": "markdown",
   "metadata": {},
   "source": [
    "<h4 style=\" color: #ff3300\">Q6. In standard expression syntax, parentheses and intervals have distinct meanings. How can you tell\n",
    "a regex that you want it to fit real parentheses and periods?</h4>\n",
    "\n",
    "<b style =\"color: #00b386\">Answer:</b> <p> \n",
    "<p>A programmer can specify regard that we are looking for periods(<b>.</b>) and parenthesis<b>( )</b> using the escape charctaer <b> / </b></p>\n"
   ]
  },
  {
   "cell_type": "markdown",
   "metadata": {},
   "source": [
    "<h4 style=\" color: #ff3300\">Q7. The findall() method returns a string list or a list of string tuples. What causes it to return one of\n",
    "the two options?</h4>\n",
    "\n",
    "<b style =\"color: #00b386\">Answer:</b> <p> \n",
    "<p>If regex has two or more groups, it returns list of string tuples.</p>\n",
    "<p>If regex has single pattern, it returns list of strings.</p>"
   ]
  },
  {
   "cell_type": "markdown",
   "metadata": {},
   "source": [
    "<h4 style=\" color: #ff3300\">Q8. In standard expressions, what does the | character mean?</h4>\n",
    "\n",
    "<b style =\"color: #00b386\">Answer:</b> <p>\n",
    "<p>In python, <b>'|'</b> usualy used:</p>\n",
    "<p>If the two operands are integers, then it will perform a bitwise or, which is a mathematical operation.\n",
    "\n",
    "If the two operands are set types, the '|' operator will return the union of two sets.</b></p>\n"
   ]
  },
  {
   "cell_type": "markdown",
   "metadata": {},
   "source": [
    "<h4 style=\" color: #ff3300\">Q9. In regular expressions, what does the character stand for?</h4>\n",
    "\n",
    "<b style =\"color: #00b386\">Answer:</b> <p>\n",
    "<p>I was unable to understand question itself. It's same as above in assignment link as well.</p>\n"
   ]
  },
  {
   "cell_type": "markdown",
   "metadata": {},
   "source": [
    "<h4 style=\" color: #ff3300\">Q10. In regular expressions, what is the difference between the + and * characters?</h4>\n",
    "\n",
    "<b style =\"color: #00b386\">Answer:</b> <p>\n",
    "<p> <b> * </b> Check if match sequence and followed by 0 or 1 or more characters. </p>\n",
    "<p> <b> * </b> Check if match sequence and followed by 1 or more characters. </p>"
   ]
  },
  {
   "cell_type": "markdown",
   "metadata": {},
   "source": [
    "<h4 style=\" color: #ff3300\">Q11. What is the difference between {4} and {4,5} in regular expression?</h4>\n",
    "\n",
    "<b style =\"color: #00b386\">Answer:</b> <p>\n",
    "<p><b>{ 4 }</b> : Searches for a sequence that starts with specified match, followed excactly 4 (any) characters.</p>\n",
    "<p><b>{ 4,5 }</b> : Searches for a sequence that starts with specified match, followed excactly 4 or (any) characters.</p>\n",
    "\n",
    "<p>Example:</p> \n",
    "<b><p>txt = \"helllllo planet</p>\n",
    "<p>x = re.findall(\"he.{4,5}o\", txt)</p></b>\n",
    "<p>x value is <b>['Helllllo]</b></p>"
   ]
  },
  {
   "cell_type": "markdown",
   "metadata": {},
   "source": [
    "<h4 style=\" color: #ff3300\">Q12. What do you mean by the \\d, \\w, and \\s shorthand character classes signify in regular\n",
    "expressions?</h4>\n",
    "\n",
    "<b style =\"color: #00b386\">Answer:</b> <p>\n",
    "<p><b>\\d</b> : In regular expression, \\d is used to check whether a string contains digits( 0 to 9).</p>\n",
    "<p><b>\\w</b> : In regular expression, \\w is used to check whether a string contains Alphabets(a-z,A-Z) ,digits( 0 to 9) and undescore(_) charcater.</p>\n",
    "<p><b>\\s</b> : In regular expression, \\s is used to check whether a string contains space character(' ').</p>\n"
   ]
  },
  {
   "cell_type": "markdown",
   "metadata": {},
   "source": [
    "<h4 style=\" color: #ff3300\">Q13. What do means by \\D, \\W, and \\S shorthand character classes signify in regular expressions?</h4>\n",
    "\n",
    "<b style =\"color: #00b386\">Answer:</b> <p>\n",
    "<p><b>\\d</b> : In regular expression, \\d is used to check whether a string contains digits( 0 to 9).</p>\n",
    "<p><b>\\w</b> : In regular expression, \\w is used to check whether a string contains Alphabets(a-z,A-Z) ,digits( 0 to 9) and undescore(_) charcater.</p>\n",
    "<p><b>\\s</b> : In regular expression, \\s is used to check whether a string contains space character(' ').</p>\n"
   ]
  },
  {
   "cell_type": "markdown",
   "metadata": {},
   "source": [
    "<h4 style=\" color: #ff3300\">Q14. What is the difference between .*? and .*?</h4>\n",
    "\n",
    "<b style =\"color: #00b386\">Answer:</b> <p>\n",
    "<p> <b> .* </b> Check if match sequence and followed by 0 or 1 or more characters untill the end of given input string. This is also known as greedy in regex matching. </p>\n",
    "<p> <b> .*? </b> Check if match sequence and followed by 0 or 1 characters untill the end of given input string. This is also known as greedy in regex matching.</p>\n",
    "\n",
    "<p>Example: </p>\n",
    "\n",
    "<b><p>re.findall(\"1.*1\", '101000001') ===> '101000001'</p>\n",
    "<p>re.findall(\"1.*?1\", '101000001') ===> '101'</p></b>"
   ]
  },
  {
   "cell_type": "markdown",
   "metadata": {},
   "source": [
    "<h4 style=\" color: #ff3300\">Q15. What is the syntax for matching both numbers and lowercase letters with a character class?</h4>\n",
    "\n",
    "<b style =\"color: #00b386\">Answer:</b> <p>\n",
    "<p><b>re.findall(\"[a-z0-9]\",input_string)</b> is the syntax for matching both numbers and lowercase letters.</p>\n",
    "<p>It returns the list of charcater that macthes the condition</p>"
   ]
  },
  {
   "cell_type": "markdown",
   "metadata": {},
   "source": [
    "<h4 style=\" color: #ff3300\">Q16. What is the procedure for making a normal expression in regax case insensitive?</h4>\n",
    "\n",
    "<b style =\"color: #00b386\">Answer:</b> <p>\n",
    "<p>We can use <b>re.IGNORECASE</b> as flag value to regex functions and methods. </p>\n",
    "<p><b>Example:</b></p>"
   ]
  },
  {
   "cell_type": "code",
   "execution_count": 5,
   "metadata": {},
   "outputs": [
    {
     "data": {
      "text/plain": [
       "['s', 'a', 'i', 'K', 'U', 'm']"
      ]
     },
     "execution_count": 5,
     "metadata": {},
     "output_type": "execute_result"
    }
   ],
   "source": [
    "import re\n",
    "re.findall('[a-z]','saiKUm',flags=re.IGNORECASE)"
   ]
  },
  {
   "cell_type": "markdown",
   "metadata": {},
   "source": [
    "<h4 style=\" color: #ff3300\">Q17. What does the . character normally match? What does it match if re.DOTALL is passed as 2nd\n",
    "argument in re.compile()?</h4>\n",
    "\n",
    "<b style =\"color: #00b386\">Answer:</b> <p>\n",
    "<p><b> . character </b> searches for a sequence that starts with specifies character, followed by specifed . number (any) characters, and an ending macthing character. <b>excluding new line(\\n) character</b></p>\n",
    "<p><b>Example:</b></p>"
   ]
  },
  {
   "cell_type": "code",
   "execution_count": 29,
   "metadata": {},
   "outputs": [
    {
     "data": {
      "text/plain": [
       "['hello']"
      ]
     },
     "execution_count": 29,
     "metadata": {},
     "output_type": "execute_result"
    }
   ],
   "source": [
    "re.findall('he..o',string='hello')"
   ]
  },
  {
   "cell_type": "markdown",
   "metadata": {},
   "source": [
    "<p><b>re.DOTALL</b> is used as 2nd argument when there are new line(\\n) characters are present in text.<p>\n",
    "<p>Example:</p>"
   ]
  },
  {
   "cell_type": "code",
   "execution_count": 37,
   "metadata": {},
   "outputs": [
    {
     "name": "stdout",
     "output_type": "stream",
     "text": [
      "['Here it wnet to']\n",
      "\n",
      "\n",
      "['Here it wnet to\\n next lines']\n"
     ]
    }
   ],
   "source": [
    "s = 'Here it wnet to\\n next lines'\n",
    "print(re.findall(\"H.*\",s))\n",
    "print(\"\\n\")\n",
    "print(re.findall(\"H.*\",s,re.DOTALL))"
   ]
  },
  {
   "cell_type": "markdown",
   "metadata": {},
   "source": [
    "<h4 style=\" color: #ff3300\">Q18. If numReg = re.compile(r&#39;\\d+&#39;), what will numRegex.sub(&#39;X&#39;, &#39;11 drummers, 10 pipers, five rings, 4\n",
    "hen&#39;) return?</h4>\n",
    "\n",
    "<b style =\"color: #00b386\">Answer:</b> <p>\n",
    "<p>The above regular expression substitutues all the digital characters of one or more occurences with <b>X</b></p>\n",
    "<p><b>Example:</b></p>"
   ]
  },
  {
   "cell_type": "code",
   "execution_count": 38,
   "metadata": {},
   "outputs": [
    {
     "data": {
      "text/plain": [
       "re.compile(r'\\d+', re.UNICODE)"
      ]
     },
     "execution_count": 38,
     "metadata": {},
     "output_type": "execute_result"
    }
   ],
   "source": [
    "numReg = re.compile(r'\\d+')\n",
    "numReg"
   ]
  },
  {
   "cell_type": "code",
   "execution_count": 39,
   "metadata": {},
   "outputs": [
    {
     "data": {
      "text/plain": [
       "'X drummers, X pipers, five rings, X hen'"
      ]
     },
     "execution_count": 39,
     "metadata": {},
     "output_type": "execute_result"
    }
   ],
   "source": [
    "numReg.sub('X', '11 drummers, 10 pipers, five rings, 4 hen')"
   ]
  },
  {
   "cell_type": "markdown",
   "metadata": {},
   "source": [
    "<h4 style=\" color: #ff3300\">Q19. What does passing re.VERBOSE as the 2nd argument to re.compile() allow to do?</h4>\n",
    "\n",
    "<b style =\"color: #00b386\">Answer:</b> <p>\n",
    "<p><b>re.VERBOSE :</b> This flag allows you to write regular expressions that look nicer and are more readable by allowing you to visually separate logical sections of the pattern and add comments.</p>\n",
    "<p><b>Example:</b></p>"
   ]
  },
  {
   "cell_type": "code",
   "execution_count": 40,
   "metadata": {},
   "outputs": [],
   "source": [
    "# Without Using VERBOSE\n",
    "regex_email = re.compile(r'^([a-z0-9_\\.-]+)@([0-9a-z\\.-]+)\\.([a-z\\.]{2, 6})$',\n",
    "              re.IGNORECASE)\n",
    "   \n",
    "# Using VERBOSE\n",
    "regex_email = re.compile(r\"\"\"\n",
    "            ^([a-z0-9_\\.-]+)              # local Part\n",
    "            @                             # single @ sign\n",
    "            ([0-9a-z\\.-]+)                # Domain name\n",
    "            \\.                            # single Dot .\n",
    "            ([a-z]{2,6})$                 # Top level Domain  \n",
    "             \"\"\",re.VERBOSE | re.IGNORECASE)   "
   ]
  },
  {
   "cell_type": "code",
   "execution_count": 50,
   "metadata": {},
   "outputs": [
    {
     "name": "stdout",
     "output_type": "stream",
     "text": [
      "Right email format\n"
     ]
    }
   ],
   "source": [
    "res = regex_email.fullmatch('expectopatronum@gmail.com')\n",
    "if(res):\n",
    "    print('Right email format')\n",
    "else:\n",
    "    print('Invalid email formatt')"
   ]
  },
  {
   "cell_type": "markdown",
   "metadata": {},
   "source": [
    "<h4 style=\" color: #ff3300\">Q20. How would you write a regex that match a number with comma for every three digits? It must\n",
    "match the given following:<p>\n",
    "\n",
    "&#39;42&#39;\n",
    "    \n",
    "&#39;1,234&#39;\n",
    "\n",
    "&#39;6,368,745&#39;\n",
    "\n",
    "but not the following:\n",
    "    \n",
    "&#39;12,34,567\n",
    "\n",
    "&#39; (which has only two digits between the commas)\n",
    "    \n",
    "&#39;1234&#39; (which lacks commas)</h4>\n",
    "\n",
    "<b style =\"color: #00b386\">Answer:</b> <p>\n",
    "<p><b> re.findall('^\\d{1,3}(?:,\\d{3})*$',i )</b></p>\n",
    "<p><b>Example:</b></p>"
   ]
  },
  {
   "cell_type": "code",
   "execution_count": 81,
   "metadata": {},
   "outputs": [
    {
     "name": "stdout",
     "output_type": "stream",
     "text": [
      "['42']\n",
      "['1,234']\n",
      "['6,368,745']\n",
      "[]\n",
      "[]\n"
     ]
    }
   ],
   "source": [
    "values = ['42','1,234','6,368,745','12,34,567','1234']\n",
    "\n",
    "for i in values:\n",
    "    \n",
    "    \n",
    "    print(re.findall('^\\d{1,3}(?:,\\d{3})*$',i ))"
   ]
  },
  {
   "cell_type": "code",
   "execution_count": null,
   "metadata": {},
   "outputs": [],
   "source": []
  }
 ],
 "metadata": {
  "kernelspec": {
   "display_name": "Python 3",
   "language": "python",
   "name": "python3"
  },
  "language_info": {
   "codemirror_mode": {
    "name": "ipython",
    "version": 3
   },
   "file_extension": ".py",
   "mimetype": "text/x-python",
   "name": "python",
   "nbconvert_exporter": "python",
   "pygments_lexer": "ipython3",
   "version": "3.7.6"
  }
 },
 "nbformat": 4,
 "nbformat_minor": 4
}
