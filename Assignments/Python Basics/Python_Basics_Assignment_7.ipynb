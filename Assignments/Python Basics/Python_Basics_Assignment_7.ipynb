{
 "cells": [
  {
   "cell_type": "markdown",
   "metadata": {},
   "source": [
    "<b>Author/User:</b> <b style=\"color:#6666ff\">Sai Kumar Ramagiri</b><br>\n",
    "<b>Date:</b> <b style=\"color:#e69900\">21/3/2023</b><br>"
   ]
  },
  {
   "cell_type": "markdown",
   "metadata": {},
   "source": [
    "<u><h1 style=\"color:#006699; text-align:center\">PYTHON BASICS</h1></u>"
   ]
  },
  {
   "cell_type": "markdown",
   "metadata": {},
   "source": [
    "<u><h2 style=\"color:#24478f; text-align:center\">ASSIGNMENT 7</h2></u>"
   ]
  },
  {
   "cell_type": "markdown",
   "metadata": {},
   "source": [
    "<h4 style=\" color: #ff3300\">Q1. What is the name of the feature responsible for generating Regex objects?</h4>\n",
    "\n",
    "<b style =\"color: #00b386\">Answer:</b> <p> \n",
    "<p>From module <b>re</b>(Regualar Expression), <b>compile()</b> method can be used to generate or create Regex Objects. </p>\n"
   ]
  },
  {
   "cell_type": "markdown",
   "metadata": {},
   "source": [
    "<h4 style=\" color: #ff3300\">Q2. Why do raw strings often appear in Regex objects?</h4>\n",
    "\n",
    "<b style =\"color: #00b386\">Answer:</b> <p> \n",
    "<p> Raw strings are used and appeared much , while dealing which regex objects because,Normal string use escape characters. In regex it is easier to find right pattern with help of raw strings, as escape characters cannot be escaped. </p>\n",
    "\n",
    "<p>Example: </p>\n",
    "<p>Go through the code below</p>"
   ]
  },
  {
   "cell_type": "code",
   "execution_count": 24,
   "metadata": {},
   "outputs": [
    {
     "name": "stdout",
     "output_type": "stream",
     "text": [
      " \\ \\n sai\n"
     ]
    }
   ],
   "source": [
    "import re\n",
    "\n",
    "#using normal string\n",
    "s = ' \\\\ \\\\n sai'\n",
    "print(s)"
   ]
  },
  {
   "cell_type": "code",
   "execution_count": 23,
   "metadata": {},
   "outputs": [
    {
     "name": "stdout",
     "output_type": "stream",
     "text": [
      "\\ \\n sai\n"
     ]
    }
   ],
   "source": [
    "#using raw strings without using escape character\n",
    "s = r'\\ \\n sai'\n",
    "print(s)"
   ]
  },
  {
   "cell_type": "markdown",
   "metadata": {},
   "source": [
    "<h4 style=\" color: #ff3300\">Q3. What is the return value of the search() method?</h4>\n",
    "\n",
    "<b style =\"color: #00b386\">Answer:</b> <p> \n",
    "<p><b>search()</b>method searches for the string which suits the regex pattern.</p>\n",
    "<p>Example:</p>"
   ]
  },
  {
   "cell_type": "code",
   "execution_count": 44,
   "metadata": {
    "scrolled": true
   },
   "outputs": [
    {
     "data": {
      "text/plain": [
       "<re.Match object; span=(1, 4), match='ana'>"
      ]
     },
     "execution_count": 44,
     "metadata": {},
     "output_type": "execute_result"
    }
   ],
   "source": [
    "s = 'Rana Naidu'\n",
    "re.search('ana',s)"
   ]
  },
  {
   "cell_type": "markdown",
   "metadata": {},
   "source": [
    "<h4 style=\" color: #ff3300\">Q4. From a Match item, how do you get the actual strings that match the pattern?</h4>\n",
    "\n",
    "<b style =\"color: #00b386\">Answer:</b> <p> \n",
    "<p>We can get the actual strings, which are matched by regex pattern by using <b>group()</b></p>"
   ]
  },
  {
   "cell_type": "code",
   "execution_count": 51,
   "metadata": {},
   "outputs": [
    {
     "data": {
      "text/plain": [
       "'ana'"
      ]
     },
     "execution_count": 51,
     "metadata": {},
     "output_type": "execute_result"
    }
   ],
   "source": [
    "s = 'Rana Naidu'\n",
    "p = re.search('ana',s)\n",
    "p.group()"
   ]
  },
  {
   "cell_type": "markdown",
   "metadata": {},
   "source": [
    "<h4 style=\" color: #ff3300\">Q5. In the regex which created from the r&#39;(\\d\\d\\d)-(\\d\\d\\d-\\d\\d\\d\\d)&#39;, what does group zero cover?\n",
    "Group 2? Group 1?</h4>\n",
    "\n",
    "<b style =\"color: #00b386\">Answer:</b> <p> \n",
    "<p>group 0 covers entire match.</p>\n",
    "<p>group 1 covers match from first parenthesis set pattern.</p>\n",
    "<p>group 2 covers match from second parenthesis set pattern.</p>"
   ]
  },
  {
   "cell_type": "markdown",
   "metadata": {},
   "source": [
    "<h4 style=\" color: #ff3300\">Q6. In standard expression syntax, parentheses and intervals have distinct meanings. How can you tell\n",
    "a regex that you want it to fit real parentheses and periods?</h4>\n",
    "\n",
    "<b style =\"color: #00b386\">Answer:</b> <p> \n",
    "<p>A programmer can specify regard that we are looking for periods(<b>.</b>) and parenthesis<b>( )</b> using the escape charctaer <b> / </b></p>\n"
   ]
  },
  {
   "cell_type": "markdown",
   "metadata": {},
   "source": [
    "<h4 style=\" color: #ff3300\">Q7. The findall() method returns a string list or a list of string tuples. What causes it to return one of\n",
    "the two options?</h4>\n",
    "\n",
    "<b style =\"color: #00b386\">Answer:</b> <p> \n",
    "<p>If regex has two or more groups, it returns list of string tuples.</p>\n",
    "<p>If regex has single pattern, it returns list of strings.</p>"
   ]
  },
  {
   "cell_type": "markdown",
   "metadata": {},
   "source": [
    "<h4 style=\" color: #ff3300\">Q8. In standard expressions, what does the | character mean?</h4>\n",
    "\n",
    "<b style =\"color: #00b386\">Answer:</b> <p>\n",
    "<p>In python, <b>'|'</b> usualy used:</p>\n",
    "<p>If the two operands are integers, then it will perform a bitwise or, which is a mathematical operation.\n",
    "\n",
    "If the two operands are set types, the '|' operator will return the union of two sets.</b></p>\n"
   ]
  },
  {
   "cell_type": "markdown",
   "metadata": {},
   "source": [
    "<h4 style=\" color: #ff3300\">Q9. In regular expressions, what does the character stand for?</h4>\n",
    "\n",
    "<b style =\"color: #00b386\">Answer:</b> <p>\n",
    "<p>I was unable to understand question itself. It's same as above in assignment link as well.</p>\n"
   ]
  },
  {
   "cell_type": "markdown",
   "metadata": {},
   "source": [
    "<h4 style=\" color: #ff3300\">Q10. In regular expressions, what is the difference between the + and * characters?</h4>\n",
    "\n",
    "<b style =\"color: #00b386\">Answer:</b> <p>\n",
    "<p> <b> * </b> Check if charcter or match occuring 0 or more times. </p>\n",
    "<p> <b> + </b> Check if charcter or match occuring 1 or more times.</p>"
   ]
  },
  {
   "cell_type": "code",
   "execution_count": null,
   "metadata": {},
   "outputs": [],
   "source": []
  }
 ],
 "metadata": {
  "kernelspec": {
   "display_name": "Python 3",
   "language": "python",
   "name": "python3"
  },
  "language_info": {
   "codemirror_mode": {
    "name": "ipython",
    "version": 3
   },
   "file_extension": ".py",
   "mimetype": "text/x-python",
   "name": "python",
   "nbconvert_exporter": "python",
   "pygments_lexer": "ipython3",
   "version": "3.7.6"
  }
 },
 "nbformat": 4,
 "nbformat_minor": 4
}
