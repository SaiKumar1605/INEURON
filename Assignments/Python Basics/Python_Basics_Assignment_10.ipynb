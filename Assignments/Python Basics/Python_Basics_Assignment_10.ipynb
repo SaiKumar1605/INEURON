{
 "cells": [
  {
   "cell_type": "markdown",
   "metadata": {},
   "source": [
    "<b>Author/User:</b> <b style=\"color:#6666ff\">Sai Kumar Ramagiri</b><br>\n",
    "<b>Date:</b> <b style=\"color:#e69900\">30/3/2023</b><br>"
   ]
  },
  {
   "cell_type": "markdown",
   "metadata": {},
   "source": [
    "<u><h1 style=\"color:#006699; text-align:center\">PYTHON BASICS</h1></u>"
   ]
  },
  {
   "cell_type": "markdown",
   "metadata": {},
   "source": [
    "<u><h2 style=\"color:#24478f; text-align:center\">ASSIGNMENT 10</h2></u>"
   ]
  },
  {
   "cell_type": "markdown",
   "metadata": {},
   "source": [
    "<h4 style=\" color: #ff3300\">Q1. How do you distinguish between shutil.copy() and shutil.copytree()?</h4>\n",
    "\n",
    "<b style =\"color: #00b386\">Answer:</b> <p> \n",
    "<p><b>shutil.copy():</b>method in Python is used to copy the content of the source file to the destination file or directory.</p>\n",
    "<p><b>shutil.copytree():</b>method in Python is used to copy the content of the source file to the destination file or directory.</p>\n",
    "<p><b>shutil.copy()</b> will copy a single file, where as <b>shutil.copy()</b> copies whole file structure(entire folder and every folder and file contained in it).</p>\n",
    "\n",
    "<p><b></b></p>"
   ]
  },
  {
   "cell_type": "markdown",
   "metadata": {},
   "source": [
    "<h4 style=\" color: #ff3300\">Q2. What function is used to rename files???</h4>\n",
    "\n",
    "<b style =\"color: #00b386\">Answer:</b> <p>\n",
    "<p><b>os.rename():</b>method in Python is used to renmae the file or directory.</p>\n"
   ]
  },
  {
   "cell_type": "markdown",
   "metadata": {},
   "source": [
    "<h4 style=\" color: #ff3300\">Q3. What is the difference between the delete functions in the send2trash and shutil modules?</h4>\n",
    "\n",
    "<b style =\"color: #00b386\">Answer:</b> <p>\n",
    "<p><b>send2trash():</b>method in Python is deletes files and moves deleted file to recycle bin.</p>\n",
    "<p><b>shutill.rmtree():</b>method in Python is deletes files permanently.</p>"
   ]
  },
  {
   "cell_type": "markdown",
   "metadata": {},
   "source": [
    "<h4 style=\" color: #ff3300\">Q4.ZipFile objects have a close() method just like File objects’ close() method. What ZipFile method is equivalent to File objects’ open() method?</h4>\n",
    "\n",
    "<b style =\"color: #00b386\">Answer:</b> \n",
    "<p><b>ZipFile.Zipfile():</b>method in Python is equivalent to File objects open() method.</p>\n"
   ]
  },
  {
   "cell_type": "markdown",
   "metadata": {},
   "source": [
    "<h4 style=\" color: #ff3300\">Q5. Create a programme that searches a folder tree for files with a certain file extension (such as .pdf\n",
    "or .jpg). Copy these files from whatever location they are in to a new folder.</h4>\n",
    "\n",
    "<b style =\"color: #00b386\">Answer:</b> \n",
    "<p><b>ZipFile.Zipfile():</b>method in Python is equivalent to File objects open() method.</p>\n"
   ]
  },
  {
   "cell_type": "code",
   "execution_count": 1,
   "metadata": {},
   "outputs": [],
   "source": [
    "import shutil\n",
    "import os"
   ]
  },
  {
   "cell_type": "code",
   "execution_count": 3,
   "metadata": {},
   "outputs": [
    {
     "name": "stdout",
     "output_type": "stream",
     "text": [
      "pithre.txt\n"
     ]
    }
   ],
   "source": [
    "current_directory = os.getcwd()\n",
    "os.mkdir('New_F1')\n",
    "for i in os.listdir():\n",
    "    if (os.path.splitext(i)[1] == '.txt') or ((os.path.splitext(i)[1] == '.jps')):\n",
    "        \n",
    "        print(i)\n",
    "        shutil.copy(current_directory + '\\\\' + i, current_directory+'\\\\'+'New_F\\\\new_text.txt')\n",
    "    "
   ]
  },
  {
   "cell_type": "code",
   "execution_count": null,
   "metadata": {},
   "outputs": [],
   "source": []
  }
 ],
 "metadata": {
  "kernelspec": {
   "display_name": "Python 3",
   "language": "python",
   "name": "python3"
  },
  "language_info": {
   "codemirror_mode": {
    "name": "ipython",
    "version": 3
   },
   "file_extension": ".py",
   "mimetype": "text/x-python",
   "name": "python",
   "nbconvert_exporter": "python",
   "pygments_lexer": "ipython3",
   "version": "3.7.6"
  }
 },
 "nbformat": 4,
 "nbformat_minor": 4
}
