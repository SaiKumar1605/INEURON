{
 "cells": [
  {
   "cell_type": "markdown",
   "metadata": {},
   "source": [
    "<b>Author/User:</b> <b style=\"color:#6666ff\">Sai Kumar Ramagiri</b><br>\n",
    "<b>Date:</b> <b style=\"color:#e69900\">15/3/2023</b><br>"
   ]
  },
  {
   "cell_type": "markdown",
   "metadata": {},
   "source": [
    "<u><h1 style=\"color:#006699; text-align:center\">PYTHON BASICS</h1></u>"
   ]
  },
  {
   "cell_type": "markdown",
   "metadata": {},
   "source": [
    "<u><h2 style=\"color:#24478f; text-align:center\">ASSIGNMENT 3</h2></u>"
   ]
  },
  {
   "cell_type": "markdown",
   "metadata": {},
   "source": [
    "\n",
    "<h4 style=\" color: #ff3300\">Q1. Why are functions advantageous to have in your programs?</h4>\n",
    "\n",
    "<b style =\"color: #00b386\">Answer:</b> <p> \n",
    "<p>Writing functions will help in reusing the code. So that, a programmer does not need to write same lines of code again and again.</p>\n"
   ]
  },
  {
   "cell_type": "markdown",
   "metadata": {},
   "source": [
    "<h4 style=\" color: #ff3300\">Q2. When does the code in a function run: when it&#39;s specified or when it&#39;s called?</h4>\n",
    "\n",
    "<b style =\"color: #00b386\">Answer:</b> \n",
    "<p>The code inside the function gets executed whenever it is called.</p>"
   ]
  },
  {
   "cell_type": "markdown",
   "metadata": {},
   "source": [
    "<h4 style=\" color: #ff3300\">Q3. What statement creates a function?</h4>\n",
    "\n",
    "<b style =\"color: #00b386\">Answer:</b> \n",
    "<p><b>Def</b> keyword is used to create a function.</p>\n",
    "<P>Example: <b>def function1: {}</b> </p>"
   ]
  },
  {
   "cell_type": "markdown",
   "metadata": {},
   "source": [
    "<h4 style=\" color: #ff3300\">Q4. What is the difference between a function and a function call?</h4>\n",
    "\n",
    "<b style =\"color: #00b386\">Answer:</b> \n",
    "<p>Function is block of clode stored, which does the particular/desirable task.</p>\n",
    "<P>Using the function using it's defined name , whenever particular task is required is nothing But function call. </p>\n",
    "<p><b>Example:</b></p>\n",
    "<p>def add(a,b): {return a + b} <b> - Function</b></p>\n",
    "<p>add(2+3) <b> - Function Call</b></p>"
   ]
  },
  {
   "cell_type": "markdown",
   "metadata": {},
   "source": [
    "<h4 style=\" color: #ff3300\">Q5. How many global scopes are there in a Python program? How many local scopes?</h4>\n",
    "\n",
    "<b style =\"color: #00b386\">Answer:</b> \n",
    "<p>In a programming environment, the global scope is the scope that contains, and is visible in, all other scopes. Names in this Python scope are visible from everywhere in your code.</p>\n",
    "<P>Local scope contains things defined inside code blocks like function. A local variable has local scope. Their access is limited to only inside that function.</p>\n",
    "<p>A programmer can write as many as gloab and local scope variables keeping in mind the rules and limitations.</p>"
   ]
  },
  {
   "cell_type": "markdown",
   "metadata": {},
   "source": [
    "<h4 style=\" color: #ff3300\">Q6. What happens to variables in a local scope when the function call returns?</h4>\n",
    "\n",
    "<b style =\"color: #00b386\">Answer:</b> \n",
    "<p>When the function is called, Local variable inside is created and allocated a memory. As soon as function call returns, local variables are destroyed.</p>"
   ]
  },
  {
   "cell_type": "markdown",
   "metadata": {},
   "source": [
    "<h4 style=\" color: #ff3300\">Q7. What is the concept of a return value? Is it possible to have a return value in an expression?</h4>\n",
    "\n",
    "<b style =\"color: #00b386\">Answer:</b> \n",
    "<p>When the function is called, Local variable inside is created and allocated a memory. As soon as function call returns, local variables are destroyed.</p>"
   ]
  },
  {
   "cell_type": "markdown",
   "metadata": {},
   "source": [
    "<h4 style=\" color: #ff3300\">Q8. If a function does not have a return statement, what is the return value of a call to that function?</h4>\n",
    "\n",
    "<b style =\"color: #00b386\">Answer:</b> \n",
    "<p>If the function does not have a return statement, It will return 'None' value.</p>"
   ]
  },
  {
   "cell_type": "markdown",
   "metadata": {},
   "source": [
    "<h4 style=\" color: #ff3300\">Q9. How do you make a function variable refer to the global variable?</h4>\n",
    "\n",
    "<b style =\"color: #00b386\">Answer:</b> \n",
    "<p>We can create a global variable inside a function, by declaring a varible as global when it is created.</p>\n",
    "<p>Example:<br> \n",
    "    <b>def function1():<br> \n",
    "    &emsp;&emsp;&emsp;&emsp;global x<br>\n",
    "        &emsp;&emsp;&emsp;&emsp;x = 'Hunter'</b></p>"
   ]
  },
  {
   "cell_type": "markdown",
   "metadata": {},
   "source": [
    "<h4 style=\" color: #ff3300\">Q10. What is the data type of None?</h4>\n",
    "\n",
    "<b style =\"color: #00b386\">Answer:</b> \n",
    "<p>The datatype of 'None' is <b>NoneType</b>. </p>"
   ]
  },
  {
   "cell_type": "markdown",
   "metadata": {},
   "source": [
    "<h4 style=\" color: #ff3300\">Q11. What does the sentence import areallyourpetsnamederic do?</h4>\n",
    "\n",
    "<b style =\"color: #00b386\">Answer:</b> \n",
    "<p>The keyword<b>import</b> is used in importing module/library.  In simple terms, It is used to make use of code which is in one module to other module.</p>"
   ]
  },
  {
   "cell_type": "markdown",
   "metadata": {},
   "source": [
    "<h4 style=\" color: #ff3300\">Q12. If you had a bacon() feature in a spam module, what would you call it after importing spam?</h4>\n",
    "\n",
    "<b style =\"color: #00b386\">Answer:</b> \n",
    "<p> The bacon() feature/function in spam module can be called/accessed by using in following way:</p>\n",
    "<p><b>spam.bacon()</b></p>"
   ]
  },
  {
   "cell_type": "markdown",
   "metadata": {},
   "source": [
    "<h4 style=\" color: #ff3300\">Q13. What can you do to save a programme from crashing if it encounters an error?</h4>\n",
    "\n",
    "<b style =\"color: #00b386\">Answer:</b> \n",
    "<p>A programmer can save a programme from crashing ,Whean it encounters a erros by using the <b>Exception Handling</b> Techniques.</p>"
   ]
  },
  {
   "cell_type": "markdown",
   "metadata": {},
   "source": [
    "<h4 style=\" color: #ff3300\">Q14. What is the purpose of the try clause? What is the purpose of the except clause?</h4>\n",
    "\n",
    "<b style =\"color: #00b386\">Answer:</b> \n",
    "<p>The <b>Try</b> clause block will test a block of code for errors. If any errors found, <b>Except</b> clause will handle the errors.</p>"
   ]
  }
 ],
 "metadata": {
  "kernelspec": {
   "display_name": "Python 3",
   "language": "python",
   "name": "python3"
  },
  "language_info": {
   "codemirror_mode": {
    "name": "ipython",
    "version": 3
   },
   "file_extension": ".py",
   "mimetype": "text/x-python",
   "name": "python",
   "nbconvert_exporter": "python",
   "pygments_lexer": "ipython3",
   "version": "3.7.6"
  }
 },
 "nbformat": 4,
 "nbformat_minor": 5
}
