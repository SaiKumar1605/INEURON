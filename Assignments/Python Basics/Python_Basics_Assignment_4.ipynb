{
 "cells": [
  {
   "cell_type": "markdown",
   "metadata": {},
   "source": [
    "<b>Author/User:</b> <b style=\"color:#6666ff\">Sai Kumar Ramagiri</b><br>\n",
    "<b>Date:</b> <b style=\"color:#e69900\">16/3/2023</b><br>"
   ]
  },
  {
   "cell_type": "markdown",
   "metadata": {},
   "source": [
    "<u><h1 style=\"color:#006699; text-align:center\">PYTHON BASICS</h1></u>"
   ]
  },
  {
   "cell_type": "markdown",
   "metadata": {},
   "source": [
    "<u><h2 style=\"color:#24478f; text-align:center\">ASSIGNMENT 4</h2></u>"
   ]
  },
  {
   "cell_type": "markdown",
   "metadata": {},
   "source": [
    "<h4 style=\" color: #ff3300\">Q1. What exactly is []?</h4>\n",
    "\n",
    "<b style =\"color: #00b386\">Answer:</b> <p> \n",
    "<p>[ ] is an empty list. List is used to store multiple values of same (or) different data types in a single variable. </p>"
   ]
  },
  {
   "cell_type": "markdown",
   "metadata": {},
   "source": [
    "<h4 style=\" color: #ff3300\">Q2. In a list of values stored in a variable called spam, how would you assign the value &#39;hello&#39; as the\n",
    "third value? (Assume [2, 4, 6, 8, 10] are in spam.)</h4>\n",
    "\n",
    "<b style =\"color: #00b386\">Answer:</b> <p> \n",
    "<p>The value 'hello' can be inserted into list spam at third position using the insert() function.</p>\n",
    "<p><b>spam.insert(2,'hello')</b></p>"
   ]
  },
  {
   "cell_type": "markdown",
   "metadata": {},
   "source": [
    "<h4 style=\" color: #ff3300\">Let&#39;s pretend the spam includes the list [&#39;a&#39;, &#39;b&#39;, &#39;c&#39;, &#39;d&#39;] for the next three queries.<br>\n",
    "    \n",
    "Q3. What is the value of spam[int(int(&#39;3&#39; * 2) / 11)]?</h4>\n",
    "\n",
    "<b style =\"color: #00b386\">Answer:</b> <p> \n",
    "<p>spam[int(int('3' * 2) / 11)] gives/returns the value <b>'d'</b></p>"
   ]
  },
  {
   "cell_type": "markdown",
   "metadata": {},
   "source": [
    "<h4 style=\" color: #ff3300\">Q4. What is the value of spam[-1]?</h4>\n",
    "\n",
    "<b style =\"color: #00b386\">Answer:</b> <p> \n",
    "<p>spam[-1] gives/returns the value <b>'d'</b></p>"
   ]
  },
  {
   "cell_type": "markdown",
   "metadata": {},
   "source": [
    "<h4 style=\" color: #ff3300\">Q5. What is the value of spam[:2]?</h4>\n",
    "\n",
    "<b style =\"color: #00b386\">Answer:</b> <p> \n",
    "<p>spam[:2] gives/returns the list <b>['a','b']</b> </p>"
   ]
  },
  {
   "cell_type": "markdown",
   "metadata": {},
   "source": [
    "<h4 style=\" color: #ff3300\">Let&#39;s pretend bacon has the list [3.14, &#39;cat,&#39; 11, &#39;cat,&#39; True] for the next three questions.<br>\n",
    "    \n",
    "Q6. What is the value of bacon.index(&#39;cat&#39;)?</h4>\n",
    "\n",
    "<b style =\"color: #00b386\">Answer:</b> <p> \n",
    "<p>bacon.index('cat') gives the value <b>1</b>. As list.index(value) gives the first index number of value if the value is present more than one time in list.</p>"
   ]
  },
  {
   "cell_type": "markdown",
   "metadata": {},
   "source": [
    "<h4 style=\" color: #ff3300\">Q7. How does bacon.append(99) change the look of the list value in bacon?</h4>\n",
    "\n",
    "<b style =\"color: #00b386\">Answer:</b> <p> \n",
    "<p>bacon.append(99)  will add  <b>99</b> at the end of the list. The list will look like:</p>\n",
    "<p>bacon: <b>[3.14, 'cat', '11', 'cat', True, 99]</b></p>"
   ]
  },
  {
   "cell_type": "markdown",
   "metadata": {},
   "source": [
    "<h4 style=\" color: #ff3300\">Q8. How does bacon.remove(&#39;cat&#39;) change the look of the list in bacon?</h4>\n",
    "\n",
    "<b style =\"color: #00b386\">Answer:</b> <p> \n",
    "<p>bacon.remove('cat') will remove the first occurence of value 'cat' in list. The list will look like:</p>\n",
    "<p>bacon: <b>[3.14, '11', 'cat', True, 99]</b></p>"
   ]
  },
  {
   "cell_type": "markdown",
   "metadata": {},
   "source": [
    "<h4 style=\" color: #ff3300\">Q9. What are the list concatenation and list replication operators?</h4>\n",
    "\n",
    "<b style =\"color: #00b386\">Answer:</b> <p> \n",
    "<p> <b>'+'</b> is used to concatenate two lists and <b>*</b> is used to replicate list. </p>\n",
    "<p>Example_1: <b>list1 + list2 (concatenation)</b></p>\n",
    "<p>Example_2: <b>list1 * 2 (Replication)</b></p>"
   ]
  },
  {
   "cell_type": "markdown",
   "metadata": {},
   "source": [
    "<h4 style=\" color: #ff3300\">Q10. What is difference between the list methods append() and insert()?</h4>\n",
    "\n",
    "<b style =\"color: #00b386\">Answer:</b> <p> \n",
    "<p><b>append()</b> adds value at end of the list. <b>insert()</b> inserts value at specified index number.</p>"
   ]
  },
  {
   "cell_type": "markdown",
   "metadata": {},
   "source": [
    "<h4 style=\" color: #ff3300\">Q11. What are the two methods for removing items from a list?</h4>\n",
    "\n",
    "<b style =\"color: #00b386\">Answer:</b> <p> \n",
    "<p><b>list.pop()</b> and <b>list.remove()</b> are two methods for removing items from a list.</p>"
   ]
  },
  {
   "cell_type": "markdown",
   "metadata": {},
   "source": [
    "<h4 style=\" color: #ff3300\">Q12. Describe how list values and string values are identical.</h4>\n",
    "\n",
    "<b style =\"color: #00b386\">Answer:</b> <p> \n",
    "<p> A list is ordered sequence of values of any data type, where as string is ordered sequence of characters. </p>\n",
    "<p> Lists and strings are both sequences. That's the identical part.</p>\n",
    "<p> While lists are mutable, strings can immutable.</p>"
   ]
  },
  {
   "cell_type": "markdown",
   "metadata": {},
   "source": [
    "<h4 style=\" color: #ff3300\">Q13. What&#39;s the difference between tuples and lists?</h4>\n",
    "\n",
    "<b style =\"color: #00b386\">Answer:</b> <p> \n",
    "<p><b>lists</b> are <b>mutable</b> , which means that a programmer can change values in list.</p>\n",
    "<p>Where as <b>tuples</b> are <b>immutable</b> , which means that a programmer cannot change values in tuple once they are created/assigned.</p>"
   ]
  },
  {
   "cell_type": "markdown",
   "metadata": {},
   "source": [
    "<h4 style=\" color: #ff3300\">Q14. How do you type a tuple value that only contains the integer 42?</h4>\n",
    "\n",
    "<b style =\"color: #00b386\">Answer:</b> <p> \n",
    "<p><b>t1 = (42,)</b> is the way of declaring the tuple which only contains one integer 42.</p>"
   ]
  },
  {
   "cell_type": "markdown",
   "metadata": {},
   "source": [
    "<h4 style=\" color: #ff3300\">Q15. How do you get a list value&#39;s tuple form? How do you get a tuple value&#39;s list form?</h4>\n",
    "\n",
    "<b style =\"color: #00b386\">Answer:</b> <p> \n",
    "<p>A list can be converted into tuple using below lines of code:</p>\n",
    "<b>tuple([1,2,3,4,5])</b>\n",
    "<p>Simmilarly, a tuple can be converted into list using below lines of code:</p>\n",
    "<b>list((1,2,3,4,5))</b>"
   ]
  },
  {
   "cell_type": "markdown",
   "metadata": {},
   "source": [
    "<h4 style=\" color: #ff3300\">Q16. Variables that &quot;contain&quot; list values are not necessarily lists themselves. Instead, what do they\n",
    "contain?</h4>\n",
    "\n",
    "<b style =\"color: #00b386\">Answer:</b> <p> \n",
    "<p>A list can be inside a dictionary or tuple or inside an other list. A variabe can also contain reference to values of list.</p>\n",
    "<p>Example:</p>\n",
    "<p><b>List inside list: [1,2,[1,2,'Bramha']]</b></p>\n",
    "<p><b>List inside Tuple: (1,2,[1,2,'Bramha'])</b></p>\n",
    "<p><b>List inside Dictionary: {'a':1,'b':2,'c': [1,2,'Bramha']}</b></p>\n",
    "<p><b>variabe_1 = list_1[0:2]</b></p>"
   ]
  },
  {
   "cell_type": "markdown",
   "metadata": {},
   "source": [
    "<h4 style=\" color: #ff3300\">Q17. How do you distinguish between copy.copy() and copy.deepcopy()?</h4>\n",
    "\n",
    "<b style =\"color: #00b386\">Answer:</b> <p> \n",
    "<p>copy.copy() creates reference copy  of original objects/values. Where as deepcopy() create a new object and then copies original object elements into new object.</p>\n",
    "<p>If there changes in objectes created using copy() method, it will be reflected in original as well.</p>\n",
    "<p>It is opposite in case of deepcopy() method. The changed won't be reflected in original copy.</p>"
   ]
  }
 ],
 "metadata": {
  "kernelspec": {
   "display_name": "Python 3",
   "language": "python",
   "name": "python3"
  },
  "language_info": {
   "codemirror_mode": {
    "name": "ipython",
    "version": 3
   },
   "file_extension": ".py",
   "mimetype": "text/x-python",
   "name": "python",
   "nbconvert_exporter": "python",
   "pygments_lexer": "ipython3",
   "version": "3.7.6"
  }
 },
 "nbformat": 4,
 "nbformat_minor": 4
}
