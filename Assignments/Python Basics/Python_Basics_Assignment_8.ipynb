{
 "cells": [
  {
   "cell_type": "markdown",
   "metadata": {},
   "source": [
    "<b>Author/User:</b> <b style=\"color:#6666ff\">Sai Kumar Ramagiri</b><br>\n",
    "<b>Date:</b> <b style=\"color:#e69900\">17/3/2023</b><br>"
   ]
  },
  {
   "cell_type": "markdown",
   "metadata": {},
   "source": [
    "<u><h1 style=\"color:#006699; text-align:center\">PYTHON BASICS</h1></u>"
   ]
  },
  {
   "cell_type": "markdown",
   "metadata": {},
   "source": [
    "<u><h2 style=\"color:#24478f; text-align:center\">ASSIGNMENT 6</h2></u>"
   ]
  },
  {
   "cell_type": "markdown",
   "metadata": {},
   "source": [
    "<h4 style=\" color: #ff3300\">Q1. Is the Python Standard Library included with PyInputPlus?</h4>\n",
    "\n",
    "<b style =\"color: #00b386\">Answer:</b> <p> \n",
    "<p>Python Standard Library does not include PyInputPlus. It has to be installed and imported.</p>"
   ]
  },
  {
   "cell_type": "markdown",
   "metadata": {},
   "source": [
    "<h4 style=\" color: #ff3300\">Q2. Why is PyInputPlus commonly imported with import pyinputplus as pypi?</h4>\n",
    "\n",
    "<b style =\"color: #00b386\">Answer:</b> <p> \n",
    "<p>PyInputPlus is a Python module used for taking inputs with additional validation features.</p>\n",
    "<p>Any python module is can be imported with alias name. PyInputPlus is commonly imported as pypi, so that it can be called with shorter names whenever needed. Alias name can be anything.</p>"
   ]
  },
  {
   "cell_type": "markdown",
   "metadata": {},
   "source": [
    "<h4 style=\" color: #ff3300\">Q3. How do you distinguish between inputInt() and inputFloat()?</h4>\n",
    "\n",
    "<b style =\"color: #00b386\">Answer:</b> <p> \n",
    "<p>pypi.inputInt() is used  check whether input is Integer. It only accepets integers as input and returns integer value.</p>\n",
    "<p>pypi.inputFloat() is used  check whether input is Integer/Float number. It only accepets Floating point decimal  as input and returns float value.</p>"
   ]
  },
  {
   "cell_type": "markdown",
   "metadata": {},
   "source": [
    "<h4 style=\" color: #ff3300\">Q4. Using PyInputPlus, how do you ensure that the user enters a whole number between 0 and 99?</h4>\n",
    "\n",
    "<b style =\"color: #00b386\">Answer:</b>\n",
    "<p>A programmer can use following code to ensure that entered number is between 0 and 99: </p>"
   ]
  },
  {
   "cell_type": "code",
   "execution_count": 5,
   "metadata": {},
   "outputs": [],
   "source": [
    "import pyinputplus as pypi"
   ]
  },
  {
   "cell_type": "code",
   "execution_count": 6,
   "metadata": {},
   "outputs": [
    {
     "name": "stdout",
     "output_type": "stream",
     "text": [
      "Enter any numer:  45\n"
     ]
    }
   ],
   "source": [
    "a = pypi.inputInt('Enter any numer:  ',min=0,max=99)"
   ]
  },
  {
   "cell_type": "code",
   "execution_count": 7,
   "metadata": {},
   "outputs": [
    {
     "data": {
      "text/plain": [
       "45"
      ]
     },
     "execution_count": 7,
     "metadata": {},
     "output_type": "execute_result"
    }
   ],
   "source": [
    "a"
   ]
  },
  {
   "cell_type": "markdown",
   "metadata": {},
   "source": [
    "<h4 style=\" color: #ff3300\">Q5. What is transferred to the keyword arguments allowRegexes and blockRegexes?</h4>\n",
    "\n",
    "<b style =\"color: #00b386\">Answer:</b>\n",
    "<p><b>allowRegexes</b> and <b>bockRegexes</b> passed as parameters to <b>inputStr()</b>. Which validates inputs as string.</p>\n",
    "<p><b>allowRegexes :</b>It allows certain inputs and characters mentioned to this paramater.</p>\n",
    "<p><b>blockRegexes :</b>It blocks certain inputs and characters mentioned to this paramater.</p>"
   ]
  },
  {
   "cell_type": "code",
   "execution_count": null,
   "metadata": {},
   "outputs": [],
   "source": []
  }
 ],
 "metadata": {
  "kernelspec": {
   "display_name": "Python 3",
   "language": "python",
   "name": "python3"
  },
  "language_info": {
   "codemirror_mode": {
    "name": "ipython",
    "version": 3
   },
   "file_extension": ".py",
   "mimetype": "text/x-python",
   "name": "python",
   "nbconvert_exporter": "python",
   "pygments_lexer": "ipython3",
   "version": "3.7.6"
  }
 },
 "nbformat": 4,
 "nbformat_minor": 4
}
