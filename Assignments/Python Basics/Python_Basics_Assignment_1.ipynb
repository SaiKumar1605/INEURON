{
 "cells": [
  {
   "cell_type": "markdown",
   "metadata": {},
   "source": [
    "<b>Author/User:</b> <b style=\"color:#6666ff\">Sai Kumar Ramagiri</b><br>\n",
    "<b>Date of Submission:</b> <b style=\"color:#e69900\">08/3/2023</b><br>"
   ]
  },
  {
   "cell_type": "markdown",
   "metadata": {},
   "source": [
    "<u><h1 style=\"color:#006699; text-align:center\">PYTHON BASICS</h1></u>"
   ]
  },
  {
   "cell_type": "markdown",
   "metadata": {},
   "source": [
    "<u><h2 style=\"color:#24478f; text-align:center\">ASSIGNMENT 1</h2></u>"
   ]
  },
  {
   "cell_type": "markdown",
   "metadata": {},
   "source": [
    "\n",
    "<h4 style=\" color: #ff3300\">Q1. In the below elements which of them are values or an expression? eg:- values can be\n",
    "integer or string and expressions will be mathematical operators.</h4>\n",
    "\n",
    "- *\n",
    "- hello\n",
    "- -87.8\n",
    "- -\n",
    "- /\n",
    "- +\n",
    "- 6\n",
    "\n",
    "<b style =\"color: #00b386\">Answer:</b> <p> <b>* , - , / , + </b> are expressions and <b>hello, -87.8, 6</b> are values. </p>"
   ]
  },
  {
   "cell_type": "markdown",
   "metadata": {},
   "source": [
    "\n",
    "<h4 style=\" color: #ff3300\">Q2. What is the difference between string and variable?</h4>\n",
    "\n",
    "<b style =\"color: #00b386\">Answer:</b>\n",
    "<p> A variable is name of location in memory of computer. A variable can store any dataype likes strings and numbers.</p>\n",
    "<p>A string is one of the datatype in python. Basically a string is sequence of characters whether it might be digits or alphabets or special charcters. </p>"
   ]
  },
  {
   "cell_type": "markdown",
   "metadata": {},
   "source": [
    "\n",
    "<h4 style=\" color: #ff3300\">Q3. Describe three different data types.</h4>\n",
    "\n",
    "<b style =\"color: #00b386\">Answer:</b>\n",
    "<p><b>INTEGER:</b> It is a numeric data types which holds integers. Such as 1,200,80</p>\n",
    "<p><b>FLOAT:</b> It is a numeric data types which holds floating decimal points. Such as 1.0, 200.24, 80.90</p>\n",
    "<p><b>STRING:</b> It consits sequence of characters whether it might be digits or alphabets or special charcters. Such as 'Temper','Bloodpressure','kumar90','90$'."
   ]
  },
  {
   "cell_type": "markdown",
   "metadata": {},
   "source": [
    "\n",
    "<h4 style=\" color: #ff3300\">Q4. What is an expression made up of? What do all expressions do?</h4>\n",
    "\n",
    "<b style =\"color: #00b386\">Answer:</b>\n",
    "<p> Expression is made up of operators and operands. In simple terms, Expression is combination of numbers, symbols(operators), and variables.</p>\n",
    "<p>Example: <b>x = 2 + (3 * 2)</b></p>\n",
    "<p>Here x is variable, 2,3,2 are numbers(operands) and *,+ are operators</p>"
   ]
  },
  {
   "cell_type": "markdown",
   "metadata": {},
   "source": [
    "\n",
    "<h4 style=\" color: #ff3300\">Q5. This assignment statements, like spam = 10. What is the difference between an expression and a statement?</h4>\n",
    "\n",
    "<b style =\"color: #00b386\">Answer:</b>\n",
    "<p> <b>EXPRESSION:</b> Expression is combination of operators and operands. In simple terms, Expression is combination of numbers, symbols(operators), and variables.</p>\n",
    "<p><b>STATEMENT:</b> A statement is a unit of code that has an effect, like creating a variable or displaying a value. </p>\n",
    "<p>In example <b>spam = 10</b>, whole example itself is a statement and as well as expession, as Assignment operator \"=\" is used.</p>"
   ]
  },
  {
   "cell_type": "markdown",
   "metadata": {},
   "source": [
    "\n",
    "<h4 style=\" color: #ff3300\">Q6. After running the following code, what does the variable bacon contain?<br>\n",
    "<br>bacon = 22\n",
    "<br>bacon + 1</h4>\n",
    "\n",
    "<b style =\"color: #00b386\">Answer:</b>\n",
    "<p> The value of the variable bacon remains same.</p>\n",
    "<p>varibale bacon value will be 22</p>"
   ]
  },
  {
   "cell_type": "markdown",
   "metadata": {},
   "source": [
    "\n",
    "<h4 style=\" color: #ff3300\">Q7. What should the values of the following two terms be?<br>\n",
    "<br>'spam' + 'spamspam'\n",
    "<br>'spam' * 3</h4>\n",
    "\n",
    "<b style =\"color: #00b386\">Answer:</b>\n",
    "<p>'spam' + 'spamspam' = 'spamspamspam'</p>\n",
    "<p>'spam' * 3 = 'spamspamspam'</p>\n"
   ]
  },
  {
   "cell_type": "markdown",
   "metadata": {},
   "source": [
    "\n",
    "<h4 style=\" color: #ff3300\">Q8. Why is eggs a valid variable name while 100 is invalid?</h4>\n",
    "\n",
    "<b style =\"color: #00b386\">Answer:</b>\n",
    "<p>A varibale name CAN start with alphabet or underscore(_) so <b>eggs</b> is valid variable name.</p>\n",
    "<p>A varibale name CANNOT start with number or any special character except underscore(_) so <b>100</b> is invalid variable name.</p>"
   ]
  },
  {
   "cell_type": "markdown",
   "metadata": {},
   "source": [
    "\n",
    "<h4 style=\" color: #ff3300\">Q9. What three functions can be used to get the integer, floating-point number, or string version of a value?</h4>\n",
    "\n",
    "<b style =\"color: #00b386\">Answer:</b>\n",
    "<p>variable1 = 9</p>\n",
    "<p>For above variable of numeric datatype, we can use below functions to get respective data types.</p>\n",
    "<p><b>int(variable1)</b> converts and gives <b>9</b> as integer datatype</p>\n",
    "<p><b>float(variable1)</b> converts and gives <b>9.0</b> as integer datatype</p>\n",
    "<p><b>str(variable1)</b> converts and gives <b>'9'</b> as integer datatype</p>"
   ]
  },
  {
   "cell_type": "markdown",
   "metadata": {},
   "source": [
    "\n",
    "<h4 style=\" color: #ff3300\">Q10. Why does this expression cause an error? How can you fix it?<br>\n",
    "<br>'I have eaten ' + 99 + ' burritos.'</h4>\n",
    "\n",
    "<b style =\"color: #00b386\">Answer:</b>\n",
    "<p>Above exprssion causes an error because, value <b>99<b> is of integer datatpe.</p>\n",
    "<p>Value 99 needed to be converted from integet dataype to string before concatinating with other strings. </p>\n",
    "<p>Below expression fixes the error:</p>\n",
    "    <p><b>'I have eaten ' + str(99) + ' burritos.'</b></p>\n"
   ]
  },
  {
   "cell_type": "code",
   "execution_count": null,
   "metadata": {},
   "outputs": [],
   "source": []
  }
 ],
 "metadata": {
  "kernelspec": {
   "display_name": "Python 3",
   "language": "python",
   "name": "python3"
  },
  "language_info": {
   "codemirror_mode": {
    "name": "ipython",
    "version": 3
   },
   "file_extension": ".py",
   "mimetype": "text/x-python",
   "name": "python",
   "nbconvert_exporter": "python",
   "pygments_lexer": "ipython3",
   "version": "3.7.6"
  }
 },
 "nbformat": 4,
 "nbformat_minor": 5
}
