{
 "cells": [
  {
   "cell_type": "markdown",
   "metadata": {},
   "source": [
    "<b>Author/User:</b> <b style=\"color:#6666ff\">Sai Kumar Ramagiri</b><br>\n",
    "<b>Date:</b> <b style=\"color:#e69900\">19/3/2023</b><br>"
   ]
  },
  {
   "cell_type": "markdown",
   "metadata": {},
   "source": [
    "<u><h1 style=\"color:#006699; text-align:center\">PYTHON BASICS</h1></u>"
   ]
  },
  {
   "cell_type": "markdown",
   "metadata": {},
   "source": [
    "<u><h2 style=\"color:#24478f; text-align:center\">ASSIGNMENT 6</h2></u>"
   ]
  },
  {
   "cell_type": "markdown",
   "metadata": {},
   "source": [
    "<h4 style=\" color: #ff3300\">Q1. What are escape characters, and how do you use them?</h4>\n",
    "\n",
    "<b style =\"color: #00b386\">Answer:</b> <p> \n",
    "<p>An escape character is a backslash \\ followed by the character you want to insert. A programmer uses escape character to insert characters that are not supported/illegal inside a string.</p>\n",
    "<p>One of the example of escape character is:</p>\n",
    "<p><b>print(\" A century from \\\"virat Kohli\\\".)</b></p>"
   ]
  },
  {
   "cell_type": "markdown",
   "metadata": {},
   "source": [
    "<h4 style=\" color: #ff3300\">Q2. What do the escape characters n and t stand for?</h4>\n",
    "\n",
    "<b style =\"color: #00b386\">Answer:</b> <p> \n",
    "<p>When Escape character <b>\\n</b> is used, It goes to next line where ever it is used.. It stands for Next line character.</p>\n",
    "<p>When Escape character <b>\\t</b> is used, It gives to tab space where ever it is used.. It stands for Tab.</p>"
   ]
  },
  {
   "cell_type": "markdown",
   "metadata": {},
   "source": [
    "<h4 style=\" color: #ff3300\">Q3. What is the way to include backslash characters in a string?</h4>\n",
    "\n",
    "<b style =\"color: #00b386\">Answer:</b> <p> \n",
    "<p>A escape character(\\) followed backlash characters( \\ or / ) is way to include them.</p>\n",
    "<p>Example: <b>print(\"backlashes \\\\ /\")</b> gives output <b>backlashes \\ /</b> </p>"
   ]
  },
  {
   "cell_type": "markdown",
   "metadata": {},
   "source": [
    "<h4 style=\" color: #ff3300\">Q4. The string &quot;Howl&#39;s Moving Castle&quot; is a correct value. Why isn&#39;t the single quote character in the\n",
    "word Howl&#39;s not escaped a problem?</h4>\n",
    "\n",
    "<b style =\"color: #00b386\">Answer:</b> <p> \n",
    "<p>It is correct values because, the whole string including the single quote in Written inside the double quotes.</p>"
   ]
  },
  {
   "cell_type": "markdown",
   "metadata": {},
   "source": [
    "<h4 style=\" color: #ff3300\">Q5. How do you write a string of newlines if you don&#39;t want to use the n character?</h4>\n",
    "\n",
    "<b style =\"color: #00b386\">Answer:</b> <p> \n",
    "<p>A programmer can use triple-quotes(\"\"\" string lines\"\"\") instead of \\n (\"string \\n lines\") to use new lines.</p>\n",
    "<p>Example:</p>\n",
    "<p>print(\"\"\" string<br> \n",
    "    lines\"\"\")\n",
    "    "
   ]
  },
  {
   "cell_type": "markdown",
   "metadata": {},
   "source": [
    "<h4 style=\" color: #ff3300\">Q6. What are the values of the given expressions?<br>\n",
    "\n",
    "&#39;Hello, world!&#39;[1]\n",
    "    \n",
    "&#39;Hello, world!&#39;[0:5]\n",
    "    \n",
    "&#39;Hello, world!&#39;[:5]\n",
    "\n",
    "&#39;Hello, world!&#39;[3:] </h4>\n",
    "\n",
    "<b style =\"color: #00b386\">Answer:</b> <p> \n",
    "<p>The values are: </p>\n",
    "<p><b>\"Hello, world\"[1]  ===> 'e'</b></p>\n",
    "<p><b>\"Hello, world\"[0:5]  ===> 'Hello'</b></p>\n",
    "<p><b>\"Hello, world\"[:5]  ===> 'Hello'</b></p>\n",
    "<p><b>\"Hello, world\"[3:]  ===> 'lo, world!'</b></p>"
   ]
  },
  {
   "cell_type": "markdown",
   "metadata": {},
   "source": [
    "<h4 style=\" color: #ff3300\">Q7. What are the values of the given expressions?<br>\n",
    "\n",
    "&#39;Hello&#39;.upper()\n",
    "    \n",
    "&#39;Hello&#39;.upper().isupper()\n",
    "    \n",
    "&#39;Hello&#39;.upper().lower() </h4>\n",
    "\n",
    "<b style =\"color: #00b386\">Answer:</b> <p> \n",
    "<p>The values are: </p>\n",
    "<p><b>\"Hello\".upper() ===> 'HELLO'</b></p>\n",
    "<p><b>\"Hello\".upper().isupper()  ===> 'True'</b></p>\n",
    "<p><b>\"Hello\".upper().isupper().lower()  ===></b> Gives Error</p>"
   ]
  },
  {
   "cell_type": "markdown",
   "metadata": {},
   "source": [
    "<h4 style=\" color: #ff3300\">Q8. What are the values of the given expressions?<br>\n",
    "\n",
    "&#39;Remember, remember, the fifth of July.&#39;.split()\n",
    "\n",
    "&#39;-&#39;.join(&#39;There can only one.&#39;.split()) </h4>\n",
    "\n",
    "<b style =\"color: #00b386\">Answer:</b> <p> \n",
    "<p>The values are: </p>\n",
    "<p><b>'Rmember, remember, the fifth of July.'.split()</b> ===>gives list <b>['Remember,', 'remember,', 'the', 'fifth', 'of', 'July.']</b></p>\n",
    "<p><b>&#39;-&#39;.join(&#39;There can only one.&#39;.split())</b>  ===> Gives string <b>'There-can-only-one.'</b></p>"
   ]
  },
  {
   "cell_type": "markdown",
   "metadata": {},
   "source": [
    "<h4 style=\" color: #ff3300\">Q9. What are the methods for right-justifying, left-justifying, and centering a string?</h4>\n",
    "\n",
    "<b style =\"color: #00b386\">Answer:</b> <p> \n",
    "<p>A string varaible <b>s1</b> can be used following methods:</p>\n",
    "<p><b>s1 = 'virat'</b></p> \n",
    "<p>Right-justifying : <b>s1.rjust(8,\"#)  ==> '###virat'</b></p>\n",
    "<p>Left-justifying : <b>s1.ljust(8,\"#)  ==> 'virat###'</b></p>\n",
    "<p>Centering : <b>s1.center(8,\"#)  ==> '#virat##'</b></p>"
   ]
  },
  {
   "cell_type": "markdown",
   "metadata": {},
   "source": [
    "<h4 style=\" color: #ff3300\">Q10. What is the best way to remove whitespace characters from the start or end?</h4>\n",
    "\n",
    "<b style =\"color: #00b386\">Answer:</b> <p> \n",
    "<p><b>s1.strip()</b> removes whitespaces from start and end.</p>\n",
    "<p><b>s1.lstrip()</b> removes whitespaces from start.</p>\n",
    "<p><b>s1.rstrip()</b> removes whitespaces from end.</p>"
   ]
  },
  {
   "cell_type": "code",
   "execution_count": null,
   "metadata": {},
   "outputs": [],
   "source": []
  }
 ],
 "metadata": {
  "kernelspec": {
   "display_name": "Python 3 (ipykernel)",
   "language": "python",
   "name": "python3"
  },
  "language_info": {
   "codemirror_mode": {
    "name": "ipython",
    "version": 3
   },
   "file_extension": ".py",
   "mimetype": "text/x-python",
   "name": "python",
   "nbconvert_exporter": "python",
   "pygments_lexer": "ipython3",
   "version": "3.9.13"
  }
 },
 "nbformat": 4,
 "nbformat_minor": 4
}
