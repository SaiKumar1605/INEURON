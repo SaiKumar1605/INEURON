{
 "cells": [
  {
   "cell_type": "markdown",
   "metadata": {},
   "source": [
    "<b>Author/User:</b> <b style=\"color:#6666ff\">Sai Kumar Ramagiri</b><br>\n",
    "<b>Date of Submission:</b> <b style=\"color:#e69900\">19/08/2023</b><br>"
   ]
  },
  {
   "cell_type": "markdown",
   "metadata": {},
   "source": [
    "<u><h1 style=\"color:#006699; text-align:center\">MACHINE LEARNING</h1></u>"
   ]
  },
  {
   "cell_type": "markdown",
   "metadata": {},
   "source": [
    "<u><h2 style=\"color:#24478f; text-align:center\">ASSIGNMENT 5</h2></u>"
   ]
  },
  {
   "cell_type": "markdown",
   "metadata": {},
   "source": [
    "\n",
    "<h4 style=\" color: #ff3300\">1. What are the key tasks that machine learning entails? What does data pre-processing imply?</h4>\n",
    "\n",
    "<b style =\"color: #00b386\">Answer:</b> \n",
    "- Key machine learning tasks include data collection, preprocessing, model selection, training, evaluation, and deployment.\n",
    "- Data pre-processing involves cleaning, transforming, and organizing raw data to make it suitable for analysis and modeling."
   ]
  },
  {
   "cell_type": "markdown",
   "metadata": {},
   "source": [
    "\n",
    "<h4 style=\" color: #ff3300\">2. Describe quantitative and qualitative data in depth. Make a distinction between the two.</h4>\n",
    "\n",
    "<b style =\"color: #00b386\">Answer:</b>\n",
    "\n",
    "**Quantitative Data:** Numerical data representing quantities and measurements with a defined scale, enabling mathematical operations. \n",
    "\n",
    "**Qualitative Data:** Categorical or descriptive data that represents characteristics, attributes, or labels without numerical values.\n",
    "\n",
    "**Distinction:** Quantitative data is measurable and expressed in numbers, while qualitative data describes qualities and categories without numerical representation."
   ]
  },
  {
   "cell_type": "markdown",
   "metadata": {},
   "source": [
    "\n",
    "<h4 style=\" color: #ff3300\">3. Create a basic data collection that includes some sample records. Have at least one attribute from each of the machine learning data types.</h4>\n",
    "\n",
    "<b style =\"color: #00b386\">Answer:</b> \n",
    "\n",
    "| ID | Name      | Age | Gender | Income   | Education Level | Customer Segment |\n",
    "|----|-----------|-----|--------|----------|-----------------|------------------|\n",
    "| 1  | Geralt     | 28  | Female | 50000    | Bachelor's      | Premium          |\n",
    "| 2  | Ciri       | 35  | Male   | 75000    | Master's        | Regular          |\n",
    "| 3  | Yennifer     | 42  | Female | 60000    | High School     | Regular          |\n",
    "| 4  | Triss     | 23  | Male   | 30000    | Associate's     | Basic            |\n",
    "| 5  | Dandelion      | 31  | Female | 90000    | Doctorate       | Premium          |\n",
    "\n"
   ]
  },
  {
   "cell_type": "markdown",
   "metadata": {},
   "source": [
    "\n",
    "<h4 style=\" color: #ff3300\">4. What are the various causes of machine learning data issues? What are the ramifications?</h4>\n",
    "\n",
    "<b style =\"color: #00b386\">Answer:</b> \n",
    "Various causes of machine learning data issues include missing data, outliers, inconsistencies, and bias. These issues can lead to inaccurate models, poor predictions, and biased decisions, undermining the reliability and effectiveness of the machine learning system."
   ]
  },
  {
   "cell_type": "markdown",
   "metadata": {},
   "source": [
    "\n",
    "<h4 style=\" color: #ff3300\">5. Demonstrate various approaches to categorical data exploration with appropriate examples.</h4>\n",
    "\n",
    "<b style =\"color: #00b386\">Answer:</b> \n",
    "\n",
    "Here are examples of categorical data exploration approaches:\n",
    "\n",
    "1. **Frequency Distribution:** Count the number of colors in a dataset (Red: 20, Blue: 15, Green: 10).\n",
    "\n",
    "2. **Bar Chart:** Visualize the number of students in different grades (Grade A: 50, Grade B: 30, Grade C: 25).\n",
    "\n",
    "3. **Cross-Tabulation:** Analyze the correlation between gender and preference for a product (Male: Product X - 40%, Product Y - 60%; Female: Product X - 60%, Product Y - 40%).\n",
    "\n",
    "4. **Pie Chart:** Display the percentage distribution of customer preferences for food types (Pizza: 40%, Burgers: 30%, Tacos: 30%).\n",
    "\n",
    "5. **Mode Calculation:** Identify the most popular type of transportation (Car: 150, Bike: 120, Bus: 80)."
   ]
  },
  {
   "cell_type": "markdown",
   "metadata": {},
   "source": [
    "\n",
    "<h4 style=\" color: #ff3300\">6. How would the learning activity be affected if certain variables have missing values? Having said\n",
    "that, what can be done about it?</h4>\n",
    "\n",
    "<b style =\"color: #00b386\">Answer:</b> \n",
    "Missing values can impact learning by reducing model accuracy and introducing bias. To address this, impute missing values using mean, median, or advanced methods, or create indicators for missingness. Domain expertise, data removal, and using imputation techniques based on other variables can also mitigate the effects of missing data."
   ]
  },
  {
   "cell_type": "markdown",
   "metadata": {},
   "source": [
    "\n",
    "<h4 style=\" color: #ff3300\">7. Describe the various methods for dealing with missing data values in depth.</h4>\n",
    "\n",
    "<b style =\"color: #00b386\">Answer:</b> \n",
    "\n",
    "Various methods for handling missing data:\n",
    "\n",
    "1. **Mean/Median Imputation:** Replace missing values with the mean or median of the non-missing values in that feature.\n",
    "2. **Mode Imputation:** For categorical data, replace missing values with the mode (most frequent category).\n",
    "3. **Forward Fill/Back Fill:** Use the previous or next available value to fill missing values in time series data.\n",
    "4. **Interpolation:** Estimate missing values based on the trend or pattern observed in the available data.\n",
    "5. **Deletion:** Remove data points or features with missing values if they have minimal impact.\n",
    "6. **Advanced Imputation:** Predict missing values using regression, k-nearest neighbors, or machine learning algorithms.\n",
    "7. **Indicator Variables:** Create binary indicator variables to show the presence of missing values.\n",
    "8. **Expert Input:** Consult domain experts to make informed decisions about handling missing values."
   ]
  },
  {
   "cell_type": "markdown",
   "metadata": {},
   "source": [
    "\n",
    "<h4 style=\" color: #ff3300\">8. What are the various data pre-processing techniques? Explain dimensionality reduction and\n",
    "function selection in a few words.</h4>\n",
    "\n",
    "<b style =\"color: #00b386\">Answer:</b> \n",
    "Various data pre-processing techniques include cleaning, imputation, normalization, encoding, and scaling.\n",
    "\n",
    "**Dimensionality Reduction:** Technique to reduce the number of features while retaining important information, aiming to simplify models and prevent overfitting.\n",
    "\n",
    "**Feature Selection:** Process of choosing the most relevant features to improve model performance and reduce complexity by excluding irrelevant or redundant attributes."
   ]
  },
  {
   "cell_type": "markdown",
   "metadata": {},
   "source": [
    "\n",
    "<h4 style=\" color: #ff3300\">9.\n",
    "\n",
    "i. What is the IQR? What criteria are used to assess it?\n",
    "\n",
    "ii. Describe the various components of a box plot in detail? When will the lower whisker\n",
    "surpass the upper whisker in length? How can box plots be used to identify outliers?</h4>\n",
    "\n",
    "<b style =\"color: #00b386\">Answer:</b> \n",
    "**i. Interquartile Range (IQR):** The IQR is a measure of statistical dispersion, representing the range between the first quartile (25th percentile) and the third quartile (75th percentile) in a dataset. It assesses the spread of the middle 50% of the data.\n",
    "\n",
    "**ii. Components of a Box Plot:**\n",
    "- **Median (Q2):** Middle value of the dataset.\n",
    "- **Quartiles (Q1 and Q3):** Values that divide the data into four equal parts.\n",
    "- **Interquartile Range (IQR):** Range between Q1 and Q3, containing the central 50% of data.\n",
    "- **Whiskers:** Lines extending from the box to the smallest and largest observations within 1.5 times the IQR.\n",
    "- **Outliers:** Data points outside the whiskers, usually identified using a criterion like being beyond 1.5 times the IQR.\n",
    "\n",
    "The lower whisker will surpass the upper whisker in length when the data distribution is skewed to the right, leading to a longer tail on the right side.\n",
    "\n",
    "Box plots help identify outliers by showing any data points beyond the whiskers. Outliers appear as individual points outside the whiskers, potentially indicating data anomalies or extreme values in the dataset."
   ]
  },
  {
   "cell_type": "markdown",
   "metadata": {},
   "source": [
    "\n",
    "<h4 style=\" color: #ff3300\">10. Make brief notes on any two of the following:\n",
    "\n",
    "1. Data collected at regular intervals\n",
    "\n",
    "2. The gap between the quartiles\n",
    "\n",
    "3. Use a cross-tab</h4>\n",
    "\n",
    "<b style =\"color: #00b386\">Answer:</b> \n",
    "\n",
    "**1. Data Collected at Regular Intervals:**\n",
    "Data collected at fixed time intervals, such as hourly, daily, or monthly, can reveal trends and patterns over time, aiding in time series analysis and forecasting.\n",
    "\n",
    "**2. Gap Between the Quartiles:**\n",
    "The gap between the first quartile (Q1) and the third quartile (Q3) in the interquartile range (IQR) measures the spread of the central 50% of the data, providing insights into the distribution's variability. \n"
   ]
  },
  {
   "cell_type": "markdown",
   "metadata": {},
   "source": [
    "\n",
    "<h4 style=\" color: #ff3300\">11. Make a comparison between:\n",
    "\n",
    "1. Data with nominal and ordinal values\n",
    "\n",
    "2. Histogram and box plot\n",
    "\n",
    "3. The average and median</h4>\n",
    "\n",
    "<b style =\"color: #00b386\">Answer:</b> \n",
    "1. **Data with Nominal and Ordinal Values:** Nominal data lacks order, while ordinal data has a defined ranking.\n",
    "2. **Histogram and Box Plot:** Histogram shows data distribution using bars; a box plot summarizes quartiles, median, and outliers.\n",
    "3. **The Average and Median:** Average (mean) is sensitive to outliers; median is less affected, representing the middle value in a dataset."
   ]
  }
 ],
 "metadata": {
  "kernelspec": {
   "display_name": "Python 3",
   "language": "python",
   "name": "python3"
  },
  "language_info": {
   "codemirror_mode": {
    "name": "ipython",
    "version": 3
   },
   "file_extension": ".py",
   "mimetype": "text/x-python",
   "name": "python",
   "nbconvert_exporter": "python",
   "pygments_lexer": "ipython3",
   "version": "3.7.6"
  }
 },
 "nbformat": 4,
 "nbformat_minor": 4
}
