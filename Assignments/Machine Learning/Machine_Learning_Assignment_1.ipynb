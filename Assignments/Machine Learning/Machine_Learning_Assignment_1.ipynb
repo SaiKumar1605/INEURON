{
 "cells": [
  {
   "cell_type": "markdown",
   "metadata": {},
   "source": [
    "<b>Author/User:</b> <b style=\"color:#6666ff\">Sai Kumar Ramagiri</b><br>\n",
    "<b>Date of Submission:</b> <b style=\"color:#e69900\">19/08/2023</b><br>"
   ]
  },
  {
   "cell_type": "markdown",
   "metadata": {},
   "source": [
    "<u><h1 style=\"color:#006699; text-align:center\">MACHINE LEARNING</h1></u>"
   ]
  },
  {
   "cell_type": "markdown",
   "metadata": {},
   "source": [
    "<u><h2 style=\"color:#24478f; text-align:center\">ASSIGNMENT 1</h2></u>"
   ]
  },
  {
   "cell_type": "markdown",
   "metadata": {},
   "source": [
    "\n",
    "<h4 style=\" color: #ff3300\">1. What does one mean by the term &quot;machine learning&quot;?</h4>\n",
    "\n",
    "<b style =\"color: #00b386\">Answer:</b> \n",
    "<p><b>Machine learning</b> refers to a subfield of artificial intelligence (AI) and computer science that focuses on the development of algorithms and techniques that enable computers to learn from and make predictions or decisions based on data. </p>"
   ]
  },
  {
   "cell_type": "markdown",
   "metadata": {},
   "source": [
    "\n",
    "<h4 style=\" color: #ff3300\">Q2. Where does an inheritance search look for an attribute?</h4>\n",
    "\n",
    "<b style =\"color: #00b386\">Answer:</b> \n",
    "<p>To name a few, below of few fields where machine learning can be used for betterment: </p>\n",
    "\n",
    "- Healcare Diagnostics\n",
    "- Banking (Fraud Detection)\n",
    "- Natural Language Processing\n",
    "- Image and video processing"
   ]
  },
  {
   "cell_type": "markdown",
   "metadata": {},
   "source": [
    "\n",
    "<h4 style=\" color: #ff3300\">3.What is a labeled training set, and how does it work?</h4>\n",
    "\n",
    "<b style =\"color: #00b386\">Answer:</b> \n",
    "<p>A labeled training set is a fundamental concept in supervised machine learning. It consists of a collection of data samples, where each sample is associated with both input features and a corresponding target label. The target label represents the desired output or the correct answer for the given input. In other words, each data point in a labeled training set is paired with its expected outcome.</p>\n",
    "\n",
    "<p>The process of using a labeled training set to train a model is at the heart of supervised learning.</p>"
   ]
  },
  {
   "cell_type": "markdown",
   "metadata": {},
   "source": [
    "\n",
    "<h4 style=\" color: #ff3300\">4.What are the two most important tasks that are supervised?</h4>\n",
    "\n",
    "<b style =\"color: #00b386\">Answer:</b> \n",
    "<p>Classification and Regression are two important tasks of supervised machine learning.</p>"
   ]
  },
  {
   "cell_type": "markdown",
   "metadata": {},
   "source": [
    "\n",
    "<h4 style=\" color: #ff3300\">5.Can you think of four examples of unsupervised tasks?</h4>\n",
    "\n",
    "<b style =\"color: #00b386\">Answer:</b> \n",
    "<p>Few examples of unsupervised tasks are: </p>\n",
    "\n",
    "- Topic Modeling\n",
    "- Clustering\n",
    "- Anamoly detection\n",
    "- Dimensionality reduction"
   ]
  },
  {
   "cell_type": "markdown",
   "metadata": {},
   "source": [
    "\n",
    "<h4 style=\" color: #ff3300\">6.State the machine learning model that would be best to make a robot walk through various unfamiliar terrains?</h4>\n",
    "\n",
    "<b style =\"color: #00b386\">Answer:</b> \n",
    "<p>Reinforcement model is one of Machine Learning model that can be used to make a robot walk thorugh various unfamiliar terrains.</p>\n"
   ]
  },
  {
   "cell_type": "markdown",
   "metadata": {},
   "source": [
    "\n",
    "<h4 style=\" color: #ff3300\">7.Which algorithm will you use to divide your customers into different groups?</h4>\n",
    "\n",
    "<b style =\"color: #00b386\">Answer:</b> \n",
    "<p>Clustering algorithms can be used to divide the customers into different groups.</p>"
   ]
  },
  {
   "cell_type": "markdown",
   "metadata": {},
   "source": [
    "\n",
    "<h4 style=\" color: #ff3300\">8.Will you consider the problem of spam detection to be a supervised or unsupervised learning\n",
    "problem?</h4>\n",
    "\n",
    "<b style =\"color: #00b386\">Answer:</b> \n",
    "<p>Most probabily, spam detection can be considered as supervised if data is labeled. Else data needs to be labeled.</p>"
   ]
  },
  {
   "cell_type": "markdown",
   "metadata": {},
   "source": [
    "\n",
    "<h4 style=\" color: #ff3300\">9.What is the concept of an online learning system?</h4>\n",
    "\n",
    "<b style =\"color: #00b386\">Answer:</b> \n",
    "<p>An online learning system, also known as incremental learning or online machine learning, refers to a machine learning paradigm where the model is continuously updated and adapted as new data becomes available, rather than training the model on a fixed dataset all at once. In an online learning system, the model is updated incrementally and dynamically over time to incorporate new information and adapt to changing patterns in the data.</p>"
   ]
  },
  {
   "cell_type": "markdown",
   "metadata": {},
   "source": [
    "\n",
    "<h4 style=\" color: #ff3300\">10.What is out-of-core learning, and how does it differ from core learning?</h4>\n",
    "\n",
    "<b style =\"color: #00b386\">Answer:</b> \n",
    "<p> the main difference between out-of-core learning and in-core learning is how they handle data during training:</p>\n",
    "\n",
    "- In-Core Learning: All data is loaded into memory for training, suitable for datasets that fit into memory.\n",
    "- Out-of-Core Learning: Only small batches of data are loaded into memory at a time, enabling training on datasets that don't fit entirely into memory."
   ]
  },
  {
   "cell_type": "markdown",
   "metadata": {},
   "source": [
    "\n",
    "<h4 style=\" color: #ff3300\">11.What kind of learning algorithm makes predictions using a similarity measure?</h4>\n",
    "\n",
    "<b style =\"color: #00b386\">Answer:</b> \n",
    "<p>One common example of an Instance-Based Learning algorithm is the k-Nearest Neighbors (k-NN) algorithm.</p>"
   ]
  },
  {
   "cell_type": "markdown",
   "metadata": {},
   "source": [
    "\n",
    "<h4 style=\" color: #ff3300\">12.What&#39;s the difference between a model parameter and a hyperparameter in a learning\n",
    "algorithm?</h4>\n",
    "\n",
    "<b style =\"color: #00b386\">Answer:</b> \n",
    "\n",
    "- <b>Model Parameters:</b> These are internal variables learned by the model during training. They determine the relationships and patterns the model captures from the data.\n",
    "- <b>Hyperparameters:</b> These are external settings that control the training process and algorithm behavior. They are set by the practitioner and influence how the model learns."
   ]
  },
  {
   "cell_type": "markdown",
   "metadata": {},
   "source": [
    "\n",
    "<h4 style=\" color: #ff3300\">13.What are the criteria that model-based learning algorithms look for? What is the most popular\n",
    "method they use to achieve success? What method do they use to make predictions?</h4>\n",
    "\n",
    "<b style =\"color: #00b386\">Answer:</b> \n",
    "<p><b>Good fit, capturing patterns,generalization and robustness</b> are main critera that model based learning algorithms look for.</p>\n",
    "<p>The most popular method that model-based learning algorithms use to achieve success is regularization</p>"
   ]
  },
  {
   "cell_type": "markdown",
   "metadata": {},
   "source": [
    "\n",
    "<h4 style=\" color: #ff3300\">14.Can you name four of the most important Machine Learning challenges?</h4>\n",
    "\n",
    "<b style =\"color: #00b386\">Answer:</b> \n",
    "<p>Most important Machine Learning challenges are: </p>\n",
    "\n",
    "- Data Quality\n",
    "- Data Quantity\n",
    "- Variance and Bias\n",
    "- Underfitting and overfitting\n",
    "- Model interpretability"
   ]
  },
  {
   "cell_type": "markdown",
   "metadata": {},
   "source": [
    "\n",
    "<h4 style=\" color: #ff3300\">15.What happens if the model performs well on the training data but fails to generalize the results\n",
    "to new situations? Can you think of three different options?</h4>\n",
    "\n",
    "<b style =\"color: #00b386\">Answer:</b> \n",
    "<p>When a machine learning model performs well on the training data but fails to generalize to new situations, it is experiencing overfitting. Overfitting occurs when the model has learned the noise and intricacies of the training data rather than the underlying patterns that can be applied to unseen data</p>"
   ]
  },
  {
   "cell_type": "markdown",
   "metadata": {},
   "source": [
    "\n",
    "<h4 style=\" color: #ff3300\">16.What exactly is a test set, and why would you need one?</h4>\n",
    "\n",
    "<b style =\"color: #00b386\">Answer:</b> \n",
    "<p>A test set is an essential component of machine learning model development. It provides an unbiased estimate of the model's performance on new data and helps guide decisions about model selection, hyperparameter tuning, and overall model quality.</p>"
   ]
  },
  {
   "cell_type": "markdown",
   "metadata": {},
   "source": [
    "\n",
    "<h4 style=\" color: #ff3300\">17.What is a validation set&#39;s purpose?</h4>\n",
    "\n",
    "<b style =\"color: #00b386\">Answer:</b> \n",
    "<p>The validation set's purpose is to assist in optimizing hyperparameters, preventing overfitting, selecting the best model, and monitoring training progress. It serves as an intermediate step between the training set and the test set, providing valuable insights into how well the model is likely to perform on new, unseen data.</p>"
   ]
  },
  {
   "cell_type": "markdown",
   "metadata": {},
   "source": [
    "\n",
    "<h4 style=\" color: #ff3300\">18.What precisely is the train-dev kit, when will you need it, how do you put it to use?</h4>\n",
    "\n",
    "<b style =\"color: #00b386\">Answer:</b> \n",
    "<p>Validation set is also called as development set, The validation set's purpose is to assist in optimizing hyperparameters, preventing overfitting, selecting the best model, and monitoring training progress. It serves as an intermediate step between the training set and the test set, providing valuable insights into how well the model is likely to perform on new, unseen data.</p>"
   ]
  },
  {
   "cell_type": "markdown",
   "metadata": {},
   "source": [
    "\n",
    "<h4 style=\" color: #ff3300\">19.What could go wrong if you use the test set to tune hyperparameters?</h4>\n",
    "\n",
    "<b style =\"color: #00b386\">Answer:</b> \n",
    "<p><b>Overfitting and Data Leakage</b> are major problems causes if test set is used to tune hyperparamaters.</p>"
   ]
  }
 ],
 "metadata": {
  "kernelspec": {
   "display_name": "Python 3",
   "language": "python",
   "name": "python3"
  },
  "language_info": {
   "codemirror_mode": {
    "name": "ipython",
    "version": 3
   },
   "file_extension": ".py",
   "mimetype": "text/x-python",
   "name": "python",
   "nbconvert_exporter": "python",
   "pygments_lexer": "ipython3",
   "version": "3.7.6"
  }
 },
 "nbformat": 4,
 "nbformat_minor": 4
}
