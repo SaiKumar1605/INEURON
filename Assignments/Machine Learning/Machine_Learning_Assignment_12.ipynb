{
 "cells": [
  {
   "cell_type": "markdown",
   "metadata": {},
   "source": [
    "<b>Author/User:</b> <b style=\"color:#6666ff\">Sai Kumar Ramagiri</b><br>\n",
    "<b>Date of Submission:</b> <b style=\"color:#e69900\">25/08/2023</b><br>"
   ]
  },
  {
   "cell_type": "markdown",
   "metadata": {},
   "source": [
    "<u><h1 style=\"color:#006699; text-align:center\">MACHINE LEARNING</h1></u>"
   ]
  },
  {
   "cell_type": "markdown",
   "metadata": {},
   "source": [
    "<u><h2 style=\"color:#24478f; text-align:center\">ASSIGNMENT 12</h2></u>"
   ]
  },
  {
   "cell_type": "markdown",
   "metadata": {},
   "source": [
    "\n",
    "<h4 style=\" color: #ff3300\">1. What is prior probability? Give an example.</h4>\n",
    "\n",
    "<b style =\"color: #00b386\">Answer:</b> \n",
    "\n",
    "Prior probability is the initial belief about the likelihood of an event before considering new evidence. It's based on existing information or historical data. For instance, if you believe that 10% of emails are spam based on past experience, that's your prior probability. This belief is then updated using new information or data to calculate the posterior probability."
   ]
  },
  {
   "cell_type": "markdown",
   "metadata": {},
   "source": [
    "\n",
    "<h4 style=\" color: #ff3300\">2. What is posterior probability? Give an example.</h4>\n",
    "\n",
    "<b style =\"color: #00b386\">Answer:</b>\n",
    "\n",
    "Posterior probability is the updated belief about the likelihood of an event after incorporating new evidence. It's calculated using Bayes' theorem, combining the prior probability with new data. For example, if you initially believed a patient had a 1% chance of having a rare disease, a positive test result with known accuracy could update that belief to a higher probability of the disease."
   ]
  },
  {
   "cell_type": "markdown",
   "metadata": {},
   "source": [
    "\n",
    "<h4 style=\" color: #ff3300\">3. What is likelihood probability? Give an example.</h4>\n",
    "\n",
    "<b style =\"color: #00b386\">Answer:</b> \n",
    "\n",
    "Likelihood probability assesses the probability of observed data given a specific hypothesis or model. It quantifies how well the hypothesis explains the data. For instance, if you're testing a new drug's effectiveness and observe significant symptom reduction in patients, the likelihood probability measures how probable these results are under the assumption that the drug is indeed effective."
   ]
  },
  {
   "cell_type": "markdown",
   "metadata": {},
   "source": [
    "\n",
    "<h4 style=\" color: #ff3300\">4. What is Naïve Bayes classifier? Why is it named so?</h4>\n",
    "\n",
    "<b style =\"color: #00b386\">Answer:</b>\n",
    "\n",
    "The Naïve Bayes classifier is a machine learning algorithm based on Bayes' theorem, used for classification tasks. It assumes that features (variables) are independent and have no direct influence on each other, which is a simplification but often works well in practice. The \"naïve\" aspect of its name comes from this assumption of independence, which is often overly simplistic, but the algorithm can still perform surprisingly well, especially for text classification tasks like spam detection or sentiment analysis."
   ]
  },
  {
   "cell_type": "markdown",
   "metadata": {},
   "source": [
    "\n",
    "<h4 style=\" color: #ff3300\">5. What is optimal Bayes classifier?</h4>\n",
    "\n",
    "<b style =\"color: #00b386\">Answer:</b> \n",
    "\n",
    "The Optimal Bayes classifier is a theoretical ideal for classification. It assigns data to the class with the highest posterior probability, minimizing error. It requires accurate prior probabilities and likelihoods, making it difficult to implement in real-world scenarios."
   ]
  },
  {
   "cell_type": "markdown",
   "metadata": {},
   "source": [
    "\n",
    "<h4 style=\" color: #ff3300\">6. Write any two features of Bayesian learning methods.</h4>\n",
    "\n",
    "<b style =\"color: #00b386\">Answer:</b> \n",
    "\n",
    "1. **Probabilistic Framework:** Bayesian learning methods utilize a probabilistic framework to update and refine beliefs about model parameters as new data is observed, allowing for a coherent incorporation of prior knowledge and uncertainty into the learning process.\n",
    "\n",
    "2. **Posterior Inference:** These methods focus on estimating the posterior distribution of model parameters given the data, enabling a comprehensive understanding of parameter uncertainties and facilitating robust decision-making in various applications."
   ]
  },
  {
   "cell_type": "markdown",
   "metadata": {},
   "source": [
    "\n",
    "<h4 style=\" color: #ff3300\">7. Define the concept of consistent learners.</h4>\n",
    "\n",
    "<b style =\"color: #00b386\">Answer:</b> \n",
    "\n",
    "Consistent learners are machine learning algorithms that, as the amount of training data increases, converge to the true underlying relationship within the data, minimizing the gap between the learned model and the actual distribution generating the data.\n",
    "\n",
    "In simpler terms, consistent learners become more accurate as they see more data, approaching a reliable representation of the true patterns in the data."
   ]
  },
  {
   "cell_type": "markdown",
   "metadata": {},
   "source": [
    "\n",
    "<h4 style=\" color: #ff3300\">8. Write any two strengths of Bayes classifier.</h4>\n",
    "\n",
    "<b style =\"color: #00b386\">Answer:</b> \n",
    "\n",
    "1. **Probabilistic Interpretation:** The Bayes classifier provides a clear probabilistic interpretation of its decisions, offering insights into the uncertainty of predictions and allowing for principled handling of decision thresholds.\n",
    "\n",
    "2. **Optimal Decision Boundary:** Under certain assumptions, the Bayes classifier achieves the optimal decision boundary for minimizing classification errors, making it a strong choice when the underlying data distribution is well understood and the class priors are known."
   ]
  },
  {
   "cell_type": "markdown",
   "metadata": {},
   "source": [
    "\n",
    "<h4 style=\" color: #ff3300\">9. What is Poisson distribution? What is the formula?</h4>\n",
    "\n",
    "<b style =\"color: #00b386\">Answer:</b> \n",
    "\n",
    "1. **Sensitivity to Assumptions:** The Bayes classifier assumes that features are conditionally independent given the class, which might not hold in complex real-world scenarios, leading to suboptimal performance when these assumptions are violated.\n",
    "\n",
    "2. **Prior Sensitivity:** The classifier's performance can be sensitive to the choice of class priors, which might not always accurately reflect the real-world distribution of classes, potentially leading to biased predictions."
   ]
  },
  {
   "cell_type": "markdown",
   "metadata": {},
   "source": [
    "\n",
    "<h4 style=\" color: #ff3300\">10. Explain how Naïve Bayes classifier is used for\n",
    "\n",
    "1. Text classification\n",
    "\n",
    "2. Spam filtering\n",
    "\n",
    "3. Market sentiment analysis</h4>\n",
    "\n",
    "<b style =\"color: #00b386\">Answer:</b> \n",
    "\n",
    "Sure, here's a concise explanation for each application:\n",
    "\n",
    "**1. Text Classification:**\n",
    "Naïve Bayes classifier is used for text classification by assigning categories to documents based on the probabilities of words occurring in each category, making it effective for sentiment analysis, topic categorization, and language identification.\n",
    "\n",
    "**2. Spam Filtering:**\n",
    "In spam filtering, Naïve Bayes examines email content to categorize messages as spam or not, leveraging word probabilities to detect common spam-related terms, aiding in automated email sorting.\n",
    "\n",
    "**3. Market Sentiment Analysis:**\n",
    "For market sentiment analysis, Naïve Bayes assesses the sentiment in financial texts, helping investors gauge public sentiment on stocks or trends, relying on word probabilities to infer positive, negative, or neutral sentiment."
   ]
  }
 ],
 "metadata": {
  "kernelspec": {
   "display_name": "Python 3",
   "language": "python",
   "name": "python3"
  },
  "language_info": {
   "codemirror_mode": {
    "name": "ipython",
    "version": 3
   },
   "file_extension": ".py",
   "mimetype": "text/x-python",
   "name": "python",
   "nbconvert_exporter": "python",
   "pygments_lexer": "ipython3",
   "version": "3.7.6"
  }
 },
 "nbformat": 4,
 "nbformat_minor": 4
}
