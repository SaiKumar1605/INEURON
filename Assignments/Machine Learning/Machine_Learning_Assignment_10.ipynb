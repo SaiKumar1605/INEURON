{
 "cells": [
  {
   "cell_type": "markdown",
   "metadata": {},
   "source": [
    "<b>Author/User:</b> <b style=\"color:#6666ff\">Sai Kumar Ramagiri</b><br>\n",
    "<b>Date of Submission:</b> <b style=\"color:#e69900\">20/08/2023</b><br>"
   ]
  },
  {
   "cell_type": "markdown",
   "metadata": {},
   "source": [
    "<u><h1 style=\"color:#006699; text-align:center\">MACHINE LEARNING</h1></u>"
   ]
  },
  {
   "cell_type": "markdown",
   "metadata": {},
   "source": [
    "<u><h2 style=\"color:#24478f; text-align:center\">ASSIGNMENT 10</h2></u>"
   ]
  },
  {
   "cell_type": "markdown",
   "metadata": {},
   "source": [
    "\n",
    "<h4 style=\" color: #ff3300\">1. Define the Bayesian interpretation of probability.</h4>\n",
    "\n",
    "<b style =\"color: #00b386\">Answer:</b> \n",
    "The Bayesian interpretation of probability sees it as a measure of our subjective belief or confidence in an event's likelihood, considering prior knowledge and new evidence. It emphasizes updating beliefs based on data rather than just measuring long-term frequencies."
   ]
  },
  {
   "cell_type": "markdown",
   "metadata": {},
   "source": [
    "\n",
    "<h4 style=\" color: #ff3300\">2. Define probability of a union of two events with equation.</h4>\n",
    "\n",
    "<b style =\"color: #00b386\">Answer:</b>\n",
    "\n",
    "The probability of the union of two events (A and B) is the likelihood that either event A or event B (or both) will occur. Mathematically, it's defined as P(A ∪ B) = P(A) + P(B) - P(A ∩ B), where P(A) and P(B) are the individual probabilities of events A and B, and P(A ∩ B) is the probability of their intersection."
   ]
  },
  {
   "cell_type": "markdown",
   "metadata": {},
   "source": [
    "\n",
    "<h4 style=\" color: #ff3300\">3. What is joint probability? What is its formula?</h4>\n",
    "\n",
    "<b style =\"color: #00b386\">Answer:</b> \n",
    "\n",
    "Joint probability is the likelihood of two or more events occurring together. The formula for joint probability of events A and B is P(A ∩ B) = P(A) * P(B|A), where P(A) is the probability of event A, and P(B|A) is the conditional probability of event B given that event A has occurred."
   ]
  },
  {
   "cell_type": "markdown",
   "metadata": {},
   "source": [
    "\n",
    "<h4 style=\" color: #ff3300\">4. What is chain rule of probability?</h4>\n",
    "\n",
    "<b style =\"color: #00b386\">Answer:</b>\n",
    "\n",
    "The chain rule of probability states that the joint probability of multiple events can be calculated by sequentially applying conditional probabilities. Mathematically, it's expressed as P(A ∩ B ∩ C) = P(A) * P(B|A) * P(C|A ∩ B)."
   ]
  },
  {
   "cell_type": "markdown",
   "metadata": {},
   "source": [
    "\n",
    "<h4 style=\" color: #ff3300\">5. What is conditional probability means? What is the formula of it?</h4>\n",
    "\n",
    "<b style =\"color: #00b386\">Answer:</b> \n",
    "\n",
    "Conditional probability is the likelihood of an event occurring given that another event has already occurred. It quantifies the probability of one event under the condition that another event has taken place. Mathematically, it's defined as P(A|B) = P(A ∩ B) / P(B), where P(A|B) is the conditional probability of event A given event B, P(A ∩ B) is the joint probability of events A and B, and P(B) is the probability of event B."
   ]
  },
  {
   "cell_type": "markdown",
   "metadata": {},
   "source": [
    "\n",
    "<h4 style=\" color: #ff3300\">6. What are continuous random variables?</h4>\n",
    "\n",
    "<b style =\"color: #00b386\">Answer:</b> \n",
    "\n",
    "Continuous random variables are variables that can take on any value within a range, including decimal values. They are characterized by probability density functions and have an infinite number of possible values."
   ]
  },
  {
   "cell_type": "markdown",
   "metadata": {},
   "source": [
    "\n",
    "<h4 style=\" color: #ff3300\">7. What are Bernoulli distributions? What is the formula of it?</h4>\n",
    "\n",
    "<b style =\"color: #00b386\">Answer:</b> \n",
    "\n",
    "A Bernoulli distribution models a binary random variable that can take two possible outcomes, usually labeled as 0 and 1 (e.g., success or failure). The distribution is characterized by a single parameter, often denoted as \"p,\" which represents the probability of the \"1\" outcome (success).\n",
    "Formula: P(X = k) = p^k * (1 - p)^(1 - k), where k is either 0 or 1, and p is the probability of success."
   ]
  },
  {
   "cell_type": "markdown",
   "metadata": {},
   "source": [
    "\n",
    "<h4 style=\" color: #ff3300\">8. What is binomial distribution? What is the formula?</h4>\n",
    "\n",
    "<b style =\"color: #00b386\">Answer:</b> \n",
    "\n",
    "The binomial distribution models the number of successes in a fixed number of independent binary trials, each with the same probability of success. The formula is P(X = k) = (n choose k) * p^k * (1 - p)^(n - k), where n is the number of trials, k is the number of successes, p is the probability of success, and \"n choose k\" is the binomial coefficient."
   ]
  },
  {
   "cell_type": "markdown",
   "metadata": {},
   "source": [
    "\n",
    "<h4 style=\" color: #ff3300\">9. What is Poisson distribution? What is the formula?</h4>\n",
    "\n",
    "<b style =\"color: #00b386\">Answer:</b> \n",
    "\n",
    "The Poisson distribution models the number of rare events occurring in a fixed interval of time or space. It's used when events are independent and infrequent, while the average rate remains constant. The formula is P(X = k) = (λ^k * e^(-λ)) / k!, where λ is the average rate of events and k is the number of events observed."
   ]
  },
  {
   "cell_type": "markdown",
   "metadata": {},
   "source": [
    "\n",
    "<h4 style=\" color: #ff3300\">10. Define covariance.</h4>\n",
    "\n",
    "<b style =\"color: #00b386\">Answer:</b> \n",
    "\n",
    "Covariance measures the degree to which two random variables change together. A positive covariance suggests that as one variable increases, the other tends to increase as well, and vice versa. A negative covariance indicates that one variable tends to decrease when the other increases."
   ]
  },
  {
   "cell_type": "markdown",
   "metadata": {},
   "source": [
    "\n",
    "<h4 style=\" color: #ff3300\">11. Define correlation</h4>\n",
    "\n",
    "<b style =\"color: #00b386\">Answer:</b> \n",
    "\n",
    "Correlation quantifies the strength and direction of the linear relationship between two variables. A positive correlation indicates that as one variable increases, the other tends to increase as well, while a negative correlation suggests that one variable tends to decrease as the other increases. Correlation is measured using the correlation coefficient, ranging from -1 (perfect negative correlation) to 1 (perfect positive correlation)."
   ]
  },
  {
   "cell_type": "markdown",
   "metadata": {},
   "source": [
    "\n",
    "<h4 style=\" color: #ff3300\">12. Define sampling with replacement. Give example.</h4>\n",
    "\n",
    "<b style =\"color: #00b386\">Answer:</b> \n",
    "\n",
    "Sampling with replacement is a process in statistics where, after selecting an item from a population, it's put back before the next selection. This allows the same item to be chosen multiple times. For instance, drawing numbered balls from a bag, replacing each ball after drawing, and noting the numbers each time is an example of sampling with replacement."
   ]
  },
  {
   "cell_type": "markdown",
   "metadata": {},
   "source": [
    "\n",
    "<h4 style=\" color: #ff3300\">13. What is sampling without replacement? Give example.</h4>\n",
    "\n",
    "<b style =\"color: #00b386\">Answer:</b> \n",
    "\n",
    "Sampling without replacement is a statistical method where selected items are not returned to the population after each selection, preventing duplicates. For example, drawing cards from a deck without returning them, and observing the diminishing number of cards available for subsequent selections, demonstrates sampling without replacement."
   ]
  },
  {
   "cell_type": "markdown",
   "metadata": {},
   "source": [
    "\n",
    "<h4 style=\" color: #ff3300\">14. What is hypothesis? Give example.</h4>\n",
    "\n",
    "<b style =\"color: #00b386\">Answer:</b> \n",
    "\n",
    "A hypothesis is a testable statement or educated guess about the relationship between variables in a research study. For example, \"Increasing the amount of sunlight a plant receives will result in faster growth\" is a hypothesis that predicts a cause-and-effect relationship between sunlight and plant growth."
   ]
  }
 ],
 "metadata": {
  "kernelspec": {
   "display_name": "Python 3",
   "language": "python",
   "name": "python3"
  },
  "language_info": {
   "codemirror_mode": {
    "name": "ipython",
    "version": 3
   },
   "file_extension": ".py",
   "mimetype": "text/x-python",
   "name": "python",
   "nbconvert_exporter": "python",
   "pygments_lexer": "ipython3",
   "version": "3.7.6"
  }
 },
 "nbformat": 4,
 "nbformat_minor": 4
}
