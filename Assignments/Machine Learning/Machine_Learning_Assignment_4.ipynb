{
 "cells": [
  {
   "cell_type": "markdown",
   "metadata": {},
   "source": [
    "<b>Author/User:</b> <b style=\"color:#6666ff\">Sai Kumar Ramagiri</b><br>\n",
    "<b>Date of Submission:</b> <b style=\"color:#e69900\">19/08/2023</b><br>"
   ]
  },
  {
   "cell_type": "markdown",
   "metadata": {},
   "source": [
    "<u><h1 style=\"color:#006699; text-align:center\">MACHINE LEARNING</h1></u>"
   ]
  },
  {
   "cell_type": "markdown",
   "metadata": {},
   "source": [
    "<u><h2 style=\"color:#24478f; text-align:center\">ASSIGNMENT 4</h2></u>"
   ]
  },
  {
   "cell_type": "markdown",
   "metadata": {},
   "source": [
    "\n",
    "<h4 style=\" color: #ff3300\">1. What are the key tasks involved in getting ready to work with machine learning modeling?</h4>\n",
    "\n",
    "<b style =\"color: #00b386\">Answer:</b> \n",
    "Getting ready for machine learning modeling involves:\n",
    "\n",
    "1. **Data Preparation:** Collect, clean, and preprocess data, handling missing values and outliers.\n",
    "2. **Feature Engineering:** Select or create relevant features that inform the model's predictions.\n",
    "3. **Model Selection and Evaluation:** Choose algorithms, split data, train models, and assess performance to find the best solution."
   ]
  },
  {
   "cell_type": "markdown",
   "metadata": {},
   "source": [
    "\n",
    "<h4 style=\" color: #ff3300\">2. What are the different forms of data used in machine learning? Give a specific example for each of them.</h4>\n",
    "\n",
    "<b style =\"color: #00b386\">Answer:</b> \n",
    "Different forms of data used in machine learning are:\n",
    "\n",
    "1. **Numerical Data:** Quantitative data represented as numbers. Example: Temperature readings.\n",
    "\n",
    "2. **Categorical Data:** Qualitative data represented as categories. Example: Types of animals (dog, cat, bird).\n",
    "\n",
    "3. **Textual Data:** Unstructured text information. Example: Customer reviews.\n",
    "\n",
    "4. **Image Data:** Visual information in the form of pixels. Example: Images of objects for image recognition.\n",
    "\n",
    "5. **Time Series Data:** Sequential data collected over time. Example: Stock price fluctuations.\n",
    "\n",
    "6. **Audio Data:** Sound wave information. Example: Speech recognition from audio recordings."
   ]
  },
  {
   "cell_type": "markdown",
   "metadata": {},
   "source": [
    "\n",
    "<h4 style=\" color: #ff3300\">3. Distinguish:\n",
    "\n",
    "1. Numeric vs. categorical attributes\n",
    "\n",
    "2. Feature selection vs. dimensionality reduction</h4>\n",
    "\n",
    "<b style =\"color: #00b386\">Answer:</b> \n",
    "1. **Numeric vs. Categorical Attributes:**\n",
    "   Numeric attributes are quantitative and represent measurable values, while categorical attributes are qualitative and represent distinct categories or labels. Example: Numeric - age; Categorical - color.\n",
    "\n",
    "2. **Feature Selection vs. Dimensionality Reduction:**\n",
    "   Feature selection involves choosing the most relevant attributes to improve model performance and reduce complexity, while dimensionality reduction aims to transform data into a lower-dimensional space to retain important information and mitigate the curse of dimensionality."
   ]
  },
  {
   "cell_type": "markdown",
   "metadata": {},
   "source": [
    "\n",
    "<h4 style=\" color: #ff3300\">4. Make quick notes on any two of the following:\n",
    "\n",
    "1. The histogram\n",
    "\n",
    "2. Use a scatter plot\n",
    "\n",
    "3.PCA (Personal Computer Aid)</h4>\n",
    "\n",
    "<b style =\"color: #00b386\">Answer:</b> \n",
    "\n",
    "**1. The Histogram:**\n",
    "A histogram is a bar-like graphical representation of data distribution, showing the frequency of values within predefined bins. It helps visualize the shape, spread, and peaks in the data.\n",
    "\n",
    "**2. Use a Scatter Plot:**\n",
    "A scatter plot displays points on a graph to visualize the relationship between two variables. It's useful for identifying correlations, clusters, or trends in data points' distribution.\n"
   ]
  },
  {
   "cell_type": "markdown",
   "metadata": {},
   "source": [
    "\n",
    "<h4 style=\" color: #ff3300\">5. Why is it necessary to investigate data? Is there a discrepancy in how qualitative and quantitative data are explored?</h4>\n",
    "\n",
    "<b style =\"color: #00b386\">Answer:</b> \n",
    "<p>Investigating data is essential to uncover patterns and insights, and while both qualitative and quantitative data exploration involve analysis, the techniques differ due to the nature of the data.</p>"
   ]
  },
  {
   "cell_type": "markdown",
   "metadata": {},
   "source": [
    "\n",
    "<h4 style=\" color: #ff3300\">6. What are the various histogram shapes? What exactly are ‘bins&#39;?</h4>\n",
    "\n",
    "<b style =\"color: #00b386\">Answer:</b> \n",
    "- The various histogram shapes include symmetric (bell-shaped), skewed (positively or negatively), bimodal (having two peaks), and uniform (flat distribution).\n",
    "- 'Bins' in a histogram refer to the intervals into which data is divided to create the bars representing the frequency of values within those intervals."
   ]
  },
  {
   "cell_type": "markdown",
   "metadata": {},
   "source": [
    "\n",
    "<h4 style=\" color: #ff3300\">7. How do we deal with data outliers?</h4>\n",
    "\n",
    "<b style =\"color: #00b386\">Answer:</b> \n",
    "\n",
    "Dealing with data outliers involves:\n",
    "1. **Identifying Outliers:** Detect outliers using statistical methods or visualization tools.\n",
    "2. **Handling Outliers:** Decide whether to remove, transform, or treat outliers based on domain knowledge and impact on analysis/modeling."
   ]
  },
  {
   "cell_type": "markdown",
   "metadata": {},
   "source": [
    "\n",
    "<h4 style=\" color: #ff3300\">8. What are the various central inclination measures? Why does mean vary too much from median in\n",
    "certain data sets?</h4>\n",
    "\n",
    "<b style =\"color: #00b386\">Answer:</b> \n",
    "The various central inclination measures include the mean, median, and mode. The mean can vary significantly from the median in datasets with outliers or skewed distributions because the mean is sensitive to extreme values, while the median is more robust as it's based on the middle value and not influenced by extreme observations."
   ]
  },
  {
   "cell_type": "markdown",
   "metadata": {},
   "source": [
    "\n",
    "<h4 style=\" color: #ff3300\">9. Describe how a scatter plot can be used to investigate bivariate relationships. Is it possible to find outliers using a scatter plot?</h4>\n",
    "\n",
    "<b style =\"color: #00b386\">Answer:</b> \n",
    "A scatter plot visually displays bivariate relationships by plotting data points from two variables on a graph, showing patterns, trends, or correlations. Outliers can be identified in a scatter plot as points that deviate significantly from the general pattern, lying far from the cluster of other data points. They appear as points that are distant from the main cloud of points on the plot."
   ]
  },
  {
   "cell_type": "markdown",
   "metadata": {},
   "source": [
    "\n",
    "<h4 style=\" color: #ff3300\">10. Describe how cross-tabs can be used to figure out how two variables are related.</h4>\n",
    "\n",
    "<b style =\"color: #00b386\">Answer:</b> \n",
    "Cross-tabs (cross-tabulation) displays the frequency distribution of two categorical variables in a table, allowing analysis of their relationship by showing how their values intersect. It helps uncover patterns, dependencies, and associations between the variables, aiding in understanding the joint distribution of the data."
   ]
  }
 ],
 "metadata": {
  "kernelspec": {
   "display_name": "Python 3",
   "language": "python",
   "name": "python3"
  },
  "language_info": {
   "codemirror_mode": {
    "name": "ipython",
    "version": 3
   },
   "file_extension": ".py",
   "mimetype": "text/x-python",
   "name": "python",
   "nbconvert_exporter": "python",
   "pygments_lexer": "ipython3",
   "version": "3.7.6"
  }
 },
 "nbformat": 4,
 "nbformat_minor": 4
}
