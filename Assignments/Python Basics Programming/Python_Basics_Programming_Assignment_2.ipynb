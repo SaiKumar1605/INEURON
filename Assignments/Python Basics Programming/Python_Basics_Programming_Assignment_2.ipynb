{
 "cells": [
  {
   "cell_type": "markdown",
   "id": "dfdabeb0",
   "metadata": {},
   "source": [
    "<b>Author/User:</b> <b style=\"color:#6666ff\">Sai Kumar Ramagiri</b><br>\n",
    "<b>Author/User:</b> <b style=\"color:#e69900\">26/07/2023</b><br>"
   ]
  },
  {
   "cell_type": "markdown",
   "id": "260a4bdd",
   "metadata": {},
   "source": [
    "<u><h1 style=\"color:#006699; text-align:center\">PYTHON BASICS</h1></u>"
   ]
  },
  {
   "cell_type": "markdown",
   "id": "9b7866ea",
   "metadata": {},
   "source": [
    "<u><h2 style=\"color:#24478f; text-align:center\">PROGRAMMING ASSIGNMENT 1</h2></u>"
   ]
  },
  {
   "cell_type": "markdown",
   "id": "4c7e3716",
   "metadata": {},
   "source": [
    "\n",
    "<h4 style=\" color: #ff3300\">Q1. Write a Python program to convert kilometers to miles?</h4>\n",
    "\n",
    "<b style =\"color: #00b386\">Answer:</b> "
   ]
  },
  {
   "cell_type": "code",
   "execution_count": 1,
   "id": "549b1683",
   "metadata": {},
   "outputs": [
    {
     "name": "stdout",
     "output_type": "stream",
     "text": [
      "Enter the distance in kilometers: 3\n",
      "3.0 kilometers is equal to 1.8641130000000001 miles.\n"
     ]
    }
   ],
   "source": [
    "km = float(input('Enter the distance in kilometers: '))\n",
    "miles = km * 0.621371\n",
    "\n",
    "print(\"{0} kilometers is equal to {1} miles.\".format(km,miles))"
   ]
  },
  {
   "cell_type": "markdown",
   "id": "e36c0728",
   "metadata": {},
   "source": [
    "\n",
    "<h4 style=\" color: #ff3300\">Q2. Write a Python program to convert Celsius to Fahrenheit?</h4>\n",
    "\n",
    "<b style =\"color: #00b386\">Answer:</b>"
   ]
  },
  {
   "cell_type": "code",
   "execution_count": 2,
   "id": "9d7d17d3",
   "metadata": {},
   "outputs": [
    {
     "name": "stdout",
     "output_type": "stream",
     "text": [
      "Enter degrees in celcius: 34\n",
      "34.0 Celsius is equal to 93.2 Farhenheit.\n"
     ]
    }
   ],
   "source": [
    "celcius = float(input('Enter degrees in celcius: '))\n",
    "fahrenheit = (celcius * (9/5)) + 32\n",
    "\n",
    "print('{0} Celsius is equal to {1} Farhenheit.'.format(celcius, fahrenheit))"
   ]
  },
  {
   "cell_type": "markdown",
   "id": "d7c0834a",
   "metadata": {},
   "source": [
    "\n",
    "<h4 style=\" color: #ff3300\">Q3. Write a Python program to display calendar?</h4>\n",
    "\n",
    "<b style =\"color: #00b386\">Answer:</b>"
   ]
  },
  {
   "cell_type": "code",
   "execution_count": 3,
   "id": "20e6bea5",
   "metadata": {},
   "outputs": [
    {
     "name": "stdout",
     "output_type": "stream",
     "text": [
      "Enter the year: 2023\n",
      "                                  2023\n",
      "\n",
      "      January                   February                   March\n",
      "Mo Tu We Th Fr Sa Su      Mo Tu We Th Fr Sa Su      Mo Tu We Th Fr Sa Su\n",
      "                   1             1  2  3  4  5             1  2  3  4  5\n",
      " 2  3  4  5  6  7  8       6  7  8  9 10 11 12       6  7  8  9 10 11 12\n",
      " 9 10 11 12 13 14 15      13 14 15 16 17 18 19      13 14 15 16 17 18 19\n",
      "16 17 18 19 20 21 22      20 21 22 23 24 25 26      20 21 22 23 24 25 26\n",
      "23 24 25 26 27 28 29      27 28                     27 28 29 30 31\n",
      "30 31\n",
      "\n",
      "       April                      May                       June\n",
      "Mo Tu We Th Fr Sa Su      Mo Tu We Th Fr Sa Su      Mo Tu We Th Fr Sa Su\n",
      "                1  2       1  2  3  4  5  6  7                1  2  3  4\n",
      " 3  4  5  6  7  8  9       8  9 10 11 12 13 14       5  6  7  8  9 10 11\n",
      "10 11 12 13 14 15 16      15 16 17 18 19 20 21      12 13 14 15 16 17 18\n",
      "17 18 19 20 21 22 23      22 23 24 25 26 27 28      19 20 21 22 23 24 25\n",
      "24 25 26 27 28 29 30      29 30 31                  26 27 28 29 30\n",
      "\n",
      "        July                     August                  September\n",
      "Mo Tu We Th Fr Sa Su      Mo Tu We Th Fr Sa Su      Mo Tu We Th Fr Sa Su\n",
      "                1  2          1  2  3  4  5  6                   1  2  3\n",
      " 3  4  5  6  7  8  9       7  8  9 10 11 12 13       4  5  6  7  8  9 10\n",
      "10 11 12 13 14 15 16      14 15 16 17 18 19 20      11 12 13 14 15 16 17\n",
      "17 18 19 20 21 22 23      21 22 23 24 25 26 27      18 19 20 21 22 23 24\n",
      "24 25 26 27 28 29 30      28 29 30 31               25 26 27 28 29 30\n",
      "31\n",
      "\n",
      "      October                   November                  December\n",
      "Mo Tu We Th Fr Sa Su      Mo Tu We Th Fr Sa Su      Mo Tu We Th Fr Sa Su\n",
      "                   1             1  2  3  4  5                   1  2  3\n",
      " 2  3  4  5  6  7  8       6  7  8  9 10 11 12       4  5  6  7  8  9 10\n",
      " 9 10 11 12 13 14 15      13 14 15 16 17 18 19      11 12 13 14 15 16 17\n",
      "16 17 18 19 20 21 22      20 21 22 23 24 25 26      18 19 20 21 22 23 24\n",
      "23 24 25 26 27 28 29      27 28 29 30               25 26 27 28 29 30 31\n",
      "30 31\n",
      "\n"
     ]
    }
   ],
   "source": [
    "import calendar\n",
    "\n",
    "year = int(input('Enter the year: '))\n",
    "\n",
    "print(calendar.calendar(year))"
   ]
  },
  {
   "cell_type": "markdown",
   "id": "dde2f0d1",
   "metadata": {},
   "source": [
    "\n",
    "<h4 style=\" color: #ff3300\">Q4. Write a Python program to solve quadratic equation?</h4>\n",
    "\n",
    "<b style =\"color: #00b386\">Answer:</b>\n"
   ]
  },
  {
   "cell_type": "code",
   "execution_count": 4,
   "id": "e26a89fa",
   "metadata": {},
   "outputs": [
    {
     "name": "stdout",
     "output_type": "stream",
     "text": [
      "We can help you solve an equation of the form ax2 + bx + c = 0 Just enter the values of a, b and c below:\n",
      "Enter the value of a: -2\n",
      "Enter the value of b: 2\n",
      "Enter the value of c: 1\n",
      "(-0.3660254037844386, 1.3660254037844386)\n"
     ]
    }
   ],
   "source": [
    "import math\n",
    "print(\"We can help you solve an equation of the form ax2 + bx + c = 0 Just enter the values of a, b and c below:\")\n",
    "\n",
    "a = float(input('Enter the value of a: '))\n",
    "b = float(input('Enter the value of b: '))\n",
    "c = float(input('Enter the value of c: '))\n",
    "\n",
    "if(a == 0 or b == 0):\n",
    "    quad_equ = 0\n",
    "else:\n",
    "    quad_equ = ( ((-(b) + math.sqrt((b**2)-(4*a*c)))/(2*a*c)), ((-(b) - math.sqrt((b**2)-(4*a*c)))/(2*a*c)))\n",
    "\n",
    "print(quad_equ)"
   ]
  },
  {
   "cell_type": "markdown",
   "id": "a83370b7",
   "metadata": {},
   "source": [
    "\n",
    "<h4 style=\" color: #ff3300\">Q5. Write a Python program to swap two variables without temp variable?</h4>\n",
    "\n",
    "<b style =\"color: #00b386\">Answer:</b>"
   ]
  },
  {
   "cell_type": "code",
   "execution_count": 5,
   "id": "b54997b7",
   "metadata": {},
   "outputs": [
    {
     "name": "stdout",
     "output_type": "stream",
     "text": [
      "Before Swap: \n",
      "a =  2\n",
      "b =  3\n",
      "\n",
      "After Swap: \n",
      "a =  7.0\n",
      "b =  -2.0\n"
     ]
    }
   ],
   "source": [
    "a = 2\n",
    "b = 3\n",
    "\n",
    "print('Before Swap: ')\n",
    "print(\"a = \",a)\n",
    "print(\"b = \",b)\n",
    "\n",
    "a = a+b\n",
    "b = c-b\n",
    "a = a - b\n",
    "\n",
    "print('\\nAfter Swap: ')\n",
    "print(\"a = \",a)\n",
    "print(\"b = \",b)"
   ]
  }
 ],
 "metadata": {
  "kernelspec": {
   "display_name": "Python 3 (ipykernel)",
   "language": "python",
   "name": "python3"
  },
  "language_info": {
   "codemirror_mode": {
    "name": "ipython",
    "version": 3
   },
   "file_extension": ".py",
   "mimetype": "text/x-python",
   "name": "python",
   "nbconvert_exporter": "python",
   "pygments_lexer": "ipython3",
   "version": "3.9.13"
  }
 },
 "nbformat": 4,
 "nbformat_minor": 5
}
