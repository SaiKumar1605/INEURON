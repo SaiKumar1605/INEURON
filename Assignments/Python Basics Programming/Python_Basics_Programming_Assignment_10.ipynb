{
 "cells": [
  {
   "cell_type": "markdown",
   "id": "dfdabeb0",
   "metadata": {},
   "source": [
    "<b>Author/User:</b> <b style=\"color:#6666ff\">Sai Kumar Ramagiri</b><br>\n",
    "<b>Author/User:</b> <b style=\"color:#e69900\">31/07/2023</b><br>"
   ]
  },
  {
   "cell_type": "markdown",
   "id": "260a4bdd",
   "metadata": {},
   "source": [
    "<u><h1 style=\"color:#006699; text-align:center\">PYTHON BASICS</h1></u>"
   ]
  },
  {
   "cell_type": "markdown",
   "id": "9b7866ea",
   "metadata": {},
   "source": [
    "<u><h2 style=\"color:#24478f; text-align:center\">PROGRAMMING ASSIGNMENT 10</h2></u>"
   ]
  },
  {
   "cell_type": "markdown",
   "id": "4c7e3716",
   "metadata": {},
   "source": [
    "\n",
    "<h4 style=\" color: #ff3300\">Q1. Write a Python program to find sum of elements in list?</h4>\n",
    "\n",
    "<b style =\"color: #00b386\">Answer:</b> "
   ]
  },
  {
   "cell_type": "code",
   "execution_count": 1,
   "id": "549b1683",
   "metadata": {},
   "outputs": [
    {
     "data": {
      "text/plain": [
       "54"
      ]
     },
     "execution_count": 1,
     "metadata": {},
     "output_type": "execute_result"
    }
   ],
   "source": [
    "l = [1,2,3,4,5,6,7,8,9,9]\n",
    "\n",
    "sum(l)"
   ]
  },
  {
   "cell_type": "markdown",
   "id": "e36c0728",
   "metadata": {},
   "source": [
    "\n",
    "<h4 style=\" color: #ff3300\">Q2. Write a Python program to Multiply all numbers in the list?</h4>\n",
    "\n",
    "<b style =\"color: #00b386\">Answer:</b>"
   ]
  },
  {
   "cell_type": "code",
   "execution_count": 2,
   "id": "9d7d17d3",
   "metadata": {},
   "outputs": [
    {
     "name": "stdout",
     "output_type": "stream",
     "text": [
      "[1, 2, 3, 4, 5, 6, 7, 8, 9, 9]\n",
      "3265920\n"
     ]
    }
   ],
   "source": [
    "l = [1,2,3,4,5,6,7,8,9,9]\n",
    "\n",
    "\n",
    "s = 1\n",
    "\n",
    "for i in l:\n",
    "    s = s * i\n",
    "\n",
    "print(l)\n",
    "print(s)"
   ]
  },
  {
   "cell_type": "markdown",
   "id": "d7c0834a",
   "metadata": {},
   "source": [
    "\n",
    "<h4 style=\" color: #ff3300\">Q3. Write a Python program to find smallest number in a list?</h4>\n",
    "\n",
    "<b style =\"color: #00b386\">Answer:</b>"
   ]
  },
  {
   "cell_type": "code",
   "execution_count": 3,
   "id": "20e6bea5",
   "metadata": {},
   "outputs": [
    {
     "data": {
      "text/plain": [
       "1"
      ]
     },
     "execution_count": 3,
     "metadata": {},
     "output_type": "execute_result"
    }
   ],
   "source": [
    "l = [1,2,3,4,5,6,7,8,9,9]\n",
    "\n",
    "min(l)"
   ]
  },
  {
   "cell_type": "markdown",
   "id": "dde2f0d1",
   "metadata": {},
   "source": [
    "\n",
    "<h4 style=\" color: #ff3300\">Q4. Write a Python program to find largest number in a list?</h4>\n",
    "\n",
    "<b style =\"color: #00b386\">Answer:</b>\n"
   ]
  },
  {
   "cell_type": "code",
   "execution_count": 4,
   "id": "e26a89fa",
   "metadata": {},
   "outputs": [
    {
     "data": {
      "text/plain": [
       "9"
      ]
     },
     "execution_count": 4,
     "metadata": {},
     "output_type": "execute_result"
    }
   ],
   "source": [
    "l = [1,2,3,4,5,6,7,8,9,9]\n",
    "\n",
    "max(l)"
   ]
  },
  {
   "cell_type": "markdown",
   "id": "a83370b7",
   "metadata": {},
   "source": [
    "\n",
    "<h4 style=\" color: #ff3300\">Q5. Write a Python program to find second largest number in a list?</h4>\n",
    "\n",
    "<b style =\"color: #00b386\">Answer:</b>"
   ]
  },
  {
   "cell_type": "code",
   "execution_count": 5,
   "id": "b54997b7",
   "metadata": {},
   "outputs": [
    {
     "data": {
      "text/plain": [
       "8"
      ]
     },
     "execution_count": 5,
     "metadata": {},
     "output_type": "execute_result"
    }
   ],
   "source": [
    "l = [1,2,3,4,5,6,7,8,9,9]\n",
    "\n",
    "\n",
    "sorted(list(set(l)),reverse=True)[1]"
   ]
  },
  {
   "cell_type": "markdown",
   "id": "12f7c984",
   "metadata": {},
   "source": [
    "\n",
    "<h4 style=\" color: #ff3300\">Q6. Write a Python program to find N largest elements from a list?</h4>\n",
    "\n",
    "<b style =\"color: #00b386\">Answer:</b>"
   ]
  },
  {
   "cell_type": "code",
   "execution_count": 6,
   "id": "9d766790",
   "metadata": {
    "scrolled": true
   },
   "outputs": [
    {
     "name": "stdout",
     "output_type": "stream",
     "text": [
      "list =  [1, 2, 3, 4, 5, 6, 7, 8, 9, 9, 16]\n",
      "Enter any number n to find n largest numbers from a list: 3\n"
     ]
    },
    {
     "data": {
      "text/plain": [
       "[16, 9, 8]"
      ]
     },
     "execution_count": 6,
     "metadata": {},
     "output_type": "execute_result"
    }
   ],
   "source": [
    "l =[1,2,3,4,5,6,7,8,9,9,16]\n",
    "\n",
    "print('list = ',l)\n",
    "n = int(input('Enter any number n to find n largest numbers from a list: '))\n",
    "\n",
    "sorted(list(set(l)),reverse=True)[0:n]"
   ]
  },
  {
   "cell_type": "markdown",
   "id": "61ec5b95",
   "metadata": {},
   "source": [
    "\n",
    "<h4 style=\" color: #ff3300\">Q7. Write a Python program to print even numbers in a list?</h4>\n",
    "\n",
    "<b style =\"color: #00b386\">Answer:</b>"
   ]
  },
  {
   "cell_type": "code",
   "execution_count": 7,
   "id": "df962090",
   "metadata": {},
   "outputs": [
    {
     "name": "stdout",
     "output_type": "stream",
     "text": [
      "list =  [1, 2, 3, 4, 5, 6, 7, 8, 9, 9, 16]\n",
      "\n",
      "Even Numbers is list:  [2, 4, 6, 8, 16]\n"
     ]
    }
   ],
   "source": [
    "l =[1,2,3,4,5,6,7,8,9,9,16]\n",
    "\n",
    "print('list = ',l)\n",
    "\n",
    "r = [i for i in l if i%2==0]\n",
    "print(\"\\nEven Numbers is list: \",r)\n"
   ]
  },
  {
   "cell_type": "markdown",
   "id": "c24e35e0",
   "metadata": {},
   "source": [
    "\n",
    "<h4 style=\" color: #ff3300\">Q8. Write a Python program to print odd numbers in a List?</h4>\n",
    "\n",
    "<b style =\"color: #00b386\">Answer:</b>"
   ]
  },
  {
   "cell_type": "code",
   "execution_count": 8,
   "id": "f6774c76",
   "metadata": {},
   "outputs": [
    {
     "name": "stdout",
     "output_type": "stream",
     "text": [
      "list =  [1, 2, 3, 4, 5, 6, 7, 8, 9, 9, 16]\n",
      "\n",
      "Odd Numbers is list:  [1, 3, 5, 7, 9, 9]\n"
     ]
    }
   ],
   "source": [
    "l =[1,2,3,4,5,6,7,8,9,9,16]\n",
    "\n",
    "print('list = ',l)\n",
    "\n",
    "r = [i for i in l if i%2!=0]\n",
    "print(\"\\nOdd Numbers is list: \",r)\n"
   ]
  },
  {
   "cell_type": "markdown",
   "id": "e3678696",
   "metadata": {},
   "source": [
    "\n",
    "<h4 style=\" color: #ff3300\">Q9. Write a Python program to Remove empty List from List?</h4>\n",
    "\n",
    "<b style =\"color: #00b386\">Answer:</b>"
   ]
  },
  {
   "cell_type": "code",
   "execution_count": 9,
   "id": "3d461101",
   "metadata": {},
   "outputs": [
    {
     "name": "stdout",
     "output_type": "stream",
     "text": [
      "list =  [1, 2, 3, 4, 5, 6, 7, 8, 9, 9, 16, []]\n",
      "\n",
      "After removing the empty list in list:  [1, 2, 3, 4, 5, 6, 7, 8, 9, 9, 16]\n"
     ]
    }
   ],
   "source": [
    "l =[1,2,3,4,5,6,7,8,9,9,16,[]]\n",
    "\n",
    "print('list = ',l)\n",
    "\n",
    "for i in l:\n",
    "\n",
    "    if isinstance(i,list):\n",
    "        if(len(i) == 0):\n",
    "            l.remove(i)\n",
    "\n",
    "print(\"\\nAfter removing the empty list in list: \",l)"
   ]
  },
  {
   "cell_type": "markdown",
   "id": "1d2a45eb",
   "metadata": {},
   "source": [
    "\n",
    "<h4 style=\" color: #ff3300\">Q10. Write a Python program to Cloning or Copying a list?</h4>\n",
    "\n",
    "<b style =\"color: #00b386\">Answer:</b>"
   ]
  },
  {
   "cell_type": "code",
   "execution_count": 10,
   "id": "6c4d556e",
   "metadata": {},
   "outputs": [
    {
     "name": "stdout",
     "output_type": "stream",
     "text": [
      "list =  [1, 2, 3, 4, 5, 6, 7, 8, 9, 9, 16, []]\n",
      "Copied_list:  [1, 2, 3, 4, 5, 6, 7, 8, 9, 9, 16, []]\n"
     ]
    }
   ],
   "source": [
    "l =[1,2,3,4,5,6,7,8,9,9,16,[]]\n",
    "\n",
    "print('list = ',l)\n",
    "\n",
    "copied_list = l.copy()\n",
    "\n",
    "print(\"Copied_list: \",copied_list)"
   ]
  },
  {
   "cell_type": "markdown",
   "id": "9c77f87a",
   "metadata": {},
   "source": [
    "\n",
    "<h4 style=\" color: #ff3300\">Q11. Write a Python program to Count occurrences of an element in a list?</h4>\n",
    "\n",
    "<b style =\"color: #00b386\">Answer:</b>"
   ]
  },
  {
   "cell_type": "code",
   "execution_count": 11,
   "id": "dfcb714c",
   "metadata": {},
   "outputs": [
    {
     "name": "stdout",
     "output_type": "stream",
     "text": [
      "1 occured 1 times.\n",
      "2 occured 1 times.\n",
      "3 occured 1 times.\n",
      "4 occured 1 times.\n",
      "5 occured 1 times.\n",
      "6 occured 1 times.\n",
      "7 occured 1 times.\n",
      "8 occured 1 times.\n",
      "9 occured 2 times.\n",
      "9 occured 2 times.\n",
      "16 occured 1 times.\n"
     ]
    }
   ],
   "source": [
    "l =[1,2,3,4,5,6,7,8,9,9,16]\n",
    "\n",
    "for i in l:\n",
    "    print('{} occured {} times.'.format(i,l.count(i)))"
   ]
  }
 ],
 "metadata": {
  "kernelspec": {
   "display_name": "Python 3 (ipykernel)",
   "language": "python",
   "name": "python3"
  },
  "language_info": {
   "codemirror_mode": {
    "name": "ipython",
    "version": 3
   },
   "file_extension": ".py",
   "mimetype": "text/x-python",
   "name": "python",
   "nbconvert_exporter": "python",
   "pygments_lexer": "ipython3",
   "version": "3.9.13"
  }
 },
 "nbformat": 4,
 "nbformat_minor": 5
}
