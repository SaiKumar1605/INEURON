{
 "cells": [
  {
   "cell_type": "markdown",
   "id": "dfdabeb0",
   "metadata": {},
   "source": [
    "<b>Author/User:</b> <b style=\"color:#6666ff\">Sai Kumar Ramagiri</b><br>\n",
    "<b>Author/User:</b> <b style=\"color:#e69900\">27/07/2023</b><br>"
   ]
  },
  {
   "cell_type": "markdown",
   "id": "260a4bdd",
   "metadata": {},
   "source": [
    "<u><h1 style=\"color:#006699; text-align:center\">PYTHON BASICS</h1></u>"
   ]
  },
  {
   "cell_type": "markdown",
   "id": "9b7866ea",
   "metadata": {},
   "source": [
    "<u><h2 style=\"color:#24478f; text-align:center\">PROGRAMMING ASSIGNMENT 5</h2></u>"
   ]
  },
  {
   "cell_type": "markdown",
   "id": "4c7e3716",
   "metadata": {},
   "source": [
    "\n",
    "<h4 style=\" color: #ff3300\">Q1. Write a Python Program to Find LCM?</h4>\n",
    "\n",
    "<b style =\"color: #00b386\">Answer:</b> "
   ]
  },
  {
   "cell_type": "code",
   "execution_count": 1,
   "id": "549b1683",
   "metadata": {},
   "outputs": [
    {
     "name": "stdout",
     "output_type": "stream",
     "text": [
      "Enter number1 to find LCM:12\n",
      "Enter number2 to find LCM:24\n",
      "LCM of 12 and 24 is 24\n"
     ]
    }
   ],
   "source": [
    "n1 = int(input('Enter number1 to find LCM:'))\n",
    "n2 = int(input('Enter number2 to find LCM:'))\n",
    "\n",
    "for i in range(max(n1,n2),(n1*n2)+1):\n",
    "    if (i % n1== 0 and i % n2 == 0):\n",
    "        lcm = i\n",
    "        break\n",
    "if(lcm):\n",
    "    print(\"LCM of {0} and {1} is {2}\".format(n1,n2,lcm))\n",
    "else:\n",
    "    print('NO LEAT COMMON MULTIPLES')"
   ]
  },
  {
   "cell_type": "markdown",
   "id": "e36c0728",
   "metadata": {},
   "source": [
    "\n",
    "<h4 style=\" color: #ff3300\">Q2. Write a Python Program to Find HCF?</h4>\n",
    "\n",
    "<b style =\"color: #00b386\">Answer:</b>"
   ]
  },
  {
   "cell_type": "code",
   "execution_count": 2,
   "id": "9d7d17d3",
   "metadata": {},
   "outputs": [
    {
     "name": "stdout",
     "output_type": "stream",
     "text": [
      "Enter number1 to find HCF:15\n",
      "Enter number2 to find HCF:12\n",
      "{1, 3, 5, 15} {1, 2, 3, 4, 6, 12}\n",
      "\n",
      "HCF of 15 and 12 is 3\n"
     ]
    }
   ],
   "source": [
    "n1 = int(input('Enter number1 to find HCF:'))\n",
    "n2 = int(input('Enter number2 to find HCF:'))\n",
    "\n",
    "h1 = []\n",
    "\n",
    "for i in range(1,n1+1):\n",
    "    if(n1%i==0):\n",
    "        h1.append(i)\n",
    "\n",
    "h2 = []\n",
    "for i in range(1,n2+1):\n",
    "    if(n2%i==0):\n",
    "        h2.append(i)\n",
    "\n",
    "h1 = set(h1)\n",
    "h2 = set(h2)\n",
    "\n",
    "print(h1,h2)\n",
    "\n",
    "HCF = h1.intersection(h2)\n",
    "print(\"\\nHCF of {0} and {1} is {2}\".format(n1,n2,max(HCF)))"
   ]
  },
  {
   "cell_type": "markdown",
   "id": "d7c0834a",
   "metadata": {},
   "source": [
    "\n",
    "<h4 style=\" color: #ff3300\">Q3. Write a Python Program to Convert Decimal to Binary, Octal and Hexadecimal?</h4>\n",
    "\n",
    "<b style =\"color: #00b386\">Answer:</b>"
   ]
  },
  {
   "cell_type": "code",
   "execution_count": 3,
   "id": "20e6bea5",
   "metadata": {},
   "outputs": [
    {
     "name": "stdout",
     "output_type": "stream",
     "text": [
      "Enter any number for converting it Binary,Octal and Hexadecimal: 16\n",
      "binary :  10000\n",
      "octal:  20\n",
      "hexa:  0\n"
     ]
    }
   ],
   "source": [
    "number = int(input('Enter any number for converting it Binary,Octal and Hexadecimal: '))\n",
    "\n",
    "i=number\n",
    "binary= ''\n",
    "\n",
    "while i>1:\n",
    "    binary = binary + str(i%2)\n",
    "    i = i//2\n",
    "\n",
    "binary = binary + '1' \n",
    "binary = binary[::-1]\n",
    "print('binary : ',binary)\n",
    "\n",
    "i=number\n",
    "octal= ''\n",
    "\n",
    "while i>1:\n",
    "    octal = octal + str(i%8)\n",
    "    i = i//8\n",
    "\n",
    "print('octal: ',octal[::-1])\n",
    "\n",
    "i=number\n",
    "hexa= ''\n",
    "\n",
    "while i>1:\n",
    "    hexa = hexa + str(i%16)\n",
    "    i = i//16\n",
    "\n",
    "print('hexa: ',hexa[::-1])"
   ]
  },
  {
   "cell_type": "markdown",
   "id": "dde2f0d1",
   "metadata": {},
   "source": [
    "\n",
    "<h4 style=\" color: #ff3300\">Q4. Write a Python Program To Find ASCII value of a character?</h4>\n",
    "\n",
    "<b style =\"color: #00b386\">Answer:</b>\n"
   ]
  },
  {
   "cell_type": "code",
   "execution_count": 4,
   "id": "e26a89fa",
   "metadata": {},
   "outputs": [
    {
     "name": "stdout",
     "output_type": "stream",
     "text": [
      "Enter any Alphabet: f\n",
      "ASCII value of f is 102\n"
     ]
    }
   ],
   "source": [
    "ch = input('Enter any Alphabet: ')\n",
    "\n",
    "print('ASCII value of {0} is {1}'.format(ch,ord(ch)))"
   ]
  },
  {
   "cell_type": "markdown",
   "id": "a83370b7",
   "metadata": {},
   "source": [
    "\n",
    "<h4 style=\" color: #ff3300\">Q5. Write a Python Program to Make a Simple Calculator with 4 basic mathematical operations?</h4>\n",
    "\n",
    "<b style =\"color: #00b386\">Answer:</b>"
   ]
  },
  {
   "cell_type": "code",
   "execution_count": 5,
   "id": "b54997b7",
   "metadata": {},
   "outputs": [
    {
     "name": "stdout",
     "output_type": "stream",
     "text": [
      "Welcome to Basic Calculator.\n",
      "\n",
      "\n",
      "Select the Operation:\n",
      "For Addition press 1:\n",
      "For Substraction press 2:\n",
      "For Multiplication press 3:\n",
      "For Division press 4:\n",
      "For Exit press 5\n",
      "3\n",
      "\n",
      "Enter number1: 12\n",
      "Enter number2: 2\n",
      "12 * 2 = 24\n",
      "\n",
      "Select the Operation:\n",
      "For Addition press 1:\n",
      "For Substraction press 2:\n",
      "For Multiplication press 3:\n",
      "For Division press 4:\n",
      "For Exit press 5\n",
      "5\n"
     ]
    }
   ],
   "source": [
    "print(\"Welcome to Basic Calculator.\\n\")\n",
    "\n",
    "i=5\n",
    "while i in [1,2,3,4,5]:\n",
    "    \n",
    "    print('\\nSelect the Operation:')\n",
    "    print('For Addition press 1:')\n",
    "    print('For Substraction press 2:')\n",
    "    print('For Multiplication press 3:')\n",
    "    print('For Division press 4:')\n",
    "    print('For Exit press 5')\n",
    "    \n",
    "    option = int(input(''))\n",
    "    \n",
    "    if(option == 1):\n",
    "        n1 = int(input('\\nEnter number1: '))\n",
    "        n2 = int(input('Enter number2: '))\n",
    "        print('{0} + {1} = {2}'.format(n1,n2, n1+n2))\n",
    "    elif(option == 2):\n",
    "        n1 = int(input('\\nEnter number1: '))\n",
    "        n2 = int(input('Enter number2: '))\n",
    "        print('{0} - {1} = {2}'.format(n1,n2, n1-n2))\n",
    "    elif(option == 3):\n",
    "        n1 = int(input('\\nEnter number1: '))\n",
    "        n2 = int(input('Enter number2: '))\n",
    "        print('{0} * {1} = {2}'.format(n1,n2, n1*n2))\n",
    "    elif(option == 4):\n",
    "        n1 = int(input('\\nEnter number1: '))\n",
    "        n2 = int(input('Enter number2: '))\n",
    "        print('{0} / {1} = {2}'.format(n1,n2, n1/n2))\n",
    "    elif(option == 5):\n",
    "        break\n",
    "    else:\n",
    "        print('\\nPlease select right operation or press 5 for exit.')"
   ]
  }
 ],
 "metadata": {
  "kernelspec": {
   "display_name": "Python 3 (ipykernel)",
   "language": "python",
   "name": "python3"
  },
  "language_info": {
   "codemirror_mode": {
    "name": "ipython",
    "version": 3
   },
   "file_extension": ".py",
   "mimetype": "text/x-python",
   "name": "python",
   "nbconvert_exporter": "python",
   "pygments_lexer": "ipython3",
   "version": "3.9.13"
  }
 },
 "nbformat": 4,
 "nbformat_minor": 5
}
