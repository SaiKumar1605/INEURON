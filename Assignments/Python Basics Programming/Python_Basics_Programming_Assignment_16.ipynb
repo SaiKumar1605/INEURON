{
 "cells": [
  {
   "cell_type": "markdown",
   "id": "dfdabeb0",
   "metadata": {},
   "source": [
    "<b>Author/User:</b> <b style=\"color:#6666ff\">Sai Kumar Ramagiri</b><br>\n",
    "<b>Author/User:</b> <b style=\"color:#e69900\">07/08/2023</b><br>"
   ]
  },
  {
   "cell_type": "markdown",
   "id": "260a4bdd",
   "metadata": {},
   "source": [
    "<u><h1 style=\"color:#006699; text-align:center\">PYTHON BASICS</h1></u>"
   ]
  },
  {
   "cell_type": "markdown",
   "id": "9b7866ea",
   "metadata": {},
   "source": [
    "<u><h2 style=\"color:#24478f; text-align:center\">PROGRAMMING ASSIGNMENT 16</h2></u>"
   ]
  },
  {
   "cell_type": "markdown",
   "id": "4c7e3716",
   "metadata": {},
   "source": [
    "\n",
    "<h4 style=\" color: #ff3300\">Question1. Write a function that stutters a word as if someone is struggling to read it. The first two letters are repeated twice with an ellipsis ... and space after each, and then the word is pronounced with a question mark?\n",
    "\n",
    "<br>Examples\n",
    "stutter(&quot;incredible&quot;) ➞ &quot;in... in... incredible?&quot;\n",
    "    \n",
    "stutter(&quot;enthusiastic&quot;) ➞ &quot;en... en... enthusiastic?&quot;\n",
    "\n",
    "stutter(&quot;outstanding&quot;) ➞ &quot;ou... ou... outstanding?&quot;\n",
    "\n",
    "Hint :- Assume all input is in lower case and at least two characters long.</h4>\n",
    "\n",
    "<b style =\"color: #00b386\">Answer:</b> "
   ]
  },
  {
   "cell_type": "code",
   "execution_count": 1,
   "id": "549b1683",
   "metadata": {},
   "outputs": [
    {
     "name": "stdout",
     "output_type": "stream",
     "text": [
      "Enter any word: incredible\n",
      "in...in...incredible?\n"
     ]
    }
   ],
   "source": [
    "s = input('Enter any word: ')\n",
    "print((s[0:2]+'...') * 2 + s + '?')"
   ]
  },
  {
   "cell_type": "markdown",
   "id": "e36c0728",
   "metadata": {},
   "source": [
    "\n",
    "<h4 style=\" color: #ff3300\">Question 2.Create a function that takes an angle in radians and returns the corresponding angle in degrees rounded to one decimal place.\n",
    "\n",
    "Examples\n",
    "\n",
    "radians_to_degrees(1) ➞ 57.3\n",
    "    \n",
    "radians_to_degrees(20) ➞ 1145.9\n",
    "\n",
    "radians_to_degrees(50) ➞ 2864.8 </h4>\n",
    "\n",
    "<b style =\"color: #00b386\">Answer:</b>"
   ]
  },
  {
   "cell_type": "code",
   "execution_count": 2,
   "id": "9d7d17d3",
   "metadata": {},
   "outputs": [
    {
     "name": "stdout",
     "output_type": "stream",
     "text": [
      "Enter angle in radians: 1\n"
     ]
    },
    {
     "data": {
      "text/plain": [
       "57.3"
      ]
     },
     "execution_count": 2,
     "metadata": {},
     "output_type": "execute_result"
    }
   ],
   "source": [
    "import math\n",
    "\n",
    "angle = int(input('Enter angle in radians: '))\n",
    "\n",
    "def radians_to_degrees(n):\n",
    "    \n",
    "    return round((n * 180)/math.pi, ndigits=2) \n",
    "\n",
    "radians_to_degrees(1)"
   ]
  },
  {
   "cell_type": "markdown",
   "id": "dde2f0d1",
   "metadata": {},
   "source": [
    "\n",
    "<h4 style=\" color: #ff3300\">Question 3. In this challenge, establish if a given integer num is a Curzon number. If 1 plus 2 elevated to num is exactly divisible by 1 plus 2 multiplied by num, then num is a Curzon number. Given a non-negative integer num, implement a function that returns True if num is a Curzon number, or False otherwise.\n",
    "\n",
    "<br>Examples\n",
    "\n",
    "is_curzon(5) ➞ True\n",
    "    \n",
    "     2 ** 5 + 1 = 33\n",
    " \n",
    "     2 * 5 + 1 = 11\n",
    " \n",
    "     33 is a multiple of 11\n",
    "\n",
    "is_curzon(10) ➞ False\n",
    " \n",
    "     2 ** 10 + 1 = 1025\n",
    "     2 * 10 + 1 = 21\n",
    "     1025 is not a multiple of 21\n",
    "\n",
    "is_curzon(14) ➞ True\n",
    "    \n",
    "     2 ** 14 + 1 = 16385\n",
    "     2 * 14 + 1 = 29\n",
    "     16385 is a multiple of 29</h4>\n",
    "\n",
    "<b style =\"color: #00b386\">Answer:</b>\n"
   ]
  },
  {
   "cell_type": "code",
   "execution_count": 3,
   "id": "e26a89fa",
   "metadata": {},
   "outputs": [
    {
     "name": "stdout",
     "output_type": "stream",
     "text": [
      "Enter any number: 5\n",
      "33 is multiplied by 11\n",
      "5 is curzom number\n"
     ]
    }
   ],
   "source": [
    "def is_curzon(n):\n",
    "    \n",
    "    if( (1+(2**n))%(1 +(2*n))==0): \n",
    "        print('{0} is multiplied by {1}'.format(1+(2**n),1 +(2*n)))\n",
    "           \n",
    "        print('{0} is curzom number'.format(n))\n",
    "    else:\n",
    "        print('FALSE')\n",
    "\n",
    "n = int(input('Enter any number: '))\n",
    "\n",
    "is_curzon(n)"
   ]
  },
  {
   "cell_type": "markdown",
   "id": "a83370b7",
   "metadata": {},
   "source": [
    "\n",
    "<h4 style=\" color: #ff3300\">Question 4.Given the side length x find the area of a hexagon.\n",
    "    \n",
    "\n",
    "Examples\n",
    "    \n",
    "    area_of_hexagon(1) ➞ 2.6\n",
    "    area_of_hexagon(2) ➞ 10.4\n",
    "    area_of_hexagon(3) ➞ 23.4</h4>\n",
    "\n",
    "<b style =\"color: #00b386\">Answer:</b>"
   ]
  },
  {
   "cell_type": "code",
   "execution_count": 4,
   "id": "b54997b7",
   "metadata": {},
   "outputs": [
    {
     "name": "stdout",
     "output_type": "stream",
     "text": [
      "Enter the side length of hexagon: 1\n"
     ]
    },
    {
     "data": {
      "text/plain": [
       "2.6"
      ]
     },
     "execution_count": 4,
     "metadata": {},
     "output_type": "execute_result"
    }
   ],
   "source": [
    "def area_of_hexagon(s):\n",
    "    \n",
    "    return round((3 * math.sqrt(3) * (s**2))/2,ndigits=1)\n",
    "\n",
    "s = float(input('Enter the side length of hexagon: '))\n",
    "area_of_hexagon(s)"
   ]
  },
  {
   "cell_type": "markdown",
   "id": "1d73ae60",
   "metadata": {},
   "source": [
    "\n",
    "<h4 style=\" color: #ff3300\">Question 5. Create a function that returns a base-2 (binary) representation of a base-10 (decimal) string number. To convert is simple: ((2) means base-2 and (10) means base-10) 010101001(2) = 1 + 8 + 32 + 128.\n",
    "\n",
    "Going from right to left, the value of the most right bit is 1, now from that every bit to the left\n",
    "will be x2 the value, value of an 8 bit binary numbers are (256, 128, 64, 32, 16, 8, 4, 2, 1).\n",
    "\n",
    "Examples   \n",
    "\n",
    "binary(1) ➞ &quot;1&quot;\n",
    "\n",
    "1*1 = 1\n",
    "\n",
    "binary(5) ➞ &quot;101&quot;\n",
    "\n",
    "1*1 + 1*4 = 5\n",
    "\n",
    "binary(10) ➞ &quot;1010&quot;\n",
    "\n",
    "1*2 + 1*8 = 10</h4>\n",
    "\n",
    "<b style =\"color: #00b386\">Answer:</b>"
   ]
  },
  {
   "cell_type": "code",
   "execution_count": 5,
   "id": "b9ff3a73",
   "metadata": {},
   "outputs": [
    {
     "name": "stdout",
     "output_type": "stream",
     "text": [
      "Enter any number: 10\n",
      "1010\n",
      "10\n"
     ]
    }
   ],
   "source": [
    "def binary(n):\n",
    "    \n",
    "    \n",
    "    \n",
    "    if n == 1:\n",
    "        binary = '1'\n",
    "    \n",
    "    else:\n",
    "        \n",
    "        s = ''\n",
    "\n",
    "        while n > 1:\n",
    "\n",
    "            s = s + str(n%2)\n",
    "            n = int(n/2)\n",
    "            if(n==1):\n",
    "                s = s + '1'\n",
    "            elif(n==0):\n",
    "                s = s + '0'\n",
    "\n",
    "        binary = s\n",
    "    \n",
    "\n",
    "    r = 0\n",
    "    print(binary[::-1])\n",
    "    for i in range(0,len(binary)):\n",
    "        \n",
    "        if(binary[i] == '1'):\n",
    "            r = r + (1*(2**i))\n",
    "        \n",
    "    print(r)\n",
    "    \n",
    "n = int(input('Enter any number: '))\n",
    "binary(n)\n",
    "\n"
   ]
  }
 ],
 "metadata": {
  "kernelspec": {
   "display_name": "Python 3 (ipykernel)",
   "language": "python",
   "name": "python3"
  },
  "language_info": {
   "codemirror_mode": {
    "name": "ipython",
    "version": 3
   },
   "file_extension": ".py",
   "mimetype": "text/x-python",
   "name": "python",
   "nbconvert_exporter": "python",
   "pygments_lexer": "ipython3",
   "version": "3.9.13"
  }
 },
 "nbformat": 4,
 "nbformat_minor": 5
}
