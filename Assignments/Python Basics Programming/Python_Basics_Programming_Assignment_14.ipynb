{
 "cells": [
  {
   "cell_type": "markdown",
   "metadata": {},
   "source": [
    "<b>Author/User:</b> <b style=\"color:#6666ff\">Sai Kumar Ramagiri</b><br>\n",
    "<b>Date of Submission:</b> <b style=\"color:#e69900\">03/08/2023</b><br>"
   ]
  },
  {
   "cell_type": "markdown",
   "metadata": {},
   "source": [
    "<u><h1 style=\"color:#006699; text-align:center\">PYTHON BASICS</h1></u>"
   ]
  },
  {
   "cell_type": "markdown",
   "metadata": {},
   "source": [
    "<u><h2 style=\"color:#24478f; text-align:center\">PROGRAMMING ASSIGNMENT 14</h2></u>"
   ]
  },
  {
   "cell_type": "markdown",
   "metadata": {},
   "source": [
    "\n",
    "<h4 style=\" color: #ff3300\">1.Define a class with a generator which can iterate the numbers, which are divisible by 7, between a given range 0 and n. ?</h4>\n",
    "\n",
    "<b style =\"color: #00b386\">Answer:</b> "
   ]
  },
  {
   "cell_type": "code",
   "execution_count": 1,
   "metadata": {},
   "outputs": [
    {
     "name": "stdout",
     "output_type": "stream",
     "text": [
      "Enter the number, upto which the numbers divided by 7 should be printed: 100\n"
     ]
    },
    {
     "data": {
      "text/plain": [
       "[0, 7, 14, 21, 28, 35, 42, 49, 56, 63, 70, 77, 84, 91, 98]"
      ]
     },
     "execution_count": 1,
     "metadata": {},
     "output_type": "execute_result"
    }
   ],
   "source": [
    "class with_gen:\n",
    "    \n",
    "    def __init__(self,x):\n",
    "        self.x = x\n",
    "    \n",
    "    def iterate(self):\n",
    "        \n",
    "        for i in range(0,self.x+1):\n",
    "            \n",
    "            if(i%7 == 0):\n",
    "                #print(i)\n",
    "                yield i\n",
    "\n",
    "n = int(input('Enter the number, upto which the numbers divided by 7 should be printed: '))\n",
    "result = with_gen(100)\n",
    "list(result.iterate())"
   ]
  },
  {
   "cell_type": "markdown",
   "metadata": {},
   "source": [
    "\n",
    "<h4 style=\" color: #ff3300\">Q2:Write a program to compute the frequency of the words from the input. The output should output after sorting the key alphanumerically. Suppose the following input is supplied to the program: <br>\n",
    "\n",
    "New to Python or choosing between Python 2 and Python 3? Read Python 2 or Python 3.\n",
    "\n",
    "Then, the output should be:<br>\n",
    "2:2<br>\n",
    "3.:1<br>\n",
    "3?:1<br>\n",
    "New:1<br>\n",
    "Python:5<br>\n",
    "Read:1<br>\n",
    "and:1<br>\n",
    "between:1<br>\n",
    "choosing:1<br>\n",
    "or:2<br>\n",
    "to:1</h4>\n",
    "\n",
    "<b style =\"color: #00b386\">Answer:</b> "
   ]
  },
  {
   "cell_type": "code",
   "execution_count": 2,
   "metadata": {},
   "outputs": [
    {
     "name": "stdout",
     "output_type": "stream",
     "text": [
      "Enter any sentence: New to Python or choosing between Python 2 and Python 3? Read Python 2 or Python 3\n",
      "2 : 2\n",
      "3 : 1\n",
      "3? : 1\n",
      "New : 1\n",
      "Python : 5\n",
      "Read : 1\n",
      "and : 1\n",
      "between : 1\n",
      "choosing : 1\n",
      "or : 2\n",
      "to : 1\n"
     ]
    }
   ],
   "source": [
    "s = input('Enter any sentence: ').split(\" \")\n",
    "s\n",
    "\n",
    "d = {}\n",
    "\n",
    "for i in s:\n",
    "    \n",
    "    if i in d.keys():\n",
    "        d[i] = d[i] + 1\n",
    "    else:\n",
    "        d[i] = 1\n",
    "\n",
    "\n",
    "for j in sorted(list(d.keys())):\n",
    "    print(\"{0} : {1}\".format(j,d[j]))"
   ]
  },
  {
   "cell_type": "markdown",
   "metadata": {},
   "source": [
    "\n",
    "<h4 style=\" color: #ff3300\">Q3: Define a class Person and its two child classes: Male and Female. All classes have a method &quot;getGender&quot; which can print &quot;Male&quot; for Male class and &quot;Female&quot; for Female class.</h4>\n",
    "\n",
    "<b style =\"color: #00b386\">Answer:</b> "
   ]
  },
  {
   "cell_type": "code",
   "execution_count": 3,
   "metadata": {},
   "outputs": [
    {
     "name": "stdout",
     "output_type": "stream",
     "text": [
      "Male\n",
      "Female\n"
     ]
    }
   ],
   "source": [
    "class person:\n",
    "    \n",
    "    def getGender():\n",
    "        pass\n",
    "\n",
    "class male(person):\n",
    "\n",
    "    def getGender():\n",
    "        print('Male')\n",
    "        \n",
    "class female(person):\n",
    "\n",
    "    def getGender():\n",
    "        print('Female')\n",
    "            \n",
    "x = male\n",
    "y = female\n",
    "x.getGender()\n",
    "y.getGender()"
   ]
  },
  {
   "cell_type": "markdown",
   "metadata": {},
   "source": [
    "\n",
    "<h4 style=\" color: #ff3300\">Q4: Please write a program to generate all sentences where subject is in [&quot;I&quot;, &quot;You&quot;] and verb is in [&quot;Play&quot;, &quot;Love&quot;] and the object is in [&quot;Hockey&quot;,&quot;Football&quot;].</h4>\n",
    "\n",
    "<b style =\"color: #00b386\">Answer:</b> "
   ]
  },
  {
   "cell_type": "code",
   "execution_count": 4,
   "metadata": {
    "scrolled": true
   },
   "outputs": [
    {
     "name": "stdout",
     "output_type": "stream",
     "text": [
      "I Play Hockey\n",
      "I Play Football\n",
      "I Love Hockey\n",
      "I Love Football\n",
      "You Play Hockey\n",
      "You Play Football\n",
      "You Love Hockey\n",
      "You Love Football\n"
     ]
    }
   ],
   "source": [
    "for i in ['I','You']:\n",
    "    \n",
    "    for j in ['Play','Love']:\n",
    "        \n",
    "        for k in ['Hockey','Football']:\n",
    "            \n",
    "            print('{0} {1} {2}'.format(i,j,k))"
   ]
  },
  {
   "cell_type": "markdown",
   "metadata": {},
   "source": [
    "\n",
    "<h4 style=\" color: #ff3300\">Q5:Please write a program to compress and decompress the string &quot;hello world!hello world!hello world!hello world!&quot;.</h4>\n",
    "\n",
    "<b style =\"color: #00b386\">Answer:</b> "
   ]
  },
  {
   "cell_type": "code",
   "execution_count": 5,
   "metadata": {},
   "outputs": [
    {
     "name": "stdout",
     "output_type": "stream",
     "text": [
      "Original String:  hello world!hello world!hello world!hello world!\n",
      "Compressed String:  hel2o world!hel2o world!hel2o world!hel2o world!\n",
      "Decompressed String:  hello world!hello world!hello world!hello world!\n"
     ]
    }
   ],
   "source": [
    "s = 'hello world!hello world!hello world!hello world!'\n",
    "#s = 'abbbcdee'\n",
    "s\n",
    "\n",
    "ns = ''\n",
    "\n",
    "print('Original String: ',s)\n",
    "\n",
    "for i in range(0,len(s)):\n",
    "    if i == 0:\n",
    "        ns = ns + s[i]\n",
    "    elif( (s[i] == s[i-1]) and (ns[-1].isdigit())):\n",
    "        ns = ns[:-1] + str(int(ns[-1])+1)\n",
    "    elif s[i] == s[i-1]:\n",
    "        ns = ns + '2'\n",
    "    else:\n",
    "        ns = ns + s[i]\n",
    "\n",
    "        \n",
    "print('Compressed String: ' , ns)\n",
    "\n",
    "ct = ns\n",
    "\n",
    "\n",
    "ns = ''\n",
    "for i in range(0,len(ct)):\n",
    "    \n",
    "    if ct[i].isdigit():\n",
    "        ns = ns + (ct[i-1]*(int(ct[i])-1))\n",
    "    else:\n",
    "        ns = ns + ct[i]\n",
    "\n",
    "print('Decompressed String: ' , ns)"
   ]
  },
  {
   "cell_type": "markdown",
   "metadata": {},
   "source": [
    "\n",
    "<h4 style=\" color: #ff3300\">Q6: Please write a binary search function which searches an item in a sorted list. The function should return the index of element to be searched in the list.</h4>\n",
    "\n",
    "<b style =\"color: #00b386\">Answer:</b> "
   ]
  },
  {
   "cell_type": "code",
   "execution_count": 6,
   "metadata": {},
   "outputs": [
    {
     "name": "stdout",
     "output_type": "stream",
     "text": [
      "Enter any number to search it in a list: 22\n",
      "index of number in list= 2\n"
     ]
    }
   ],
   "source": [
    "l = [1,3,22,34,45,67,89,99]\n",
    "len(l)\n",
    "\n",
    "low = 0\n",
    "high = len(l)\n",
    "\n",
    "n = int(input('Enter any number to search it in a list: '))\n",
    "\n",
    "i = high\n",
    "while(i > 1):\n",
    "    m = int((low+high)/2)\n",
    "    #print(i)\n",
    "    \n",
    "    if l[m] == n:\n",
    "        print(\"index of number in list=\",m)\n",
    "        break\n",
    "    elif(n > l[m]):\n",
    "        low = m\n",
    "        i = high - low\n",
    "    elif(n < l[m]):\n",
    "        high = m\n",
    "        i = high - low\n",
    "else:\n",
    "    print('Did not find')"
   ]
  }
 ],
 "metadata": {
  "kernelspec": {
   "display_name": "Python 3",
   "language": "python",
   "name": "python3"
  },
  "language_info": {
   "codemirror_mode": {
    "name": "ipython",
    "version": 3
   },
   "file_extension": ".py",
   "mimetype": "text/x-python",
   "name": "python",
   "nbconvert_exporter": "python",
   "pygments_lexer": "ipython3",
   "version": "3.7.6"
  }
 },
 "nbformat": 4,
 "nbformat_minor": 4
}
