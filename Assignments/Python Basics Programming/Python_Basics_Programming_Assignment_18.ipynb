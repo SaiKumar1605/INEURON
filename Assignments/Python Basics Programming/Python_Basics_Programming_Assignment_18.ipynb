{
 "cells": [
  {
   "cell_type": "markdown",
   "metadata": {},
   "source": [
    "<b>Author/User:</b> <b style=\"color:#6666ff\">Sai Kumar Ramagiri</b><br>\n",
    "<b>Date of Submission:</b> <b style=\"color:#e69900\">08/08/2023</b><br>"
   ]
  },
  {
   "cell_type": "markdown",
   "metadata": {},
   "source": [
    "<u><h1 style=\"color:#006699; text-align:center\">PYTHON BASICS</h1></u>"
   ]
  },
  {
   "cell_type": "markdown",
   "metadata": {},
   "source": [
    "<u><h2 style=\"color:#24478f; text-align:center\">PROGRAMMING ASSIGNMENT 18</h2></u>"
   ]
  },
  {
   "cell_type": "markdown",
   "metadata": {},
   "source": [
    "\n",
    "<h4 style=\" color: #ff3300\">Question 1: Create a function that takes a list of non-negative integers and strings and return a new list without the strings.\n",
    "\n",
    "Examples\n",
    "\n",
    "filter_list([1, 2, &quot;a&quot;, &quot;b&quot;]) ➞ [1, 2]\n",
    "\n",
    "filter_list([1, &quot;a&quot;, &quot;b&quot;, 0, 15]) ➞ [1, 0, 15]\n",
    "\n",
    "filter_list([1, 2, &quot;aasf&quot;, &quot;1&quot;, &quot;123&quot;, 123]) ➞ [1, 2, 123]</h4>\n",
    "\n",
    "<b style =\"color: #00b386\">Answer:</b> "
   ]
  },
  {
   "cell_type": "code",
   "execution_count": 1,
   "metadata": {},
   "outputs": [
    {
     "data": {
      "text/plain": [
       "[1, 2, 3, 4, 5, 6, 7]"
      ]
     },
     "execution_count": 1,
     "metadata": {},
     "output_type": "execute_result"
    }
   ],
   "source": [
    "import string\n",
    "\n",
    "def filter_ist(l):\n",
    "    \n",
    "    r = [i for i in l if (isinstance(i,int) or isinstance(i,float))]\n",
    "    \n",
    "    return r\n",
    "\n",
    "l = [1,2,3,4,5,'8',6,7,'lone','wolf']\n",
    "\n",
    "filter_ist(l)"
   ]
  },
  {
   "cell_type": "markdown",
   "metadata": {},
   "source": [
    "\n",
    "<h4 style=\" color: #ff3300\">Question 2: The &quot;Reverser&quot; takes a string as input and returns that string in reverse order, with the opposite case.\n",
    "\n",
    "Examples\n",
    "\n",
    "reverse(&quot;Hello World&quot;) ➞ &quot;DLROw OLLEh&quot;\n",
    "    \n",
    "reverse(&quot;ReVeRsE&quot;) ➞ &quot;eSrEvEr&quot;\n",
    "\n",
    "reverse(&quot;Radar&quot;) ➞ &quot;RADAr&quot;</h4>\n",
    "\n",
    "<b style =\"color: #00b386\">Answer:</b> "
   ]
  },
  {
   "cell_type": "code",
   "execution_count": 2,
   "metadata": {},
   "outputs": [
    {
     "data": {
      "text/plain": [
       "'DLROw OLLEh'"
      ]
     },
     "execution_count": 2,
     "metadata": {},
     "output_type": "execute_result"
    }
   ],
   "source": [
    "def reverse(s):\n",
    "    \n",
    "    r = ''\n",
    "    for i in s:\n",
    "        \n",
    "        if i.islower():\n",
    "            \n",
    "            r = r + i.upper()\n",
    "        else:\n",
    "            r = r + i.lower()\n",
    "    \n",
    "    \n",
    "    return ''.join(list(reversed(r)))\n",
    "\n",
    "s = 'Hello World'\n",
    "\n",
    "reverse(s)"
   ]
  },
  {
   "cell_type": "markdown",
   "metadata": {},
   "source": [
    "\n",
    "<h4 style=\" color: #ff3300\">Question 3: You can assign variables from lists like this:\n",
    "\n",
    "<br>lst = [1, 2, 3, 4, 5, 6]\n",
    "<br>first = lst[0]\n",
    "<br>middle = lst[1:-1]\n",
    "<br>last = lst[-1]\n",
    "\n",
    "print(first) ➞ outputs 1\n",
    "\n",
    "print(middle) ➞ outputs [2, 3, 4, 5]\n",
    "\n",
    "print(last) ➞ outputs 6\n",
    "\n",
    "With Python 3, you can assign variables from lists in a much more succinct way. Create variables first, middle and last from the given list using destructuring assignment (check the Resources tab for some examples), where:\n",
    "\n",
    "first ➞ 1\n",
    "\n",
    "middle ➞ [2, 3, 4, 5]\n",
    "\n",
    "last ➞ 6\n",
    "\n",
    "Your task is to unpack the list writeyourcodehere into three variables, being first, middle, and last, with middle being everything in between the first and last element. Then print all three variables.</h4>\n",
    "\n",
    "<b style =\"color: #00b386\">Answer:</b> "
   ]
  },
  {
   "cell_type": "code",
   "execution_count": 3,
   "metadata": {},
   "outputs": [
    {
     "name": "stdout",
     "output_type": "stream",
     "text": [
      "First =  1\n",
      "Middle =  [2, 3, 4]\n",
      "Lase =  5\n"
     ]
    }
   ],
   "source": [
    "f,*m,l = [1,2,3,4,5]\n",
    "print(\"First = \",f)\n",
    "print(\"Middle = \",m)\n",
    "print(\"Lase = \",l)"
   ]
  },
  {
   "cell_type": "markdown",
   "metadata": {},
   "source": [
    "\n",
    "<h4 style=\" color: #ff3300\">Question 4: Write a function that calculates the factorial of a number recursively.\n",
    "\n",
    "Examples\n",
    "\n",
    "factorial(5) ➞ 120\n",
    "<br>factorial(3) ➞ 6\n",
    "<br>factorial(1) ➞ 1\n",
    "<br>factorial(0) ➞ 1</h4>\n",
    "\n",
    "<b style =\"color: #00b386\">Answer:</b> "
   ]
  },
  {
   "cell_type": "code",
   "execution_count": 4,
   "metadata": {
    "scrolled": true
   },
   "outputs": [
    {
     "data": {
      "text/plain": [
       "120"
      ]
     },
     "execution_count": 4,
     "metadata": {},
     "output_type": "execute_result"
    }
   ],
   "source": [
    "def factorial(n):\n",
    "    \n",
    "    if n == 1:\n",
    "        return n\n",
    "    else:\n",
    "        return n * factorial(n-1)\n",
    "    \n",
    "factorial(5)"
   ]
  },
  {
   "cell_type": "markdown",
   "metadata": {},
   "source": [
    "\n",
    "<h4 style=\" color: #ff3300\">Question 5: Write a function that moves all elements of one type to the end of the list.\n",
    "\n",
    "Examples: \n",
    "\n",
    "move_to_end([1, 3, 2, 4, 4, 1], 1) ➞ [3, 2, 4, 4, 1, 1]\n",
    "Move all the 1s to the end of the array.\n",
    "\n",
    "move_to_end([7, 8, 9, 1, 2, 3, 4], 9) ➞ [7, 8, 1, 2, 3, 4, 9]\n",
    "\n",
    "move_to_end([&quot;a&quot;, &quot;a&quot;, &quot;a&quot;, &quot;b&quot;], &quot;a&quot;) ➞ [&quot;b&quot;, &quot;a&quot;, &quot;a&quot;, &quot;a&quot;].</h4>\n",
    "\n",
    "<b style =\"color: #00b386\">Answer:</b> "
   ]
  },
  {
   "cell_type": "code",
   "execution_count": 5,
   "metadata": {},
   "outputs": [
    {
     "data": {
      "text/plain": [
       "[3, 2, 4, 4, 5, 1, 1, 1]"
      ]
     },
     "execution_count": 5,
     "metadata": {},
     "output_type": "execute_result"
    }
   ],
   "source": [
    "l = [1,3,2,4,4,1,5,1]\n",
    "e = 1\n",
    "\n",
    "def move_to_end(l,e):\n",
    "    c = 0\n",
    "    r = []\n",
    "    r1 = []\n",
    "    for i in l:\n",
    "        if i==e:\n",
    "            if c>1:\n",
    "                r1.append(i)\n",
    "            else:\n",
    "                r1.append(i)\n",
    "                c = c+1\n",
    "        else:\n",
    "            r.append(i)\n",
    "    \n",
    "    return r + r1\n",
    "\n",
    "move_to_end(l,e)"
   ]
  }
 ],
 "metadata": {
  "kernelspec": {
   "display_name": "Python 3",
   "language": "python",
   "name": "python3"
  },
  "language_info": {
   "codemirror_mode": {
    "name": "ipython",
    "version": 3
   },
   "file_extension": ".py",
   "mimetype": "text/x-python",
   "name": "python",
   "nbconvert_exporter": "python",
   "pygments_lexer": "ipython3",
   "version": "3.7.6"
  }
 },
 "nbformat": 4,
 "nbformat_minor": 4
}
