{
 "cells": [
  {
   "cell_type": "markdown",
   "id": "dfdabeb0",
   "metadata": {},
   "source": [
    "<b>Author/User:</b> <b style=\"color:#6666ff\">Sai Kumar Ramagiri</b><br>\n",
    "<b>Author/User:</b> <b style=\"color:#e69900\">31/07/2023</b><br>"
   ]
  },
  {
   "cell_type": "markdown",
   "id": "260a4bdd",
   "metadata": {},
   "source": [
    "<u><h1 style=\"color:#006699; text-align:center\">PYTHON BASICS</h1></u>"
   ]
  },
  {
   "cell_type": "markdown",
   "id": "9b7866ea",
   "metadata": {},
   "source": [
    "<u><h2 style=\"color:#24478f; text-align:center\">PROGRAMMING ASSIGNMENT 12</h2></u>"
   ]
  },
  {
   "cell_type": "markdown",
   "id": "4c7e3716",
   "metadata": {},
   "source": [
    "\n",
    "<h4 style=\" color: #ff3300\">Q1. Write a Python program to Extract Unique values dictionary values?</h4>\n",
    "\n",
    "<b style =\"color: #00b386\">Answer:</b> "
   ]
  },
  {
   "cell_type": "code",
   "execution_count": 1,
   "id": "549b1683",
   "metadata": {},
   "outputs": [
    {
     "data": {
      "text/plain": [
       "{'Geralt', 'Rivia'}"
      ]
     },
     "execution_count": 1,
     "metadata": {},
     "output_type": "execute_result"
    }
   ],
   "source": [
    "d = {'name':'Geralt','Location':'Rivia','Birth_place':'Rivia'}\n",
    "\n",
    "set(d.values())"
   ]
  },
  {
   "cell_type": "markdown",
   "id": "e36c0728",
   "metadata": {},
   "source": [
    "\n",
    "<h4 style=\" color: #ff3300\">Q2. Write a Python program to find the sum of all items in a dictionary?</h4>\n",
    "\n",
    "<b style =\"color: #00b386\">Answer:</b>"
   ]
  },
  {
   "cell_type": "code",
   "execution_count": 2,
   "id": "9d7d17d3",
   "metadata": {},
   "outputs": [
    {
     "data": {
      "text/plain": [
       "3"
      ]
     },
     "execution_count": 2,
     "metadata": {},
     "output_type": "execute_result"
    }
   ],
   "source": [
    "d = {'name':'Geralt','Location':'Rivia','Birth_place':'Rivia'}\n",
    "\n",
    "len(d.items())"
   ]
  },
  {
   "cell_type": "markdown",
   "id": "d7c0834a",
   "metadata": {},
   "source": [
    "\n",
    "<h4 style=\" color: #ff3300\">Q3. Write a Python program to Merging two Dictionaries?</h4>\n",
    "\n",
    "<b style =\"color: #00b386\">Answer:</b>"
   ]
  },
  {
   "cell_type": "code",
   "execution_count": 3,
   "id": "20e6bea5",
   "metadata": {},
   "outputs": [
    {
     "data": {
      "text/plain": [
       "{'name': 'Geralt',\n",
       " 'Location': 'Rivia',\n",
       " 'Birth_place': 'Rivia',\n",
       " 'name1': 'Yennifer',\n",
       " 'Location1': 'vengeberg',\n",
       " 'Birth_place1': 'Aedirn'}"
      ]
     },
     "execution_count": 3,
     "metadata": {},
     "output_type": "execute_result"
    }
   ],
   "source": [
    "d = {'name':'Geralt','Location':'Rivia','Birth_place':'Rivia'}\n",
    "d1 = {'name1':'Yennifer','Location1':'vengeberg','Birth_place1':'Aedirn'} \n",
    "\n",
    "d.update(d1)\n",
    "d"
   ]
  },
  {
   "cell_type": "markdown",
   "id": "dde2f0d1",
   "metadata": {},
   "source": [
    "\n",
    "<h4 style=\" color: #ff3300\">Q4. Write a Python program to convert key-values list to flat dictionary?</h4>\n",
    "\n",
    "<b style =\"color: #00b386\">Answer:</b>\n"
   ]
  },
  {
   "cell_type": "code",
   "execution_count": 4,
   "id": "e26a89fa",
   "metadata": {},
   "outputs": [
    {
     "name": "stdout",
     "output_type": "stream",
     "text": [
      "Dictionary:   {'name': ['Geralt', 'Yennifer', 'Triss'], 'Place': ['Rivia', 'Vengeberg', 'Maribor']}\n",
      "Flattened Dictionary:  {'Geralt': 'Rivia', 'Yennifer': 'Vengeberg', 'Triss': 'Maribor'}\n"
     ]
    }
   ],
   "source": [
    "d = {'name':['Geralt','Yennifer','Triss'],\n",
    "     'Place':['Rivia','Vengeberg','Maribor']}\n",
    "\n",
    "print('Dictionary:  ',d)\n",
    "\n",
    "print(\"Flattened Dictionary: \",dict(zip(d['name'],d['Place'])))"
   ]
  },
  {
   "cell_type": "markdown",
   "id": "a83370b7",
   "metadata": {},
   "source": [
    "\n",
    "<h4 style=\" color: #ff3300\">Q5. Write a Python program to insertion at the beginning in OrderedDict?</h4>\n",
    "\n",
    "<b style =\"color: #00b386\">Answer:</b>"
   ]
  },
  {
   "cell_type": "code",
   "execution_count": 5,
   "id": "b54997b7",
   "metadata": {},
   "outputs": [
    {
     "name": "stdout",
     "output_type": "stream",
     "text": [
      "Before Insert:  OrderedDict([('name', 'Geralt'), ('Location', 'Rivia'), ('Brrh_place', 'Rivia')])\n",
      "After insert:  OrderedDict([('friend', 'yen'), ('name', 'Geralt'), ('Location', 'Rivia'), ('Brrh_place', 'Rivia')])\n"
     ]
    }
   ],
   "source": [
    "from collections import OrderedDict\n",
    "\n",
    "d = OrderedDict[('name','Geralt'),('Location','Rivia'),('Birth_place','Rivia')]\n",
    "#d.update({'Ciri':'Cintrila'})\n",
    "d\n",
    "\n",
    "d = OrderedDict()\n",
    "d['name']='Geralt'\n",
    "d['Location']='Rivia'\n",
    "d['Brrh_place']='Rivia'\n",
    "\n",
    "print('Before Insert: ',d)\n",
    "\n",
    "d.update({'friend':'yen'})\n",
    "\n",
    "d.move_to_end('friend', last=False)\n",
    "\n",
    "print(\"After insert: \",d )"
   ]
  },
  {
   "cell_type": "markdown",
   "id": "12f7c984",
   "metadata": {},
   "source": [
    "\n",
    "<h4 style=\" color: #ff3300\">6. Write a Python program to check order of character in string using OrderedDict()?</h4>\n",
    "\n",
    "<b style =\"color: #00b386\">Answer:</b>"
   ]
  },
  {
   "cell_type": "code",
   "execution_count": 6,
   "id": "9d766790",
   "metadata": {
    "scrolled": true
   },
   "outputs": [
    {
     "name": "stdout",
     "output_type": "stream",
     "text": [
      "false\n"
     ]
    }
   ],
   "source": [
    "\n",
    "from collections import OrderedDict\n",
    " \n",
    "def checkOrder(input, pattern):\n",
    "     \n",
    "    dict1 = OrderedDict.fromkeys(input)\n",
    "    #print(dict1)\n",
    "\n",
    "    ptrlen = 0\n",
    "    for key,value in dict1.items():\n",
    "        #print(pattern[ptrlen])\n",
    "        if (key == pattern[ptrlen]):\n",
    "            ptrlen = ptrlen + 1\n",
    "         \n",
    "        # check if we have traverse complete\n",
    "        # pattern string\n",
    "        if (ptrlen == (len(pattern))):\n",
    "            return 'true'\n",
    " \n",
    "\n",
    "    return 'false'\n",
    " \n",
    "if __name__ == \"__main__\":\n",
    "    input = 'engineers rock'\n",
    "    pattern = 'oe'\n",
    "    print (checkOrder(input,pattern))"
   ]
  },
  {
   "cell_type": "markdown",
   "id": "61ec5b95",
   "metadata": {},
   "source": [
    "\n",
    "<h4 style=\" color: #ff3300\">7. Write a Python program to sort Python Dictionaries by Key or Value?</h4>\n",
    "\n",
    "<b style =\"color: #00b386\">Answer:</b>"
   ]
  },
  {
   "cell_type": "code",
   "execution_count": 7,
   "id": "df962090",
   "metadata": {},
   "outputs": [
    {
     "name": "stdout",
     "output_type": "stream",
     "text": [
      "Dictionary:  {'name': 'Geralt', 'Location': 'Rivia', 'Birth_place': 'Rivia'}\n",
      "sorted_dictionary :  {'Birth_place': 'Rivia', 'Location': 'Rivia', 'name': 'Geralt'}\n"
     ]
    }
   ],
   "source": [
    "d = {'name':'Geralt','Location':'Rivia','Birth_place':'Rivia'}\n",
    "print('Dictionary: ',d)\n",
    "\n",
    "k = sorted(list(d.keys()))\n",
    "\n",
    "sorted_dictionary = {i:d[i] for i in k}\n",
    "\n",
    "print('sorted_dictionary : ', sorted_dictionary)"
   ]
  }
 ],
 "metadata": {
  "kernelspec": {
   "display_name": "Python 3 (ipykernel)",
   "language": "python",
   "name": "python3"
  },
  "language_info": {
   "codemirror_mode": {
    "name": "ipython",
    "version": 3
   },
   "file_extension": ".py",
   "mimetype": "text/x-python",
   "name": "python",
   "nbconvert_exporter": "python",
   "pygments_lexer": "ipython3",
   "version": "3.9.13"
  }
 },
 "nbformat": 4,
 "nbformat_minor": 5
}
