{
 "cells": [
  {
   "cell_type": "markdown",
   "id": "dfdabeb0",
   "metadata": {},
   "source": [
    "<b>Author/User:</b> <b style=\"color:#6666ff\">Sai Kumar Ramagiri</b><br>\n",
    "<b>Author/User:</b> <b style=\"color:#e69900\">27/07/2023</b><br>"
   ]
  },
  {
   "cell_type": "markdown",
   "id": "260a4bdd",
   "metadata": {},
   "source": [
    "<u><h1 style=\"color:#006699; text-align:center\">PYTHON BASICS</h1></u>"
   ]
  },
  {
   "cell_type": "markdown",
   "id": "9b7866ea",
   "metadata": {},
   "source": [
    "<u><h2 style=\"color:#24478f; text-align:center\">PROGRAMMING ASSIGNMENT 6</h2></u>"
   ]
  },
  {
   "cell_type": "markdown",
   "id": "4c7e3716",
   "metadata": {},
   "source": [
    "\n",
    "<h4 style=\" color: #ff3300\">Q1. Write a Python Program to Display Fibonacci Sequence Using Recursion?</h4>\n",
    "\n",
    "<b style =\"color: #00b386\">Answer:</b> "
   ]
  },
  {
   "cell_type": "code",
   "execution_count": 1,
   "id": "549b1683",
   "metadata": {},
   "outputs": [
    {
     "name": "stdout",
     "output_type": "stream",
     "text": [
      "Enter any number to calculate fibinochi series:10\n",
      "0, 1, 1, 2, 3, 5, 8, 13, 21, 34, 55, 89, 144\n"
     ]
    }
   ],
   "source": [
    "n=0\n",
    "a = 0\n",
    "b = 1\n",
    "def fibinochi(a,b,number,n):\n",
    "    \n",
    "    \n",
    "    \n",
    "    if n == number:\n",
    "        print(a+b)\n",
    "    elif n==0:\n",
    "        print(a,end=', ')\n",
    "        print(b,end=', ')\n",
    "        c = a+b\n",
    "        print(c,end=', ')\n",
    "        a = b\n",
    "        b = c\n",
    "        n = n+1\n",
    "        fibinochi(a,b,number,n)\n",
    "    else:\n",
    "        c = a+b\n",
    "        print(c,end=', ')\n",
    "        a = b\n",
    "        b = c\n",
    "        n = n+1\n",
    "        fibinochi(a,b,number,n)\n",
    "    \n",
    "number = int(input('Enter any number to calculate fibinochi series:'))\n",
    "fibinochi(0,1,number,0)"
   ]
  },
  {
   "cell_type": "markdown",
   "id": "e36c0728",
   "metadata": {},
   "source": [
    "\n",
    "<h4 style=\" color: #ff3300\">Q2. Write a Python Program to Find Factorial of Number Using Recursion?</h4>\n",
    "\n",
    "<b style =\"color: #00b386\">Answer:</b>"
   ]
  },
  {
   "cell_type": "code",
   "execution_count": 2,
   "id": "9d7d17d3",
   "metadata": {},
   "outputs": [
    {
     "name": "stdout",
     "output_type": "stream",
     "text": [
      "Enter any number to calculate factorial:6\n",
      "Factorial of 6 is 720\n"
     ]
    }
   ],
   "source": [
    "def factorial(n):\n",
    "    \n",
    "    if n == 1:\n",
    "        return 1\n",
    "    else:\n",
    "        return (n * factorial(n-1))\n",
    "\n",
    "number = int(input('Enter any number to calculate factorial:'))\n",
    "\n",
    "print('Factorial of {0} is {1}'.format(number, factorial(number)))"
   ]
  },
  {
   "cell_type": "markdown",
   "id": "d7c0834a",
   "metadata": {},
   "source": [
    "\n",
    "<h4 style=\" color: #ff3300\">Q3. Write a Python Program to calculate your Body Mass Index?</h4>\n",
    "\n",
    "<b style =\"color: #00b386\">Answer:</b>"
   ]
  },
  {
   "cell_type": "code",
   "execution_count": 3,
   "id": "20e6bea5",
   "metadata": {},
   "outputs": [
    {
     "name": "stdout",
     "output_type": "stream",
     "text": [
      "Enter your wieght in kilograms: 90\n",
      "Enter your height in inches(1 feet = 12 inches): 70\n",
      "Your body mass index is:  28.469444693991427\n"
     ]
    }
   ],
   "source": [
    "w = float(input('Enter your wieght in kilograms: '))\n",
    "h = float(input('Enter your height in inches(1 feet = 12 inches): '))\n",
    "h = (h * 2.54)/100\n",
    "\n",
    "bmi = w/(h**2)\n",
    "print('Your body mass index is: ',bmi)"
   ]
  },
  {
   "cell_type": "markdown",
   "id": "dde2f0d1",
   "metadata": {},
   "source": [
    "\n",
    "<h4 style=\" color: #ff3300\">Q4. Write a Python Program to calculate the natural logarithm of any number?</h4>\n",
    "\n",
    "<b style =\"color: #00b386\">Answer:</b>\n"
   ]
  },
  {
   "cell_type": "code",
   "execution_count": 4,
   "id": "e26a89fa",
   "metadata": {},
   "outputs": [
    {
     "name": "stdout",
     "output_type": "stream",
     "text": [
      "Enter any number:5\n",
      "Natural log of 5.0 is 1.6094379124341003.\n"
     ]
    }
   ],
   "source": [
    "import math\n",
    "\n",
    "n = float(input('Enter any number:'))\n",
    "print('Natural log of {0} is {1}.'.format(n,math.log(n)))"
   ]
  },
  {
   "cell_type": "markdown",
   "id": "a83370b7",
   "metadata": {},
   "source": [
    "\n",
    "<h4 style=\" color: #ff3300\">Q5. Write a Python Program for cube sum of first n natural numbers?</h4>\n",
    "\n",
    "<b style =\"color: #00b386\">Answer:</b>"
   ]
  },
  {
   "cell_type": "code",
   "execution_count": 5,
   "id": "b54997b7",
   "metadata": {},
   "outputs": [
    {
     "name": "stdout",
     "output_type": "stream",
     "text": [
      "Enter any number till which sum of cube of natural numbers to be calculated: 10\n",
      "Sum of natural numbers till 10th element is: 3025\n"
     ]
    }
   ],
   "source": [
    "n = int(input('Enter any number till which sum of cube of natural numbers to be calculated: '))\n",
    "\n",
    "s=0\n",
    "for i in range(1,n+1):\n",
    "    s = s + (i**3)\n",
    "\n",
    "print('Sum of natural numbers till {0}th element is: {1}'.format(n,s))"
   ]
  }
 ],
 "metadata": {
  "kernelspec": {
   "display_name": "Python 3 (ipykernel)",
   "language": "python",
   "name": "python3"
  },
  "language_info": {
   "codemirror_mode": {
    "name": "ipython",
    "version": 3
   },
   "file_extension": ".py",
   "mimetype": "text/x-python",
   "name": "python",
   "nbconvert_exporter": "python",
   "pygments_lexer": "ipython3",
   "version": "3.9.13"
  }
 },
 "nbformat": 4,
 "nbformat_minor": 5
}
