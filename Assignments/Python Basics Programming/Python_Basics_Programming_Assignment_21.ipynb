{
 "cells": [
  {
   "cell_type": "markdown",
   "metadata": {},
   "source": [
    "<b>Author/User:</b> <b style=\"color:#6666ff\">Sai Kumar Ramagiri</b><br>\n",
    "<b>Date of Submission:</b> <b style=\"color:#e69900\">08/08/2023</b><br>"
   ]
  },
  {
   "cell_type": "markdown",
   "metadata": {},
   "source": [
    "<u><h1 style=\"color:#006699; text-align:center\">PYTHON BASICS</h1></u>"
   ]
  },
  {
   "cell_type": "markdown",
   "metadata": {},
   "source": [
    "<u><h2 style=\"color:#24478f; text-align:center\">PROGRAMMING ASSIGNMENT 21</h2></u>"
   ]
  },
  {
   "cell_type": "markdown",
   "metadata": {},
   "source": [
    "\n",
    "<h4 style=\" color: #ff3300\">Question1: Write a function that takes a list and a number as arguments. Add the number to the end of the list, then remove the first element of the list. The function should then return the updated list.\n",
    "\n",
    "Examples\n",
    "\n",
    "next_in_line([5, 6, 7, 8, 9], 1) ➞ [6, 7, 8, 9, 1]\n",
    "\n",
    "next_in_line([7, 6, 3, 23, 17], 10) ➞ [6, 3, 23, 17, 10]\n",
    "\n",
    "next_in_line([1, 10, 20, 42 ], 6) ➞ [10, 20, 42, 6]\n",
    "\n",
    "next_in_line([], 6) ➞ &quot;No list has been selected&quot;</h4>\n",
    "\n",
    "<b style =\"color: #00b386\">Answer:</b> "
   ]
  },
  {
   "cell_type": "code",
   "execution_count": 1,
   "metadata": {},
   "outputs": [
    {
     "data": {
      "text/plain": [
       "[6, 7, 8, 9, 1]"
      ]
     },
     "execution_count": 1,
     "metadata": {},
     "output_type": "execute_result"
    }
   ],
   "source": [
    "def next_in_line(l,n):\n",
    "    #print(l)\n",
    "    if len(l)>0:\n",
    "        l.append(n)\n",
    "        return l[1:]\n",
    "    else:\n",
    "        return('No list has been selected.')\n",
    "\n",
    "\n",
    "next_in_line([5,6,7,8,9],1)"
   ]
  },
  {
   "cell_type": "markdown",
   "metadata": {},
   "source": [
    "\n",
    "<h4 style=\" color: #ff3300\">Question2: Create the function that takes a list of dictionaries and returns the sum of people&#39;s budgets.\n",
    "  \n",
    "Examples\n",
    "\n",
    "get_budgets([{ &quot;name&quot;: &quot;John&quot;, &quot;age&quot;: 21, &quot;budget&quot;: 23000 },{ &quot;name&quot;: &quot;Steve&quot;, &quot;age&quot;: 32, &quot;budget&quot;: 40000 },{ &quot;name&quot;: &quot;Martin&quot;, &quot;age&quot;: 16, &quot;budget&quot;: 2700 }]) ➞ 65700\n",
    "\n",
    "get_budgets([{ &quot;name&quot;: &quot;John&quot;, &quot;age&quot;: 21, &quot;budget&quot;: 29000 },{ &quot;name&quot;: &quot;Steve&quot;, &quot;age&quot;: 32, &quot;budget&quot;: 32000 },{ &quot;name&quot;: &quot;Martin&quot;, &quot;age&quot;: 16, &quot;budget&quot;: 1600 }]) ➞ 62600</h4>\n",
    "\n",
    "<b style =\"color: #00b386\">Answer:</b> "
   ]
  },
  {
   "cell_type": "code",
   "execution_count": 2,
   "metadata": {},
   "outputs": [
    {
     "data": {
      "text/plain": [
       "65700"
      ]
     },
     "execution_count": 2,
     "metadata": {},
     "output_type": "execute_result"
    }
   ],
   "source": [
    "def get_budgets(l):\n",
    "    \n",
    "    b = 0\n",
    "    for i in l:\n",
    "        b = b + i['budget']\n",
    "        \n",
    "    return b\n",
    "\n",
    "get_budgets([{ \"name\": \"John\", \"age\": 21, \"budget\": 23000 },{ \"name\": \"Steve\", \"age\": 32, \"budget\": 40000 },{ \"name\": \"Martin\", \"age\": 16, \"budget\": 2700 }])"
   ]
  },
  {
   "cell_type": "markdown",
   "metadata": {},
   "source": [
    "\n",
    "<h4 style=\" color: #ff3300\">Question3: Create a function that takes a string and returns a string with its letters in alphabetical order.\n",
    "\n",
    "Examples\n",
    "\n",
    "alphabet_soup(&quot;hello&quot;) ➞ &quot;ehllo&quot;\n",
    "\n",
    "alphabet_soup(&quot;edabit&quot;) ➞ &quot;abdeit&quot;\n",
    "\n",
    "alphabet_soup(&quot;hacker&quot;) ➞ &quot;acehkr&quot;\n",
    "\n",
    "alphabet_soup(&quot;geek&quot;) ➞ &quot;eegk&quot;\n",
    "\n",
    "alphabet_soup(&quot;javascript&quot;) ➞ &quot;aacijprstv&quot;</h4>\n",
    "\n",
    "<b style =\"color: #00b386\">Answer:</b> "
   ]
  },
  {
   "cell_type": "code",
   "execution_count": 3,
   "metadata": {},
   "outputs": [
    {
     "data": {
      "text/plain": [
       "'acehkr'"
      ]
     },
     "execution_count": 3,
     "metadata": {},
     "output_type": "execute_result"
    }
   ],
   "source": [
    "def alphabet_soup(s):\n",
    "    \n",
    "    return(\"\".join(sorted(s)))\n",
    "\n",
    "alphabet_soup('hacker')"
   ]
  },
  {
   "cell_type": "markdown",
   "metadata": {},
   "source": [
    "<h4 style=\" color: #ff3300\">Question4: Suppose that you invest $10,000 for 10 years at an interest rate of 6% compounded monthly. What will be the value of your investment at the end of the 10 year period?\n",
    "\n",
    "Create a function that accepts the principal p, the term in years t, the interest rate r, and the number of compounding periods per year n. The function returns the value at the end of term rounded to the nearest cent.\n",
    "\n",
    "For the example above:\n",
    "\n",
    "compound_interest(10000, 10, 0.06, 12) ➞ 18193.97\n",
    "\n",
    "Note that the interest rate is given as a decimal and n=12 because with monthly compounding\n",
    "there are 12 periods per year. Compounding can also be done annually, quarterly, weekly, ordaily.\n",
    "\n",
    "Examples\n",
    "\n",
    "compound_interest(100, 1, 0.05, 1) ➞ 105.0\n",
    "\n",
    "compound_interest(3500, 15, 0.1, 4) ➞ 15399.26\n",
    "\n",
    "compound_interest(100000, 20, 0.15, 365) ➞ 2007316.26</h4>\n",
    "\n",
    "<b style =\"color: #00b386\">Answer:</b> "
   ]
  },
  {
   "cell_type": "code",
   "execution_count": 4,
   "metadata": {
    "scrolled": true
   },
   "outputs": [
    {
     "data": {
      "text/plain": [
       "18193.97"
      ]
     },
     "execution_count": 4,
     "metadata": {},
     "output_type": "execute_result"
    }
   ],
   "source": [
    "def compound_interest(p,t,r,n):\n",
    "    \n",
    "    \n",
    "    \n",
    "    return round((p * ((1 + (r/n))**(t*n))), ndigits=2)\n",
    "\n",
    "compound_interest(10000,10,0.06,12)"
   ]
  },
  {
   "cell_type": "markdown",
   "metadata": {},
   "source": [
    "<h4 style=\" color: #ff3300\">Question5: Write a function that takes a list of elements and returns only the integers. \n",
    "\n",
    "Examples\n",
    "\n",
    "return_only_integer([9, 2, &quot;space&quot;, &quot;car&quot;, &quot;lion&quot;, 16]) ➞ [9, 2, 16]\n",
    "\n",
    "return_only_integer([&quot;hello&quot;, 81, &quot;basketball&quot;, 123, &quot;fox&quot;]) ➞ [81, 123]\n",
    "\n",
    "return_only_integer([10, &quot;121&quot;, 56, 20, &quot;car&quot;, 3, &quot;lion&quot;]) ➞ [10, 56, 20,3]\n",
    "\n",
    "return_only_integer([&quot;String&quot;, True, 3.3, 1]) ➞ [1]</h4>\n",
    "\n",
    "<b style =\"color: #00b386\">Answer:</b> "
   ]
  },
  {
   "cell_type": "code",
   "execution_count": 5,
   "metadata": {},
   "outputs": [
    {
     "data": {
      "text/plain": [
       "[9, 2, 16]"
      ]
     },
     "execution_count": 5,
     "metadata": {},
     "output_type": "execute_result"
    }
   ],
   "source": [
    "def return_only_integer(l):\n",
    "    \n",
    "    return [i for i in l if str(i).isdigit()]\n",
    "\n",
    "return_only_integer([9, 2, \"space\", \"car\", \"lion\", 16])"
   ]
  }
 ],
 "metadata": {
  "kernelspec": {
   "display_name": "Python 3",
   "language": "python",
   "name": "python3"
  },
  "language_info": {
   "codemirror_mode": {
    "name": "ipython",
    "version": 3
   },
   "file_extension": ".py",
   "mimetype": "text/x-python",
   "name": "python",
   "nbconvert_exporter": "python",
   "pygments_lexer": "ipython3",
   "version": "3.7.6"
  }
 },
 "nbformat": 4,
 "nbformat_minor": 4
}
