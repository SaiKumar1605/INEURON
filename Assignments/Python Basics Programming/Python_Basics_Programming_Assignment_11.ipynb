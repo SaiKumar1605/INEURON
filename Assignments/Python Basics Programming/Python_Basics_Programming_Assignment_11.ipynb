{
 "cells": [
  {
   "cell_type": "markdown",
   "id": "dfdabeb0",
   "metadata": {},
   "source": [
    "<b>Author/User:</b> <b style=\"color:#6666ff\">Sai Kumar Ramagiri</b><br>\n",
    "<b>Author/User:</b> <b style=\"color:#e69900\">31/07/2023</b><br>"
   ]
  },
  {
   "cell_type": "markdown",
   "id": "260a4bdd",
   "metadata": {},
   "source": [
    "<u><h1 style=\"color:#006699; text-align:center\">PYTHON BASICS</h1></u>"
   ]
  },
  {
   "cell_type": "markdown",
   "id": "9b7866ea",
   "metadata": {},
   "source": [
    "<u><h2 style=\"color:#24478f; text-align:center\">PROGRAMMING ASSIGNMENT 11</h2></u>"
   ]
  },
  {
   "cell_type": "markdown",
   "id": "4c7e3716",
   "metadata": {},
   "source": [
    "\n",
    "<h4 style=\" color: #ff3300\">Q1. Write a Python program to find words which are greater than given length k?</h4>\n",
    "\n",
    "<b style =\"color: #00b386\">Answer:</b> "
   ]
  },
  {
   "cell_type": "code",
   "execution_count": 1,
   "id": "549b1683",
   "metadata": {},
   "outputs": [
    {
     "name": "stdout",
     "output_type": "stream",
     "text": [
      "Enter few words: Geralt of rivia white wolf\n",
      "Words  which have length greater than 3 are:\n",
      "Geralt\n",
      "rivia\n",
      "white\n",
      "wolf\n"
     ]
    }
   ],
   "source": [
    "words = str.split(input('Enter few words: '))\n",
    "\n",
    "print('Words  which have length greater than 3 are:')\n",
    "for i in words:\n",
    "    if len(i) >  3:\n",
    "        print(i)"
   ]
  },
  {
   "cell_type": "markdown",
   "id": "e36c0728",
   "metadata": {},
   "source": [
    "\n",
    "<h4 style=\" color: #ff3300\">Q2. Write a Python program for removing i-th character from a string?</h4>\n",
    "\n",
    "<b style =\"color: #00b386\">Answer:</b>"
   ]
  },
  {
   "cell_type": "code",
   "execution_count": 2,
   "id": "9d7d17d3",
   "metadata": {},
   "outputs": [
    {
     "name": "stdout",
     "output_type": "stream",
     "text": [
      "Before:  geralt\n",
      "\n",
      "After removing character: gerat\n"
     ]
    }
   ],
   "source": [
    "s = 'geralt'\n",
    "\n",
    "ith = 4\n",
    "\n",
    "r = s[0:ith] + s[ith+1:]\n",
    "\n",
    "print('Before: ' ,s)\n",
    "print('\\nAfter removing character:' ,r )"
   ]
  },
  {
   "cell_type": "markdown",
   "id": "d7c0834a",
   "metadata": {},
   "source": [
    "\n",
    "<h4 style=\" color: #ff3300\">Q3. Write a Python program to split and join a string?</h4>\n",
    "\n",
    "<b style =\"color: #00b386\">Answer:</b>"
   ]
  },
  {
   "cell_type": "code",
   "execution_count": 3,
   "id": "20e6bea5",
   "metadata": {},
   "outputs": [
    {
     "name": "stdout",
     "output_type": "stream",
     "text": [
      "String  =  geralt of rivia\n",
      "\n",
      "After split:  ['geralt', 'of', 'rivia']\n",
      "\n",
      "After join:  geralt-of-rivia\n"
     ]
    }
   ],
   "source": [
    "s = 'geralt of rivia'\n",
    "print(\"String  = \",s)\n",
    "\n",
    "s = s.split()\n",
    "print('\\nAfter split: ',s)\n",
    "\n",
    "s = \"-\".join(s)\n",
    "print('\\nAfter join: ',s)\n"
   ]
  },
  {
   "cell_type": "markdown",
   "id": "dde2f0d1",
   "metadata": {},
   "source": [
    "\n",
    "<h4 style=\" color: #ff3300\">Q4. Write a Python to check if a given string is binary string or not?</h4>\n",
    "\n",
    "<b style =\"color: #00b386\">Answer:</b>\n"
   ]
  },
  {
   "cell_type": "code",
   "execution_count": 4,
   "id": "e26a89fa",
   "metadata": {},
   "outputs": [
    {
     "name": "stdout",
     "output_type": "stream",
     "text": [
      "Enter any binary string:101001\n",
      "101001 is binary.\n"
     ]
    }
   ],
   "source": [
    "s = input('Enter any binary string:')\n",
    "\n",
    "b = True\n",
    "for i in s:\n",
    "    \n",
    "    if i not in {'0','1'}:\n",
    "        b = False\n",
    "\n",
    "if b:\n",
    "    print('{0} is binary.'.format(s))\n",
    "else:\n",
    "    print('{0} is not binary.'.format(s))"
   ]
  },
  {
   "cell_type": "markdown",
   "id": "a83370b7",
   "metadata": {},
   "source": [
    "\n",
    "<h4 style=\" color: #ff3300\">Q5. Write a Python program to find uncommon words from two Strings?</h4>\n",
    "\n",
    "<b style =\"color: #00b386\">Answer:</b>"
   ]
  },
  {
   "cell_type": "code",
   "execution_count": 5,
   "id": "b54997b7",
   "metadata": {},
   "outputs": [
    {
     "name": "stdout",
     "output_type": "stream",
     "text": [
      "Enter few words for list 1 : geralt of rivia\n",
      "Enter few words list 2: geralt of india\n",
      "The uncommon words among both lists of words are:  ['rivia', 'india']\n"
     ]
    }
   ],
   "source": [
    "words_1 = str.split(input('Enter few words for list 1 : '))\n",
    "words_2 = str.split(input('Enter few words list 2: '))\n",
    "\n",
    "print(\"The uncommon words among both lists of words are: \",list((set(words_1) - set(words_2)).union(set(words_2) - set(words_1))))"
   ]
  },
  {
   "cell_type": "markdown",
   "id": "12f7c984",
   "metadata": {},
   "source": [
    "\n",
    "<h4 style=\" color: #ff3300\">6. Write a Python to find all duplicate characters in string?</h4>\n",
    "\n",
    "<b style =\"color: #00b386\">Answer:</b>"
   ]
  },
  {
   "cell_type": "code",
   "execution_count": 6,
   "id": "9d766790",
   "metadata": {
    "scrolled": true
   },
   "outputs": [
    {
     "name": "stdout",
     "output_type": "stream",
     "text": [
      "Enter any string: rivia\n",
      "Duplicate characters in a string are:  ['i']\n"
     ]
    }
   ],
   "source": [
    "s = input('Enter any string: ')\n",
    "\n",
    "r = []\n",
    "for i in s:\n",
    "    if s.count(i)>1:\n",
    "        r.append(i)\n",
    "\n",
    "print(\"Duplicate characters in a string are: \",list(set(r)))"
   ]
  },
  {
   "cell_type": "markdown",
   "id": "61ec5b95",
   "metadata": {},
   "source": [
    "\n",
    "<h4 style=\" color: #ff3300\">Q7. Write a Python Program to check if a string contains any special character?</h4>\n",
    "\n",
    "<b style =\"color: #00b386\">Answer:</b>"
   ]
  },
  {
   "cell_type": "code",
   "execution_count": 7,
   "id": "df962090",
   "metadata": {},
   "outputs": [
    {
     "name": "stdout",
     "output_type": "stream",
     "text": [
      "Enter any string: White WOLF !\n",
      "string input contains special character.\n"
     ]
    }
   ],
   "source": [
    "import string\n",
    "s = input('Enter any string: ')\n",
    "\n",
    "p = False\n",
    "for i in s:\n",
    "    if i in string.punctuation:\n",
    "        p = True\n",
    "\n",
    "if(p):\n",
    "    print(\"string input contains special character.\")\n",
    "else:\n",
    "    print(\"String inputer does not contain special character.\")"
   ]
  }
 ],
 "metadata": {
  "kernelspec": {
   "display_name": "Python 3 (ipykernel)",
   "language": "python",
   "name": "python3"
  },
  "language_info": {
   "codemirror_mode": {
    "name": "ipython",
    "version": 3
   },
   "file_extension": ".py",
   "mimetype": "text/x-python",
   "name": "python",
   "nbconvert_exporter": "python",
   "pygments_lexer": "ipython3",
   "version": "3.9.13"
  }
 },
 "nbformat": 4,
 "nbformat_minor": 5
}
