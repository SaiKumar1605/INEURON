{
 "cells": [
  {
   "cell_type": "markdown",
   "id": "dfdabeb0",
   "metadata": {},
   "source": [
    "<b>Author/User:</b> <b style=\"color:#6666ff\">Sai Kumar Ramagiri</b><br>\n",
    "<b>Author/User:</b> <b style=\"color:#e69900\">28/07/2023</b><br>"
   ]
  },
  {
   "cell_type": "markdown",
   "id": "260a4bdd",
   "metadata": {},
   "source": [
    "<u><h1 style=\"color:#006699; text-align:center\">PYTHON BASICS</h1></u>"
   ]
  },
  {
   "cell_type": "markdown",
   "id": "9b7866ea",
   "metadata": {},
   "source": [
    "<u><h2 style=\"color:#24478f; text-align:center\">PROGRAMMING ASSIGNMENT 9</h2></u>"
   ]
  },
  {
   "cell_type": "markdown",
   "id": "4c7e3716",
   "metadata": {},
   "source": [
    "\n",
    "<h4 style=\" color: #ff3300\">Q1. Write a Python program to check if the given number is a Disarium Number?</h4>\n",
    "\n",
    "<b style =\"color: #00b386\">Answer:</b> "
   ]
  },
  {
   "cell_type": "code",
   "execution_count": 1,
   "id": "549b1683",
   "metadata": {},
   "outputs": [
    {
     "name": "stdout",
     "output_type": "stream",
     "text": [
      "Enter any number: 153\n",
      "153 is not Disarium Number.\n"
     ]
    }
   ],
   "source": [
    "n = input('Enter any number: ')\n",
    "\n",
    "s = 0\n",
    "for i in range(0,len(n)):\n",
    "    s= s + (int(n[i]) ** (i+1))\n",
    "\n",
    "if(s == int(n)):\n",
    "    print('{0} is Disarium Number'.format(n))\n",
    "else:\n",
    "    print(\"{0} is not Disarium Number.\".format(n))"
   ]
  },
  {
   "cell_type": "markdown",
   "id": "e36c0728",
   "metadata": {},
   "source": [
    "\n",
    "<h4 style=\" color: #ff3300\">Q2. Write a Python program to print all disarium numbers between 1 to 100?</h4>\n",
    "\n",
    "<b style =\"color: #00b386\">Answer:</b>"
   ]
  },
  {
   "cell_type": "code",
   "execution_count": 2,
   "id": "9d7d17d3",
   "metadata": {},
   "outputs": [
    {
     "name": "stdout",
     "output_type": "stream",
     "text": [
      "1 is Disarium Number\n",
      "2 is Disarium Number\n",
      "3 is Disarium Number\n",
      "4 is Disarium Number\n",
      "5 is Disarium Number\n",
      "6 is Disarium Number\n",
      "7 is Disarium Number\n",
      "8 is Disarium Number\n",
      "9 is Disarium Number\n",
      "89 is Disarium Number\n"
     ]
    }
   ],
   "source": [
    "for i in range(1,100):\n",
    "    s = 0\n",
    "    n = str(i)\n",
    "    for j in range(0,len(n)):\n",
    "        s= s + (int(n[j]) ** (j+1))\n",
    "        \n",
    "    if(s == int(n)):\n",
    "        print('{0} is Disarium Number'.format(n))"
   ]
  },
  {
   "cell_type": "markdown",
   "id": "d7c0834a",
   "metadata": {},
   "source": [
    "\n",
    "<h4 style=\" color: #ff3300\">Q3. Write a Python program to check if the given number is Happy Number?/h4>\n",
    "\n",
    "<b style =\"color: #00b386\">Answer:</b>"
   ]
  },
  {
   "cell_type": "code",
   "execution_count": 3,
   "id": "20e6bea5",
   "metadata": {},
   "outputs": [
    {
     "name": "stdout",
     "output_type": "stream",
     "text": [
      "Enter any number:10\n",
      "10 is Happy number.\n"
     ]
    }
   ],
   "source": [
    "n = input('Enter any number:')\n",
    "n1=n\n",
    "l = []\n",
    "\n",
    "while(True):\n",
    "    s = 0\n",
    "    for i in range(0,len(n)):\n",
    "        s = s + (int(n[i])**2)\n",
    "    if (s in l):\n",
    "        print('{0} is not Happy number.'.format(n1))\n",
    "        break\n",
    "    elif (s == 1):\n",
    "        print('{0} is Happy number.'.format(n1))\n",
    "        break\n",
    "    l.append(s)\n",
    "    n = str(s)\n",
    "    #print(n)"
   ]
  },
  {
   "cell_type": "markdown",
   "id": "dde2f0d1",
   "metadata": {},
   "source": [
    "\n",
    "<h4 style=\" color: #ff3300\">Q4. Write a Python program to print all happy numbers between 1 and 100?</h4>\n",
    "\n",
    "<b style =\"color: #00b386\">Answer:</b>\n"
   ]
  },
  {
   "cell_type": "code",
   "execution_count": 4,
   "id": "e26a89fa",
   "metadata": {},
   "outputs": [
    {
     "name": "stdout",
     "output_type": "stream",
     "text": [
      "1 is Happy number.\n",
      "7 is Happy number.\n",
      "10 is Happy number.\n",
      "13 is Happy number.\n",
      "19 is Happy number.\n",
      "23 is Happy number.\n",
      "28 is Happy number.\n",
      "31 is Happy number.\n",
      "32 is Happy number.\n",
      "44 is Happy number.\n",
      "49 is Happy number.\n",
      "68 is Happy number.\n",
      "70 is Happy number.\n",
      "79 is Happy number.\n",
      "82 is Happy number.\n",
      "86 is Happy number.\n",
      "91 is Happy number.\n",
      "94 is Happy number.\n",
      "97 is Happy number.\n"
     ]
    }
   ],
   "source": [
    "for j in range(1,100):\n",
    "    n = str(j)\n",
    "    l = []\n",
    "\n",
    "    while(True):\n",
    "        s = 0\n",
    "        for i in range(0,len(n)):\n",
    "            s = s + (int(n[i])**2)\n",
    "        if (s in l):\n",
    "            #print('{0} is not Happy number.'.format(j))\n",
    "            break\n",
    "        elif (s == 1):\n",
    "            print('{0} is Happy number.'.format(j))\n",
    "            break\n",
    "        l.append(s)\n",
    "        n = str(s)\n",
    "        #print(n)"
   ]
  },
  {
   "cell_type": "markdown",
   "id": "a83370b7",
   "metadata": {},
   "source": [
    "\n",
    "<h4 style=\" color: #ff3300\">Q5. Write a Python program to determine whether the given number is a Harshad Number?</h4>\n",
    "\n",
    "<b style =\"color: #00b386\">Answer:</b>"
   ]
  },
  {
   "cell_type": "code",
   "execution_count": 5,
   "id": "b54997b7",
   "metadata": {},
   "outputs": [
    {
     "name": "stdout",
     "output_type": "stream",
     "text": [
      "Enter any number:90\n",
      "9\n",
      "90 is a Harshadh number:\n"
     ]
    }
   ],
   "source": [
    "n = input('Enter any number:')\n",
    "\n",
    "s = 0\n",
    "\n",
    "for i in range(0,len(n)):\n",
    "    s = s + int(n[i])\n",
    "\n",
    "print(s)\n",
    "if(int(n)%s == 0):\n",
    "    print('{0} is a Harshadh number:'.format(n))\n",
    "else:\n",
    "    print('{0} is a Not Harshadh number:'.format(n))"
   ]
  },
  {
   "cell_type": "markdown",
   "id": "12f7c984",
   "metadata": {},
   "source": [
    "\n",
    "<h4 style=\" color: #ff3300\">Q6. Write a Python program to print all pronic numbers between 1 and 100?</h4>\n",
    "\n",
    "<b style =\"color: #00b386\">Answer:</b>"
   ]
  },
  {
   "cell_type": "code",
   "execution_count": 6,
   "id": "9d766790",
   "metadata": {},
   "outputs": [
    {
     "name": "stdout",
     "output_type": "stream",
     "text": [
      "2 is pronic number.\n",
      "6 is pronic number.\n",
      "12 is pronic number.\n",
      "20 is pronic number.\n",
      "30 is pronic number.\n",
      "42 is pronic number.\n",
      "56 is pronic number.\n",
      "72 is pronic number.\n",
      "90 is pronic number.\n"
     ]
    }
   ],
   "source": [
    "\n",
    "\n",
    "for j in range(0,100):\n",
    "    n=j\n",
    "    pronic = False\n",
    "\n",
    "    for i in range(0,n):\n",
    "\n",
    "        #print(i*(i+1))\n",
    "        if((i * (i+1)) == n):\n",
    "            pronic = True\n",
    "\n",
    "    if pronic:\n",
    "        print('{0} is pronic number.'.format(n))\n",
    "    else:\n",
    "        continue"
   ]
  },
  {
   "cell_type": "code",
   "execution_count": null,
   "id": "df962090",
   "metadata": {},
   "outputs": [],
   "source": []
  }
 ],
 "metadata": {
  "kernelspec": {
   "display_name": "Python 3 (ipykernel)",
   "language": "python",
   "name": "python3"
  },
  "language_info": {
   "codemirror_mode": {
    "name": "ipython",
    "version": 3
   },
   "file_extension": ".py",
   "mimetype": "text/x-python",
   "name": "python",
   "nbconvert_exporter": "python",
   "pygments_lexer": "ipython3",
   "version": "3.9.13"
  }
 },
 "nbformat": 4,
 "nbformat_minor": 5
}
