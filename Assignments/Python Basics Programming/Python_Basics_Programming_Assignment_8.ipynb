{
 "cells": [
  {
   "cell_type": "markdown",
   "id": "dfdabeb0",
   "metadata": {},
   "source": [
    "<b>Author/User:</b> <b style=\"color:#6666ff\">Sai Kumar Ramagiri</b><br>\n",
    "<b>Author/User:</b> <b style=\"color:#e69900\">27/07/2023</b><br>"
   ]
  },
  {
   "cell_type": "markdown",
   "id": "260a4bdd",
   "metadata": {},
   "source": [
    "<u><h1 style=\"color:#006699; text-align:center\">PYTHON BASICS</h1></u>"
   ]
  },
  {
   "cell_type": "markdown",
   "id": "9b7866ea",
   "metadata": {},
   "source": [
    "<u><h2 style=\"color:#24478f; text-align:center\">PROGRAMMING ASSIGNMENT 8</h2></u>"
   ]
  },
  {
   "cell_type": "markdown",
   "id": "4c7e3716",
   "metadata": {},
   "source": [
    "\n",
    "<h4 style=\" color: #ff3300\">Q1. Write a Python Program to Add Two Matrices?</h4>\n",
    "\n",
    "<b style =\"color: #00b386\">Answer:</b> "
   ]
  },
  {
   "cell_type": "code",
   "execution_count": 1,
   "id": "549b1683",
   "metadata": {},
   "outputs": [
    {
     "name": "stdout",
     "output_type": "stream",
     "text": [
      "Matrix a = \n",
      "[[1 2]\n",
      " [3 4]]\n",
      "\n",
      "Matrix b = \n",
      "[[5 6]\n",
      " [7 8]]\n"
     ]
    }
   ],
   "source": [
    "import numpy as np\n",
    "\n",
    "a = np.array([[1,2],[3,4]])\n",
    "b = np.array([[5,6],[7,8]])\n",
    "\n",
    "print('Matrix a = ')\n",
    "print(a)\n",
    "\n",
    "print('\\nMatrix b = ')\n",
    "print(b)"
   ]
  },
  {
   "cell_type": "markdown",
   "id": "e36c0728",
   "metadata": {},
   "source": [
    "\n",
    "<h4 style=\" color: #ff3300\">Q2. Write a Python Program to Multiply Two Matrices?</h4>\n",
    "\n",
    "<b style =\"color: #00b386\">Answer:</b>"
   ]
  },
  {
   "cell_type": "code",
   "execution_count": 2,
   "id": "9d7d17d3",
   "metadata": {},
   "outputs": [
    {
     "name": "stdout",
     "output_type": "stream",
     "text": [
      "[[13 29]\n",
      " [37 57]]\n"
     ]
    }
   ],
   "source": [
    "a = np.array([[1,2],[3,4]])\n",
    "b = np.array([[5,6],[7,8]])\n",
    "\n",
    "if a.shape[1] == b.shape[0]:\n",
    "    \n",
    "    c = np.ones((a.shape[1],b.shape[0]), dtype='int')\n",
    "    \n",
    "    for i in range(0,len(a)):\n",
    "        \n",
    "        for j in range(0,len(b[0])):\n",
    "            \n",
    "            for k in range(0,len((b))):\n",
    "                \n",
    "                c[i][j] += a[i][j]*b[k][j]\n",
    "    \n",
    "    print(c)\n",
    "else:\n",
    "    \n",
    "    print(\"Matrix multiplication rules are not matching.\")\n",
    "\n"
   ]
  },
  {
   "cell_type": "markdown",
   "id": "d7c0834a",
   "metadata": {},
   "source": [
    "\n",
    "<h4 style=\" color: #ff3300\">Q3. Write a Python Program to Transpose a Matrix?/h4>\n",
    "\n",
    "<b style =\"color: #00b386\">Answer:</b>"
   ]
  },
  {
   "cell_type": "code",
   "execution_count": 3,
   "id": "20e6bea5",
   "metadata": {},
   "outputs": [
    {
     "name": "stdout",
     "output_type": "stream",
     "text": [
      "[[1 2]\n",
      " [3 4]\n",
      " [5 6]]\n"
     ]
    },
    {
     "data": {
      "text/plain": [
       "array([[1, 3, 5],\n",
       "       [2, 4, 6]])"
      ]
     },
     "execution_count": 3,
     "metadata": {},
     "output_type": "execute_result"
    }
   ],
   "source": [
    "a = np.array([[1,2],[3,4],[5,6]])\n",
    "print(a)\n",
    "a.T\n",
    "\n",
    "r = np.ones((a.shape[1],a.shape[0]), dtype='int')\n",
    "\n",
    "for i in range(0,r.shape[0]):\n",
    "    \n",
    "    for j in range(0, a.shape[0]):\n",
    "        \n",
    "        r[i][j] = a[j][i]\n",
    "\n",
    "r"
   ]
  },
  {
   "cell_type": "markdown",
   "id": "dde2f0d1",
   "metadata": {},
   "source": [
    "\n",
    "<h4 style=\" color: #ff3300\">Q4. Write a Python Program to Sort Words in Alphabetic Order?</h4>\n",
    "\n",
    "<b style =\"color: #00b386\">Answer:</b>\n"
   ]
  },
  {
   "cell_type": "code",
   "execution_count": 4,
   "id": "e26a89fa",
   "metadata": {},
   "outputs": [
    {
     "data": {
      "text/plain": [
       "['assignment', 'is', 'this', 'totally', 'unclear']"
      ]
     },
     "execution_count": 4,
     "metadata": {},
     "output_type": "execute_result"
    }
   ],
   "source": [
    "l = ['this','is','totally','unclear','assignment']\n",
    "sorted(l)"
   ]
  },
  {
   "cell_type": "markdown",
   "id": "a83370b7",
   "metadata": {},
   "source": [
    "\n",
    "<h4 style=\" color: #ff3300\">Q5. Write a Python Program to Remove Punctuation From a String?</h4>\n",
    "\n",
    "<b style =\"color: #00b386\">Answer:</b>"
   ]
  },
  {
   "cell_type": "code",
   "execution_count": 5,
   "id": "b54997b7",
   "metadata": {},
   "outputs": [
    {
     "data": {
      "text/plain": [
       "'THis is   awesome '"
      ]
     },
     "execution_count": 5,
     "metadata": {},
     "output_type": "execute_result"
    }
   ],
   "source": [
    "s = 'THis is , & awesome! '\n",
    "s = s.replace(\"&\",'')\n",
    "s = s.replace(\",\",'')\n",
    "s = s.replace(\"!\",'')\n",
    "s"
   ]
  }
 ],
 "metadata": {
  "kernelspec": {
   "display_name": "Python 3 (ipykernel)",
   "language": "python",
   "name": "python3"
  },
  "language_info": {
   "codemirror_mode": {
    "name": "ipython",
    "version": 3
   },
   "file_extension": ".py",
   "mimetype": "text/x-python",
   "name": "python",
   "nbconvert_exporter": "python",
   "pygments_lexer": "ipython3",
   "version": "3.9.13"
  }
 },
 "nbformat": 4,
 "nbformat_minor": 5
}
