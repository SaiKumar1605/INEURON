{
 "cells": [
  {
   "cell_type": "markdown",
   "id": "dfdabeb0",
   "metadata": {},
   "source": [
    "<b>Author/User:</b> <b style=\"color:#6666ff\">Sai Kumar Ramagiri</b><br>\n",
    "<b>Author/User:</b> <b style=\"color:#e69900\">26/07/2023</b><br>"
   ]
  },
  {
   "cell_type": "markdown",
   "id": "260a4bdd",
   "metadata": {},
   "source": [
    "<u><h1 style=\"color:#006699; text-align:center\">PYTHON BASICS</h1></u>"
   ]
  },
  {
   "cell_type": "markdown",
   "id": "9b7866ea",
   "metadata": {},
   "source": [
    "<u><h2 style=\"color:#24478f; text-align:center\">PROGRAMMING ASSIGNMENT 4</h2></u>"
   ]
  },
  {
   "cell_type": "markdown",
   "id": "4c7e3716",
   "metadata": {},
   "source": [
    "\n",
    "<h4 style=\" color: #ff3300\">Q1. Write a Python Program to Find the Factorial of a Number?</h4>\n",
    "\n",
    "<b style =\"color: #00b386\">Answer:</b> "
   ]
  },
  {
   "cell_type": "code",
   "execution_count": 1,
   "id": "549b1683",
   "metadata": {},
   "outputs": [
    {
     "name": "stdout",
     "output_type": "stream",
     "text": [
      "Enter any number: 3\n",
      "factorial of 3 is 6\n"
     ]
    }
   ],
   "source": [
    "number = int(input('Enter any number: '))\n",
    "\n",
    "fac = 1\n",
    "\n",
    "for i in range(1,number+1):\n",
    "    fac = fac * i\n",
    "\n",
    "print(\"factorial of {} is {}\".format(number,fac))"
   ]
  },
  {
   "cell_type": "markdown",
   "id": "e36c0728",
   "metadata": {},
   "source": [
    "\n",
    "<h4 style=\" color: #ff3300\">Q2. Write a Python Program to Display the multiplication Table?</h4>\n",
    "\n",
    "<b style =\"color: #00b386\">Answer:</b>"
   ]
  },
  {
   "cell_type": "code",
   "execution_count": 2,
   "id": "9d7d17d3",
   "metadata": {},
   "outputs": [
    {
     "name": "stdout",
     "output_type": "stream",
     "text": [
      "Enter any number: 2\n",
      "2 * 1 = 2\n",
      "2 * 2 = 4\n",
      "2 * 3 = 6\n",
      "2 * 4 = 8\n",
      "2 * 5 = 10\n",
      "2 * 6 = 12\n",
      "2 * 7 = 14\n",
      "2 * 8 = 16\n",
      "2 * 9 = 18\n",
      "2 * 10 = 20\n"
     ]
    }
   ],
   "source": [
    "number = int(input('Enter any number: '))\n",
    "\n",
    "for i in range(1,11):\n",
    "    print(\"{0} * {1} = {2}\".format(number,i,number*i))"
   ]
  },
  {
   "cell_type": "markdown",
   "id": "d7c0834a",
   "metadata": {},
   "source": [
    "\n",
    "<h4 style=\" color: #ff3300\">Q3. Write a Python Program to Print the Fibonacci sequence?</h4>\n",
    "\n",
    "<b style =\"color: #00b386\">Answer:</b>"
   ]
  },
  {
   "cell_type": "code",
   "execution_count": 3,
   "id": "20e6bea5",
   "metadata": {},
   "outputs": [
    {
     "name": "stdout",
     "output_type": "stream",
     "text": [
      "Enter any number for fibinoccai series: 10\n",
      "0\n",
      "1\n",
      "1\n",
      "2\n",
      "3\n",
      "5\n",
      "8\n",
      "13\n",
      "21\n",
      "34\n",
      "55\n",
      "89\n"
     ]
    }
   ],
   "source": [
    "number = int(input('Enter any number for fibinoccai series: '))\n",
    "\n",
    "a = 0\n",
    "b = 1\n",
    "\n",
    "for i in range(0,number):\n",
    "    \n",
    "    if(i == 0):\n",
    "        print(a)\n",
    "        print(b)\n",
    "    \n",
    "    c = a+b\n",
    "    print(c)\n",
    "    a = b\n",
    "    b = c"
   ]
  },
  {
   "cell_type": "markdown",
   "id": "dde2f0d1",
   "metadata": {},
   "source": [
    "\n",
    "<h4 style=\" color: #ff3300\">Q4. Write a Python Program to Check Armstrong Number?</h4>\n",
    "\n",
    "<b style =\"color: #00b386\">Answer:</b>\n"
   ]
  },
  {
   "cell_type": "code",
   "execution_count": 4,
   "id": "e26a89fa",
   "metadata": {},
   "outputs": [
    {
     "name": "stdout",
     "output_type": "stream",
     "text": [
      "Enter any number: 153\n",
      "153 is a Armstrong number\n"
     ]
    }
   ],
   "source": [
    "number = input('Enter any number: ')\n",
    "\n",
    "s = 0\n",
    "for i in number:\n",
    "    c = int(i) ** 3\n",
    "    s = s + c\n",
    "\n",
    "if(s == int(number)):\n",
    "    print('{} is a Armstrong number'.format(number))\n",
    "else:\n",
    "    print('{} is a not a Armstrong number'.format(number))"
   ]
  },
  {
   "cell_type": "markdown",
   "id": "a83370b7",
   "metadata": {},
   "source": [
    "\n",
    "<h4 style=\" color: #ff3300\">Q5. Write a Python Program to Find Armstrong Number in an Interval?</h4>\n",
    "\n",
    "<b style =\"color: #00b386\">Answer:</b>"
   ]
  },
  {
   "cell_type": "code",
   "execution_count": 5,
   "id": "b54997b7",
   "metadata": {},
   "outputs": [
    {
     "name": "stdout",
     "output_type": "stream",
     "text": [
      "Enter start value for range to find armstrong numbers: 1\n",
      "Enter end value for range to find armstrong numbers: 1000\n",
      "1 is a Armstrong number\n",
      "153 is a Armstrong number\n",
      "370 is a Armstrong number\n",
      "371 is a Armstrong number\n",
      "407 is a Armstrong number\n"
     ]
    }
   ],
   "source": [
    "start = int(input('Enter start value for range to find armstrong numbers: '))\n",
    "end = int(input('Enter end value for range to find armstrong numbers: '))\n",
    "\n",
    "for j in range(start,end):\n",
    "    number = str(j)\n",
    "    s = 0\n",
    "    for i in number:\n",
    "        c = int(i) ** 3\n",
    "        s = s + c\n",
    "\n",
    "    if(s == int(number)):\n",
    "        print('{} is a Armstrong number'.format(number))"
   ]
  },
  {
   "cell_type": "markdown",
   "id": "4e7594b4",
   "metadata": {},
   "source": [
    "\n",
    "<h4 style=\" color: #ff3300\">Q6. Write a Python Program to Find the Sum of Natural Numbers?</h4>\n",
    "\n",
    "<b style =\"color: #00b386\">Answer:</b>"
   ]
  },
  {
   "cell_type": "code",
   "execution_count": 6,
   "id": "121a652e",
   "metadata": {},
   "outputs": [
    {
     "name": "stdout",
     "output_type": "stream",
     "text": [
      "Enter any number for adding up all natural numbers till given input: 10\n",
      "The sum of natural numbers till 10 is  55\n"
     ]
    }
   ],
   "source": [
    "number = int(input('Enter any number for adding up all natural numbers till given input: '))\n",
    "\n",
    "s = 0\n",
    "for i in range(0,number+1):\n",
    "    s = s+i\n",
    "\n",
    "print(\"The sum of natural numbers till {0} is  {1}\".format(number,s))"
   ]
  }
 ],
 "metadata": {
  "kernelspec": {
   "display_name": "Python 3 (ipykernel)",
   "language": "python",
   "name": "python3"
  },
  "language_info": {
   "codemirror_mode": {
    "name": "ipython",
    "version": 3
   },
   "file_extension": ".py",
   "mimetype": "text/x-python",
   "name": "python",
   "nbconvert_exporter": "python",
   "pygments_lexer": "ipython3",
   "version": "3.9.13"
  }
 },
 "nbformat": 4,
 "nbformat_minor": 5
}
