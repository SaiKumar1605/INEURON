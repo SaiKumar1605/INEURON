{
 "cells": [
  {
   "cell_type": "markdown",
   "id": "dfdabeb0",
   "metadata": {},
   "source": [
    "<b>Author/User:</b> <b style=\"color:#6666ff\">Sai Kumar Ramagiri</b><br>\n",
    "<b>Author/User:</b> <b style=\"color:#e69900\">01/08/2023</b><br>"
   ]
  },
  {
   "cell_type": "markdown",
   "id": "260a4bdd",
   "metadata": {},
   "source": [
    "<u><h1 style=\"color:#006699; text-align:center\">PYTHON BASICS</h1></u>"
   ]
  },
  {
   "cell_type": "markdown",
   "id": "9b7866ea",
   "metadata": {},
   "source": [
    "<u><h2 style=\"color:#24478f; text-align:center\">PROGRAMMING ASSIGNMENT 13</h2></u>"
   ]
  },
  {
   "cell_type": "markdown",
   "id": "4c7e3716",
   "metadata": {},
   "source": [
    "\n",
    "<h4 style=\" color: #ff3300\">Q1: Write a program that calculates and prints the value according to the given formula:<br>\n",
    "Q = Square root of [(2 * C * D)/H]<br>\n",
    "\n",
    "Following are the fixed values of C and H:<br>\n",
    "C is 50. H is 30.\n",
    "D is the variable whose values should be input to your program in a comma-separated sequence.\n",
    "\n",
    "Example:\n",
    "Let us assume the following comma separated input sequence is given to the program:\n",
    "100,150,180\n",
    "The output of the program should be:\n",
    "18,22,24</h4>\n",
    "\n",
    "<b style =\"color: #00b386\">Answer:</b> "
   ]
  },
  {
   "cell_type": "code",
   "execution_count": 1,
   "id": "549b1683",
   "metadata": {},
   "outputs": [
    {
     "name": "stdout",
     "output_type": "stream",
     "text": [
      "Enter one or multiple values of D seperated by comma(,): 100,150,180\n",
      "18,22,24\n"
     ]
    }
   ],
   "source": [
    "import math\n",
    "#Q = math.sqrt((2 * C * D)/H)\n",
    "\n",
    "C = 50\n",
    "H = 30\n",
    "\n",
    "s = str.split(input('Enter one or multiple values of D seperated by comma(,): '),\",\")\n",
    "\n",
    "r =[]\n",
    "\n",
    "for i in s:\n",
    "    \n",
    "    D = int(i)\n",
    "    Q = math.sqrt((2 * C * D)/H)\n",
    "    r.append(str(int(Q)))\n",
    "\n",
    "print(\",\".join(r))"
   ]
  },
  {
   "cell_type": "markdown",
   "id": "e36c0728",
   "metadata": {},
   "source": [
    "\n",
    "<h4 style=\" color: #ff3300\">Q2:\n",
    "Write a program which takes 2 digits, X,Y as input and generates a 2-dimensional array. The element value in the i-th row and j-th column of the array should be i*j.\n",
    "    \n",
    "Note: i=0,1.., X-1; j=0,1,¡Y-1.\n",
    "\n",
    "Example:\n",
    "Suppose the following inputs are given to the program:\n",
    "\n",
    "3,5\n",
    "Then, the output of the program should be:\n",
    "\n",
    "[[0, 0, 0, 0, 0], [0, 1, 2, 3, 4], [0, 2, 4, 6, 8]]</h4>\n",
    "\n",
    "<b style =\"color: #00b386\">Answer:</b>"
   ]
  },
  {
   "cell_type": "code",
   "execution_count": 2,
   "id": "9d7d17d3",
   "metadata": {},
   "outputs": [
    {
     "name": "stdout",
     "output_type": "stream",
     "text": [
      "Enter the number of number of rows for 2-Dimensional array: 3\n",
      "Enter the number of number of rows for 2-Dimensional array: 5\n",
      "[[0 0 0 0 0]\n",
      " [0 1 2 3 4]\n",
      " [0 2 4 6 8]]\n"
     ]
    }
   ],
   "source": [
    "import numpy as np\n",
    "\n",
    "X = int(input('Enter the number of number of rows for 2-Dimensional array: '))\n",
    "Y = int(input('Enter the number of number of rows for 2-Dimensional array: '))\n",
    "\n",
    "two_d_array = np.ones((X,Y),dtype=int)\n",
    "\n",
    "for i in range(0,X):\n",
    "    for j in range(0,Y):\n",
    "        \n",
    "        two_d_array[i][j] = i*j\n",
    "\n",
    "print(two_d_array)"
   ]
  },
  {
   "cell_type": "markdown",
   "id": "d7c0834a",
   "metadata": {},
   "source": [
    "\n",
    "<h4 style=\" color: #ff3300\">Q3: Write a program that accepts a comma separated sequence of words as input and prints the words in a comma-separated sequence after sorting them alphabetically.\n",
    "    \n",
    "<br>Suppose the following input is supplied to the program:<BR>\n",
    "without,hello,bag,world\n",
    "\n",
    "Then, the output should be:\n",
    "<br>bag,hello,without,world</h4>\n",
    "\n",
    "<b style =\"color: #00b386\">Answer:</b>"
   ]
  },
  {
   "cell_type": "code",
   "execution_count": 3,
   "id": "20e6bea5",
   "metadata": {},
   "outputs": [
    {
     "name": "stdout",
     "output_type": "stream",
     "text": [
      "Enter one or multiple values of D seperated by comma(,): without,hello,bag,world\n"
     ]
    },
    {
     "data": {
      "text/plain": [
       "'bag,hello,without,world'"
      ]
     },
     "execution_count": 3,
     "metadata": {},
     "output_type": "execute_result"
    }
   ],
   "source": [
    "s = str.split(input('Enter one or multiple values of D seperated by comma(,): '),\",\")\n",
    "s.sort()\n",
    "\",\".join(s)"
   ]
  },
  {
   "cell_type": "markdown",
   "id": "dde2f0d1",
   "metadata": {},
   "source": [
    "\n",
    "<h4 style=\" color: #ff3300\">Q4: Write a program that accepts a sequence of whitespace separated words as input and prints the words after removing all duplicate words and sorting them alphanumerically.\n",
    "\n",
    "<br>Suppose the following input is supplied to the program:\n",
    "\n",
    "hello world and practice makes perfect and hello world again\n",
    "\n",
    "Then, the output should be:\n",
    "\n",
    "again and hello makes perfect practice world</h4>\n",
    "\n",
    "<b style =\"color: #00b386\">Answer:</b>\n"
   ]
  },
  {
   "cell_type": "code",
   "execution_count": 4,
   "id": "e26a89fa",
   "metadata": {},
   "outputs": [
    {
     "name": "stdout",
     "output_type": "stream",
     "text": [
      "Enter one or multiple values of D seperated by space(\" \"): hello world and practice makes perfect and hello world again\n"
     ]
    },
    {
     "data": {
      "text/plain": [
       "'again and world hello makes perfect practice'"
      ]
     },
     "execution_count": 4,
     "metadata": {},
     "output_type": "execute_result"
    }
   ],
   "source": [
    "s = str.split(input('Enter one or multiple values of D seperated by space(\" \"): '),\" \")\n",
    "\" \".join(list(set(s)))"
   ]
  },
  {
   "cell_type": "markdown",
   "id": "a83370b7",
   "metadata": {},
   "source": [
    "\n",
    "<h4 style=\" color: #ff3300\">Q5: Write a program that accepts a sentence and calculate the number of letters and digits.\n",
    "    \n",
    "<br>Suppose the following input is supplied to the program:\n",
    "hello world! 123\n",
    "<br>Then, the output should be:\n",
    "LETTERS 10</h4>\n",
    "\n",
    "<b style =\"color: #00b386\">Answer:</b>"
   ]
  },
  {
   "cell_type": "code",
   "execution_count": 5,
   "id": "b54997b7",
   "metadata": {},
   "outputs": [
    {
     "name": "stdout",
     "output_type": "stream",
     "text": [
      "Enter any setence: hello world! 123\n",
      "LETTERS:  10\n",
      "DIGITS:  3\n"
     ]
    }
   ],
   "source": [
    "s = input('Enter any setence: ')\n",
    "\n",
    "letters = 0\n",
    "digits = 0\n",
    "for i in s:\n",
    "    if str.isalpha(i):\n",
    "        letters += 1\n",
    "    if str.isdigit(i):\n",
    "        digits += 1\n",
    "\n",
    "print('LETTERS: ',letters)\n",
    "print('DIGITS: ',digits)"
   ]
  },
  {
   "cell_type": "markdown",
   "id": "12f7c984",
   "metadata": {},
   "source": [
    "\n",
    "<h4 style=\" color: #ff3300\">Q6: A website requires the users to input username and password to register. Write a program to check the validity of password input by users.\n",
    "\n",
    "Following are the criteria for checking the password:\n",
    "- 1. At least 1 letter between [a-z]\n",
    "- 2. At least 1 number between [0-9]\n",
    "- 1. At least 1 letter between [A-Z]\n",
    "- 3. At least 1 character from [$#@]\n",
    "- 4. Minimum length of transaction password: 6\n",
    "- 5. Maximum length of transaction password: 12\n",
    "\n",
    "Your program should accept a sequence of comma separated passwords and will check them according to the above criteria. Passwords that match the criteria are to be printed, eachseparated by a comma.\n",
    "\n",
    "Example:\n",
    "\n",
    "<br>If the following passwords are given as input to the program:\n",
    "ABd1234@1,a F1#,2w3E*,2We3345\n",
    "<br>Then, the output of the program should be:\n",
    "ABd1234@1</h4>\n",
    "\n",
    "<b style =\"color: #00b386\">Answer:</b>"
   ]
  },
  {
   "cell_type": "code",
   "execution_count": 6,
   "id": "9d766790",
   "metadata": {},
   "outputs": [
    {
     "name": "stdout",
     "output_type": "stream",
     "text": [
      "Enter one or multiple values of passwords seperated by comma(\",\"): ABd1234@1,a F1#,2w3E*,2We3345\n",
      "ABd1234@1\n"
     ]
    }
   ],
   "source": [
    "import string\n",
    "\n",
    "s = str.split(input('Enter one or multiple values of passwords seperated by comma(\",\"): '),\",\")\n",
    "\n",
    "r = []\n",
    "for i in s:\n",
    "    if(len(i)>= 6 and len(i)<= 12):\n",
    "\n",
    "        c = True\n",
    "        c1 = c2 = c3 = c4 = False\n",
    "        for j in i:\n",
    "            \n",
    "            if j in string.ascii_lowercase:\n",
    "                c1 = True\n",
    "                continue\n",
    "            elif j in string.ascii_uppercase:\n",
    "                c2 = True\n",
    "                continue\n",
    "            elif j in '$#@':\n",
    "                c3 = True\n",
    "                continue\n",
    "            elif j in string.digits:\n",
    "                c4 = True\n",
    "                continue\n",
    "            else:\n",
    "                c =False\n",
    "                break\n",
    "            \n",
    "\n",
    "                \n",
    "        if c:\n",
    "            \n",
    "            if (c1==True) and (c2==True) and (c3==True) and (c4==True):\n",
    "\n",
    "                r.append(i)\n",
    "\n",
    "print(\",\".join(r))"
   ]
  }
 ],
 "metadata": {
  "kernelspec": {
   "display_name": "Python 3 (ipykernel)",
   "language": "python",
   "name": "python3"
  },
  "language_info": {
   "codemirror_mode": {
    "name": "ipython",
    "version": 3
   },
   "file_extension": ".py",
   "mimetype": "text/x-python",
   "name": "python",
   "nbconvert_exporter": "python",
   "pygments_lexer": "ipython3",
   "version": "3.9.13"
  }
 },
 "nbformat": 4,
 "nbformat_minor": 5
}
