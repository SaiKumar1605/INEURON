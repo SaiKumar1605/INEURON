{
 "cells": [
  {
   "cell_type": "markdown",
   "id": "dfdabeb0",
   "metadata": {},
   "source": [
    "<b>Author/User:</b> <b style=\"color:#6666ff\">Sai Kumar Ramagiri</b><br>\n",
    "<b>Author/User:</b> <b style=\"color:#e69900\">24/07/2023</b><br>"
   ]
  },
  {
   "cell_type": "markdown",
   "id": "260a4bdd",
   "metadata": {},
   "source": [
    "<u><h1 style=\"color:#006699; text-align:center\">PYTHON BASICS</h1></u>"
   ]
  },
  {
   "cell_type": "markdown",
   "id": "9b7866ea",
   "metadata": {},
   "source": [
    "<u><h2 style=\"color:#24478f; text-align:center\">PROGRAMMING ASSIGNMENT 1</h2></u>"
   ]
  },
  {
   "cell_type": "markdown",
   "id": "4c7e3716",
   "metadata": {},
   "source": [
    "\n",
    "<h4 style=\" color: #ff3300\">Q1. Write a Python program to print &quot;Hello Python&quot;?.</h4>\n",
    "\n",
    "<b style =\"color: #00b386\">Answer:</b> "
   ]
  },
  {
   "cell_type": "code",
   "execution_count": 1,
   "id": "549b1683",
   "metadata": {},
   "outputs": [
    {
     "name": "stdout",
     "output_type": "stream",
     "text": [
      "Hello Python\n"
     ]
    }
   ],
   "source": [
    "print('Hello Python')"
   ]
  },
  {
   "cell_type": "markdown",
   "id": "e36c0728",
   "metadata": {},
   "source": [
    "\n",
    "<h4 style=\" color: #ff3300\">Q2. Write a Python program to do arithmetical operations addition and division.?</h4>\n",
    "\n",
    "<b style =\"color: #00b386\">Answer:</b>"
   ]
  },
  {
   "cell_type": "code",
   "execution_count": 6,
   "id": "9d7d17d3",
   "metadata": {},
   "outputs": [
    {
     "name": "stdout",
     "output_type": "stream",
     "text": [
      "Addition of 5 and 10 is:  15\n",
      "####################\n",
      "10 divided by 5 is:  2.0\n"
     ]
    }
   ],
   "source": [
    "#Addition\n",
    "print(\"Addition of 5 and 10 is: \",5 + 10)\n",
    "\n",
    "print(\"#\" *  20)\n",
    "\n",
    "#Division\n",
    "print(\"10 divided by 5 is: \",10 / 5)"
   ]
  },
  {
   "cell_type": "markdown",
   "id": "d7c0834a",
   "metadata": {},
   "source": [
    "\n",
    "<h4 style=\" color: #ff3300\">Q3. Write a Python program to find the area of a triangle?</h4>\n",
    "\n",
    "<b style =\"color: #00b386\">Answer:</b>"
   ]
  },
  {
   "cell_type": "code",
   "execution_count": 8,
   "id": "20e6bea5",
   "metadata": {},
   "outputs": [
    {
     "name": "stdout",
     "output_type": "stream",
     "text": [
      "Enter base of triangle: 15\n",
      "Enter Height of triangle: 20\n",
      "Area of the triangle is:  150.0\n"
     ]
    }
   ],
   "source": [
    "base =float(input('Enter base of triangle: '))\n",
    "height =float(input('Enter Height of triangle: '))\n",
    "\n",
    "aot = 0.5 * base * height\n",
    "\n",
    "print('Area of the triangle is: ',aot)"
   ]
  },
  {
   "cell_type": "markdown",
   "id": "dde2f0d1",
   "metadata": {},
   "source": [
    "\n",
    "<h4 style=\" color: #ff3300\">Q4. Write a Python program to swap two variables?</h4>\n",
    "\n",
    "<b style =\"color: #00b386\">Answer:</b>\n"
   ]
  },
  {
   "cell_type": "code",
   "execution_count": 12,
   "id": "e26a89fa",
   "metadata": {},
   "outputs": [
    {
     "name": "stdout",
     "output_type": "stream",
     "text": [
      "Enter any value for a:10\n",
      "Enter any value for b:20\n",
      "a = 10 , b = 20\n",
      "\n",
      " after swap:\n",
      "a = 20 , b = 10\n"
     ]
    }
   ],
   "source": [
    "a = int(input('Enter any value for a:'))\n",
    "b = int(input('Enter any value for b:'))\n",
    "print('a = {0} , b = {1}'.format(a,b))\n",
    "\n",
    "c = a\n",
    "a = b\n",
    "b = c\n",
    "\n",
    "print(\"\\n after swap:\")\n",
    "print('a = {0} , b = {1}'.format(a,b))\n"
   ]
  },
  {
   "cell_type": "markdown",
   "id": "a83370b7",
   "metadata": {},
   "source": [
    "\n",
    "<h4 style=\" color: #ff3300\">Q5. Write a Python program to generate a random number?</h4>\n",
    "\n",
    "<b style =\"color: #00b386\">Answer:</b>"
   ]
  },
  {
   "cell_type": "code",
   "execution_count": 17,
   "id": "b54997b7",
   "metadata": {},
   "outputs": [
    {
     "name": "stdout",
     "output_type": "stream",
     "text": [
      "Random number between 0 and 1000 is:  367\n",
      "\n",
      "Random number between 0 and 1000 is:  843\n"
     ]
    }
   ],
   "source": [
    "from random import randint\n",
    "\n",
    "print('Random number between 0 and 1000 is: ', randint(0,1000) )\n",
    "\n",
    "print('\\nRandom number between 0 and 1000 is: ', randint(0,1000) )"
   ]
  }
 ],
 "metadata": {
  "kernelspec": {
   "display_name": "Python 3 (ipykernel)",
   "language": "python",
   "name": "python3"
  },
  "language_info": {
   "codemirror_mode": {
    "name": "ipython",
    "version": 3
   },
   "file_extension": ".py",
   "mimetype": "text/x-python",
   "name": "python",
   "nbconvert_exporter": "python",
   "pygments_lexer": "ipython3",
   "version": "3.9.13"
  }
 },
 "nbformat": 4,
 "nbformat_minor": 5
}
