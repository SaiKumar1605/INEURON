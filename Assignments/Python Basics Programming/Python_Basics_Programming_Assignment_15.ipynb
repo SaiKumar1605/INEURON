{
 "cells": [
  {
   "cell_type": "markdown",
   "id": "dfdabeb0",
   "metadata": {},
   "source": [
    "<b>Author/User:</b> <b style=\"color:#6666ff\">Sai Kumar Ramagiri</b><br>\n",
    "<b>Author/User:</b> <b style=\"color:#e69900\">07/08/2023</b><br>"
   ]
  },
  {
   "cell_type": "markdown",
   "id": "260a4bdd",
   "metadata": {},
   "source": [
    "<u><h1 style=\"color:#006699; text-align:center\">PYTHON BASICS</h1></u>"
   ]
  },
  {
   "cell_type": "markdown",
   "id": "9b7866ea",
   "metadata": {},
   "source": [
    "<u><h2 style=\"color:#24478f; text-align:center\">PROGRAMMING ASSIGNMENT 15</h2></u>"
   ]
  },
  {
   "cell_type": "markdown",
   "id": "4c7e3716",
   "metadata": {},
   "source": [
    "\n",
    "<h4 style=\" color: #ff3300\">Q1: Please write a program using generator to print the numbers which can be divisible by 5 and 7 between 0 and n in comma separated form while n is input by console.\n",
    "\n",
    "Example:\n",
    "    \n",
    "If the following n is given as input to the program: 100\n",
    "\n",
    "Then, the output of the program should be:\n",
    "0,35,70</h4>\n",
    "\n",
    "<b style =\"color: #00b386\">Answer:</b> "
   ]
  },
  {
   "cell_type": "code",
   "execution_count": 1,
   "id": "549b1683",
   "metadata": {},
   "outputs": [
    {
     "name": "stdout",
     "output_type": "stream",
     "text": [
      "Enter any number till which the numbers divided by 5 and 7 are printed: 100\n",
      "0 35 70 "
     ]
    }
   ],
   "source": [
    "class gen_7:\n",
    "    \n",
    "    def __init__(self,n):\n",
    "        self.n = n\n",
    "    \n",
    "    def get_n(self):\n",
    "        \n",
    "        for i in range(0,self.n+1):\n",
    "            \n",
    "            if((i%5 == 0) and (i%7==0)):\n",
    "                \n",
    "                yield(i)\n",
    "\n",
    "n = int(input('Enter any number till which the numbers divided by 5 and 7 are printed: '))\n",
    "\n",
    "output = gen_7(n)\n",
    "\n",
    "for i in output.get_n():\n",
    "    \n",
    "    print(i, end=' ')"
   ]
  },
  {
   "cell_type": "markdown",
   "id": "e36c0728",
   "metadata": {},
   "source": [
    "\n",
    "<h4 style=\" color: #ff3300\">Q2: Please write a program using generator to print the even numbers between 0 and n in comma separated form while n is input by console.\n",
    "\n",
    "Example:\n",
    "\n",
    "If the following n is given as input to the program: 10\n",
    "\n",
    "Then, the output of the program should be: 0,2,4,6,8,10</h4>\n",
    "\n",
    "<b style =\"color: #00b386\">Answer:</b>"
   ]
  },
  {
   "cell_type": "code",
   "execution_count": 2,
   "id": "9d7d17d3",
   "metadata": {},
   "outputs": [
    {
     "name": "stdout",
     "output_type": "stream",
     "text": [
      "Enter any number till which even numbers are printed: 10\n",
      "0,2,4,6,8,10,"
     ]
    }
   ],
   "source": [
    "class gen_7:\n",
    "    \n",
    "    def __init__(self,n):\n",
    "        self.n = n\n",
    "    \n",
    "    def get_n(self):\n",
    "        \n",
    "        for i in range(0,self.n+1):\n",
    "            \n",
    "            if((i%2 == 0)):\n",
    "                \n",
    "                yield(i)\n",
    "\n",
    "n = int(input('Enter any number till which even numbers are printed: '))\n",
    "\n",
    "output = gen_7(n)\n",
    "\n",
    "for i in output.get_n():\n",
    "    \n",
    "    print(i, end=',')"
   ]
  },
  {
   "cell_type": "markdown",
   "id": "d7c0834a",
   "metadata": {},
   "source": [
    "\n",
    "<h4 style=\" color: #ff3300\">Q3: The Fibonacci Sequence is computed based on the following formula:\n",
    " \n",
    "f(n)=0 if n=0\n",
    "    \n",
    "f(n)=1 if n=1\n",
    "    \n",
    "f(n)=f(n-1)+f(n-2) if n&gt;1\n",
    "\n",
    "<br>Please write a program using list comprehension to print the Fibonacci Sequence in comma\n",
    "separated form with a given n input by console.\n",
    "Example:\n",
    "If the following n is given as input to the program:\n",
    "7\n",
    "\n",
    "Then, the output of the program should be:\n",
    "0,1,1,2,3,5,8,13</h4>\n",
    "\n",
    "<b style =\"color: #00b386\">Answer:</b>"
   ]
  },
  {
   "cell_type": "code",
   "execution_count": 3,
   "id": "20e6bea5",
   "metadata": {},
   "outputs": [
    {
     "name": "stdout",
     "output_type": "stream",
     "text": [
      "Enter any number for fibinoci series: 7\n"
     ]
    },
    {
     "data": {
      "text/plain": [
       "[0, 1, 1, 2, 3, 5, 8]"
      ]
     },
     "execution_count": 3,
     "metadata": {},
     "output_type": "execute_result"
    }
   ],
   "source": [
    "def fibbi(n):\n",
    "    \n",
    "    if n==0:\n",
    "        return 0\n",
    "    elif n==1:\n",
    "        return 1\n",
    "    else:\n",
    "        return fibbi(n-1)+fibbi(n-2)\n",
    "\n",
    "n = int(input('Enter any number for fibinoci series: '))\n",
    "[fibbi(i) for i in range(n)]"
   ]
  },
  {
   "cell_type": "markdown",
   "id": "dde2f0d1",
   "metadata": {},
   "source": [
    "\n",
    "<h4 style=\" color: #ff3300\">Q4: Assuming that we have some email addresses in the &quot;username@companyname.com&quot; format, please write program to print the user name of a given email address. Both user names and company names are composed of letters only.\n",
    "\n",
    "Example:\n",
    "\n",
    "If the following email address is given as input to the program:\n",
    "john@google.com\n",
    "\n",
    "Then, the output of the program should be:\n",
    "john</h4>\n",
    "\n",
    "<b style =\"color: #00b386\">Answer:</b>\n"
   ]
  },
  {
   "cell_type": "code",
   "execution_count": 4,
   "id": "e26a89fa",
   "metadata": {},
   "outputs": [
    {
     "name": "stdout",
     "output_type": "stream",
     "text": [
      "Enter your email address: john@google.com\n"
     ]
    },
    {
     "data": {
      "text/plain": [
       "'john'"
      ]
     },
     "execution_count": 4,
     "metadata": {},
     "output_type": "execute_result"
    }
   ],
   "source": [
    "s = input('Enter your email address: ')\n",
    "\n",
    "user_name = s[0:s.find(\"@\")]\n",
    "user_name"
   ]
  },
  {
   "cell_type": "markdown",
   "id": "a83370b7",
   "metadata": {},
   "source": [
    "\n",
    "<h4 style=\" color: #ff3300\">Q5: Define a class named Shape and its subclass Square. The Square class has an init function which takes a length as argument. Both classes have a area function which can print the area of the shape where Shape&#39;s area is 0 by default.</h4>\n",
    "\n",
    "<b style =\"color: #00b386\">Answer:</b>"
   ]
  },
  {
   "cell_type": "code",
   "execution_count": 5,
   "id": "b54997b7",
   "metadata": {},
   "outputs": [
    {
     "name": "stdout",
     "output_type": "stream",
     "text": [
      "shape class area:  0\n",
      "sqaure class area:  100\n"
     ]
    }
   ],
   "source": [
    "class Shape:\n",
    "    \n",
    "    def area(self):\n",
    "        return 0\n",
    "    \n",
    "class Square(Shape):\n",
    "\n",
    "    def __init__(self,length):\n",
    "\n",
    "        self.length = length\n",
    "\n",
    "    def area(self):\n",
    "\n",
    "        return (self.length)**2\n",
    "\n",
    "shape1 = Shape()\n",
    "print(\"shape class area: \",shape1.area())\n",
    "    \n",
    "shape1 = Square(10)\n",
    "print(\"sqaure class area: \",shape1.area())"
   ]
  }
 ],
 "metadata": {
  "kernelspec": {
   "display_name": "Python 3 (ipykernel)",
   "language": "python",
   "name": "python3"
  },
  "language_info": {
   "codemirror_mode": {
    "name": "ipython",
    "version": 3
   },
   "file_extension": ".py",
   "mimetype": "text/x-python",
   "name": "python",
   "nbconvert_exporter": "python",
   "pygments_lexer": "ipython3",
   "version": "3.9.13"
  }
 },
 "nbformat": 4,
 "nbformat_minor": 5
}
